{
 "cells": [
  {
   "cell_type": "code",
   "execution_count": 38,
   "metadata": {},
   "outputs": [],
   "source": [
    "import os\n",
    "import json\n",
    "import pickle\n",
    "from tqdm import tqdm"
   ]
  },
  {
   "cell_type": "markdown",
   "metadata": {},
   "source": [
    "Read text Files"
   ]
  },
  {
   "cell_type": "code",
   "execution_count": 39,
   "metadata": {},
   "outputs": [
    {
     "name": "stdout",
     "output_type": "stream",
     "text": [
      "['2023-05-01_2023-05-31_Mistral.jsonl', '2023-06-01_2023-06-30_Mistral.jsonl', '2023-07-01_2023-07-31_Mistral.jsonl', '2023-08-01_2023-08-31_Mistral.jsonl', '2023-09-01_2023-09-30_Mistral.jsonl', '2023-10-01_2023-10-31_Mistral.jsonl', '2023-11-01_2023-11-30_Mistral.jsonl', '2023-12-01_2023-12-31_Mistral.jsonl', '2024-01-01_2024-01-31_Mistral.jsonl', '2024-02-01_2024-02-29_Mistral.jsonl', '2024-03-01_2024-03-31_Mistral.jsonl', '2024-04-01_2024-04-30_Mistral.jsonl']\n"
     ]
    }
   ],
   "source": [
    "text_annotations_dir = \"/projects/frame_align/data/annotated/text\"\n",
    "text_files = [f for f in os.listdir(text_annotations_dir) if f.endswith('.jsonl')]\n",
    "text_files.sort()\n",
    "print(text_files)"
   ]
  },
  {
   "cell_type": "markdown",
   "metadata": {},
   "source": [
    "Extract UUIDS from the text files\n",
    "- uuids are called id"
   ]
  },
  {
   "cell_type": "code",
   "execution_count": 53,
   "metadata": {},
   "outputs": [
    {
     "name": "stderr",
     "output_type": "stream",
     "text": [
      "  0%|          | 0/10 [00:00<?, ?it/s]"
     ]
    },
    {
     "name": "stdout",
     "output_type": "stream",
     "text": [
      "2023-06-01_2023-06-30_Mistral.jsonl\n"
     ]
    },
    {
     "name": "stderr",
     "output_type": "stream",
     "text": [
      " 10%|█         | 1/10 [00:00<00:07,  1.26it/s]"
     ]
    },
    {
     "name": "stdout",
     "output_type": "stream",
     "text": [
      "2023-07-01_2023-07-31_Mistral.jsonl\n"
     ]
    },
    {
     "name": "stderr",
     "output_type": "stream",
     "text": [
      " 20%|██        | 2/10 [00:01<00:06,  1.27it/s]"
     ]
    },
    {
     "name": "stdout",
     "output_type": "stream",
     "text": [
      "2023-09-01_2023-09-30_Mistral.jsonl\n"
     ]
    },
    {
     "name": "stderr",
     "output_type": "stream",
     "text": [
      " 30%|███       | 3/10 [00:02<00:05,  1.34it/s]"
     ]
    },
    {
     "name": "stdout",
     "output_type": "stream",
     "text": [
      "2023-10-01_2023-10-31_Mistral.jsonl\n"
     ]
    },
    {
     "name": "stderr",
     "output_type": "stream",
     "text": [
      " 40%|████      | 4/10 [00:02<00:03,  1.55it/s]"
     ]
    },
    {
     "name": "stdout",
     "output_type": "stream",
     "text": [
      "2023-11-01_2023-11-30_Mistral.jsonl\n"
     ]
    },
    {
     "name": "stderr",
     "output_type": "stream",
     "text": [
      " 50%|█████     | 5/10 [00:03<00:02,  1.91it/s]"
     ]
    },
    {
     "name": "stdout",
     "output_type": "stream",
     "text": [
      "2023-12-01_2023-12-31_Mistral.jsonl\n"
     ]
    },
    {
     "name": "stderr",
     "output_type": "stream",
     "text": [
      " 60%|██████    | 6/10 [00:03<00:01,  2.08it/s]"
     ]
    },
    {
     "name": "stdout",
     "output_type": "stream",
     "text": [
      "2024-01-01_2024-01-31_Mistral.jsonl\n"
     ]
    },
    {
     "name": "stderr",
     "output_type": "stream",
     "text": [
      " 70%|███████   | 7/10 [00:03<00:01,  2.14it/s]"
     ]
    },
    {
     "name": "stdout",
     "output_type": "stream",
     "text": [
      "2024-02-01_2024-02-29_Mistral.jsonl\n"
     ]
    },
    {
     "name": "stderr",
     "output_type": "stream",
     "text": [
      " 80%|████████  | 8/10 [00:04<00:00,  2.19it/s]"
     ]
    },
    {
     "name": "stdout",
     "output_type": "stream",
     "text": [
      "2024-03-01_2024-03-31_Mistral.jsonl\n"
     ]
    },
    {
     "name": "stderr",
     "output_type": "stream",
     "text": [
      " 90%|█████████ | 9/10 [00:04<00:00,  2.13it/s]"
     ]
    },
    {
     "name": "stdout",
     "output_type": "stream",
     "text": [
      "2024-04-01_2024-04-30_Mistral.jsonl\n"
     ]
    },
    {
     "name": "stderr",
     "output_type": "stream",
     "text": [
      "100%|██████████| 10/10 [00:05<00:00,  1.90it/s]\n"
     ]
    }
   ],
   "source": [
    "\n",
    "text_uuids_monthly = {}\n",
    "# exclude 2023-05-01_2023-05-31_Mistral.jsonl\n",
    "text_files = [f for f in text_files if f != '2023-05-01_2023-05-31_Mistral.jsonl' and f != '2023-08-01_2023-08-31_Mistral.jsonl']\n",
    "for file in tqdm(text_files):\n",
    "    print(file)\n",
    "    with open(os.path.join(text_annotations_dir, file), 'r') as f:\n",
    "        uuids = []\n",
    "        for line in f:\n",
    "            data = json.loads(line)\n",
    "            # add file as key to dict and list of uuids as value\n",
    "            uuids.append(data['id'])\n",
    "        text_uuids_monthly[file.strip('_Mistral.jsonl')] = uuids\n"
   ]
  },
  {
   "cell_type": "code",
   "execution_count": 55,
   "metadata": {},
   "outputs": [
    {
     "name": "stdout",
     "output_type": "stream",
     "text": [
      "2023-06-01_2023-06-30 86505\n",
      "2023-07-01_2023-07-31 87365\n",
      "2023-09-01_2023-09-30 77281\n",
      "2023-10-01_2023-10-31 62689\n",
      "2023-11-01_2023-11-30 38810\n",
      "2023-12-01_2023-12-31 50564\n",
      "2024-01-01_2024-01-31 54616\n",
      "2024-02-01_2024-02-29 52554\n",
      "2024-03-01_2024-03-31 55093\n",
      "2024-04-01_2024-04-30 53445\n"
     ]
    }
   ],
   "source": [
    "# print len of val for each key\n",
    "for key, val in text_uuids_monthly.items():\n",
    "    print(key, len(val))"
   ]
  },
  {
   "cell_type": "markdown",
   "metadata": {},
   "source": [
    "Extract the UUIDs from the vison files\n",
    "- path 1: \"/projects/frame_align/data/annotated/vision/{dir}.jsonl\n",
    "- path 2: \"/projects/frame_align/data/img_data/{dir}annotation/vision/{dir}_llava.jsonl"
   ]
  },
  {
   "cell_type": "code",
   "execution_count": 41,
   "metadata": {},
   "outputs": [
    {
     "name": "stdout",
     "output_type": "stream",
     "text": [
      "['/projects/frame_align/data/annotated/vision/2024-02-01_2024-02-29_llava.jsonl', '/projects/frame_align/data/annotated/vision/2023-12-01_2023-12-31_llava.jsonl', '/projects/frame_align/data/annotated/vision/2024-03-01_2024-03-31_llava.jsonl', '/projects/frame_align/data/annotated/vision/2023-08-01_2023-08-31_llava.jsonl', '/projects/frame_align/data/annotated/vision/2023-11-01_2023-11-30_llava.jsonl', '/projects/frame_align/data/annotated/vision/2024-04-01_2024-04-30_llava.jsonl', '/projects/frame_align/data/annotated/vision/2023-09-01_2023-09-30_llava.jsonl', '/projects/frame_align/data/annotated/vision/2023-10-01_2023-10-31_llava.jsonl', '/projects/frame_align/data/annotated/vision/2024-01-01_2024-01-31_llava.jsonl', '/projects/frame_align/data/annotated/vision/2023-06-01_2023-06-30_llava.jsonl', '/projects/frame_align/data/annotated/vision/2023-07-01_2023-07-31_llava.jsonl', '/projects/frame_align/data/annotated/vision/2023-05-01_2023-05-31_llava.jsonl', '/projects/frame_align/data/img_data/2023-05-01_2023-05-31/annotated/vision/2023-05-01_2023-05-31_llava.jsonl', '/projects/frame_align/data/img_data/2023-06-01_2023-06-30/annotated/vision/2023-06-01_2023-06-30_llava.jsonl', '/projects/frame_align/data/img_data/2023-07-01_2023-07-31/annotated/vision/2023-07-01_2023-07-31_llava.jsonl', '/projects/frame_align/data/img_data/2023-08-01_2023-08-31/annotated/vision/2023-08-01_2023-08-31_llava.jsonl', '/projects/frame_align/data/img_data/2023-09-01_2023-09-30/annotated/vision/2023-09-01_2023-09-30_llava.jsonl', '/projects/frame_align/data/img_data/2023-10-01_2023-10-31/annotated/vision/2023-10-01_2023-10-31_llava.jsonl', '/projects/frame_align/data/img_data/2023-11-01_2023-11-30/annotated/vision/2023-11-01_2023-11-30_llava.jsonl', '/projects/frame_align/data/img_data/2023-12-01_2023-12-31/annotated/vision/2023-12-01_2023-12-31_llava.jsonl', '/projects/frame_align/data/img_data/2024-01-01_2024-01-31/annotated/vision/2024-01-01_2024-01-31_llava.jsonl', '/projects/frame_align/data/img_data/2024-02-01_2024-02-29/annotated/vision/2024-02-01_2024-02-29_llava.jsonl', '/projects/frame_align/data/img_data/2024-03-01_2024-03-31/annotated/vision/2024-03-01_2024-03-31_llava.jsonl', '/projects/frame_align/data/img_data/2024-04-01_2024-04-30/annotated/vision/2024-04-01_2024-04-30_llava.jsonl']\n"
     ]
    }
   ],
   "source": [
    "vision_dir_set1 = \"/projects/frame_align/data/annotated/vision\"\n",
    "vision_files_set1 = [os.path.join(vision_dir_set1, f) for f in os.listdir(vision_dir_set1) if f.endswith('.jsonl')]\n",
    "\n",
    "vision_dir_set2 = \"/projects/frame_align/data/img_data/\"\n",
    "vision_dir_set2list = [f for f in os.listdir(vision_dir_set2) if os.path.isdir(os.path.join(vision_dir_set2, f))]\n",
    "\n",
    "vision_files_set2 = []\n",
    "for directory in vision_dir_set2list:\n",
    "    file_dir = os.path.join(vision_dir_set2, directory, \"annotated/vision\")\n",
    "    vision_files_set2.extend([os.path.join(file_dir, f) for f in os.listdir(file_dir) if f.endswith(f'{directory}_llava.jsonl')])\n",
    "vision_files_set2.sort()\n",
    "\n",
    "vision_files = vision_files_set1 + vision_files_set2\n",
    "print(vision_files)"
   ]
  },
  {
   "cell_type": "code",
   "execution_count": 59,
   "metadata": {},
   "outputs": [
    {
     "name": "stderr",
     "output_type": "stream",
     "text": [
      "100%|██████████| 24/24 [00:04<00:00,  4.94it/s]\n"
     ]
    }
   ],
   "source": [
    "vision_uuids_monthly = {}\n",
    "for file in tqdm(vision_files):\n",
    "    uuids = []\n",
    "    with open(file, 'r') as f:\n",
    "        for line in f:\n",
    "            data = json.loads(line)\n",
    "            uuids.append(data['uuid'])\n",
    "        key_name = file.split('/')[-1].strip('_llava.jsonl') if 'llava' in file else print('filename is:', file)\n",
    "        vision_uuids_monthly[key_name] = uuids\n"
   ]
  },
  {
   "cell_type": "code",
   "execution_count": 58,
   "metadata": {},
   "outputs": [
    {
     "name": "stdout",
     "output_type": "stream",
     "text": [
      "2024-02-01_2024-02-29 27066\n",
      "2023-12-01_2023-12-31 23508\n",
      "2024-03-01_2024-03-31 27254\n",
      "2023-08-01_2023-08-31 24804\n",
      "2023-11-01_2023-11-30 23640\n",
      "2024-04-01_2024-04-30 27158\n",
      "2023-09-01_2023-09-30 28503\n",
      "2023-10-01_2023-10-31 27796\n",
      "2024-01-01_2024-01-31 27396\n",
      "2023-06-01_2023-06-30 24812\n",
      "2023-07-01_2023-07-31 28067\n",
      "2023-05-01_2023-05-31 29643\n"
     ]
    }
   ],
   "source": [
    "# print len of val for each key\n",
    "for key, val in vision_uuids_monthly.items():\n",
    "    print(key, len(val))"
   ]
  },
  {
   "cell_type": "markdown",
   "metadata": {},
   "source": [
    "Find Common UUIDS and save them in as pkl"
   ]
  },
  {
   "cell_type": "code",
   "execution_count": 60,
   "metadata": {},
   "outputs": [
    {
     "name": "stdout",
     "output_type": "stream",
     "text": [
      "2023-06-01_2023-06-30 24812\n",
      "2023-07-01_2023-07-31 27307\n",
      "2023-09-01_2023-09-30 28505\n",
      "2023-10-01_2023-10-31 27799\n",
      "2023-11-01_2023-11-30 23640\n",
      "2023-12-01_2023-12-31 23508\n",
      "2024-01-01_2024-01-31 27400\n",
      "2024-02-01_2024-02-29 27069\n",
      "2024-03-01_2024-03-31 27258\n",
      "2024-04-01_2024-04-30 27161\n"
     ]
    }
   ],
   "source": [
    "# find the intersection of text_uuids and vision_uuids for each month\n",
    "intersection_monthly = {}\n",
    "for key in text_uuids_monthly.keys():\n",
    "    intersection_monthly[key] = list(set(text_uuids_monthly[key]) & set(vision_uuids_monthly[key]))\n",
    "\n",
    "# print len of val for each key\n",
    "for key, val in intersection_monthly.items():\n",
    "    print(key, len(val))"
   ]
  },
  {
   "cell_type": "code",
   "execution_count": 64,
   "metadata": {},
   "outputs": [
    {
     "name": "stdout",
     "output_type": "stream",
     "text": [
      "removing existing pkl directory. Deleted!\n",
      "Number of files in /projects/frame_align/data/pkl: 10\n",
      "done\n"
     ]
    }
   ],
   "source": [
    "import shutil\n",
    "# save the intersection_monthly dict to a pickle file\n",
    "pkl_dir = \"/projects/frame_align/data/pkl\"\n",
    "\n",
    "if os.path.exists(pkl_dir):\n",
    "    shutil.rmtree(pkl_dir)\n",
    "    print('removing existing pkl directory. Deleted!')\n",
    "os.makedirs(pkl_dir, exist_ok=True)\n",
    "\n",
    "# save each month's intersection to a pickle file\n",
    "for key, val in intersection_monthly.items():\n",
    "    with open(os.path.join(pkl_dir, f'{key}_intersection.pkl'), 'wb') as f:\n",
    "        pickle.dump(val, f)\n",
    "\n",
    "print(f'Number of files in {pkl_dir}:', len(os.listdir(pkl_dir)))\n",
    "print('done')"
   ]
  },
  {
   "cell_type": "code",
   "execution_count": null,
   "metadata": {},
   "outputs": [],
   "source": []
  }
 ],
 "metadata": {
  "kernelspec": {
   "display_name": "frame-align",
   "language": "python",
   "name": "python3"
  },
  "language_info": {
   "codemirror_mode": {
    "name": "ipython",
    "version": 3
   },
   "file_extension": ".py",
   "mimetype": "text/x-python",
   "name": "python",
   "nbconvert_exporter": "python",
   "pygments_lexer": "ipython3",
   "version": "3.12.5"
  }
 },
 "nbformat": 4,
 "nbformat_minor": 2
}

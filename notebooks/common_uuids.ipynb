{
 "cells": [
  {
   "cell_type": "code",
   "execution_count": 5,
   "metadata": {},
   "outputs": [],
   "source": [
    "import os\n",
    "import json\n",
    "import shutil\n",
    "import pickle\n",
    "import pandas as pd\n",
    "\n",
    "from tqdm import tqdm\n",
    "from pathlib import Path"
   ]
  },
  {
   "cell_type": "markdown",
   "metadata": {},
   "source": [
    "Read text Files"
   ]
  },
  {
   "cell_type": "code",
   "execution_count": 27,
   "metadata": {},
   "outputs": [
    {
     "name": "stdout",
     "output_type": "stream",
     "text": [
      "['2023-05-01_2023-05-31_Mistral.jsonl', '2023-06-01_2023-06-30_Mistral.jsonl', '2023-07-01_2023-07-31_Mistral.jsonl', '2023-08-01_2023-08-31_Mistral.jsonl', '2023-09-01_2023-09-30_Mistral.jsonl', '2023-10-01_2023-10-31_Mistral.jsonl', '2023-11-01_2023-11-30_Mistral.jsonl', '2023-12-01_2023-12-31_Mistral.jsonl', '2024-01-01_2024-01-31_Mistral.jsonl', '2024-02-01_2024-02-29_Mistral.jsonl', '2024-03-01_2024-03-31_Mistral.jsonl', '2024-04-01_2024-04-30_Mistral.jsonl']\n"
     ]
    }
   ],
   "source": [
    "text_annotations_dir = \"/projects/frame_align/data/annotated/text\"\n",
    "text_files = [f for f in os.listdir(text_annotations_dir) if f.endswith('.jsonl')]\n",
    "text_files.sort()\n",
    "print(text_files)"
   ]
  },
  {
   "cell_type": "markdown",
   "metadata": {},
   "source": [
    "Extract UUIDS from the text files\n",
    "- uuids are called id"
   ]
  },
  {
   "cell_type": "code",
   "execution_count": 3,
   "metadata": {},
   "outputs": [
    {
     "ename": "NameError",
     "evalue": "name 'text_files' is not defined",
     "output_type": "error",
     "traceback": [
      "\u001b[0;31m---------------------------------------------------------------------------\u001b[0m",
      "\u001b[0;31mNameError\u001b[0m                                 Traceback (most recent call last)",
      "Cell \u001b[0;32mIn[3], line 4\u001b[0m\n\u001b[1;32m      1\u001b[0m text_uuids_monthly \u001b[38;5;241m=\u001b[39m {}\n\u001b[1;32m      2\u001b[0m \u001b[38;5;66;03m# exclude 2023-05-01_2023-05-31_Mistral.jsonl\u001b[39;00m\n\u001b[1;32m      3\u001b[0m \u001b[38;5;66;03m# text_files = [f for f in text_files if f != '2023-05-01_2023-05-31_Mistral.jsonl' and f != '2023-08-01_2023-08-31_Mistral.jsonl']\u001b[39;00m\n\u001b[0;32m----> 4\u001b[0m \u001b[38;5;28;01mfor\u001b[39;00m file \u001b[38;5;129;01min\u001b[39;00m tqdm(\u001b[43mtext_files\u001b[49m):\n\u001b[1;32m      5\u001b[0m     \u001b[38;5;28mprint\u001b[39m(file)\n\u001b[1;32m      6\u001b[0m     \u001b[38;5;28;01mwith\u001b[39;00m \u001b[38;5;28mopen\u001b[39m(os\u001b[38;5;241m.\u001b[39mpath\u001b[38;5;241m.\u001b[39mjoin(text_annotations_dir, file), \u001b[38;5;124m'\u001b[39m\u001b[38;5;124mr\u001b[39m\u001b[38;5;124m'\u001b[39m) \u001b[38;5;28;01mas\u001b[39;00m f:\n",
      "\u001b[0;31mNameError\u001b[0m: name 'text_files' is not defined"
     ]
    }
   ],
   "source": [
    "\n",
    "text_uuids_monthly = {}\n",
    "# exclude 2023-05-01_2023-05-31_Mistral.jsonl\n",
    "# text_files = [f for f in text_files if f != '2023-05-01_2023-05-31_Mistral.jsonl' and f != '2023-08-01_2023-08-31_Mistral.jsonl']\n",
    "for file in tqdm(text_files):\n",
    "    print(file)\n",
    "    with open(os.path.join(text_annotations_dir, file), 'r') as f:\n",
    "        uuids = []\n",
    "        for line in f:\n",
    "            try:\n",
    "                data = json.loads(line)\n",
    "            # add file as key to dict and list of uuids as value\n",
    "                uuids.append(data['id'])\n",
    "            except:\n",
    "                continue\n",
    "        text_uuids_monthly[file.strip('_Mistral.jsonl')] = uuids\n"
   ]
  },
  {
   "cell_type": "code",
   "execution_count": 30,
   "metadata": {},
   "outputs": [
    {
     "name": "stdout",
     "output_type": "stream",
     "text": [
      "2023-05-01_2023-05-31 3401\n",
      "2023-06-01_2023-06-30 3387\n",
      "2023-07-01_2023-07-31 3308\n",
      "2023-08-01_2023-08-31 3394\n",
      "2023-09-01_2023-09-30 3008\n",
      "2023-10-01_2023-10-31 0\n",
      "2023-11-01_2023-11-30 0\n",
      "2023-12-01_2023-12-31 0\n",
      "2024-01-01_2024-01-31 0\n",
      "2024-02-01_2024-02-29 0\n",
      "2024-03-01_2024-03-31 0\n",
      "2024-04-01_2024-04-30 0\n"
     ]
    }
   ],
   "source": [
    "# print len of val for each key\n",
    "for key, val in text_uuids_monthly.items():\n",
    "    print(key, len(val))"
   ]
  },
  {
   "cell_type": "markdown",
   "metadata": {},
   "source": [
    "Extract the UUIDs from the vison files\n",
    "- path 1: \"/projects/frame_align/data/annotated/vision/{dir}.jsonl\n",
    "- path 2: \"/projects/frame_align/data/img_data/{dir}annotation/vision/{dir}_llava.jsonl"
   ]
  },
  {
   "cell_type": "code",
   "execution_count": 4,
   "metadata": {},
   "outputs": [
    {
     "name": "stdout",
     "output_type": "stream",
     "text": [
      "['/projects/frame_align/data/annotated/vision/2024-02-01_2024-02-29_llava.jsonl', '/projects/frame_align/data/annotated/vision/2023-12-01_2023-12-31_llava.jsonl', '/projects/frame_align/data/annotated/vision/2024-03-01_2024-03-31_llava.jsonl', '/projects/frame_align/data/annotated/vision/2023-08-01_2023-08-31_llava.jsonl', '/projects/frame_align/data/annotated/vision/2023-11-01_2023-11-30_llava.jsonl', '/projects/frame_align/data/annotated/vision/2024-04-01_2024-04-30_llava.jsonl', '/projects/frame_align/data/annotated/vision/2023-09-01_2023-09-30_llava.jsonl', '/projects/frame_align/data/annotated/vision/2023-10-01_2023-10-31_llava.jsonl', '/projects/frame_align/data/annotated/vision/2024-01-01_2024-01-31_llava.jsonl', '/projects/frame_align/data/annotated/vision/2023-06-01_2023-06-30_llava.jsonl', '/projects/frame_align/data/annotated/vision/2023-07-01_2023-07-31_llava.jsonl', '/projects/frame_align/data/annotated/vision/2023-05-01_2023-05-31_llava.jsonl', '/projects/frame_align/data/img_data/2023-05-01_2023-05-31/annotated/vision/2023-05-01_2023-05-31_llava.jsonl', '/projects/frame_align/data/img_data/2023-06-01_2023-06-30/annotated/vision/2023-06-01_2023-06-30_llava.jsonl', '/projects/frame_align/data/img_data/2023-07-01_2023-07-31/annotated/vision/2023-07-01_2023-07-31_llava.jsonl', '/projects/frame_align/data/img_data/2023-08-01_2023-08-31/annotated/vision/2023-08-01_2023-08-31_llava.jsonl', '/projects/frame_align/data/img_data/2023-09-01_2023-09-30/annotated/vision/2023-09-01_2023-09-30_llava.jsonl', '/projects/frame_align/data/img_data/2023-10-01_2023-10-31/annotated/vision/2023-10-01_2023-10-31_llava.jsonl', '/projects/frame_align/data/img_data/2023-11-01_2023-11-30/annotated/vision/2023-11-01_2023-11-30_llava.jsonl', '/projects/frame_align/data/img_data/2023-12-01_2023-12-31/annotated/vision/2023-12-01_2023-12-31_llava.jsonl', '/projects/frame_align/data/img_data/2024-01-01_2024-01-31/annotated/vision/2024-01-01_2024-01-31_llava.jsonl', '/projects/frame_align/data/img_data/2024-02-01_2024-02-29/annotated/vision/2024-02-01_2024-02-29_llava.jsonl', '/projects/frame_align/data/img_data/2024-03-01_2024-03-31/annotated/vision/2024-03-01_2024-03-31_llava.jsonl', '/projects/frame_align/data/img_data/2024-04-01_2024-04-30/annotated/vision/2024-04-01_2024-04-30_llava.jsonl']\n"
     ]
    }
   ],
   "source": [
    "vision_dir_set1 = \"/projects/frame_align/data/annotated/vision\"\n",
    "vision_files_set1 = [os.path.join(vision_dir_set1, f) for f in os.listdir(vision_dir_set1) if f.endswith('.jsonl')]\n",
    "\n",
    "vision_dir_set2 = \"/projects/frame_align/data/img_data/\"\n",
    "vision_dir_set2list = [f for f in os.listdir(vision_dir_set2) if os.path.isdir(os.path.join(vision_dir_set2, f))]\n",
    "\n",
    "vision_files_set2 = []\n",
    "for directory in vision_dir_set2list:\n",
    "    file_dir = os.path.join(vision_dir_set2, directory, \"annotated/vision\")\n",
    "    vision_files_set2.extend([os.path.join(file_dir, f) for f in os.listdir(file_dir) if f.endswith(f'{directory}_llava.jsonl')])\n",
    "vision_files_set2.sort()\n",
    "\n",
    "vision_files = vision_files_set1 + vision_files_set2\n",
    "print(vision_files)"
   ]
  },
  {
   "cell_type": "code",
   "execution_count": 59,
   "metadata": {},
   "outputs": [
    {
     "name": "stderr",
     "output_type": "stream",
     "text": [
      "100%|██████████| 24/24 [00:04<00:00,  4.94it/s]\n"
     ]
    }
   ],
   "source": [
    "# vision_uuids_monthly = {}\n",
    "# for file in tqdm(vision_files):\n",
    "#     uuids = []\n",
    "#     with open(file, 'r') as f:\n",
    "#         for line in f:\n",
    "#             data = json.loads(line)\n",
    "#             uuids.append(data['uuid'])\n",
    "#         key_name = file.split('/')[-1].strip('_llava.jsonl') if 'llava' in file else print('filename is:', file)\n",
    "#         vision_uuids_monthly[key_name] = uuids\n"
   ]
  },
  {
   "cell_type": "code",
   "execution_count": 31,
   "metadata": {},
   "outputs": [
    {
     "name": "stdout",
     "output_type": "stream",
     "text": [
      "2024-02-01_2024-02-29 46051\n",
      "2023-12-01_2023-12-31 38148\n",
      "2024-03-01_2024-03-31 50313\n",
      "2023-08-01_2023-08-31 48875\n",
      "2023-11-01_2023-11-30 23644\n",
      "2024-04-01_2024-04-30 47971\n",
      "2023-09-01_2023-09-30 56774\n",
      "2023-10-01_2023-10-31 56624\n",
      "2024-01-01_2024-01-31 44891\n",
      "2023-06-01_2023-06-30 49486\n",
      "2023-07-01_2023-07-31 56765\n",
      "2023-05-01_2023-05-31 57584\n"
     ]
    }
   ],
   "source": [
    "# # print len of val for each key\n",
    "for key, val in annotated_uuids.items():\n",
    "    print(key, len(val))"
   ]
  },
  {
   "cell_type": "markdown",
   "metadata": {},
   "source": [
    "Find Common UUIDS and save them in as pkl"
   ]
  },
  {
   "cell_type": "code",
   "execution_count": 32,
   "metadata": {},
   "outputs": [
    {
     "name": "stdout",
     "output_type": "stream",
     "text": [
      "2023-05-01_2023-05-31 805\n",
      "2023-06-01_2023-06-30 689\n",
      "2023-07-01_2023-07-31 1009\n",
      "2023-08-01_2023-08-31 830\n",
      "2023-09-01_2023-09-30 979\n",
      "2023-10-01_2023-10-31 0\n",
      "2023-11-01_2023-11-30 0\n",
      "2023-12-01_2023-12-31 0\n",
      "2024-01-01_2024-01-31 0\n",
      "2024-02-01_2024-02-29 0\n",
      "2024-03-01_2024-03-31 0\n",
      "2024-04-01_2024-04-30 0\n"
     ]
    }
   ],
   "source": [
    "# find the intersection of text_uuids and vision_uuids for each month\n",
    "intersection_monthly = {}\n",
    "for key in text_uuids_monthly.keys():\n",
    "    intersection_monthly[key] = list(set(text_uuids_monthly[key]) & set(annotated_uuids[key]))\n",
    "\n",
    "# print len of val for each key\n",
    "for key, val in intersection_monthly.items():\n",
    "    print(key, len(val))"
   ]
  },
  {
   "cell_type": "code",
   "execution_count": 64,
   "metadata": {},
   "outputs": [
    {
     "name": "stdout",
     "output_type": "stream",
     "text": [
      "removing existing pkl directory. Deleted!\n",
      "Number of files in /projects/frame_align/data/pkl: 10\n",
      "done\n"
     ]
    }
   ],
   "source": [
    "# import shutil\n",
    "# # save the intersection_monthly dict to a pickle file\n",
    "# pkl_dir = \"/projects/frame_align/data/pkl\"\n",
    "\n",
    "# if os.path.exists(pkl_dir):\n",
    "#     shutil.rmtree(pkl_dir)\n",
    "#     print('removing existing pkl directory. Deleted!')\n",
    "# os.makedirs(pkl_dir, exist_ok=True)\n",
    "\n",
    "# # save each month's intersection to a pickle file\n",
    "# for key, val in intersection_monthly.items():\n",
    "#     with open(os.path.join(pkl_dir, f'{key}_intersection.pkl'), 'wb') as f:\n",
    "#         pickle.dump(val, f)\n",
    "\n",
    "# print(f'Number of files in {pkl_dir}:', len(os.listdir(pkl_dir)))\n",
    "# print('done')"
   ]
  },
  {
   "cell_type": "markdown",
   "metadata": {},
   "source": [
    "### Split pickle files into two for parallelizing"
   ]
  },
  {
   "cell_type": "code",
   "execution_count": 17,
   "metadata": {},
   "outputs": [],
   "source": [
    "img_path1 = Path(\"/projects/frame_align/data/img_data/\")\n",
    "downloaded_uuids = []\n",
    "for dir in img_path1.iterdir():\n",
    "    downloaded_img_dir = dir/\"correct_downloaded_imgs/\"\n",
    "    downloaded_uuids.extend([f.stem for f in downloaded_img_dir.iterdir()])"
   ]
  },
  {
   "cell_type": "code",
   "execution_count": 18,
   "metadata": {},
   "outputs": [],
   "source": [
    "img_path2 = Path(\"/projects/frame_align/data/news_img_data/\")\n",
    "for dir in img_path2.iterdir():\n",
    "    if dir.is_dir():\n",
    "        downloaded_uuids.extend([f.stem for f in dir.iterdir()])"
   ]
  },
  {
   "cell_type": "code",
   "execution_count": 19,
   "metadata": {},
   "outputs": [
    {
     "data": {
      "text/plain": [
       "962380"
      ]
     },
     "execution_count": 19,
     "metadata": {},
     "output_type": "execute_result"
    }
   ],
   "source": [
    "len(downloaded_uuids)"
   ]
  },
  {
   "cell_type": "code",
   "execution_count": 6,
   "metadata": {},
   "outputs": [
    {
     "data": {
      "text/plain": [
       "['/projects/frame_align/data/annotated/vision/2024-02-01_2024-02-29_llava.jsonl',\n",
       " '/projects/frame_align/data/annotated/vision/2023-12-01_2023-12-31_llava.jsonl',\n",
       " '/projects/frame_align/data/annotated/vision/2024-03-01_2024-03-31_llava.jsonl',\n",
       " '/projects/frame_align/data/annotated/vision/2023-08-01_2023-08-31_llava.jsonl',\n",
       " '/projects/frame_align/data/annotated/vision/2023-11-01_2023-11-30_llava.jsonl',\n",
       " '/projects/frame_align/data/annotated/vision/2024-04-01_2024-04-30_llava.jsonl',\n",
       " '/projects/frame_align/data/annotated/vision/2023-09-01_2023-09-30_llava.jsonl',\n",
       " '/projects/frame_align/data/annotated/vision/2023-10-01_2023-10-31_llava.jsonl',\n",
       " '/projects/frame_align/data/annotated/vision/2024-01-01_2024-01-31_llava.jsonl',\n",
       " '/projects/frame_align/data/annotated/vision/2023-06-01_2023-06-30_llava.jsonl',\n",
       " '/projects/frame_align/data/annotated/vision/2023-07-01_2023-07-31_llava.jsonl',\n",
       " '/projects/frame_align/data/annotated/vision/2023-05-01_2023-05-31_llava.jsonl',\n",
       " '/projects/frame_align/data/img_data/2023-05-01_2023-05-31/annotated/vision/2023-05-01_2023-05-31_llava.jsonl',\n",
       " '/projects/frame_align/data/img_data/2023-06-01_2023-06-30/annotated/vision/2023-06-01_2023-06-30_llava.jsonl',\n",
       " '/projects/frame_align/data/img_data/2023-07-01_2023-07-31/annotated/vision/2023-07-01_2023-07-31_llava.jsonl',\n",
       " '/projects/frame_align/data/img_data/2023-08-01_2023-08-31/annotated/vision/2023-08-01_2023-08-31_llava.jsonl',\n",
       " '/projects/frame_align/data/img_data/2023-09-01_2023-09-30/annotated/vision/2023-09-01_2023-09-30_llava.jsonl',\n",
       " '/projects/frame_align/data/img_data/2023-10-01_2023-10-31/annotated/vision/2023-10-01_2023-10-31_llava.jsonl',\n",
       " '/projects/frame_align/data/img_data/2023-11-01_2023-11-30/annotated/vision/2023-11-01_2023-11-30_llava.jsonl',\n",
       " '/projects/frame_align/data/img_data/2023-12-01_2023-12-31/annotated/vision/2023-12-01_2023-12-31_llava.jsonl',\n",
       " '/projects/frame_align/data/img_data/2024-01-01_2024-01-31/annotated/vision/2024-01-01_2024-01-31_llava.jsonl',\n",
       " '/projects/frame_align/data/img_data/2024-02-01_2024-02-29/annotated/vision/2024-02-01_2024-02-29_llava.jsonl',\n",
       " '/projects/frame_align/data/img_data/2024-03-01_2024-03-31/annotated/vision/2024-03-01_2024-03-31_llava.jsonl',\n",
       " '/projects/frame_align/data/img_data/2024-04-01_2024-04-30/annotated/vision/2024-04-01_2024-04-30_llava.jsonl']"
      ]
     },
     "execution_count": 6,
     "metadata": {},
     "output_type": "execute_result"
    }
   ],
   "source": [
    "vision_files"
   ]
  },
  {
   "cell_type": "code",
   "execution_count": 22,
   "metadata": {},
   "outputs": [],
   "source": [
    "# annotated_uuids = []\n",
    "annotated_uuids = {}\n",
    "for file in vision_files:\n",
    "    file_path = Path(file)\n",
    "    month_name = file_path.stem[:-6]\n",
    "    if month_name not in annotated_uuids:\n",
    "        annotated_uuids[month_name] = []\n",
    "    df = pd.read_json(file, lines=True)\n",
    "    annotated_uuids[month_name].extend(df['uuid'].tolist())"
   ]
  },
  {
   "cell_type": "code",
   "execution_count": 14,
   "metadata": {},
   "outputs": [
    {
     "data": {
      "text/plain": [
       "576499"
      ]
     },
     "execution_count": 14,
     "metadata": {},
     "output_type": "execute_result"
    }
   ],
   "source": [
    "len(annotated_uuids)"
   ]
  },
  {
   "cell_type": "code",
   "execution_count": 26,
   "metadata": {},
   "outputs": [],
   "source": [
    "for month, uuids in annotated_uuids.items():\n",
    "    half = len(uuids) // 2\n",
    "    with open(os.path.join(pkl_dir, f'{month}_part1.pkl'), 'wb') as f1:\n",
    "        pickle.dump(uuids[:half], f1)\n",
    "    with open(os.path.join(pkl_dir, f'{month}_part2.pkl'), 'wb') as f2:\n",
    "        pickle.dump(uuids[half:], f2)"
   ]
  },
  {
   "cell_type": "code",
   "execution_count": 8,
   "metadata": {},
   "outputs": [],
   "source": [
    "for file in vision_files_set2:\n",
    "    file_path = Path(file)\n",
    "    shutil.copy(file, f\"/projects/frame_align/data/annotated/analysis/{file_path.stem}_old.jsonl\")"
   ]
  },
  {
   "cell_type": "code",
   "execution_count": null,
   "metadata": {},
   "outputs": [],
   "source": []
  }
 ],
 "metadata": {
  "kernelspec": {
   "display_name": "frame-align",
   "language": "python",
   "name": "python3"
  },
  "language_info": {
   "codemirror_mode": {
    "name": "ipython",
    "version": 3
   },
   "file_extension": ".py",
   "mimetype": "text/x-python",
   "name": "python",
   "nbconvert_exporter": "python",
   "pygments_lexer": "ipython3",
   "version": "3.12.1"
  }
 },
 "nbformat": 4,
 "nbformat_minor": 2
}

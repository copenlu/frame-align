{
 "cells": [
  {
   "cell_type": "code",
   "execution_count": 1,
   "metadata": {},
   "outputs": [],
   "source": [
    "import json\n",
    "import pandas as pd\n",
    "import matplotlib.pyplot as plt\n",
    "\n",
    "from pathlib import Path"
   ]
  },
  {
   "cell_type": "code",
   "execution_count": 2,
   "metadata": {},
   "outputs": [],
   "source": [
    "# Run src/data/combine_annotations.py first to generate the combined annotations file"
   ]
  },
  {
   "cell_type": "markdown",
   "metadata": {},
   "source": [
    "### Set frame names in lower case"
   ]
  },
  {
   "cell_type": "code",
   "execution_count": 3,
   "metadata": {},
   "outputs": [],
   "source": [
    "frames = [\"Economic\",\"Capacity and resources\",\"Morality\",\"Fairness and equality\",\"Legality, constitutionality and jurisprudence\",\"Policy prescription and evaluation\",\"Crime and punishment\",\"Security and defense\",\"Health and safety\",\"Quality of life\",\"Cultural identity\",\"Public opinion\",\"Political\",\"External regulation and reputation\",\"Other\"]\n",
    "frames = [f.lower() for f in frames]"
   ]
  },
  {
   "cell_type": "markdown",
   "metadata": {},
   "source": [
    "### Get path of the directory vision and text (model) annotated files are stored"
   ]
  },
  {
   "cell_type": "code",
   "execution_count": 4,
   "metadata": {},
   "outputs": [],
   "source": [
    "analysis_path = Path('/projects/frame_align/data/annotated/analysis')\n",
    "text_analysis_path = analysis_path / 'text'\n",
    "vision_analysis_path = analysis_path / 'vision'"
   ]
  },
  {
   "cell_type": "markdown",
   "metadata": {},
   "source": [
    "### Combine the vision and text annotated files into a single file"
   ]
  },
  {
   "cell_type": "code",
   "execution_count": 5,
   "metadata": {},
   "outputs": [
    {
     "name": "stdout",
     "output_type": "stream",
     "text": [
      "(111405, 31)\n"
     ]
    },
    {
     "data": {
      "text/plain": [
       "111405"
      ]
     },
     "execution_count": 5,
     "metadata": {},
     "output_type": "execute_result"
    }
   ],
   "source": [
    "combined_df = pd.read_csv(analysis_path/'combined_annotations.csv')\n",
    "\n",
    "print(combined_df.shape)\n",
    "\n",
    "uuids = combined_df['text_id'].unique()\n",
    "len(uuids)\n"
   ]
  },
  {
   "cell_type": "markdown",
   "metadata": {},
   "source": [
    "### Filter the data to get rows which have required frames (in both vision and text)"
   ]
  },
  {
   "cell_type": "code",
   "execution_count": 6,
   "metadata": {},
   "outputs": [
    {
     "name": "stdout",
     "output_type": "stream",
     "text": [
      "(103142, 31)\n"
     ]
    }
   ],
   "source": [
    "combined_df['text_frame_name'] = combined_df['text_frame_name'].str.lower()\n",
    "combined_df['vision_frame-name'] = combined_df['vision_frame-name'].str.lower()\n",
    "\n",
    "text_valid = combined_df['text_frame_name'].isin(frames)\n",
    "vision_valid = combined_df['vision_frame-name'].isin(frames)\n",
    "intersection = text_valid & vision_valid\n",
    "combined_df = combined_df[intersection]\n",
    "print(combined_df.shape)"
   ]
  },
  {
   "cell_type": "markdown",
   "metadata": {},
   "source": [
    "### Filter original news data to get rows (with uuids) which have been annotated"
   ]
  },
  {
   "cell_type": "code",
   "execution_count": 7,
   "metadata": {},
   "outputs": [
    {
     "data": {
      "text/plain": [
       "month\n",
       "2023-07-01_2023-07-31    20788\n",
       "2023-09-01_2023-09-30    20262\n",
       "2023-08-01_2023-08-31    18374\n",
       "2023-05-01_2023-05-31    18267\n",
       "2023-06-01_2023-06-30    12753\n",
       "2023-11-01_2023-11-30    10332\n",
       "2023-10-01_2023-10-31     9715\n",
       "2023-12-01_2023-12-31      914\n",
       "Name: count, dtype: int64"
      ]
     },
     "execution_count": 7,
     "metadata": {},
     "output_type": "execute_result"
    }
   ],
   "source": [
    "annotated_articles = []\n",
    "data_dir = Path('/projects/frame_align/data/raw/2023-2024/')\n",
    "for month_dir in data_dir.iterdir():\n",
    "    if not month_dir.is_dir():\n",
    "        continue\n",
    "    df = pd.read_csv(month_dir/\"datawithtopiclabels.csv\")\n",
    "    df = df[df['id'].isin(uuids)]\n",
    "    annotated_articles.append(df)\n",
    "annotated_articles = pd.concat(annotated_articles)\n",
    "annotated_articles['month'].value_counts()\n",
    "# annotated_articles.to_csv(analysis_path.parent.parent / \"srishti-analysis\"/'annotated_articles.csv', index=False)"
   ]
  },
  {
   "cell_type": "markdown",
   "metadata": {},
   "source": [
    "### Save the filtered data to a new file"
   ]
  },
  {
   "cell_type": "code",
   "execution_count": 8,
   "metadata": {},
   "outputs": [],
   "source": [
    "# annotated_articles.to_csv(analysis_path/'_srishti_annotated_articles.csv', index=False)"
   ]
  },
  {
   "cell_type": "code",
   "execution_count": 9,
   "metadata": {},
   "outputs": [],
   "source": [
    "# annotated_articles = pd.read_csv(analysis_path/'_srishti_annotated_articles.csv')"
   ]
  },
  {
   "cell_type": "markdown",
   "metadata": {},
   "source": [
    "View first few line"
   ]
  },
  {
   "cell_type": "code",
   "execution_count": 10,
   "metadata": {},
   "outputs": [
    {
     "data": {
      "text/html": [
       "<div>\n",
       "<style scoped>\n",
       "    .dataframe tbody tr th:only-of-type {\n",
       "        vertical-align: middle;\n",
       "    }\n",
       "\n",
       "    .dataframe tbody tr th {\n",
       "        vertical-align: top;\n",
       "    }\n",
       "\n",
       "    .dataframe thead th {\n",
       "        text-align: right;\n",
       "    }\n",
       "</style>\n",
       "<table border=\"1\" class=\"dataframe\">\n",
       "  <thead>\n",
       "    <tr style=\"text-align: right;\">\n",
       "      <th></th>\n",
       "      <th>topic</th>\n",
       "      <th>auto_topic_label</th>\n",
       "      <th>id</th>\n",
       "      <th>authors</th>\n",
       "      <th>date_download</th>\n",
       "      <th>date_modify</th>\n",
       "      <th>date_publish</th>\n",
       "      <th>description</th>\n",
       "      <th>filename</th>\n",
       "      <th>image_url</th>\n",
       "      <th>language</th>\n",
       "      <th>localpath</th>\n",
       "      <th>maintext</th>\n",
       "      <th>source_domain</th>\n",
       "      <th>title</th>\n",
       "      <th>title_page</th>\n",
       "      <th>title_rss</th>\n",
       "      <th>url</th>\n",
       "      <th>month</th>\n",
       "      <th>topic_label</th>\n",
       "    </tr>\n",
       "  </thead>\n",
       "  <tbody>\n",
       "    <tr>\n",
       "      <th>11900</th>\n",
       "      <td>-1</td>\n",
       "      <td>police_new_man_woman_says_year_school_old_arre...</td>\n",
       "      <td>d41fe6f9-2313-4f94-a8e2-82915987fa37</td>\n",
       "      <td>['Mauricio Maldonado']</td>\n",
       "      <td>2023-11-15 05:20:58+00:00</td>\n",
       "      <td>NaN</td>\n",
       "      <td>2023-11-14 23:25:18</td>\n",
       "      <td>Lauderhill police detectives are investigating...</td>\n",
       "      <td>https%3A%2F%2Fwww.cbsnews.com%2Fmiami%2Fnews%2...</td>\n",
       "      <td>https://assets2.cbsnewsstatic.com/hub/i/r/2023...</td>\n",
       "      <td>en</td>\n",
       "      <td>NaN</td>\n",
       "      <td>MIAMI - Lauderhill police detectives are inves...</td>\n",
       "      <td>www.cbsnews.com</td>\n",
       "      <td>Police: Juvenile shot in the neck in Lauderhill</td>\n",
       "      <td>NaN</td>\n",
       "      <td>NaN</td>\n",
       "      <td>https://www.cbsnews.com/miami/news/police-juve...</td>\n",
       "      <td>2023-11-01_2023-11-30</td>\n",
       "      <td>Crime</td>\n",
       "    </tr>\n",
       "    <tr>\n",
       "      <th>11901</th>\n",
       "      <td>-1</td>\n",
       "      <td>police_new_man_woman_says_year_school_old_arre...</td>\n",
       "      <td>c9c538db-7ee1-4467-8351-6bd74b844a3b</td>\n",
       "      <td>['Kcal-News Staff', 'The Kcal News Staff Is A ...</td>\n",
       "      <td>2023-11-29 17:11:42+00:00</td>\n",
       "      <td>NaN</td>\n",
       "      <td>2023-11-29 08:57:05</td>\n",
       "      <td>The ordinance is meant to curb the rental of p...</td>\n",
       "      <td>https%3A%2F%2Fwww.cbsnews.com%2Flosangeles%2Fn...</td>\n",
       "      <td>https://assets2.cbsnewsstatic.com/hub/i/r/2022...</td>\n",
       "      <td>en</td>\n",
       "      <td>NaN</td>\n",
       "      <td>The Los Angeles City Council approved a draft ...</td>\n",
       "      <td>www.cbsnews.com</td>\n",
       "      <td>LA City Council moves forward with policy requ...</td>\n",
       "      <td>NaN</td>\n",
       "      <td>NaN</td>\n",
       "      <td>https://www.cbsnews.com/losangeles/news/la-cit...</td>\n",
       "      <td>2023-11-01_2023-11-30</td>\n",
       "      <td>Crime</td>\n",
       "    </tr>\n",
       "  </tbody>\n",
       "</table>\n",
       "</div>"
      ],
      "text/plain": [
       "       topic                                   auto_topic_label  \\\n",
       "11900     -1  police_new_man_woman_says_year_school_old_arre...   \n",
       "11901     -1  police_new_man_woman_says_year_school_old_arre...   \n",
       "\n",
       "                                         id  \\\n",
       "11900  d41fe6f9-2313-4f94-a8e2-82915987fa37   \n",
       "11901  c9c538db-7ee1-4467-8351-6bd74b844a3b   \n",
       "\n",
       "                                                 authors  \\\n",
       "11900                             ['Mauricio Maldonado']   \n",
       "11901  ['Kcal-News Staff', 'The Kcal News Staff Is A ...   \n",
       "\n",
       "                   date_download  date_modify         date_publish  \\\n",
       "11900  2023-11-15 05:20:58+00:00          NaN  2023-11-14 23:25:18   \n",
       "11901  2023-11-29 17:11:42+00:00          NaN  2023-11-29 08:57:05   \n",
       "\n",
       "                                             description  \\\n",
       "11900  Lauderhill police detectives are investigating...   \n",
       "11901  The ordinance is meant to curb the rental of p...   \n",
       "\n",
       "                                                filename  \\\n",
       "11900  https%3A%2F%2Fwww.cbsnews.com%2Fmiami%2Fnews%2...   \n",
       "11901  https%3A%2F%2Fwww.cbsnews.com%2Flosangeles%2Fn...   \n",
       "\n",
       "                                               image_url language  localpath  \\\n",
       "11900  https://assets2.cbsnewsstatic.com/hub/i/r/2023...       en        NaN   \n",
       "11901  https://assets2.cbsnewsstatic.com/hub/i/r/2022...       en        NaN   \n",
       "\n",
       "                                                maintext    source_domain  \\\n",
       "11900  MIAMI - Lauderhill police detectives are inves...  www.cbsnews.com   \n",
       "11901  The Los Angeles City Council approved a draft ...  www.cbsnews.com   \n",
       "\n",
       "                                                   title  title_page  \\\n",
       "11900    Police: Juvenile shot in the neck in Lauderhill         NaN   \n",
       "11901  LA City Council moves forward with policy requ...         NaN   \n",
       "\n",
       "       title_rss                                                url  \\\n",
       "11900        NaN  https://www.cbsnews.com/miami/news/police-juve...   \n",
       "11901        NaN  https://www.cbsnews.com/losangeles/news/la-cit...   \n",
       "\n",
       "                       month topic_label  \n",
       "11900  2023-11-01_2023-11-30       Crime  \n",
       "11901  2023-11-01_2023-11-30       Crime  "
      ]
     },
     "execution_count": 10,
     "metadata": {},
     "output_type": "execute_result"
    }
   ],
   "source": [
    "annotated_articles.head(2)"
   ]
  },
  {
   "cell_type": "markdown",
   "metadata": {},
   "source": [
    "View columns in original news data and filtered data"
   ]
  },
  {
   "cell_type": "code",
   "execution_count": 11,
   "metadata": {},
   "outputs": [
    {
     "name": "stdout",
     "output_type": "stream",
     "text": [
      "Index(['text_topic', 'text_topic_justification', 'text_summary',\n",
      "       'text_entity_name', 'text_justification_entity_sentiment',\n",
      "       'text_entity_sentiment', 'text_frame_justification', 'text_frame_id',\n",
      "       'text_frame_name', 'text_tone', 'text_justification_tone',\n",
      "       'text_issue_frame', 'text_issue_frame_justification', 'text_id',\n",
      "       'vision_caption', 'vision_main-actor', 'vision_sentiment',\n",
      "       'vision_sentiment-justification', 'vision_facial-expression',\n",
      "       'vision_facial-expression-justification', 'vision_perceivable-gender',\n",
      "       'vision_perceivable-gender-justification', 'vision_symbolic-object',\n",
      "       'vision_symbolic-meaning', 'vision_symbolic-meaning-explanation',\n",
      "       'vision_frame-id', 'vision_frame-name', 'vision_frame-justification',\n",
      "       'vision_image_url', 'vision_title', 'vision_uuid'],\n",
      "      dtype='object')\n",
      "**************************************************\n",
      "Index(['topic', 'auto_topic_label', 'id', 'authors', 'date_download',\n",
      "       'date_modify', 'date_publish', 'description', 'filename', 'image_url',\n",
      "       'language', 'localpath', 'maintext', 'source_domain', 'title',\n",
      "       'title_page', 'title_rss', 'url', 'month', 'topic_label'],\n",
      "      dtype='object')\n"
     ]
    }
   ],
   "source": [
    "print(combined_df.columns)\n",
    "print(\"*\"*50)\n",
    "print(annotated_articles.columns)"
   ]
  },
  {
   "cell_type": "markdown",
   "metadata": {},
   "source": [
    "### Find all common column\n",
    "- Sanity check to ensure no duplication of columns when merging the data\n",
    "- There should be no common columns between the two dataframes"
   ]
  },
  {
   "cell_type": "code",
   "execution_count": 12,
   "metadata": {},
   "outputs": [
    {
     "data": {
      "text/plain": [
       "[]"
      ]
     },
     "execution_count": 12,
     "metadata": {},
     "output_type": "execute_result"
    }
   ],
   "source": [
    "# find common columns , exclude 'id' column\n",
    "common_col = list(set(annotated_articles.columns) & set(combined_df.columns))\n",
    "common_col\n"
   ]
  },
  {
   "cell_type": "code",
   "execution_count": 13,
   "metadata": {},
   "outputs": [
    {
     "data": {
      "text/html": [
       "<div>\n",
       "<style scoped>\n",
       "    .dataframe tbody tr th:only-of-type {\n",
       "        vertical-align: middle;\n",
       "    }\n",
       "\n",
       "    .dataframe tbody tr th {\n",
       "        vertical-align: top;\n",
       "    }\n",
       "\n",
       "    .dataframe thead th {\n",
       "        text-align: right;\n",
       "    }\n",
       "</style>\n",
       "<table border=\"1\" class=\"dataframe\">\n",
       "  <thead>\n",
       "    <tr style=\"text-align: right;\">\n",
       "      <th></th>\n",
       "      <th>text_id</th>\n",
       "      <th>text_topic</th>\n",
       "      <th>text_topic_justification</th>\n",
       "      <th>text_summary</th>\n",
       "      <th>text_entity_name</th>\n",
       "      <th>text_justification_entity_sentiment</th>\n",
       "      <th>text_entity_sentiment</th>\n",
       "      <th>text_frame_justification</th>\n",
       "      <th>text_frame_id</th>\n",
       "      <th>text_frame_name</th>\n",
       "      <th>...</th>\n",
       "      <th>language</th>\n",
       "      <th>localpath</th>\n",
       "      <th>maintext</th>\n",
       "      <th>source_domain</th>\n",
       "      <th>title</th>\n",
       "      <th>title_page</th>\n",
       "      <th>title_rss</th>\n",
       "      <th>url</th>\n",
       "      <th>month</th>\n",
       "      <th>topic_label</th>\n",
       "    </tr>\n",
       "  </thead>\n",
       "  <tbody>\n",
       "    <tr>\n",
       "      <th>0</th>\n",
       "      <td>fd2357e4-f19e-429d-b9d1-4261661c0c0f</td>\n",
       "      <td>Cosy Crime</td>\n",
       "      <td>The article discusses the expected trend of 'c...</td>\n",
       "      <td>The article discusses the expected rise of 'co...</td>\n",
       "      <td>Cosy crime genre</td>\n",
       "      <td>The article discusses the cosy crime genre as ...</td>\n",
       "      <td>positive</td>\n",
       "      <td>The article discusses the trend of 'cosy crime...</td>\n",
       "      <td>11</td>\n",
       "      <td>cultural identity</td>\n",
       "      <td>...</td>\n",
       "      <td>en</td>\n",
       "      <td>NaN</td>\n",
       "      <td>A sleuth in search of clues to putting on a su...</td>\n",
       "      <td>www.theguardian.com</td>\n",
       "      <td>Cosy crime dramas are killer tickets at the Ed...</td>\n",
       "      <td>NaN</td>\n",
       "      <td>NaN</td>\n",
       "      <td>https://www.theguardian.com/stage/2023/aug/06/...</td>\n",
       "      <td>2023-08-01_2023-08-31</td>\n",
       "      <td>Crime</td>\n",
       "    </tr>\n",
       "    <tr>\n",
       "      <th>1</th>\n",
       "      <td>ca6c063d-16af-43f2-b785-7b74c92a58e2</td>\n",
       "      <td>Sports</td>\n",
       "      <td>The article discusses the transfer of a footba...</td>\n",
       "      <td>Sheffield United have completed the signing of...</td>\n",
       "      <td>Cameron Archer</td>\n",
       "      <td>Archer's transfer to Sheffield United on a sig...</td>\n",
       "      <td>positive</td>\n",
       "      <td>The article primarily focuses on the financial...</td>\n",
       "      <td>1</td>\n",
       "      <td>economic</td>\n",
       "      <td>...</td>\n",
       "      <td>en</td>\n",
       "      <td>NaN</td>\n",
       "      <td>Last updated on .From the section Sheff Utd\\nC...</td>\n",
       "      <td>www.bbc.com</td>\n",
       "      <td>Cameron Archer: Sheff Utd sign England Under-2...</td>\n",
       "      <td>NaN</td>\n",
       "      <td>NaN</td>\n",
       "      <td>https://www.bbc.com/sport/football/66595410</td>\n",
       "      <td>2023-08-01_2023-08-31</td>\n",
       "      <td>Crime</td>\n",
       "    </tr>\n",
       "  </tbody>\n",
       "</table>\n",
       "<p>2 rows × 51 columns</p>\n",
       "</div>"
      ],
      "text/plain": [
       "                                text_id  text_topic  \\\n",
       "0  fd2357e4-f19e-429d-b9d1-4261661c0c0f  Cosy Crime   \n",
       "1  ca6c063d-16af-43f2-b785-7b74c92a58e2      Sports   \n",
       "\n",
       "                            text_topic_justification  \\\n",
       "0  The article discusses the expected trend of 'c...   \n",
       "1  The article discusses the transfer of a footba...   \n",
       "\n",
       "                                        text_summary  text_entity_name  \\\n",
       "0  The article discusses the expected rise of 'co...  Cosy crime genre   \n",
       "1  Sheffield United have completed the signing of...    Cameron Archer   \n",
       "\n",
       "                 text_justification_entity_sentiment text_entity_sentiment  \\\n",
       "0  The article discusses the cosy crime genre as ...              positive   \n",
       "1  Archer's transfer to Sheffield United on a sig...              positive   \n",
       "\n",
       "                            text_frame_justification text_frame_id  \\\n",
       "0  The article discusses the trend of 'cosy crime...            11   \n",
       "1  The article primarily focuses on the financial...             1   \n",
       "\n",
       "     text_frame_name  ... language localpath  \\\n",
       "0  cultural identity  ...       en       NaN   \n",
       "1           economic  ...       en       NaN   \n",
       "\n",
       "                                            maintext        source_domain  \\\n",
       "0  A sleuth in search of clues to putting on a su...  www.theguardian.com   \n",
       "1  Last updated on .From the section Sheff Utd\\nC...          www.bbc.com   \n",
       "\n",
       "                                               title title_page title_rss  \\\n",
       "0  Cosy crime dramas are killer tickets at the Ed...        NaN       NaN   \n",
       "1  Cameron Archer: Sheff Utd sign England Under-2...        NaN       NaN   \n",
       "\n",
       "                                                 url                  month  \\\n",
       "0  https://www.theguardian.com/stage/2023/aug/06/...  2023-08-01_2023-08-31   \n",
       "1        https://www.bbc.com/sport/football/66595410  2023-08-01_2023-08-31   \n",
       "\n",
       "  topic_label  \n",
       "0       Crime  \n",
       "1       Crime  \n",
       "\n",
       "[2 rows x 51 columns]"
      ]
     },
     "execution_count": 13,
     "metadata": {},
     "output_type": "execute_result"
    }
   ],
   "source": [
    "# Drop common columns from annotated_articles and merge with combined_df\n",
    "annotated_articles_df = annotated_articles.drop(columns=common_col)\n",
    "\n",
    "# Merge on 'text_id' (uuid for text data) and 'id' (uuid for annotated articles)\n",
    "merged_combined_df = combined_df.merge(annotated_articles_df, left_on='text_id', right_on='id', how='left')\n",
    "\n",
    "# make text_id as first column for better readability\n",
    "merged_combined_df = merged_combined_df[['text_id'] + [col for col in merged_combined_df.columns if col != 'text_id']]\n",
    "merged_combined_df.head(2)"
   ]
  },
  {
   "cell_type": "markdown",
   "metadata": {},
   "source": [
    "View all column in the merged data (filtred news merged to their annotated data)"
   ]
  },
  {
   "cell_type": "code",
   "execution_count": 14,
   "metadata": {},
   "outputs": [
    {
     "data": {
      "text/plain": [
       "Index(['text_id', 'text_topic', 'text_topic_justification', 'text_summary',\n",
       "       'text_entity_name', 'text_justification_entity_sentiment',\n",
       "       'text_entity_sentiment', 'text_frame_justification', 'text_frame_id',\n",
       "       'text_frame_name', 'text_tone', 'text_justification_tone',\n",
       "       'text_issue_frame', 'text_issue_frame_justification', 'vision_caption',\n",
       "       'vision_main-actor', 'vision_sentiment',\n",
       "       'vision_sentiment-justification', 'vision_facial-expression',\n",
       "       'vision_facial-expression-justification', 'vision_perceivable-gender',\n",
       "       'vision_perceivable-gender-justification', 'vision_symbolic-object',\n",
       "       'vision_symbolic-meaning', 'vision_symbolic-meaning-explanation',\n",
       "       'vision_frame-id', 'vision_frame-name', 'vision_frame-justification',\n",
       "       'vision_image_url', 'vision_title', 'vision_uuid', 'topic',\n",
       "       'auto_topic_label', 'id', 'authors', 'date_download', 'date_modify',\n",
       "       'date_publish', 'description', 'filename', 'image_url', 'language',\n",
       "       'localpath', 'maintext', 'source_domain', 'title', 'title_page',\n",
       "       'title_rss', 'url', 'month', 'topic_label'],\n",
       "      dtype='object')"
      ]
     },
     "execution_count": 14,
     "metadata": {},
     "output_type": "execute_result"
    }
   ],
   "source": [
    "merged_combined_df.columns"
   ]
  },
  {
   "cell_type": "code",
   "execution_count": 15,
   "metadata": {},
   "outputs": [
    {
     "name": "stdout",
     "output_type": "stream",
     "text": [
      " No. of topics: 11\n",
      "Topics: ['Crime' 'no_topic' 'Wildlife' 'Sports' 'Politics' 'Immigration'\n",
      " 'Conflict' 'Military' 'Technology' 'Business' 'Royalty']\n"
     ]
    }
   ],
   "source": [
    "print(f\" No. of topics: {len(merged_combined_df['topic_label'].unique())}\")\n",
    "print(f\"Topics: {merged_combined_df['topic_label'].unique()}\")"
   ]
  },
  {
   "cell_type": "markdown",
   "metadata": {},
   "source": [
    "### Count number of articles per news source"
   ]
  },
  {
   "cell_type": "code",
   "execution_count": 16,
   "metadata": {},
   "outputs": [
    {
     "data": {
      "text/plain": [
       "source_domain\n",
       "www.cbsnews.com                    29833\n",
       "www.bbc.com                        16336\n",
       "apnews.com                          8272\n",
       "www.forbes.com                      6477\n",
       "www.theguardian.com                 6421\n",
       "nypost.com                          5291\n",
       "www.foxnews.com                     3310\n",
       "www.huffpost.com                    2711\n",
       "www.breitbart.com                   2666\n",
       "www.axios.com                       2584\n",
       "www.nbcnews.com                     2455\n",
       "www.newsweek.com                    2179\n",
       "www.reuters.com                     2081\n",
       "dailycaller.com                     2041\n",
       "www.insider.com                     1920\n",
       "www.usatoday.com                    1474\n",
       "www.newsmax.com                     1245\n",
       "www.washingtontimes.com              878\n",
       "www.politico.com                     782\n",
       "time.com                             725\n",
       "www.foxbusiness.com                  575\n",
       "thehill.com                          503\n",
       "www.msnbc.com                        486\n",
       "www.oann.com                         397\n",
       "slate.com                            297\n",
       "www.vox.com                          246\n",
       "www.newyorker.com                    216\n",
       "www.theatlantic.com                  204\n",
       "www.motherjones.com                  156\n",
       "www.bloomberg.com                    131\n",
       "www.democracynow.org                  95\n",
       "www.theamericanconservative.com       80\n",
       "theintercept.com                      38\n",
       "www.propublica.org                    30\n",
       "www.realclearpolitics.com              7\n",
       "Name: count, dtype: int64"
      ]
     },
     "execution_count": 16,
     "metadata": {},
     "output_type": "execute_result"
    }
   ],
   "source": [
    "merged_combined_df['source_domain'].value_counts()"
   ]
  },
  {
   "cell_type": "code",
   "execution_count": 17,
   "metadata": {},
   "outputs": [
    {
     "data": {
      "text/plain": [
       "Index(['text_id', 'text_topic', 'text_topic_justification', 'text_summary',\n",
       "       'text_entity_name', 'text_justification_entity_sentiment',\n",
       "       'text_entity_sentiment', 'text_frame_justification', 'text_frame_id',\n",
       "       'text_frame_name', 'text_tone', 'text_justification_tone',\n",
       "       'text_issue_frame', 'text_issue_frame_justification', 'vision_caption',\n",
       "       'vision_main-actor', 'vision_sentiment',\n",
       "       'vision_sentiment-justification', 'vision_facial-expression',\n",
       "       'vision_facial-expression-justification', 'vision_perceivable-gender',\n",
       "       'vision_perceivable-gender-justification', 'vision_symbolic-object',\n",
       "       'vision_symbolic-meaning', 'vision_symbolic-meaning-explanation',\n",
       "       'vision_frame-id', 'vision_frame-name', 'vision_frame-justification',\n",
       "       'vision_image_url', 'vision_title', 'vision_uuid', 'topic',\n",
       "       'auto_topic_label', 'id', 'authors', 'date_download', 'date_modify',\n",
       "       'date_publish', 'description', 'filename', 'image_url', 'language',\n",
       "       'localpath', 'maintext', 'source_domain', 'title', 'title_page',\n",
       "       'title_rss', 'url', 'month', 'topic_label'],\n",
       "      dtype='object')"
      ]
     },
     "execution_count": 17,
     "metadata": {},
     "output_type": "execute_result"
    }
   ],
   "source": [
    "merged_combined_df.columns"
   ]
  },
  {
   "cell_type": "markdown",
   "metadata": {},
   "source": [
    "Filter image data"
   ]
  },
  {
   "cell_type": "code",
   "execution_count": 18,
   "metadata": {},
   "outputs": [],
   "source": [
    "# image_paths = [\"/projects/frame_align/data/ img_data\", \"/projects/frame_align/data/news_img_data\"]\n",
    "\n",
    "# # make a list of paths to .png/.jpg files in the image directories as dict where \n",
    "# # key =  image path.split('/')[-1].strip('.png') and value = image path\n",
    "# image_dict = {}\n",
    "\n",
    "# for idx, image_path in enumerate(image_paths):\n",
    "#     for img in Path(image_path).rglob('*.png') or Path(image_path).rglob('*.jpg'):\n",
    "#         image_dict[img.name.split('.')[0]] = img"
   ]
  },
  {
   "cell_type": "code",
   "execution_count": 19,
   "metadata": {},
   "outputs": [],
   "source": [
    "# # save as pickle\n",
    "# import pickle\n",
    "# with open(analysis_path.parent.parent / \"srishti-analysis\"/'image_dict.pkl', 'wb') as f:\n",
    "#     pickle.dump(image_dict, f)"
   ]
  },
  {
   "cell_type": "code",
   "execution_count": 20,
   "metadata": {},
   "outputs": [
    {
     "name": "stderr",
     "output_type": "stream",
     "text": [
      "38530it [00:39, 967.58it/s]\n"
     ]
    },
    {
     "name": "stdout",
     "output_type": "stream",
     "text": [
      "dir: /projects/frame_align/data/img_data/2023-11-01_2023-11-30, len: 38530\n"
     ]
    },
    {
     "name": "stderr",
     "output_type": "stream",
     "text": [
      "24812it [00:24, 993.16it/s]\n"
     ]
    },
    {
     "name": "stdout",
     "output_type": "stream",
     "text": [
      "dir: /projects/frame_align/data/img_data/2023-06-01_2023-06-30, len: 63342\n"
     ]
    },
    {
     "name": "stderr",
     "output_type": "stream",
     "text": [
      "40821it [00:45, 890.20it/s] \n"
     ]
    },
    {
     "name": "stdout",
     "output_type": "stream",
     "text": [
      "dir: /projects/frame_align/data/img_data/2024-01-01_2024-01-31, len: 104163\n"
     ]
    },
    {
     "name": "stderr",
     "output_type": "stream",
     "text": [
      "34942it [00:40, 855.04it/s]\n"
     ]
    },
    {
     "name": "stdout",
     "output_type": "stream",
     "text": [
      "dir: /projects/frame_align/data/img_data/2024-03-01_2024-03-31, len: 139105\n"
     ]
    },
    {
     "name": "stderr",
     "output_type": "stream",
     "text": [
      "40424it [00:43, 921.01it/s]\n"
     ]
    },
    {
     "name": "stdout",
     "output_type": "stream",
     "text": [
      "dir: /projects/frame_align/data/img_data/2023-08-01_2023-08-31, len: 179529\n"
     ]
    },
    {
     "name": "stderr",
     "output_type": "stream",
     "text": [
      "37074it [00:43, 850.38it/s]\n"
     ]
    },
    {
     "name": "stdout",
     "output_type": "stream",
     "text": [
      "dir: /projects/frame_align/data/img_data/2024-02-01_2024-02-29, len: 216603\n"
     ]
    },
    {
     "name": "stderr",
     "output_type": "stream",
     "text": [
      "34864it [00:37, 936.70it/s]\n"
     ]
    },
    {
     "name": "stdout",
     "output_type": "stream",
     "text": [
      "dir: /projects/frame_align/data/img_data/2024-04-01_2024-04-30, len: 251467\n"
     ]
    },
    {
     "name": "stderr",
     "output_type": "stream",
     "text": [
      "55647it [01:00, 915.21it/s]\n"
     ]
    },
    {
     "name": "stdout",
     "output_type": "stream",
     "text": [
      "dir: /projects/frame_align/data/img_data/2023-05-01_2023-05-31, len: 307114\n"
     ]
    },
    {
     "name": "stderr",
     "output_type": "stream",
     "text": [
      "36545it [00:38, 942.72it/s]\n"
     ]
    },
    {
     "name": "stdout",
     "output_type": "stream",
     "text": [
      "dir: /projects/frame_align/data/img_data/2023-10-01_2023-10-31, len: 343659\n"
     ]
    },
    {
     "name": "stderr",
     "output_type": "stream",
     "text": [
      "34856it [00:35, 993.66it/s] \n"
     ]
    },
    {
     "name": "stdout",
     "output_type": "stream",
     "text": [
      "dir: /projects/frame_align/data/img_data/2023-12-01_2023-12-31, len: 378515\n"
     ]
    },
    {
     "name": "stderr",
     "output_type": "stream",
     "text": [
      "31114it [00:32, 956.02it/s]\n"
     ]
    },
    {
     "name": "stdout",
     "output_type": "stream",
     "text": [
      "dir: /projects/frame_align/data/img_data/2023-07-01_2023-07-31, len: 409629\n"
     ]
    },
    {
     "name": "stderr",
     "output_type": "stream",
     "text": [
      "40203it [00:42, 938.63it/s]"
     ]
    },
    {
     "name": "stdout",
     "output_type": "stream",
     "text": [
      "dir: /projects/frame_align/data/img_data/2023-09-01_2023-09-30, len: 449832\n"
     ]
    },
    {
     "name": "stderr",
     "output_type": "stream",
     "text": [
      "\n"
     ]
    }
   ],
   "source": [
    "from tqdm import tqdm\n",
    "from pathlib import Path\n",
    "\n",
    "img_path1 = Path(\"/projects/frame_align/data/img_data/\")\n",
    "downloaded_img_1= {}\n",
    "for dir in img_path1.iterdir():\n",
    "    downloaded_img_dir = dir/\"correct_downloaded_imgs/\"\n",
    "    for img in tqdm(downloaded_img_dir.iterdir()):\n",
    "        downloaded_img_1[img.name.split('.')[0]] = img.stat().st_size\n",
    "\n",
    "    print(f\"dir: {dir}, len: {len(downloaded_img_1)}\")"
   ]
  },
  {
   "cell_type": "code",
   "execution_count": 21,
   "metadata": {},
   "outputs": [
    {
     "name": "stdout",
     "output_type": "stream",
     "text": [
      "978803d9-e5e7-4002-95a4-f6d245903eb8 52506\n"
     ]
    }
   ],
   "source": [
    "for key, value in downloaded_img_1.items():\n",
    "    print(key, value)\n",
    "    break"
   ]
  },
  {
   "cell_type": "code",
   "execution_count": 22,
   "metadata": {},
   "outputs": [
    {
     "name": "stderr",
     "output_type": "stream",
     "text": [
      "4it [00:00, 1150.39it/s]\n",
      "0it [00:00, ?it/s]"
     ]
    },
    {
     "name": "stderr",
     "output_type": "stream",
     "text": [
      "95873it [01:48, 879.71it/s]\n",
      "13354it [00:13, 1000.05it/s]\n",
      "18896it [00:19, 952.64it/s]\n",
      "82346it [01:33, 880.12it/s]\n",
      "14808it [00:14, 1003.21it/s]\n",
      "16690it [00:16, 1005.22it/s]\n",
      "75525it [01:19, 945.00it/s] \n",
      "24719it [00:24, 1020.09it/s]\n",
      "14640it [00:13, 1077.64it/s]\n",
      "85311it [01:30, 945.52it/s] \n",
      "70382it [01:12, 964.45it/s] \n"
     ]
    }
   ],
   "source": [
    "img_path2 = Path(\"/projects/frame_align/data/news_img_data/\")\n",
    "downloaded_img_2= {}\n",
    "for dir in img_path2.iterdir():\n",
    "    # .pkl files are not dir\n",
    "    if '.pkl' in str(dir):\n",
    "        continue\n",
    "    for img in tqdm(dir.iterdir()):\n",
    "        downloaded_img_2[img.name.split('.')[0]] = img.stat().st_size\n"
   ]
  },
  {
   "cell_type": "code",
   "execution_count": 23,
   "metadata": {},
   "outputs": [
    {
     "name": "stdout",
     "output_type": "stream",
     "text": [
      "d48aa163-feb8-44c5-b3a8-21fe0a78566c 59964\n"
     ]
    }
   ],
   "source": [
    "for key, value in downloaded_img_2.items():\n",
    "    print(key, value)\n",
    "    break"
   ]
  },
  {
   "cell_type": "code",
   "execution_count": 25,
   "metadata": {},
   "outputs": [
    {
     "name": "stdout",
     "output_type": "stream",
     "text": [
      "Before filtering: 962380\n"
     ]
    }
   ],
   "source": [
    "import pandas as pd\n",
    "downloaded_images = {**downloaded_img_1, **downloaded_img_2}\n"
   ]
  },
  {
   "cell_type": "code",
   "execution_count": 48,
   "metadata": {},
   "outputs": [
    {
     "name": "stdout",
     "output_type": "stream",
     "text": [
      "top percentile: 0.8, bottom percentile: 0.1\n",
      "Pre filtering:  962380 Post filtering:  673675\n"
     ]
    },
    {
     "data": {
      "text/plain": [
       "Text(0.5, 1.0, 'Histogram of Image Sizes')"
      ]
     },
     "execution_count": 48,
     "metadata": {},
     "output_type": "execute_result"
    },
    {
     "data": {
      "image/png": "[encoded data removed]",
      "text/plain": [
       "<Figure size 640x480 with 1 Axes>"
      ]
     },
     "metadata": {},
     "output_type": "display_data"
    }
   ],
   "source": [
    "# # plot histogram of image sizes\n",
    "# filter top % and bottom % of images before plot\n",
    "top_percentile = 0.80\n",
    "bottom_percentile = 0.10\n",
    "quantile_top = pd.Series(list(downloaded_images.values())).quantile(top_percentile)\n",
    "quantile_bottom = pd.Series(list(downloaded_images.values())).quantile(bottom_percentile)\n",
    "filtered_images = {k: v for k, v in downloaded_images.items() if v <= quantile_top and v >= quantile_bottom}\n",
    "print(f\"top percentile: {top_percentile}, bottom percentile: {bottom_percentile}\")\n",
    "print(\"Pre filtering: \", len(downloaded_images), \"Post filtering: \", len(filtered_images))\n",
    "\n",
    "plt.hist(filtered_images.values(), bins=1000)\n",
    "plt.xlabel('Image Size')\n",
    "plt.ylabel('Frequency')\n",
    "plt.title('Histogram of Image Sizes')\n"
   ]
  },
  {
   "cell_type": "code",
   "execution_count": 49,
   "metadata": {},
   "outputs": [
    {
     "name": "stdout",
     "output_type": "stream",
     "text": [
      " Before filtering: min size: 954, max size: 11540663, median size: 83814.0\n",
      " After filtering: min size: 37075, max size: 129355, median size: 78888.0\n"
     ]
    }
   ],
   "source": [
    "# print min and max size of images\n",
    "print(f\" Before filtering: min size: {min(downloaded_images.values())}, max size: {max(downloaded_images.values())}, median size: {pd.Series(list(downloaded_images.values())).median()}\")\n",
    "print(f\" After filtering: min size: {min(filtered_images.values())}, max size: {max(filtered_images.values())}, median size: {pd.Series(list(filtered_images.values())).median()}\")"
   ]
  },
  {
   "cell_type": "code",
   "execution_count": 36,
   "metadata": {},
   "outputs": [
    {
     "name": "stdout",
     "output_type": "stream",
     "text": [
      "Before filtering: 962380\n",
      "Quantile 95: 174968.0\n",
      "Quantile 99: 517422.2999999989\n",
      "After filtering: 192472\n"
     ]
    }
   ],
   "source": [
    "# print(f\"Before filtering: {len(downloaded_images)}\")\n",
    "\n",
    "# # filter top 20% and bottom 20% of images\n",
    "# quantile_top20 = pd.Series(list(downloaded_images.values())).quantile(0.80)\n",
    "# quantile_bottom20 = pd.Series(list(downloaded_images.values())).quantile(0.20)\n",
    "# quantile_bottom5 = pd.Series(list(downloaded_images.values())).quantile(0.20)\n",
    "\n",
    "# print(f\"Quantile 95: {quantile_95}\")\n",
    "# print(f\"Quantile 99: {quantile_98}\")\n",
    "\n",
    "# # keep all keys with value < 5000 and > quantile_95\n",
    "# filtered_downloaded_images = {k:v for k,v in downloaded_images.items() if v > quantile_80}\n",
    "# print(f\"After filtering: {len(filtered_downloaded_images)}\")"
   ]
  },
  {
   "cell_type": "markdown",
   "metadata": {},
   "source": [
    " Plot random 3 image samples from each 20k "
   ]
  },
  {
   "cell_type": "code",
   "execution_count": null,
   "metadata": {},
   "outputs": [],
   "source": [
    "### Plot random 3 samples from each 20k filtered images\n",
    "import random\n",
    "\n",
    "random.seed(42)\n",
    "# for every 20k samples in the dict, plot 3 random samples\n",
    "for i in range(0, len(filtered_images), 20000):\n",
    "    print(f\"Plotting {i} to {i+3} samples\")\n",
    "    fig, ax = plt.subplots(1, 3, figsize=(15, 5))\n",
    "    for j, (key, value) in enumerate(list(filtered_images.items())[i:i+3]):\n",
    "        img_path = image_dict[key]\n",
    "        img = plt.imread(img_path)\n",
    "        ax[j].imshow(img)\n",
    "        ax[j].set_title(f\"{key} - {value}\")\n",
    "        ax[j].axis('off')\n",
    "    plt.show()"
   ]
  },
  {
   "cell_type": "markdown",
   "metadata": {},
   "source": [
    "----------------------------------------------------------------"
   ]
  },
  {
   "cell_type": "markdown",
   "metadata": {},
   "source": [
    "### TO DO: Filter the uuids from merged data\n",
    "\n"
   ]
  },
  {
   "cell_type": "code",
   "execution_count": 53,
   "metadata": {},
   "outputs": [
    {
     "ename": "SyntaxError",
     "evalue": "invalid syntax (732371276.py, line 1)",
     "output_type": "error",
     "traceback": [
      "\u001b[0;36m  Cell \u001b[0;32mIn[53], line 1\u001b[0;36m\u001b[0m\n\u001b[0;31m    filtered_images ?\u001b[0m\n\u001b[0m                    ^\u001b[0m\n\u001b[0;31mSyntaxError\u001b[0m\u001b[0;31m:\u001b[0m invalid syntax\n"
     ]
    }
   ],
   "source": [
    "filtered_images ?"
   ]
  },
  {
   "cell_type": "markdown",
   "metadata": {},
   "source": [
    "Filter length texts"
   ]
  },
  {
   "cell_type": "code",
   "execution_count": null,
   "metadata": {},
   "outputs": [],
   "source": [
    "merged_combined_df['maintext'] = merged_combined_df['maintext'].astype(str)\n",
    "merged_combined_df['text_length'] = merged_combined_df['maintext'].apply(lambda x: len(x))\n",
    "\n",
    "lower_quantile = merged_combined_df['text_length'].quantile(0.05)\n",
    "upper_quantile = merged_combined_df['text_length'].quantile(0.95)\n",
    "\n",
    "merged_combined_df = merged_combined_df[(merged_combined_df['text_length'] >= lower_quantile) & (merged_combined_df['text_length'] <= upper_quantile)]\n",
    "merged_combined_df.shape"
   ]
  },
  {
   "cell_type": "code",
   "execution_count": 132,
   "metadata": {},
   "outputs": [],
   "source": [
    "# left_hosts = ['alternet.org', 'editor.cnn.com', 'democracynow.org', 'dailybeast.com', 'huffpost.com', 'theintercept.com','jacobin.com', 'motherjones.com', 'newyorker.com', 'slate.com',   'msnbc.com', 'vox.com']\n",
    "# left_lean_hosts = ['abcnews.com','apnews.com', 'theatlantic.com', 'bloomberg.com', 'cbsnews.com', 'insider.com', 'nbcnews.com', 'thenytimes.com', 'npr.com', 'politico.com', 'propublica.org', 'time.com', 'washingtonpost.com', 'yahoonews.com','usatoday.com', 'theguardian.com']\n",
    "# center_hosts = ['axios.com', 'bbc.com', 'forbes.com', 'newsweek.com', 'reuters.com', 'realclearpolitics.com', 'thehill.com']\n",
    "# right_lean_hosts = ['thedispatch.com', 'theepochtimes.com', 'foxbusiness.com', 'ijr.com', 'nypost.com', 'thepostmillennial.com', 'washingtonexaminer.com', 'washingtontimes.com']\n",
    "# right_hosts = ['theamericanconservative.com', 'theamericanspectator.com', 'breitbart.com', 'dailycaller.com', 'dailywire.com', 'dailymail.com', 'foxnews.com', 'newsmax.com', 'oann.com', 'thefederalist.com']\n"
   ]
  },
  {
   "cell_type": "code",
   "execution_count": null,
   "metadata": {},
   "outputs": [],
   "source": [
    "merged_combined_df.to_csv(analysis_path.parent.parent / \"srishti-analysis\"/'merged_combined_annotations.csv', index=False)\n",
    "print(f\"Saved merged_combined_annotations.csv to {analysis_path.parent.parent / 'srishti-analysis'}\")"
   ]
  },
  {
   "cell_type": "code",
   "execution_count": null,
   "metadata": {},
   "outputs": [],
   "source": [
    "# for each month, get unique frame. for each frame, gte 2000 articles\n",
    "\n",
    "months = merged_combined_df['month'].unique()\n",
    "for month in months:\n",
    "    month_df = merged_combined_df[merged_combined_df['month'] == month]\n",
    "    vision_frame_counts = month_df['text_frame_name'].value_counts()\n",
    "    text_frame_counts = month_df['vision_frame-name'].value_counts()\n",
    "    print(f\"Month frame count: {month} - vision: {len(vision_frame_counts)}, text: {len(text_frame_counts)}\")"
   ]
  },
  {
   "cell_type": "code",
   "execution_count": 125,
   "metadata": {},
   "outputs": [],
   "source": [
    "# for each month, per text frame, get 2000 unique articles\n",
    "sampled_df = pd.DataFrame()\n",
    "for month in months:\n",
    "    for frame in frames:\n",
    "        month_df = merged_combined_df[(merged_combined_df['month'] == month) & (merged_combined_df['text_frame_name'] == frame)]\n",
    "        if month_df.shape[0] >=18:\n",
    "            month_df = month_df.sample(n=18, random_state=1)\n",
    "        sampled_df = pd.concat([sampled_df, month_df])"
   ]
  },
  {
   "cell_type": "code",
   "execution_count": 126,
   "metadata": {},
   "outputs": [],
   "source": [
    "# sampled_df.to_csv(analysis_path/'sampled_annotated_articles_srishti.csv', index=False)"
   ]
  },
  {
   "cell_type": "code",
   "execution_count": 127,
   "metadata": {},
   "outputs": [],
   "source": [
    "sampled_df.to_csv(analysis_path.parent.parent / \"srishti-analysis\"/'sampled_annotated_articles.csv', index=False)"
   ]
  },
  {
   "cell_type": "code",
   "execution_count": null,
   "metadata": {},
   "outputs": [],
   "source": [
    "frame_counts_pivot = sampled_df.pivot_table(index='month', columns='text_frame_name', values='text_id', aggfunc='count', fill_value=0)\n",
    "frame_counts_pivot\n",
    "\n"
   ]
  },
  {
   "cell_type": "code",
   "execution_count": null,
   "metadata": {},
   "outputs": [],
   "source": []
  }
 ],
 "metadata": {
  "kernelspec": {
   "display_name": "frame-align",
   "language": "python",
   "name": "python3"
  },
  "language_info": {
   "codemirror_mode": {
    "name": "ipython",
    "version": 3
   },
   "file_extension": ".py",
   "mimetype": "text/x-python",
   "name": "python",
   "nbconvert_exporter": "python",
   "pygments_lexer": "ipython3",
   "version": "3.12.5"
  }
 },
 "nbformat": 4,
 "nbformat_minor": 2
}

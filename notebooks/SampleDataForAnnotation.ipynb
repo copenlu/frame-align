{
 "cells": [
  {
   "cell_type": "code",
   "execution_count": 107,
   "metadata": {},
   "outputs": [],
   "source": [
    "import json\n",
    "import pandas as pd\n",
    "import matplotlib.pyplot as plt\n",
    "\n",
    "from pathlib import Path"
   ]
  },
  {
   "cell_type": "code",
   "execution_count": 108,
   "metadata": {},
   "outputs": [],
   "source": [
    "# Run src/data/combine_annotations.py first to generate the combined annotations file"
   ]
  },
  {
   "cell_type": "code",
   "execution_count": 109,
   "metadata": {},
   "outputs": [],
   "source": [
    "frames = [\"Economic\",\"Capacity and resources\",\"Morality\",\"Fairness and equality\",\"Legality, constitutionality and jurisprudence\",\"Policy prescription and evaluation\",\"Crime and punishment\",\"Security and defense\",\"Health and safety\",\"Quality of life\",\"Cultural identity\",\"Public opinion\",\"Political\",\"External regulation and reputation\",\"Other\"]\n",
    "frames = [f.lower() for f in frames]"
   ]
  },
  {
   "cell_type": "code",
   "execution_count": 110,
   "metadata": {},
   "outputs": [],
   "source": [
    "analysis_path = Path('/projects/frame_align/data/annotated/analysis')\n",
    "text_analysis_path = analysis_path / 'text'\n",
    "vision_analysis_path = analysis_path / 'vision'"
   ]
  },
  {
   "cell_type": "code",
   "execution_count": 111,
   "metadata": {},
   "outputs": [
    {
     "data": {
      "text/plain": [
       "111405"
      ]
     },
     "execution_count": 111,
     "metadata": {},
     "output_type": "execute_result"
    }
   ],
   "source": [
    "combined_df = pd.read_csv(analysis_path/'combined_annotations.csv')\n",
    "combined_df.shape\n",
    "\n",
    "uuids = combined_df['text_id'].unique()\n",
    "len(uuids)\n"
   ]
  },
  {
   "cell_type": "code",
   "execution_count": 112,
   "metadata": {},
   "outputs": [],
   "source": [
    "combined_df['text_frame_name'] = combined_df['text_frame_name'].str.lower()\n",
    "combined_df['vision_frame-name'] = combined_df['vision_frame-name'].str.lower()\n",
    "\n",
    "text_valid = combined_df['text_frame_name'].isin(frames)\n",
    "vision_valid = combined_df['vision_frame-name'].isin(frames)\n",
    "intersection = text_valid & vision_valid\n",
    "combined_df = combined_df[intersection]"
   ]
  },
  {
   "cell_type": "code",
   "execution_count": 113,
   "metadata": {},
   "outputs": [],
   "source": [
    "annotated_articles = []\n",
    "data_dir = Path('/projects/frame_align/data/raw/2023-2024/')\n",
    "for month_dir in data_dir.iterdir():\n",
    "    if not month_dir.is_dir():\n",
    "        continue\n",
    "    df = pd.read_csv(month_dir/\"datawithtopiclabels.csv\")\n",
    "    df = df[df['id'].isin(uuids)]\n",
    "    annotated_articles.append(df)\n",
    "annotated_articles = pd.concat(annotated_articles)\n",
    "annotated_articles['month'].value_counts()\n",
    "annotated_articles.to_csv(analysis_path.parent.parent / \"srishti-analysis\"/'annotated_articles.csv', index=False)"
   ]
  },
  {
   "cell_type": "code",
   "execution_count": 114,
   "metadata": {},
   "outputs": [],
   "source": [
    "# annotated_articles.to_csv(analysis_path/'_srishti_annotated_articles.csv', index=False)"
   ]
  },
  {
   "cell_type": "code",
   "execution_count": 115,
   "metadata": {},
   "outputs": [],
   "source": [
    "# annotated_articles = pd.read_csv(analysis_path/'_srishti_annotated_articles.csv')"
   ]
  },
  {
   "cell_type": "code",
   "execution_count": 116,
   "metadata": {},
   "outputs": [
    {
     "data": {
      "text/html": [
       "<div>\n",
       "<style scoped>\n",
       "    .dataframe tbody tr th:only-of-type {\n",
       "        vertical-align: middle;\n",
       "    }\n",
       "\n",
       "    .dataframe tbody tr th {\n",
       "        vertical-align: top;\n",
       "    }\n",
       "\n",
       "    .dataframe thead th {\n",
       "        text-align: right;\n",
       "    }\n",
       "</style>\n",
       "<table border=\"1\" class=\"dataframe\">\n",
       "  <thead>\n",
       "    <tr style=\"text-align: right;\">\n",
       "      <th></th>\n",
       "      <th>topic</th>\n",
       "      <th>auto_topic_label</th>\n",
       "      <th>id</th>\n",
       "      <th>authors</th>\n",
       "      <th>date_download</th>\n",
       "      <th>date_modify</th>\n",
       "      <th>date_publish</th>\n",
       "      <th>description</th>\n",
       "      <th>filename</th>\n",
       "      <th>image_url</th>\n",
       "      <th>language</th>\n",
       "      <th>localpath</th>\n",
       "      <th>maintext</th>\n",
       "      <th>source_domain</th>\n",
       "      <th>title</th>\n",
       "      <th>title_page</th>\n",
       "      <th>title_rss</th>\n",
       "      <th>url</th>\n",
       "      <th>month</th>\n",
       "      <th>topic_label</th>\n",
       "    </tr>\n",
       "  </thead>\n",
       "  <tbody>\n",
       "    <tr>\n",
       "      <th>11900</th>\n",
       "      <td>-1</td>\n",
       "      <td>police_new_man_woman_says_year_school_old_arre...</td>\n",
       "      <td>d41fe6f9-2313-4f94-a8e2-82915987fa37</td>\n",
       "      <td>['Mauricio Maldonado']</td>\n",
       "      <td>2023-11-15 05:20:58+00:00</td>\n",
       "      <td>NaN</td>\n",
       "      <td>2023-11-14 23:25:18</td>\n",
       "      <td>Lauderhill police detectives are investigating...</td>\n",
       "      <td>https%3A%2F%2Fwww.cbsnews.com%2Fmiami%2Fnews%2...</td>\n",
       "      <td>https://assets2.cbsnewsstatic.com/hub/i/r/2023...</td>\n",
       "      <td>en</td>\n",
       "      <td>NaN</td>\n",
       "      <td>MIAMI - Lauderhill police detectives are inves...</td>\n",
       "      <td>www.cbsnews.com</td>\n",
       "      <td>Police: Juvenile shot in the neck in Lauderhill</td>\n",
       "      <td>NaN</td>\n",
       "      <td>NaN</td>\n",
       "      <td>https://www.cbsnews.com/miami/news/police-juve...</td>\n",
       "      <td>2023-11-01_2023-11-30</td>\n",
       "      <td>Crime</td>\n",
       "    </tr>\n",
       "    <tr>\n",
       "      <th>11901</th>\n",
       "      <td>-1</td>\n",
       "      <td>police_new_man_woman_says_year_school_old_arre...</td>\n",
       "      <td>c9c538db-7ee1-4467-8351-6bd74b844a3b</td>\n",
       "      <td>['Kcal-News Staff', 'The Kcal News Staff Is A ...</td>\n",
       "      <td>2023-11-29 17:11:42+00:00</td>\n",
       "      <td>NaN</td>\n",
       "      <td>2023-11-29 08:57:05</td>\n",
       "      <td>The ordinance is meant to curb the rental of p...</td>\n",
       "      <td>https%3A%2F%2Fwww.cbsnews.com%2Flosangeles%2Fn...</td>\n",
       "      <td>https://assets2.cbsnewsstatic.com/hub/i/r/2022...</td>\n",
       "      <td>en</td>\n",
       "      <td>NaN</td>\n",
       "      <td>The Los Angeles City Council approved a draft ...</td>\n",
       "      <td>www.cbsnews.com</td>\n",
       "      <td>LA City Council moves forward with policy requ...</td>\n",
       "      <td>NaN</td>\n",
       "      <td>NaN</td>\n",
       "      <td>https://www.cbsnews.com/losangeles/news/la-cit...</td>\n",
       "      <td>2023-11-01_2023-11-30</td>\n",
       "      <td>Crime</td>\n",
       "    </tr>\n",
       "  </tbody>\n",
       "</table>\n",
       "</div>"
      ],
      "text/plain": [
       "       topic                                   auto_topic_label  \\\n",
       "11900     -1  police_new_man_woman_says_year_school_old_arre...   \n",
       "11901     -1  police_new_man_woman_says_year_school_old_arre...   \n",
       "\n",
       "                                         id  \\\n",
       "11900  d41fe6f9-2313-4f94-a8e2-82915987fa37   \n",
       "11901  c9c538db-7ee1-4467-8351-6bd74b844a3b   \n",
       "\n",
       "                                                 authors  \\\n",
       "11900                             ['Mauricio Maldonado']   \n",
       "11901  ['Kcal-News Staff', 'The Kcal News Staff Is A ...   \n",
       "\n",
       "                   date_download  date_modify         date_publish  \\\n",
       "11900  2023-11-15 05:20:58+00:00          NaN  2023-11-14 23:25:18   \n",
       "11901  2023-11-29 17:11:42+00:00          NaN  2023-11-29 08:57:05   \n",
       "\n",
       "                                             description  \\\n",
       "11900  Lauderhill police detectives are investigating...   \n",
       "11901  The ordinance is meant to curb the rental of p...   \n",
       "\n",
       "                                                filename  \\\n",
       "11900  https%3A%2F%2Fwww.cbsnews.com%2Fmiami%2Fnews%2...   \n",
       "11901  https%3A%2F%2Fwww.cbsnews.com%2Flosangeles%2Fn...   \n",
       "\n",
       "                                               image_url language  localpath  \\\n",
       "11900  https://assets2.cbsnewsstatic.com/hub/i/r/2023...       en        NaN   \n",
       "11901  https://assets2.cbsnewsstatic.com/hub/i/r/2022...       en        NaN   \n",
       "\n",
       "                                                maintext    source_domain  \\\n",
       "11900  MIAMI - Lauderhill police detectives are inves...  www.cbsnews.com   \n",
       "11901  The Los Angeles City Council approved a draft ...  www.cbsnews.com   \n",
       "\n",
       "                                                   title  title_page  \\\n",
       "11900    Police: Juvenile shot in the neck in Lauderhill         NaN   \n",
       "11901  LA City Council moves forward with policy requ...         NaN   \n",
       "\n",
       "       title_rss                                                url  \\\n",
       "11900        NaN  https://www.cbsnews.com/miami/news/police-juve...   \n",
       "11901        NaN  https://www.cbsnews.com/losangeles/news/la-cit...   \n",
       "\n",
       "                       month topic_label  \n",
       "11900  2023-11-01_2023-11-30       Crime  \n",
       "11901  2023-11-01_2023-11-30       Crime  "
      ]
     },
     "execution_count": 116,
     "metadata": {},
     "output_type": "execute_result"
    }
   ],
   "source": [
    "annotated_articles.head(2)"
   ]
  },
  {
   "cell_type": "code",
   "execution_count": 117,
   "metadata": {},
   "outputs": [
    {
     "name": "stdout",
     "output_type": "stream",
     "text": [
      "Index(['topic', 'auto_topic_label', 'id', 'authors', 'date_download',\n",
      "       'date_modify', 'date_publish', 'description', 'filename', 'image_url',\n",
      "       'language', 'localpath', 'maintext', 'source_domain', 'title',\n",
      "       'title_page', 'title_rss', 'url', 'month', 'topic_label'],\n",
      "      dtype='object')\n",
      "**************************************************\n",
      "Index(['text_topic', 'text_topic_justification', 'text_summary',\n",
      "       'text_entity_name', 'text_justification_entity_sentiment',\n",
      "       'text_entity_sentiment', 'text_frame_justification', 'text_frame_id',\n",
      "       'text_frame_name', 'text_tone', 'text_justification_tone',\n",
      "       'text_issue_frame', 'text_issue_frame_justification', 'text_id',\n",
      "       'vision_caption', 'vision_main-actor', 'vision_sentiment',\n",
      "       'vision_sentiment-justification', 'vision_facial-expression',\n",
      "       'vision_facial-expression-justification', 'vision_perceivable-gender',\n",
      "       'vision_perceivable-gender-justification', 'vision_symbolic-object',\n",
      "       'vision_symbolic-meaning', 'vision_symbolic-meaning-explanation',\n",
      "       'vision_frame-id', 'vision_frame-name', 'vision_frame-justification',\n",
      "       'vision_image_url', 'vision_title', 'vision_uuid'],\n",
      "      dtype='object')\n"
     ]
    }
   ],
   "source": [
    "print(annotated_articles.columns)\n",
    "print(\"*\"*50)\n",
    "print(combined_df.columns)"
   ]
  },
  {
   "cell_type": "code",
   "execution_count": 118,
   "metadata": {},
   "outputs": [
    {
     "data": {
      "text/plain": [
       "[]"
      ]
     },
     "execution_count": 118,
     "metadata": {},
     "output_type": "execute_result"
    }
   ],
   "source": [
    "# find common columns , exclude 'id' column\n",
    "common_col = list(set(annotated_articles.columns) & set(combined_df.columns))\n",
    "common_col\n"
   ]
  },
  {
   "cell_type": "code",
   "execution_count": 119,
   "metadata": {},
   "outputs": [
    {
     "data": {
      "text/html": [
       "<div>\n",
       "<style scoped>\n",
       "    .dataframe tbody tr th:only-of-type {\n",
       "        vertical-align: middle;\n",
       "    }\n",
       "\n",
       "    .dataframe tbody tr th {\n",
       "        vertical-align: top;\n",
       "    }\n",
       "\n",
       "    .dataframe thead th {\n",
       "        text-align: right;\n",
       "    }\n",
       "</style>\n",
       "<table border=\"1\" class=\"dataframe\">\n",
       "  <thead>\n",
       "    <tr style=\"text-align: right;\">\n",
       "      <th></th>\n",
       "      <th>text_id</th>\n",
       "      <th>text_topic</th>\n",
       "      <th>text_topic_justification</th>\n",
       "      <th>text_summary</th>\n",
       "      <th>text_entity_name</th>\n",
       "      <th>text_justification_entity_sentiment</th>\n",
       "      <th>text_entity_sentiment</th>\n",
       "      <th>text_frame_justification</th>\n",
       "      <th>text_frame_id</th>\n",
       "      <th>text_frame_name</th>\n",
       "      <th>...</th>\n",
       "      <th>language</th>\n",
       "      <th>localpath</th>\n",
       "      <th>maintext</th>\n",
       "      <th>source_domain</th>\n",
       "      <th>title</th>\n",
       "      <th>title_page</th>\n",
       "      <th>title_rss</th>\n",
       "      <th>url</th>\n",
       "      <th>month</th>\n",
       "      <th>topic_label</th>\n",
       "    </tr>\n",
       "  </thead>\n",
       "  <tbody>\n",
       "    <tr>\n",
       "      <th>0</th>\n",
       "      <td>fd2357e4-f19e-429d-b9d1-4261661c0c0f</td>\n",
       "      <td>Cosy Crime</td>\n",
       "      <td>The article discusses the expected trend of 'c...</td>\n",
       "      <td>The article discusses the expected rise of 'co...</td>\n",
       "      <td>Cosy crime genre</td>\n",
       "      <td>The article discusses the cosy crime genre as ...</td>\n",
       "      <td>positive</td>\n",
       "      <td>The article discusses the trend of 'cosy crime...</td>\n",
       "      <td>11</td>\n",
       "      <td>cultural identity</td>\n",
       "      <td>...</td>\n",
       "      <td>en</td>\n",
       "      <td>NaN</td>\n",
       "      <td>A sleuth in search of clues to putting on a su...</td>\n",
       "      <td>www.theguardian.com</td>\n",
       "      <td>Cosy crime dramas are killer tickets at the Ed...</td>\n",
       "      <td>NaN</td>\n",
       "      <td>NaN</td>\n",
       "      <td>https://www.theguardian.com/stage/2023/aug/06/...</td>\n",
       "      <td>2023-08-01_2023-08-31</td>\n",
       "      <td>Crime</td>\n",
       "    </tr>\n",
       "    <tr>\n",
       "      <th>1</th>\n",
       "      <td>ca6c063d-16af-43f2-b785-7b74c92a58e2</td>\n",
       "      <td>Sports</td>\n",
       "      <td>The article discusses the transfer of a footba...</td>\n",
       "      <td>Sheffield United have completed the signing of...</td>\n",
       "      <td>Cameron Archer</td>\n",
       "      <td>Archer's transfer to Sheffield United on a sig...</td>\n",
       "      <td>positive</td>\n",
       "      <td>The article primarily focuses on the financial...</td>\n",
       "      <td>1</td>\n",
       "      <td>economic</td>\n",
       "      <td>...</td>\n",
       "      <td>en</td>\n",
       "      <td>NaN</td>\n",
       "      <td>Last updated on .From the section Sheff Utd\\nC...</td>\n",
       "      <td>www.bbc.com</td>\n",
       "      <td>Cameron Archer: Sheff Utd sign England Under-2...</td>\n",
       "      <td>NaN</td>\n",
       "      <td>NaN</td>\n",
       "      <td>https://www.bbc.com/sport/football/66595410</td>\n",
       "      <td>2023-08-01_2023-08-31</td>\n",
       "      <td>Crime</td>\n",
       "    </tr>\n",
       "  </tbody>\n",
       "</table>\n",
       "<p>2 rows × 51 columns</p>\n",
       "</div>"
      ],
      "text/plain": [
       "                                text_id  text_topic  \\\n",
       "0  fd2357e4-f19e-429d-b9d1-4261661c0c0f  Cosy Crime   \n",
       "1  ca6c063d-16af-43f2-b785-7b74c92a58e2      Sports   \n",
       "\n",
       "                            text_topic_justification  \\\n",
       "0  The article discusses the expected trend of 'c...   \n",
       "1  The article discusses the transfer of a footba...   \n",
       "\n",
       "                                        text_summary  text_entity_name  \\\n",
       "0  The article discusses the expected rise of 'co...  Cosy crime genre   \n",
       "1  Sheffield United have completed the signing of...    Cameron Archer   \n",
       "\n",
       "                 text_justification_entity_sentiment text_entity_sentiment  \\\n",
       "0  The article discusses the cosy crime genre as ...              positive   \n",
       "1  Archer's transfer to Sheffield United on a sig...              positive   \n",
       "\n",
       "                            text_frame_justification text_frame_id  \\\n",
       "0  The article discusses the trend of 'cosy crime...            11   \n",
       "1  The article primarily focuses on the financial...             1   \n",
       "\n",
       "     text_frame_name  ... language localpath  \\\n",
       "0  cultural identity  ...       en       NaN   \n",
       "1           economic  ...       en       NaN   \n",
       "\n",
       "                                            maintext        source_domain  \\\n",
       "0  A sleuth in search of clues to putting on a su...  www.theguardian.com   \n",
       "1  Last updated on .From the section Sheff Utd\\nC...          www.bbc.com   \n",
       "\n",
       "                                               title title_page title_rss  \\\n",
       "0  Cosy crime dramas are killer tickets at the Ed...        NaN       NaN   \n",
       "1  Cameron Archer: Sheff Utd sign England Under-2...        NaN       NaN   \n",
       "\n",
       "                                                 url                  month  \\\n",
       "0  https://www.theguardian.com/stage/2023/aug/06/...  2023-08-01_2023-08-31   \n",
       "1        https://www.bbc.com/sport/football/66595410  2023-08-01_2023-08-31   \n",
       "\n",
       "  topic_label  \n",
       "0       Crime  \n",
       "1       Crime  \n",
       "\n",
       "[2 rows x 51 columns]"
      ]
     },
     "execution_count": 119,
     "metadata": {},
     "output_type": "execute_result"
    }
   ],
   "source": [
    "# Drop common columns from annotated_articles and merge with combined_df\n",
    "annotated_articles_df = annotated_articles.drop(columns=common_col)\n",
    "merged_combined_df = combined_df.merge(annotated_articles_df, left_on='text_id', right_on='id', how='left')\n",
    "# make text_id as first column\n",
    "merged_combined_df = merged_combined_df[['text_id'] + [col for col in merged_combined_df.columns if col != 'text_id']]\n",
    "merged_combined_df.head(2)"
   ]
  },
  {
   "cell_type": "code",
   "execution_count": 120,
   "metadata": {},
   "outputs": [
    {
     "data": {
      "text/plain": [
       "Index(['text_id', 'text_topic', 'text_topic_justification', 'text_summary',\n",
       "       'text_entity_name', 'text_justification_entity_sentiment',\n",
       "       'text_entity_sentiment', 'text_frame_justification', 'text_frame_id',\n",
       "       'text_frame_name', 'text_tone', 'text_justification_tone',\n",
       "       'text_issue_frame', 'text_issue_frame_justification', 'vision_caption',\n",
       "       'vision_main-actor', 'vision_sentiment',\n",
       "       'vision_sentiment-justification', 'vision_facial-expression',\n",
       "       'vision_facial-expression-justification', 'vision_perceivable-gender',\n",
       "       'vision_perceivable-gender-justification', 'vision_symbolic-object',\n",
       "       'vision_symbolic-meaning', 'vision_symbolic-meaning-explanation',\n",
       "       'vision_frame-id', 'vision_frame-name', 'vision_frame-justification',\n",
       "       'vision_image_url', 'vision_title', 'vision_uuid', 'topic',\n",
       "       'auto_topic_label', 'id', 'authors', 'date_download', 'date_modify',\n",
       "       'date_publish', 'description', 'filename', 'image_url', 'language',\n",
       "       'localpath', 'maintext', 'source_domain', 'title', 'title_page',\n",
       "       'title_rss', 'url', 'month', 'topic_label'],\n",
       "      dtype='object')"
      ]
     },
     "execution_count": 120,
     "metadata": {},
     "output_type": "execute_result"
    }
   ],
   "source": [
    "merged_combined_df.columns"
   ]
  },
  {
   "cell_type": "code",
   "execution_count": 121,
   "metadata": {},
   "outputs": [
    {
     "data": {
      "text/plain": [
       "11"
      ]
     },
     "execution_count": 121,
     "metadata": {},
     "output_type": "execute_result"
    }
   ],
   "source": [
    "len(merged_combined_df['topic_label'].unique())"
   ]
  },
  {
   "cell_type": "code",
   "execution_count": 131,
   "metadata": {},
   "outputs": [
    {
     "data": {
      "text/plain": [
       "source_domain\n",
       "www.cbsnews.com                    28233\n",
       "www.bbc.com                        12603\n",
       "apnews.com                          7424\n",
       "www.theguardian.com                 5778\n",
       "www.forbes.com                      5568\n",
       "nypost.com                          5041\n",
       "www.foxnews.com                     3209\n",
       "www.breitbart.com                   2607\n",
       "www.axios.com                       2564\n",
       "www.huffpost.com                    2475\n",
       "www.nbcnews.com                     2247\n",
       "www.newsweek.com                    2087\n",
       "www.reuters.com                     2065\n",
       "dailycaller.com                     2013\n",
       "www.insider.com                     1854\n",
       "www.usatoday.com                    1361\n",
       "www.newsmax.com                     1236\n",
       "www.washingtontimes.com              851\n",
       "www.foxbusiness.com                  568\n",
       "time.com                             538\n",
       "thehill.com                          488\n",
       "www.msnbc.com                        468\n",
       "www.politico.com                     425\n",
       "www.oann.com                         397\n",
       "slate.com                            158\n",
       "www.bloomberg.com                    127\n",
       "www.newyorker.com                    121\n",
       "www.motherjones.com                  102\n",
       "www.theatlantic.com                   89\n",
       "www.vox.com                           89\n",
       "www.theamericanconservative.com       55\n",
       "www.democracynow.org                  35\n",
       "theintercept.com                      22\n",
       "www.propublica.org                    13\n",
       "www.realclearpolitics.com              4\n",
       "Name: count, dtype: int64"
      ]
     },
     "execution_count": 131,
     "metadata": {},
     "output_type": "execute_result"
    }
   ],
   "source": [
    "merged_combined_df['source_domain'].value_counts()"
   ]
  },
  {
   "cell_type": "code",
   "execution_count": 122,
   "metadata": {},
   "outputs": [
    {
     "data": {
      "text/plain": [
       "(103142, 51)"
      ]
     },
     "execution_count": 122,
     "metadata": {},
     "output_type": "execute_result"
    }
   ],
   "source": [
    "merged_combined_df.shape"
   ]
  },
  {
   "cell_type": "markdown",
   "metadata": {},
   "source": [
    "Filter length texts"
   ]
  },
  {
   "cell_type": "code",
   "execution_count": 123,
   "metadata": {},
   "outputs": [
    {
     "data": {
      "text/plain": [
       "(92915, 52)"
      ]
     },
     "execution_count": 123,
     "metadata": {},
     "output_type": "execute_result"
    }
   ],
   "source": [
    "merged_combined_df['maintext'] = merged_combined_df['maintext'].astype(str)\n",
    "merged_combined_df['text_length'] = merged_combined_df['maintext'].apply(lambda x: len(x))\n",
    "\n",
    "lower_quantile = merged_combined_df['text_length'].quantile(0.05)\n",
    "upper_quantile = merged_combined_df['text_length'].quantile(0.95)\n",
    "\n",
    "merged_combined_df = merged_combined_df[(merged_combined_df['text_length'] >= lower_quantile) & (merged_combined_df['text_length'] <= upper_quantile)]\n",
    "merged_combined_df.shape"
   ]
  },
  {
   "cell_type": "code",
   "execution_count": 132,
   "metadata": {},
   "outputs": [],
   "source": [
    "# left_hosts = ['alternet.org', 'editor.cnn.com', 'democracynow.org', 'dailybeast.com', 'huffpost.com', 'theintercept.com','jacobin.com', 'motherjones.com', 'newyorker.com', 'slate.com',   'msnbc.com', 'vox.com']\n",
    "# left_lean_hosts = ['abcnews.com','apnews.com', 'theatlantic.com', 'bloomberg.com', 'cbsnews.com', 'insider.com', 'nbcnews.com', 'thenytimes.com', 'npr.com', 'politico.com', 'propublica.org', 'time.com', 'washingtonpost.com', 'yahoonews.com','usatoday.com', 'theguardian.com']\n",
    "# center_hosts = ['axios.com', 'bbc.com', 'forbes.com', 'newsweek.com', 'reuters.com', 'realclearpolitics.com', 'thehill.com']\n",
    "# right_lean_hosts = ['thedispatch.com', 'theepochtimes.com', 'foxbusiness.com', 'ijr.com', 'nypost.com', 'thepostmillennial.com', 'washingtonexaminer.com', 'washingtontimes.com']\n",
    "# right_hosts = ['theamericanconservative.com', 'theamericanspectator.com', 'breitbart.com', 'dailycaller.com', 'dailywire.com', 'dailymail.com', 'foxnews.com', 'newsmax.com', 'oann.com', 'thefederalist.com']\n"
   ]
  },
  {
   "cell_type": "code",
   "execution_count": 130,
   "metadata": {},
   "outputs": [
    {
     "name": "stdout",
     "output_type": "stream",
     "text": [
      "Saved merged_combined_annotations.csv to /projects/frame_align/data/srishti-analysis\n"
     ]
    }
   ],
   "source": [
    "merged_combined_df.to_csv(analysis_path.parent.parent / \"srishti-analysis\"/'merged_combined_annotations.csv', index=False)\n",
    "print(f\"Saved merged_combined_annotations.csv to {analysis_path.parent.parent / 'srishti-analysis'}\")"
   ]
  },
  {
   "cell_type": "code",
   "execution_count": 124,
   "metadata": {},
   "outputs": [
    {
     "name": "stdout",
     "output_type": "stream",
     "text": [
      "Month frame count: 2023-08-01_2023-08-31 - vision: 15, text: 12\n",
      "Month frame count: 2023-09-01_2023-09-30 - vision: 15, text: 12\n",
      "Month frame count: 2023-10-01_2023-10-31 - vision: 15, text: 9\n",
      "Month frame count: 2023-11-01_2023-11-30 - vision: 15, text: 11\n",
      "Month frame count: 2023-07-01_2023-07-31 - vision: 15, text: 12\n",
      "Month frame count: 2023-12-01_2023-12-31 - vision: 14, text: 10\n",
      "Month frame count: 2023-05-01_2023-05-31 - vision: 15, text: 12\n",
      "Month frame count: 2023-06-01_2023-06-30 - vision: 15, text: 12\n"
     ]
    }
   ],
   "source": [
    "# for each month, get unique frame. for each frame, gte 2000 articles\n",
    "\n",
    "months = merged_combined_df['month'].unique()\n",
    "for month in months:\n",
    "    month_df = merged_combined_df[merged_combined_df['month'] == month]\n",
    "    vision_frame_counts = month_df['text_frame_name'].value_counts()\n",
    "    text_frame_counts = month_df['vision_frame-name'].value_counts()\n",
    "    print(f\"Month frame count: {month} - vision: {len(vision_frame_counts)}, text: {len(text_frame_counts)}\")"
   ]
  },
  {
   "cell_type": "code",
   "execution_count": 125,
   "metadata": {},
   "outputs": [],
   "source": [
    "# for each month, per text frame, get 2000 unique articles\n",
    "sampled_df = pd.DataFrame()\n",
    "for month in months:\n",
    "    for frame in frames:\n",
    "        month_df = merged_combined_df[(merged_combined_df['month'] == month) & (merged_combined_df['text_frame_name'] == frame)]\n",
    "        if month_df.shape[0] >=18:\n",
    "            month_df = month_df.sample(n=18, random_state=1)\n",
    "        sampled_df = pd.concat([sampled_df, month_df])"
   ]
  },
  {
   "cell_type": "code",
   "execution_count": 126,
   "metadata": {},
   "outputs": [],
   "source": [
    "# sampled_df.to_csv(analysis_path/'sampled_annotated_articles_srishti.csv', index=False)"
   ]
  },
  {
   "cell_type": "code",
   "execution_count": 127,
   "metadata": {},
   "outputs": [],
   "source": [
    "sampled_df.to_csv(analysis_path.parent.parent / \"srishti-analysis\"/'sampled_annotated_articles.csv', index=False)"
   ]
  },
  {
   "cell_type": "code",
   "execution_count": 128,
   "metadata": {},
   "outputs": [
    {
     "data": {
      "text/html": [
       "<div>\n",
       "<style scoped>\n",
       "    .dataframe tbody tr th:only-of-type {\n",
       "        vertical-align: middle;\n",
       "    }\n",
       "\n",
       "    .dataframe tbody tr th {\n",
       "        vertical-align: top;\n",
       "    }\n",
       "\n",
       "    .dataframe thead th {\n",
       "        text-align: right;\n",
       "    }\n",
       "</style>\n",
       "<table border=\"1\" class=\"dataframe\">\n",
       "  <thead>\n",
       "    <tr style=\"text-align: right;\">\n",
       "      <th>text_frame_name</th>\n",
       "      <th>capacity and resources</th>\n",
       "      <th>crime and punishment</th>\n",
       "      <th>cultural identity</th>\n",
       "      <th>economic</th>\n",
       "      <th>external regulation and reputation</th>\n",
       "      <th>fairness and equality</th>\n",
       "      <th>health and safety</th>\n",
       "      <th>legality, constitutionality and jurisprudence</th>\n",
       "      <th>morality</th>\n",
       "      <th>other</th>\n",
       "      <th>policy prescription and evaluation</th>\n",
       "      <th>political</th>\n",
       "      <th>public opinion</th>\n",
       "      <th>quality of life</th>\n",
       "      <th>security and defense</th>\n",
       "    </tr>\n",
       "    <tr>\n",
       "      <th>month</th>\n",
       "      <th></th>\n",
       "      <th></th>\n",
       "      <th></th>\n",
       "      <th></th>\n",
       "      <th></th>\n",
       "      <th></th>\n",
       "      <th></th>\n",
       "      <th></th>\n",
       "      <th></th>\n",
       "      <th></th>\n",
       "      <th></th>\n",
       "      <th></th>\n",
       "      <th></th>\n",
       "      <th></th>\n",
       "      <th></th>\n",
       "    </tr>\n",
       "  </thead>\n",
       "  <tbody>\n",
       "    <tr>\n",
       "      <th>2023-05-01_2023-05-31</th>\n",
       "      <td>18</td>\n",
       "      <td>18</td>\n",
       "      <td>18</td>\n",
       "      <td>18</td>\n",
       "      <td>18</td>\n",
       "      <td>18</td>\n",
       "      <td>18</td>\n",
       "      <td>18</td>\n",
       "      <td>18</td>\n",
       "      <td>18</td>\n",
       "      <td>18</td>\n",
       "      <td>18</td>\n",
       "      <td>15</td>\n",
       "      <td>18</td>\n",
       "      <td>18</td>\n",
       "    </tr>\n",
       "    <tr>\n",
       "      <th>2023-06-01_2023-06-30</th>\n",
       "      <td>18</td>\n",
       "      <td>18</td>\n",
       "      <td>18</td>\n",
       "      <td>18</td>\n",
       "      <td>5</td>\n",
       "      <td>18</td>\n",
       "      <td>18</td>\n",
       "      <td>18</td>\n",
       "      <td>18</td>\n",
       "      <td>18</td>\n",
       "      <td>18</td>\n",
       "      <td>18</td>\n",
       "      <td>16</td>\n",
       "      <td>18</td>\n",
       "      <td>18</td>\n",
       "    </tr>\n",
       "    <tr>\n",
       "      <th>2023-07-01_2023-07-31</th>\n",
       "      <td>18</td>\n",
       "      <td>18</td>\n",
       "      <td>18</td>\n",
       "      <td>18</td>\n",
       "      <td>10</td>\n",
       "      <td>18</td>\n",
       "      <td>18</td>\n",
       "      <td>18</td>\n",
       "      <td>18</td>\n",
       "      <td>18</td>\n",
       "      <td>18</td>\n",
       "      <td>18</td>\n",
       "      <td>18</td>\n",
       "      <td>18</td>\n",
       "      <td>18</td>\n",
       "    </tr>\n",
       "    <tr>\n",
       "      <th>2023-08-01_2023-08-31</th>\n",
       "      <td>18</td>\n",
       "      <td>18</td>\n",
       "      <td>18</td>\n",
       "      <td>18</td>\n",
       "      <td>12</td>\n",
       "      <td>18</td>\n",
       "      <td>18</td>\n",
       "      <td>18</td>\n",
       "      <td>18</td>\n",
       "      <td>18</td>\n",
       "      <td>18</td>\n",
       "      <td>18</td>\n",
       "      <td>18</td>\n",
       "      <td>18</td>\n",
       "      <td>18</td>\n",
       "    </tr>\n",
       "    <tr>\n",
       "      <th>2023-09-01_2023-09-30</th>\n",
       "      <td>18</td>\n",
       "      <td>18</td>\n",
       "      <td>18</td>\n",
       "      <td>18</td>\n",
       "      <td>18</td>\n",
       "      <td>18</td>\n",
       "      <td>18</td>\n",
       "      <td>18</td>\n",
       "      <td>18</td>\n",
       "      <td>18</td>\n",
       "      <td>18</td>\n",
       "      <td>18</td>\n",
       "      <td>18</td>\n",
       "      <td>18</td>\n",
       "      <td>18</td>\n",
       "    </tr>\n",
       "    <tr>\n",
       "      <th>2023-10-01_2023-10-31</th>\n",
       "      <td>18</td>\n",
       "      <td>18</td>\n",
       "      <td>18</td>\n",
       "      <td>18</td>\n",
       "      <td>2</td>\n",
       "      <td>18</td>\n",
       "      <td>18</td>\n",
       "      <td>18</td>\n",
       "      <td>18</td>\n",
       "      <td>18</td>\n",
       "      <td>18</td>\n",
       "      <td>18</td>\n",
       "      <td>11</td>\n",
       "      <td>18</td>\n",
       "      <td>18</td>\n",
       "    </tr>\n",
       "    <tr>\n",
       "      <th>2023-11-01_2023-11-30</th>\n",
       "      <td>18</td>\n",
       "      <td>18</td>\n",
       "      <td>18</td>\n",
       "      <td>18</td>\n",
       "      <td>2</td>\n",
       "      <td>18</td>\n",
       "      <td>18</td>\n",
       "      <td>18</td>\n",
       "      <td>18</td>\n",
       "      <td>18</td>\n",
       "      <td>18</td>\n",
       "      <td>18</td>\n",
       "      <td>12</td>\n",
       "      <td>18</td>\n",
       "      <td>18</td>\n",
       "    </tr>\n",
       "    <tr>\n",
       "      <th>2023-12-01_2023-12-31</th>\n",
       "      <td>4</td>\n",
       "      <td>18</td>\n",
       "      <td>18</td>\n",
       "      <td>18</td>\n",
       "      <td>0</td>\n",
       "      <td>17</td>\n",
       "      <td>18</td>\n",
       "      <td>18</td>\n",
       "      <td>10</td>\n",
       "      <td>6</td>\n",
       "      <td>18</td>\n",
       "      <td>18</td>\n",
       "      <td>1</td>\n",
       "      <td>18</td>\n",
       "      <td>18</td>\n",
       "    </tr>\n",
       "  </tbody>\n",
       "</table>\n",
       "</div>"
      ],
      "text/plain": [
       "text_frame_name        capacity and resources  crime and punishment  \\\n",
       "month                                                                 \n",
       "2023-05-01_2023-05-31                      18                    18   \n",
       "2023-06-01_2023-06-30                      18                    18   \n",
       "2023-07-01_2023-07-31                      18                    18   \n",
       "2023-08-01_2023-08-31                      18                    18   \n",
       "2023-09-01_2023-09-30                      18                    18   \n",
       "2023-10-01_2023-10-31                      18                    18   \n",
       "2023-11-01_2023-11-30                      18                    18   \n",
       "2023-12-01_2023-12-31                       4                    18   \n",
       "\n",
       "text_frame_name        cultural identity  economic  \\\n",
       "month                                                \n",
       "2023-05-01_2023-05-31                 18        18   \n",
       "2023-06-01_2023-06-30                 18        18   \n",
       "2023-07-01_2023-07-31                 18        18   \n",
       "2023-08-01_2023-08-31                 18        18   \n",
       "2023-09-01_2023-09-30                 18        18   \n",
       "2023-10-01_2023-10-31                 18        18   \n",
       "2023-11-01_2023-11-30                 18        18   \n",
       "2023-12-01_2023-12-31                 18        18   \n",
       "\n",
       "text_frame_name        external regulation and reputation  \\\n",
       "month                                                       \n",
       "2023-05-01_2023-05-31                                  18   \n",
       "2023-06-01_2023-06-30                                   5   \n",
       "2023-07-01_2023-07-31                                  10   \n",
       "2023-08-01_2023-08-31                                  12   \n",
       "2023-09-01_2023-09-30                                  18   \n",
       "2023-10-01_2023-10-31                                   2   \n",
       "2023-11-01_2023-11-30                                   2   \n",
       "2023-12-01_2023-12-31                                   0   \n",
       "\n",
       "text_frame_name        fairness and equality  health and safety  \\\n",
       "month                                                             \n",
       "2023-05-01_2023-05-31                     18                 18   \n",
       "2023-06-01_2023-06-30                     18                 18   \n",
       "2023-07-01_2023-07-31                     18                 18   \n",
       "2023-08-01_2023-08-31                     18                 18   \n",
       "2023-09-01_2023-09-30                     18                 18   \n",
       "2023-10-01_2023-10-31                     18                 18   \n",
       "2023-11-01_2023-11-30                     18                 18   \n",
       "2023-12-01_2023-12-31                     17                 18   \n",
       "\n",
       "text_frame_name        legality, constitutionality and jurisprudence  \\\n",
       "month                                                                  \n",
       "2023-05-01_2023-05-31                                             18   \n",
       "2023-06-01_2023-06-30                                             18   \n",
       "2023-07-01_2023-07-31                                             18   \n",
       "2023-08-01_2023-08-31                                             18   \n",
       "2023-09-01_2023-09-30                                             18   \n",
       "2023-10-01_2023-10-31                                             18   \n",
       "2023-11-01_2023-11-30                                             18   \n",
       "2023-12-01_2023-12-31                                             18   \n",
       "\n",
       "text_frame_name        morality  other  policy prescription and evaluation  \\\n",
       "month                                                                        \n",
       "2023-05-01_2023-05-31        18     18                                  18   \n",
       "2023-06-01_2023-06-30        18     18                                  18   \n",
       "2023-07-01_2023-07-31        18     18                                  18   \n",
       "2023-08-01_2023-08-31        18     18                                  18   \n",
       "2023-09-01_2023-09-30        18     18                                  18   \n",
       "2023-10-01_2023-10-31        18     18                                  18   \n",
       "2023-11-01_2023-11-30        18     18                                  18   \n",
       "2023-12-01_2023-12-31        10      6                                  18   \n",
       "\n",
       "text_frame_name        political  public opinion  quality of life  \\\n",
       "month                                                               \n",
       "2023-05-01_2023-05-31         18              15               18   \n",
       "2023-06-01_2023-06-30         18              16               18   \n",
       "2023-07-01_2023-07-31         18              18               18   \n",
       "2023-08-01_2023-08-31         18              18               18   \n",
       "2023-09-01_2023-09-30         18              18               18   \n",
       "2023-10-01_2023-10-31         18              11               18   \n",
       "2023-11-01_2023-11-30         18              12               18   \n",
       "2023-12-01_2023-12-31         18               1               18   \n",
       "\n",
       "text_frame_name        security and defense  \n",
       "month                                        \n",
       "2023-05-01_2023-05-31                    18  \n",
       "2023-06-01_2023-06-30                    18  \n",
       "2023-07-01_2023-07-31                    18  \n",
       "2023-08-01_2023-08-31                    18  \n",
       "2023-09-01_2023-09-30                    18  \n",
       "2023-10-01_2023-10-31                    18  \n",
       "2023-11-01_2023-11-30                    18  \n",
       "2023-12-01_2023-12-31                    18  "
      ]
     },
     "execution_count": 128,
     "metadata": {},
     "output_type": "execute_result"
    }
   ],
   "source": [
    "frame_counts_pivot = sampled_df.pivot_table(index='month', columns='text_frame_name', values='text_id', aggfunc='count', fill_value=0)\n",
    "frame_counts_pivot\n",
    "\n"
   ]
  },
  {
   "cell_type": "code",
   "execution_count": null,
   "metadata": {},
   "outputs": [],
   "source": []
  }
 ],
 "metadata": {
  "kernelspec": {
   "display_name": "frame-align",
   "language": "python",
   "name": "python3"
  },
  "language_info": {
   "codemirror_mode": {
    "name": "ipython",
    "version": 3
   },
   "file_extension": ".py",
   "mimetype": "text/x-python",
   "name": "python",
   "nbconvert_exporter": "python",
   "pygments_lexer": "ipython3",
   "version": "3.12.5"
  }
 },
 "nbformat": 4,
 "nbformat_minor": 2
}

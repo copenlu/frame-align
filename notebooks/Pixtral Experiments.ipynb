{
 "cells": [
  {
   "cell_type": "code",
   "execution_count": 28,
   "metadata": {},
   "outputs": [],
   "source": [
    "import pandas as pd\n",
    "import matplotlib.pyplot as plt\n",
    "\n",
    "from sklearn.metrics import accuracy_score, f1_score"
   ]
  },
  {
   "cell_type": "markdown",
   "metadata": {},
   "source": [
    "### Surprise/Different experiments"
   ]
  },
  {
   "cell_type": "code",
   "execution_count": 2,
   "metadata": {},
   "outputs": [
    {
     "data": {
      "text/plain": [
       "100"
      ]
     },
     "execution_count": 2,
     "metadata": {},
     "output_type": "execute_result"
    }
   ],
   "source": [
    "df = pd.read_json(\"../data/annotated/vision/misalign_sample_100_pixtral_anno.jsonl\", lines=True, orient=\"records\")\n",
    "len(df)"
   ]
  },
  {
   "cell_type": "code",
   "execution_count": 3,
   "metadata": {},
   "outputs": [],
   "source": [
    "label_cols = [col for col in df.columns if 'decision' in col or 'surprise' in col]\n",
    "conf_cols = [col for col in df.columns if 'conf' in col]"
   ]
  },
  {
   "cell_type": "code",
   "execution_count": 38,
   "metadata": {},
   "outputs": [
    {
     "name": "stdout",
     "output_type": "stream",
     "text": [
      "qsur_dcat_ccat_surprise\n",
      "not-surprising    100\n",
      "Name: count, dtype: int64\n",
      "tasksur_dbin_cscore_decision\n",
      "False    93\n",
      "True      7\n",
      "Name: count, dtype: int64\n",
      "tasksur_dcat_ccat_decision\n",
      "not-surprising     98\n",
      "very-surprising     1\n",
      "surprising          1\n",
      "Name: count, dtype: int64\n",
      "taskdiff_dcat_ccat_decision\n",
      "not-different     51\n",
      "different         38\n",
      "very-different    11\n",
      "Name: count, dtype: int64\n",
      "taskdiffeg_dbin_cscore_decision\n",
      "False    85\n",
      "True     15\n",
      "Name: count, dtype: int64\n",
      "verbose_taskdiff_dbin_cscore_decision\n",
      "True     92\n",
      "False     6\n",
      "Name: count, dtype: int64\n",
      "verbose_taskdiffeg_dcat_ccat_decision\n",
      "different         85\n",
      "not-different      9\n",
      "very-different     2\n",
      "Name: count, dtype: int64\n",
      "verbose_task_eg_frames_dbin_cscore_decision\n",
      "True     78\n",
      "False    11\n",
      "Name: count, dtype: int64\n"
     ]
    }
   ],
   "source": [
    "for i, col in df[label_cols].items():\n",
    "    print(col.value_counts())"
   ]
  },
  {
   "cell_type": "code",
   "execution_count": 39,
   "metadata": {},
   "outputs": [
    {
     "name": "stdout",
     "output_type": "stream",
     "text": [
      "qsur_dcat_ccat_confidence\n",
      "high-confidence    100\n",
      "Name: count, dtype: int64\n",
      "tasksur_dbin_cscore_confidence-score\n",
      "9     47\n",
      "10    41\n",
      "8      9\n",
      "7      3\n",
      "Name: count, dtype: int64\n",
      "tasksur_dcat_ccat_confidence\n",
      "high-confidence      96\n",
      "medium-confidence     4\n",
      "Name: count, dtype: int64\n",
      "taskdiff_dcat_ccat_confidence\n",
      "high-confidence      64\n",
      "medium-confidence    36\n",
      "Name: count, dtype: int64\n",
      "taskdiffeg_dbin_cscore_confidence-score\n",
      "10    46\n",
      "9     35\n",
      "8     15\n",
      "7      4\n",
      "Name: count, dtype: int64\n",
      "verbose_taskdiff_dbin_cscore_confidence-score\n",
      "8.0     70\n",
      "9.0     17\n",
      "7.0     10\n",
      "10.0     1\n",
      "Name: count, dtype: int64\n",
      "verbose_taskdiffeg_dcat_ccat_confidence\n",
      "medium-confidence    73\n",
      "high-confidence      23\n",
      "Name: count, dtype: int64\n",
      "verbose_task_eg_frames_dbin_cscore_confidence-score\n",
      "8.0     73\n",
      "10.0     6\n",
      "7.0      6\n",
      "9.0      4\n",
      "Name: count, dtype: int64\n"
     ]
    }
   ],
   "source": [
    "for i, col in df[conf_cols].items():\n",
    "    print(col.value_counts())"
   ]
  },
  {
   "cell_type": "code",
   "execution_count": 40,
   "metadata": {},
   "outputs": [],
   "source": [
    "pd.set_option('display.max_colwidth', None)"
   ]
  },
  {
   "cell_type": "code",
   "execution_count": 41,
   "metadata": {},
   "outputs": [],
   "source": [
    "cols_to_show = ['qsur_dcat_ccat_surprise', 'qsur_dcat_ccat_confidence',\n",
    "       'qsur_dcat_ccat_reasoning-and-evidence', 'tasksur_dcat_ccat_decision',\n",
    "       'tasksur_dcat_ccat_explanation', 'tasksur_dcat_ccat_confidence',\n",
    "       'taskdiff_dcat_ccat_decision', 'taskdiff_dcat_ccat_explanation',\n",
    "       'taskdiff_dcat_ccat_confidence', \n",
    "       'verbose_taskdiffeg_dcat_ccat_decision',\n",
    "       'verbose_taskdiffeg_dcat_ccat_explanation',\n",
    "       'verbose_taskdiffeg_dcat_ccat_confidence','image_url', 'title']\n",
    "df = df[cols_to_show]"
   ]
  },
  {
   "cell_type": "code",
   "execution_count": 42,
   "metadata": {},
   "outputs": [],
   "source": [
    "# for i, row in pos_df.iterrows():\n",
    "#     plot_image_title(row['image_url'], \"Decision: \"+row['verbose-task-eg-frames-sbin-csore_decision']+\", Explanation:\"+row['verbose-task-eg-frames-sbin-csore_explanation'], row['title'])\n",
    "#     plt.show()"
   ]
  },
  {
   "cell_type": "code",
   "execution_count": 43,
   "metadata": {},
   "outputs": [],
   "source": [
    "# df = pd.read_csv(\"../data/human/sample_data.csv\", index_col=[0])\n",
    "# df.sample(100, random_state=11).to_csv(\"../data/human/sample_100.csv\")"
   ]
  },
  {
   "cell_type": "markdown",
   "metadata": {},
   "source": [
    "##### Display all as html"
   ]
  },
  {
   "cell_type": "code",
   "execution_count": 44,
   "metadata": {},
   "outputs": [],
   "source": [
    "from IPython.display import display, HTML\n",
    "from PIL import Image\n",
    "from io import BytesIO\n",
    "import base64\n",
    "\n",
    "def image_base64(im):\n",
    "    if isinstance(im, str):\n",
    "        im = Image.open(im)\n",
    "    with BytesIO() as buffer:\n",
    "        im.save(buffer, 'jpeg')\n",
    "        return base64.b64encode(buffer.getvalue()).decode()"
   ]
  },
  {
   "cell_type": "code",
   "execution_count": 45,
   "metadata": {},
   "outputs": [],
   "source": [
    "from matplotlib.backends.backend_pdf import PdfPages"
   ]
  },
  {
   "cell_type": "code",
   "execution_count": 46,
   "metadata": {},
   "outputs": [],
   "source": [
    "img_paths = df['image_url'].apply(lambda x: \"../\"+x).tolist()\n",
    "imgStrs = [image_base64(img_path) for img_path in img_paths]\n",
    "\n",
    "df['Image'] = [f'<img width=400 src=\"data:image/png;base64,{imgStr}\">' for imgStr in imgStrs]\n",
    "df[['Image', 'title'] + cols_to_show[:-1]].to_html(\"../data/annotated/vision/misalign_sample_100_pixtral_anno.html\", escape=False)"
   ]
  },
  {
   "cell_type": "code",
   "execution_count": 47,
   "metadata": {},
   "outputs": [],
   "source": [
    "# fig, ax =plt.subplots(figsize=(12,4))\n",
    "# ax.axis('tight')\n",
    "# ax.axis('off')\n",
    "# the_table = ax.table(cellText=df.values,colLabels=df.columns,loc='center')\n",
    "\n",
    "# #https://stackoverflow.com/questions/4042192/reduce-left-and-right-margins-in-matplotlib-plot\n",
    "# pp = PdfPages(\"foo.pdf\")\n",
    "# pp.savefig(fig, bbox_inches='tight')\n",
    "# pp.close()"
   ]
  },
  {
   "cell_type": "markdown",
   "metadata": {},
   "source": [
    "#### Accuracy"
   ]
  },
  {
   "cell_type": "code",
   "execution_count": 4,
   "metadata": {},
   "outputs": [],
   "source": [
    "human_anno_df = pd.read_csv(\"../data/human/surprise_annotations_srishti.csv\", index_col=[0])"
   ]
  },
  {
   "cell_type": "code",
   "execution_count": null,
   "metadata": {},
   "outputs": [],
   "source": [
    "labels = human_anno_df['surprising']"
   ]
  },
  {
   "cell_type": "code",
   "execution_count": 16,
   "metadata": {},
   "outputs": [
    {
     "data": {
      "text/plain": [
       "surprising\n",
       "False    66\n",
       "True     34\n",
       "Name: count, dtype: int64"
      ]
     },
     "execution_count": 16,
     "metadata": {},
     "output_type": "execute_result"
    }
   ],
   "source": [
    "human_anno_df['surprising'].value_counts()"
   ]
  },
  {
   "cell_type": "code",
   "execution_count": null,
   "metadata": {},
   "outputs": [],
   "source": [
    "results = {}\n",
    "for prompt_setting, col in df[label_cols].items():\n",
    "    # print(prompt_setting)\n",
    "    col.fillna(\"False\", inplace=True)\n",
    "    preds = col.values\n",
    "    if 'cat' in prompt_setting:\n",
    "        bool_preds = [False if 'not' in x else True for x in preds]\n",
    "    elif 'bin' in prompt_setting:\n",
    "        bool_preds = [False if x=='False' else True for x in preds]\n",
    "    results[prompt_setting] = {'accuracy':accuracy_score(labels, bool_preds), 'f1_macro':f1_score(labels, bool_preds, average='macro').round(2)}"
   ]
  },
  {
   "cell_type": "code",
   "execution_count": 40,
   "metadata": {},
   "outputs": [
    {
     "data": {
      "text/html": [
       "<div>\n",
       "<style scoped>\n",
       "    .dataframe tbody tr th:only-of-type {\n",
       "        vertical-align: middle;\n",
       "    }\n",
       "\n",
       "    .dataframe tbody tr th {\n",
       "        vertical-align: top;\n",
       "    }\n",
       "\n",
       "    .dataframe thead th {\n",
       "        text-align: right;\n",
       "    }\n",
       "</style>\n",
       "<table border=\"1\" class=\"dataframe\">\n",
       "  <thead>\n",
       "    <tr style=\"text-align: right;\">\n",
       "      <th></th>\n",
       "      <th>accuracy</th>\n",
       "      <th>f1_macro</th>\n",
       "    </tr>\n",
       "  </thead>\n",
       "  <tbody>\n",
       "    <tr>\n",
       "      <th>qsur_dcat_ccat_surprise</th>\n",
       "      <td>0.66</td>\n",
       "      <td>0.40</td>\n",
       "    </tr>\n",
       "    <tr>\n",
       "      <th>tasksur_dbin_cscore_decision</th>\n",
       "      <td>0.61</td>\n",
       "      <td>0.40</td>\n",
       "    </tr>\n",
       "    <tr>\n",
       "      <th>tasksur_dcat_ccat_decision</th>\n",
       "      <td>0.64</td>\n",
       "      <td>0.39</td>\n",
       "    </tr>\n",
       "    <tr>\n",
       "      <th>taskdiff_dcat_ccat_decision</th>\n",
       "      <td>0.55</td>\n",
       "      <td>0.54</td>\n",
       "    </tr>\n",
       "    <tr>\n",
       "      <th>taskdiffeg_dbin_cscore_decision</th>\n",
       "      <td>0.59</td>\n",
       "      <td>0.45</td>\n",
       "    </tr>\n",
       "    <tr>\n",
       "      <th>verbose_taskdiff_dbin_cscore_decision</th>\n",
       "      <td>0.40</td>\n",
       "      <td>0.36</td>\n",
       "    </tr>\n",
       "    <tr>\n",
       "      <th>verbose_taskdiffeg_dcat_ccat_decision</th>\n",
       "      <td>0.41</td>\n",
       "      <td>0.37</td>\n",
       "    </tr>\n",
       "    <tr>\n",
       "      <th>verbose_task_eg_frames_dbin_cscore_decision</th>\n",
       "      <td>0.44</td>\n",
       "      <td>0.43</td>\n",
       "    </tr>\n",
       "  </tbody>\n",
       "</table>\n",
       "</div>"
      ],
      "text/plain": [
       "                                             accuracy  f1_macro\n",
       "qsur_dcat_ccat_surprise                          0.66      0.40\n",
       "tasksur_dbin_cscore_decision                     0.61      0.40\n",
       "tasksur_dcat_ccat_decision                       0.64      0.39\n",
       "taskdiff_dcat_ccat_decision                      0.55      0.54\n",
       "taskdiffeg_dbin_cscore_decision                  0.59      0.45\n",
       "verbose_taskdiff_dbin_cscore_decision            0.40      0.36\n",
       "verbose_taskdiffeg_dcat_ccat_decision            0.41      0.37\n",
       "verbose_task_eg_frames_dbin_cscore_decision      0.44      0.43"
      ]
     },
     "execution_count": 40,
     "metadata": {},
     "output_type": "execute_result"
    }
   ],
   "source": [
    "pd.DataFrame(results).T"
   ]
  },
  {
   "cell_type": "code",
   "execution_count": null,
   "metadata": {},
   "outputs": [],
   "source": []
  }
 ],
 "metadata": {
  "kernelspec": {
   "display_name": "frame-align",
   "language": "python",
   "name": "python3"
  },
  "language_info": {
   "codemirror_mode": {
    "name": "ipython",
    "version": 3
   },
   "file_extension": ".py",
   "mimetype": "text/x-python",
   "name": "python",
   "nbconvert_exporter": "python",
   "pygments_lexer": "ipython3",
   "version": "3.12.1"
  }
 },
 "nbformat": 4,
 "nbformat_minor": 2
}

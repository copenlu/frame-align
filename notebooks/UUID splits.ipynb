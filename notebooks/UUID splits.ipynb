{
 "cells": [
  {
   "cell_type": "code",
   "execution_count": 1,
   "metadata": {},
   "outputs": [],
   "source": [
    "from pathlib import Path\n",
    "\n",
    "import pickle\n",
    "import pandas as pd"
   ]
  },
  {
   "cell_type": "code",
   "execution_count": 2,
   "metadata": {},
   "outputs": [],
   "source": [
    "text_dir = Path(\"/projects/frame_align/data/filtered/text/\")\n",
    "uuid_dir = Path(\"/projects/frame_align/data/text_uuid_splits/\")\n",
    "uuid_dir.mkdir(exist_ok=True)"
   ]
  },
  {
   "cell_type": "code",
   "execution_count": 3,
   "metadata": {},
   "outputs": [],
   "source": [
    "month_uuids = {}\n",
    "for file in text_dir.iterdir():\n",
    "    df = pd.read_csv(file)\n",
    "    month_uuids[file.stem] = df['id'].to_list()"
   ]
  },
  {
   "cell_type": "code",
   "execution_count": 4,
   "metadata": {},
   "outputs": [
    {
     "name": "stdout",
     "output_type": "stream",
     "text": [
      "2024-03-01_2024-03-31: 38161\n",
      "2023-06-01_2023-06-30: 25567\n",
      "2023-09-01_2023-09-30: 25811\n",
      "2023-11-01_2023-11-30: 28781\n",
      "2023-12-01_2023-12-31: 34561\n",
      "2023-05-01_2023-05-31: 75296\n",
      "2023-10-01_2023-10-31: 41016\n",
      "2023-08-01_2023-08-31: 75534\n",
      "2024-04-01_2024-04-30: 36269\n",
      "2024-01-01_2024-01-31: 39317\n",
      "2023-07-01_2023-07-31: 71805\n",
      "2024-02-01_2024-02-29: 14274\n"
     ]
    }
   ],
   "source": [
    "for month, uuids in month_uuids.items():\n",
    "    print(f\"{month}: {len(uuids)}\")"
   ]
  },
  {
   "cell_type": "code",
   "execution_count": 5,
   "metadata": {},
   "outputs": [
    {
     "name": "stdout",
     "output_type": "stream",
     "text": [
      "2024-03-01_2024-03-31 set_0 10000\n",
      "2024-03-01_2024-03-31 set_1 10000\n",
      "2024-03-01_2024-03-31 set_2 10000\n",
      "2024-03-01_2024-03-31 set_3 8161\n",
      "2023-06-01_2023-06-30 set_4 10000\n",
      "2023-06-01_2023-06-30 set_5 10000\n",
      "2023-06-01_2023-06-30 set_6 5567\n",
      "2023-09-01_2023-09-30 set_7 10000\n",
      "2023-09-01_2023-09-30 set_8 10000\n",
      "2023-09-01_2023-09-30 set_9 5811\n",
      "2023-11-01_2023-11-30 set_10 10000\n",
      "2023-11-01_2023-11-30 set_11 10000\n",
      "2023-11-01_2023-11-30 set_12 8781\n",
      "2023-12-01_2023-12-31 set_13 10000\n",
      "2023-12-01_2023-12-31 set_14 10000\n",
      "2023-12-01_2023-12-31 set_15 10000\n",
      "2023-12-01_2023-12-31 set_16 4561\n",
      "2023-05-01_2023-05-31 set_17 10000\n",
      "2023-05-01_2023-05-31 set_18 10000\n",
      "2023-05-01_2023-05-31 set_19 10000\n",
      "2023-05-01_2023-05-31 set_20 10000\n",
      "2023-05-01_2023-05-31 set_21 10000\n",
      "2023-05-01_2023-05-31 set_22 10000\n",
      "2023-05-01_2023-05-31 set_23 10000\n",
      "2023-05-01_2023-05-31 set_24 5296\n",
      "2023-10-01_2023-10-31 set_25 10000\n",
      "2023-10-01_2023-10-31 set_26 10000\n",
      "2023-10-01_2023-10-31 set_27 10000\n",
      "2023-10-01_2023-10-31 set_28 10000\n",
      "2023-10-01_2023-10-31 set_29 1016\n",
      "2023-08-01_2023-08-31 set_30 10000\n",
      "2023-08-01_2023-08-31 set_31 10000\n",
      "2023-08-01_2023-08-31 set_32 10000\n",
      "2023-08-01_2023-08-31 set_33 10000\n",
      "2023-08-01_2023-08-31 set_34 10000\n",
      "2023-08-01_2023-08-31 set_35 10000\n",
      "2023-08-01_2023-08-31 set_36 10000\n",
      "2023-08-01_2023-08-31 set_37 5534\n",
      "2024-04-01_2024-04-30 set_38 10000\n",
      "2024-04-01_2024-04-30 set_39 10000\n",
      "2024-04-01_2024-04-30 set_40 10000\n",
      "2024-04-01_2024-04-30 set_41 6269\n",
      "2024-01-01_2024-01-31 set_42 10000\n",
      "2024-01-01_2024-01-31 set_43 10000\n",
      "2024-01-01_2024-01-31 set_44 10000\n",
      "2024-01-01_2024-01-31 set_45 9317\n",
      "2023-07-01_2023-07-31 set_46 10000\n",
      "2023-07-01_2023-07-31 set_47 10000\n",
      "2023-07-01_2023-07-31 set_48 10000\n",
      "2023-07-01_2023-07-31 set_49 10000\n",
      "2023-07-01_2023-07-31 set_50 10000\n",
      "2023-07-01_2023-07-31 set_51 10000\n",
      "2023-07-01_2023-07-31 set_52 10000\n",
      "2023-07-01_2023-07-31 set_53 1805\n",
      "2024-02-01_2024-02-29 set_54 10000\n",
      "2024-02-01_2024-02-29 set_55 4274\n"
     ]
    }
   ],
   "source": [
    "uuid_splits = {}\n",
    "i = 0\n",
    "for month, uuids in month_uuids.items():\n",
    "    for indices in range(0, len(uuids), 10000):\n",
    "        uuid_splits[f\"set_{i}\"] = {month:uuids[indices:indices+10000]}\n",
    "        print(f\"{month} set_{i} {len(uuid_splits[f'set_{i}'][month])}\")\n",
    "        i += 1"
   ]
  },
  {
   "cell_type": "code",
   "execution_count": 6,
   "metadata": {},
   "outputs": [],
   "source": [
    "for set_name, val_dict in uuid_splits.items():\n",
    "    val_dict = {k: list(v) for k, v in val_dict.items() if v}\n",
    "    with open(f\"{uuid_dir}/{set_name}.pkl\", \"wb\") as f:\n",
    "        pickle.dump(val_dict, f)"
   ]
  },
  {
   "cell_type": "code",
   "execution_count": 7,
   "metadata": {},
   "outputs": [
    {
     "name": "stdout",
     "output_type": "stream",
     "text": [
      "set_31: 10000\n",
      "set_8: 10000\n",
      "set_21: 10000\n",
      "set_20: 10000\n",
      "set_38: 10000\n",
      "set_53: 1805\n",
      "set_40: 10000\n",
      "set_23: 10000\n",
      "set_41: 6269\n",
      "set_9: 5811\n",
      "set_35: 10000\n",
      "set_37: 5534\n",
      "set_29: 1016\n",
      "set_1: 10000\n",
      "set_39: 10000\n",
      "set_30: 10000\n",
      "set_6: 5567\n",
      "set_42: 10000\n",
      "set_50: 10000\n",
      "set_16: 4561\n",
      "set_22: 10000\n",
      "set_7: 10000\n",
      "set_0: 10000\n",
      "set_33: 10000\n",
      "set_54: 10000\n",
      "set_45: 9317\n",
      "set_52: 10000\n",
      "set_48: 10000\n",
      "set_28: 10000\n",
      "set_26: 10000\n",
      "set_49: 10000\n",
      "set_2: 10000\n",
      "set_43: 10000\n",
      "set_18: 10000\n",
      "set_14: 10000\n",
      "set_44: 10000\n",
      "set_10: 10000\n",
      "set_32: 10000\n",
      "set_25: 10000\n",
      "set_24: 5296\n",
      "set_4: 10000\n",
      "set_19: 10000\n",
      "set_12: 8781\n",
      "set_11: 10000\n",
      "set_36: 10000\n",
      "set_47: 10000\n",
      "set_46: 10000\n",
      "set_51: 10000\n",
      "set_5: 10000\n",
      "set_15: 10000\n",
      "set_55: 4274\n",
      "set_27: 10000\n",
      "set_13: 10000\n",
      "set_3: 8161\n",
      "set_17: 10000\n",
      "set_34: 10000\n",
      "Total uuids: 506392\n",
      "Unique uuids: 506392\n"
     ]
    }
   ],
   "source": [
    "uuid_num = 0\n",
    "uuid_list = []\n",
    "for file in uuid_dir.iterdir():\n",
    "    with open(file, \"rb\") as f:\n",
    "        uuid_dict = pickle.load(f)\n",
    "        uuids = uuid_dict[list(uuid_dict.keys())[0]]\n",
    "        uuid_num += len(uuids)\n",
    "        print(f\"{file.stem}: {len(uuids)}\")\n",
    "        uuid_list.extend(uuids)\n",
    "print(f\"Total uuids: {uuid_num}\")\n",
    "print(f\"Unique uuids: {len(set(uuid_list))}\")"
   ]
  },
  {
   "cell_type": "code",
   "execution_count": null,
   "metadata": {},
   "outputs": [],
   "source": []
  }
 ],
 "metadata": {
  "kernelspec": {
   "display_name": "frame-align",
   "language": "python",
   "name": "python3"
  },
  "language_info": {
   "codemirror_mode": {
    "name": "ipython",
    "version": 3
   },
   "file_extension": ".py",
   "mimetype": "text/x-python",
   "name": "python",
   "nbconvert_exporter": "python",
   "pygments_lexer": "ipython3",
   "version": "3.12.1"
  }
 },
 "nbformat": 4,
 "nbformat_minor": 2
}

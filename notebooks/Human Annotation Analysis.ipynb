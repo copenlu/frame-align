{
 "cells": [
  {
   "cell_type": "code",
   "execution_count": 1,
   "metadata": {},
   "outputs": [],
   "source": [
    "import pandas as pd\n",
    "\n",
    "from pathlib import Path"
   ]
  },
  {
   "cell_type": "code",
   "execution_count": 2,
   "metadata": {},
   "outputs": [],
   "source": [
    "anno_path = Path(\"../human_annotation/new_human_annotations/\")"
   ]
  },
  {
   "cell_type": "code",
   "execution_count": 3,
   "metadata": {},
   "outputs": [
    {
     "name": "stdout",
     "output_type": "stream",
     "text": [
      "nico (300, 20) 300\n",
      "silpa (300, 20) 300\n",
      "zhaochong (300, 20) 300\n",
      "srishti (300, 20) 300\n",
      "srishti (300, 20) 300\n",
      "srishti (300, 20) 300\n",
      "peter (300, 20) 300\n",
      "weronika (300, 20) 300\n",
      "arnav (300, 20) 300\n",
      "sander (300, 20) 300\n"
     ]
    }
   ],
   "source": [
    "all_anno = []\n",
    "for file in anno_path.glob('*.csv'):\n",
    "    anno_name_split = file.stem.split(\"_\")\n",
    "    anno_name = anno_name_split[0].lower()\n",
    "    anno = pd.read_csv(file, index_col=[0])\n",
    "    anno['annotator'] = anno_name\n",
    "    anno['split'] = anno_name_split[-1]\n",
    "    all_anno.append(anno)\n",
    "    print(anno_name, anno.shape, anno['changed'].sum())"
   ]
  },
  {
   "cell_type": "code",
   "execution_count": 4,
   "metadata": {},
   "outputs": [],
   "source": [
    "all_anno = pd.concat(all_anno)"
   ]
  },
  {
   "cell_type": "code",
   "execution_count": 5,
   "metadata": {},
   "outputs": [
    {
     "name": "stdout",
     "output_type": "stream",
     "text": [
      "(3000, 20)\n",
      "Index(['example', 'changed', 'quality of life', 'capacity and resources',\n",
      "       'political', 'security and defense',\n",
      "       'policy prescription and evaluation', 'fairness and equality', 'none',\n",
      "       'health and safety', 'legality, constitutionality and jurisprudence',\n",
      "       'morality', 'economic', 'public opinion', 'cultural identity',\n",
      "       'external regulation and reputation', 'crime and punishment', 'uuid',\n",
      "       'annotator', 'split'],\n",
      "      dtype='object')\n"
     ]
    }
   ],
   "source": [
    "print(all_anno.shape)\n",
    "print(all_anno.columns)"
   ]
  },
  {
   "cell_type": "code",
   "execution_count": 7,
   "metadata": {},
   "outputs": [
    {
     "data": {
      "text/plain": [
       "1078"
      ]
     },
     "execution_count": 7,
     "metadata": {},
     "output_type": "execute_result"
    }
   ],
   "source": [
    "all_anno['uuid'].nunique()"
   ]
  },
  {
   "cell_type": "code",
   "execution_count": 10,
   "metadata": {},
   "outputs": [
    {
     "name": "stdout",
     "output_type": "stream",
     "text": [
      "Overlap between 4 and 3: 0\n",
      "Overlap between 4 and 2: 0\n",
      "Overlap between 4 and 1: 43\n",
      "Overlap between 3 and 4: 0\n",
      "Overlap between 3 and 2: 0\n",
      "Overlap between 3 and 1: 47\n",
      "Overlap between 2 and 4: 0\n",
      "Overlap between 2 and 3: 0\n",
      "Overlap between 2 and 1: 32\n",
      "Overlap between 1 and 4: 43\n",
      "Overlap between 1 and 3: 47\n",
      "Overlap between 1 and 2: 32\n"
     ]
    }
   ],
   "source": [
    "splits = all_anno['split'].unique()\n",
    "for split1 in splits:\n",
    "    for split2 in splits:\n",
    "        if split1 != split2:\n",
    "            split1_uuids = set(all_anno[all_anno['split'] == split1]['uuid'])\n",
    "            split2_uuids = set(all_anno[all_anno['split'] == split2]['uuid'])\n",
    "            overlap = split1_uuids.intersection(split2_uuids)\n",
    "            print(f\"Overlap between {split1} and {split2}: {len(overlap)}\")"
   ]
  },
  {
   "cell_type": "code",
   "execution_count": 7,
   "metadata": {},
   "outputs": [],
   "source": [
    "label_cols = all_anno.columns[2:-3]"
   ]
  },
  {
   "cell_type": "code",
   "execution_count": 8,
   "metadata": {},
   "outputs": [
    {
     "name": "stdout",
     "output_type": "stream",
     "text": [
      "Annotator: arnav, Split: 2\n",
      "No of annotations: 300\n",
      "Unique uuids: 300\n",
      "Average annotations per label: 1.48\n",
      "------------\n",
      "Annotator: nico, Split: 4\n",
      "No of annotations: 300\n",
      "Unique uuids: 300\n",
      "Average annotations per label: 1.00\n",
      "------------\n",
      "Annotator: peter, Split: 3\n",
      "No of annotations: 300\n",
      "Unique uuids: 300\n",
      "Average annotations per label: 2.30\n",
      "------------\n",
      "Annotator: sander, Split: 4\n",
      "No of annotations: 300\n",
      "Unique uuids: 300\n",
      "Average annotations per label: 1.12\n",
      "------------\n",
      "Annotator: silpa, Split: 3\n",
      "No of annotations: 300\n",
      "Unique uuids: 300\n",
      "Average annotations per label: 1.15\n",
      "------------\n",
      "Annotator: srishti, Split: 2\n",
      "No of annotations: 900\n",
      "Unique uuids: 821\n",
      "Average annotations per label: 1.17\n",
      "------------\n",
      "Annotator: weronika, Split: 2\n",
      "No of annotations: 300\n",
      "Unique uuids: 300\n",
      "Average annotations per label: 1.06\n",
      "------------\n",
      "Annotator: zhaochong, Split: 2\n",
      "No of annotations: 300\n",
      "Unique uuids: 300\n",
      "Average annotations per label: 1.07\n",
      "------------\n"
     ]
    }
   ],
   "source": [
    "for anno_name, anno_df in all_anno.groupby('annotator'):\n",
    "    print(f\"Annotator: {anno_name}, Split: {anno_df['split'].unique()[0]}\")\n",
    "    print(f\"No of annotations: {anno_df['changed'].sum()}\")\n",
    "    print(f\"Unique uuids: {anno_df['uuid'].nunique()}\")\n",
    "    print(f\"Average annotations per label: {anno_df[label_cols].sum(axis=1).mean():.2f}\")\n",
    "    print(\"------------\")"
   ]
  },
  {
   "cell_type": "code",
   "execution_count": 11,
   "metadata": {},
   "outputs": [
    {
     "name": "stdout",
     "output_type": "stream",
     "text": [
      "Split: 4\n",
      "Average label overlap between annotators nico and sander: 0.45\n",
      "Average binary overlap between annotators nico and sander: 0.45\n",
      "-----------------\n",
      "Split: 3\n",
      "Average label overlap between annotators silpa and srishti: 0.49\n",
      "Average binary overlap between annotators silpa and srishti: 0.48\n",
      "Average label overlap between annotators silpa and peter: 0.44\n",
      "Average binary overlap between annotators silpa and peter: 0.43\n",
      "Average label overlap between annotators srishti and peter: 0.46\n",
      "Average binary overlap between annotators srishti and peter: 0.44\n",
      "-----------------\n",
      "Split: 2\n",
      "Average label overlap between annotators zhaochong and srishti: 0.65\n",
      "Average binary overlap between annotators zhaochong and srishti: 0.65\n",
      "Average label overlap between annotators zhaochong and weronika: 0.63\n",
      "Average binary overlap between annotators zhaochong and weronika: 0.63\n",
      "Average label overlap between annotators zhaochong and arnav: 0.69\n",
      "Average binary overlap between annotators zhaochong and arnav: 0.69\n",
      "Average label overlap between annotators srishti and weronika: 0.65\n",
      "Average binary overlap between annotators srishti and weronika: 0.64\n",
      "Average label overlap between annotators srishti and arnav: 0.85\n",
      "Average binary overlap between annotators srishti and arnav: 0.79\n",
      "Average label overlap between annotators weronika and arnav: 0.68\n",
      "Average binary overlap between annotators weronika and arnav: 0.66\n",
      "-----------------\n",
      "Split: 1\n",
      "Only one annotator\n",
      "-----------------\n"
     ]
    }
   ],
   "source": [
    "for split in splits:\n",
    "    split_df = all_anno[all_anno['split'] == split]\n",
    "    print(f\"Split: {split}\")\n",
    "    if split_df['annotator'].nunique() > 1:\n",
    "        annotators = split_df['annotator'].unique()\n",
    "        for i in range(len(annotators)):\n",
    "            for j in range(i + 1, len(annotators)):\n",
    "                anno_1 = split_df[split_df['annotator'] == annotators[i]]\n",
    "                anno_2 = split_df[split_df['annotator'] == annotators[j]]\n",
    "                anno_1_labels = [set(row[row == True].index.tolist()) for index, row in anno_1[label_cols].iterrows()]\n",
    "                anno_2_labels = [set(row[row == True].index.tolist()) for index, row in anno_2[label_cols].iterrows()]\n",
    "                label_overlap = [len(a1.intersection(a2)) for a1, a2 in zip(anno_1_labels, anno_2_labels)]\n",
    "                binary_overlap = [1 if overlap > 0 else 0 for overlap in label_overlap]\n",
    "                print(f\"Average label overlap between annotators {annotators[i]} and {annotators[j]}: {sum(label_overlap) / len(label_overlap):.2f}\")\n",
    "                print(f\"Average binary overlap between annotators {annotators[i]} and {annotators[j]}: {sum(binary_overlap) / len(binary_overlap):.2f}\")\n",
    "    else:\n",
    "        print(\"Only one annotator\")\n",
    "    print(\"-----------------\")"
   ]
  },
  {
   "cell_type": "code",
   "execution_count": 12,
   "metadata": {},
   "outputs": [
    {
     "name": "stdout",
     "output_type": "stream",
     "text": [
      "300 300\n"
     ]
    }
   ],
   "source": [
    "# Combine labels for split 2 and save as a validation set\n",
    "split_2_srishti = all_anno[(all_anno['split'] == '2') & (all_anno['annotator'] == 'srishti')]\n",
    "split_2_weronika = all_anno[(all_anno['split'] == '2') & (all_anno['annotator'] == 'weronika')]\n",
    "split_2_arnav = all_anno[(all_anno['split'] == '2') & (all_anno['annotator'] == 'arnav')]\n",
    "print(len(split_2_srishti), len(split_2_weronika))\n"
   ]
  },
  {
   "cell_type": "code",
   "execution_count": 13,
   "metadata": {},
   "outputs": [
    {
     "name": "stderr",
     "output_type": "stream",
     "text": [
      "/tmp/ipykernel_253496/4220838887.py:1: SettingWithCopyWarning: \n",
      "A value is trying to be set on a copy of a slice from a DataFrame.\n",
      "Try using .loc[row_indexer,col_indexer] = value instead\n",
      "\n",
      "See the caveats in the documentation: https://pandas.pydata.org/pandas-docs/stable/user_guide/indexing.html#returning-a-view-versus-a-copy\n",
      "  split_2_srishti['labels'] = [set(row[row == True].index.tolist()) for _, row in split_2_srishti[label_cols].iterrows()]\n",
      "/tmp/ipykernel_253496/4220838887.py:2: SettingWithCopyWarning: \n",
      "A value is trying to be set on a copy of a slice from a DataFrame.\n",
      "Try using .loc[row_indexer,col_indexer] = value instead\n",
      "\n",
      "See the caveats in the documentation: https://pandas.pydata.org/pandas-docs/stable/user_guide/indexing.html#returning-a-view-versus-a-copy\n",
      "  split_2_weronika['labels'] = [set(row[row == True].index.tolist()) for _, row in split_2_weronika[label_cols].iterrows()]\n",
      "/tmp/ipykernel_253496/4220838887.py:3: SettingWithCopyWarning: \n",
      "A value is trying to be set on a copy of a slice from a DataFrame.\n",
      "Try using .loc[row_indexer,col_indexer] = value instead\n",
      "\n",
      "See the caveats in the documentation: https://pandas.pydata.org/pandas-docs/stable/user_guide/indexing.html#returning-a-view-versus-a-copy\n",
      "  split_2_arnav['labels'] = [set(row[row == True].index.tolist()) for _, row in split_2_arnav[label_cols].iterrows()]\n"
     ]
    }
   ],
   "source": [
    "split_2_srishti['labels'] = [set(row[row == True].index.tolist()) for _, row in split_2_srishti[label_cols].iterrows()]\n",
    "split_2_weronika['labels'] = [set(row[row == True].index.tolist()) for _, row in split_2_weronika[label_cols].iterrows()]\n",
    "split_2_arnav['labels'] = [set(row[row == True].index.tolist()) for _, row in split_2_arnav[label_cols].iterrows()]"
   ]
  },
  {
   "cell_type": "code",
   "execution_count": 14,
   "metadata": {},
   "outputs": [],
   "source": [
    "merged_set2 = split_2_srishti[['uuid','labels']].merge(split_2_weronika[['uuid','labels']], on='uuid', suffixes=('_srishti', '_weronika'))\n",
    "merged_set2 = merged_set2.merge(split_2_arnav[['uuid','labels']], on='uuid')"
   ]
  },
  {
   "cell_type": "code",
   "execution_count": 17,
   "metadata": {},
   "outputs": [],
   "source": [
    "merged_set2['merged_labels'] = merged_set2.apply(lambda x: x['labels_srishti'].union(x['labels_weronika']), axis=1)\n",
    "merged_set2['merged_labels'] = merged_set2.apply(lambda x: x['merged_labels'].union(x['labels']), axis=1)"
   ]
  },
  {
   "cell_type": "code",
   "execution_count": 21,
   "metadata": {},
   "outputs": [],
   "source": [
    "# merged_set2[['uuid', 'merged_labels']].to_csv(\"../data/human/val_set.csv\", index=False)\n",
    "merged_set2[['uuid', 'merged_labels']].sample(30).to_csv(\"../data/human/val_set_sample.csv\", index=False)"
   ]
  },
  {
   "cell_type": "code",
   "execution_count": 20,
   "metadata": {},
   "outputs": [],
   "source": [
    "merged_set2[['uuid', 'merged_labels']].to_csv(\"../data/human/val_set_full.csv\", index=False)"
   ]
  },
  {
   "cell_type": "code",
   "execution_count": 20,
   "metadata": {},
   "outputs": [
    {
     "data": {
      "text/plain": [
       "merged_labels\n",
       "1    161\n",
       "2    105\n",
       "3     27\n",
       "4      5\n",
       "5      1\n",
       "6      1\n",
       "Name: count, dtype: int64"
      ]
     },
     "execution_count": 20,
     "metadata": {},
     "output_type": "execute_result"
    }
   ],
   "source": [
    "merged_set2['merged_labels'].apply(len).value_counts()"
   ]
  },
  {
   "cell_type": "code",
   "execution_count": 18,
   "metadata": {},
   "outputs": [
    {
     "data": {
      "text/plain": [
       "2300"
      ]
     },
     "execution_count": 18,
     "metadata": {},
     "output_type": "execute_result"
    }
   ],
   "source": [
    "sample_df = pd.read_csv(\"../human_annotation/sample_data_anno.csv\")\n",
    "sample_df['uuid'].nunique()"
   ]
  }
 ],
 "metadata": {
  "kernelspec": {
   "display_name": "frame-align",
   "language": "python",
   "name": "python3"
  },
  "language_info": {
   "codemirror_mode": {
    "name": "ipython",
    "version": 3
   },
   "file_extension": ".py",
   "mimetype": "text/x-python",
   "name": "python",
   "nbconvert_exporter": "python",
   "pygments_lexer": "ipython3",
   "version": "3.12.1"
  }
 },
 "nbformat": 4,
 "nbformat_minor": 2
}

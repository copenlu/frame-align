{
 "cells": [
  {
   "cell_type": "code",
   "execution_count": 1,
   "metadata": {},
   "outputs": [],
   "source": [
    "import json\n",
    "import pandas as pd\n",
    "\n",
    "from pathlib import Path"
   ]
  },
  {
   "cell_type": "code",
   "execution_count": 2,
   "metadata": {},
   "outputs": [],
   "source": [
    "analysis_path = Path(\"/projects/frame_align/data/analysis/\")\n",
    "anno_path = Path(\"/projects/frame_align/data/annotated/\")\n",
    "vision_path = anno_path / \"vision/\"\n",
    "text_path = anno_path / \"text/\""
   ]
  },
  {
   "cell_type": "code",
   "execution_count": null,
   "metadata": {},
   "outputs": [],
   "source": [
    "\n"
   ]
  },
  {
   "cell_type": "code",
   "execution_count": 3,
   "metadata": {},
   "outputs": [
    {
     "name": "stdout",
     "output_type": "stream",
     "text": [
      "2023-08-01_2023-08-31 75442 75442\n",
      "2023-09-01_2023-09-30 25811 25811\n",
      "2024-02-01_2024-02-29 14274 14274\n",
      "2023-11-01_2023-11-30 28781 28781\n",
      "2024-03-01_2024-03-31 18161 18161\n",
      "2024-04-01_2024-04-30 36258 36258\n",
      "2023-06-01_2023-06-30 25567 25567\n",
      "2023-10-01_2023-10-31 41016 41016\n",
      "2023-05-01_2023-05-31 75296 75296\n",
      "2023-07-01_2023-07-31 71723 71723\n",
      "2024-01-01_2024-01-31 39307 39307\n",
      "2023-12-01_2023-12-31 34561 34561\n",
      "Total vision annotations: 486197\n",
      "Percentage done: 97.2394 %\n"
     ]
    }
   ],
   "source": [
    "# Vision annotations\n",
    "total_vision = 0\n",
    "failed = 0\n",
    "f = open(\"../data/raw/failed_vision.jsonl\", \"w\")\n",
    "for file in vision_path.iterdir():\n",
    "    if file.suffix == \".jsonl\":\n",
    "        try:\n",
    "            df = pd.read_json(file, lines=True)\n",
    "        except:\n",
    "            contents = []\n",
    "            for line in open(file).readlines():\n",
    "                try:\n",
    "                    contents.append(json.loads(line))\n",
    "                except:\n",
    "                    failed += 1\n",
    "                    f.write(str({failed:line})+\"\\n\")\n",
    "                    pass\n",
    "            df = pd.DataFrame(contents)\n",
    "        print('_'.join(file.stem.split(\"_\")[1:3]), len(df), df['uuid'].nunique())\n",
    "        # Save annotations so far to analysis folder\n",
    "        # df.to_json(analysis_path/\"vision\"/f\"analysis_{file.name}\", orient=\"records\", lines=True)\n",
    "        total_vision += len(df)\n",
    "print(\"Total vision annotations:\", total_vision)\n",
    "print(\"Percentage done:\", total_vision*100/ 500000, \"%\")\n",
    "f.close()"
   ]
  },
  {
   "cell_type": "code",
   "execution_count": 8,
   "metadata": {},
   "outputs": [
    {
     "ename": "ValueError",
     "evalue": "Key name of object must be 'string' when decoding 'object'",
     "output_type": "error",
     "traceback": [
      "\u001b[0;31m---------------------------------------------------------------------------\u001b[0m",
      "\u001b[0;31mValueError\u001b[0m                                Traceback (most recent call last)",
      "Cell \u001b[0;32mIn[8], line 1\u001b[0m\n\u001b[0;32m----> 1\u001b[0m failed_df \u001b[38;5;241m=\u001b[39m \u001b[43mpd\u001b[49m\u001b[38;5;241;43m.\u001b[39;49m\u001b[43mread_json\u001b[49m\u001b[43m(\u001b[49m\u001b[38;5;124;43m\"\u001b[39;49m\u001b[38;5;124;43m../data/raw/failed_vision.jsonl\u001b[39;49m\u001b[38;5;124;43m\"\u001b[39;49m\u001b[43m,\u001b[49m\u001b[43m \u001b[49m\u001b[43mlines\u001b[49m\u001b[38;5;241;43m=\u001b[39;49m\u001b[38;5;28;43;01mTrue\u001b[39;49;00m\u001b[43m)\u001b[49m\n\u001b[1;32m      2\u001b[0m failed_df\n",
      "File \u001b[0;32m~/miniconda3/envs/frame-align/lib/python3.12/site-packages/pandas/io/json/_json.py:815\u001b[0m, in \u001b[0;36mread_json\u001b[0;34m(path_or_buf, orient, typ, dtype, convert_axes, convert_dates, keep_default_dates, precise_float, date_unit, encoding, encoding_errors, lines, chunksize, compression, nrows, storage_options, dtype_backend, engine)\u001b[0m\n\u001b[1;32m    813\u001b[0m     \u001b[38;5;28;01mreturn\u001b[39;00m json_reader\n\u001b[1;32m    814\u001b[0m \u001b[38;5;28;01melse\u001b[39;00m:\n\u001b[0;32m--> 815\u001b[0m     \u001b[38;5;28;01mreturn\u001b[39;00m \u001b[43mjson_reader\u001b[49m\u001b[38;5;241;43m.\u001b[39;49m\u001b[43mread\u001b[49m\u001b[43m(\u001b[49m\u001b[43m)\u001b[49m\n",
      "File \u001b[0;32m~/miniconda3/envs/frame-align/lib/python3.12/site-packages/pandas/io/json/_json.py:1023\u001b[0m, in \u001b[0;36mJsonReader.read\u001b[0;34m(self)\u001b[0m\n\u001b[1;32m   1021\u001b[0m         data \u001b[38;5;241m=\u001b[39m ensure_str(\u001b[38;5;28mself\u001b[39m\u001b[38;5;241m.\u001b[39mdata)\n\u001b[1;32m   1022\u001b[0m         data_lines \u001b[38;5;241m=\u001b[39m data\u001b[38;5;241m.\u001b[39msplit(\u001b[38;5;124m\"\u001b[39m\u001b[38;5;130;01m\\n\u001b[39;00m\u001b[38;5;124m\"\u001b[39m)\n\u001b[0;32m-> 1023\u001b[0m         obj \u001b[38;5;241m=\u001b[39m \u001b[38;5;28;43mself\u001b[39;49m\u001b[38;5;241;43m.\u001b[39;49m\u001b[43m_get_object_parser\u001b[49m\u001b[43m(\u001b[49m\u001b[38;5;28;43mself\u001b[39;49m\u001b[38;5;241;43m.\u001b[39;49m\u001b[43m_combine_lines\u001b[49m\u001b[43m(\u001b[49m\u001b[43mdata_lines\u001b[49m\u001b[43m)\u001b[49m\u001b[43m)\u001b[49m\n\u001b[1;32m   1024\u001b[0m \u001b[38;5;28;01melse\u001b[39;00m:\n\u001b[1;32m   1025\u001b[0m     obj \u001b[38;5;241m=\u001b[39m \u001b[38;5;28mself\u001b[39m\u001b[38;5;241m.\u001b[39m_get_object_parser(\u001b[38;5;28mself\u001b[39m\u001b[38;5;241m.\u001b[39mdata)\n",
      "File \u001b[0;32m~/miniconda3/envs/frame-align/lib/python3.12/site-packages/pandas/io/json/_json.py:1051\u001b[0m, in \u001b[0;36mJsonReader._get_object_parser\u001b[0;34m(self, json)\u001b[0m\n\u001b[1;32m   1049\u001b[0m obj \u001b[38;5;241m=\u001b[39m \u001b[38;5;28;01mNone\u001b[39;00m\n\u001b[1;32m   1050\u001b[0m \u001b[38;5;28;01mif\u001b[39;00m typ \u001b[38;5;241m==\u001b[39m \u001b[38;5;124m\"\u001b[39m\u001b[38;5;124mframe\u001b[39m\u001b[38;5;124m\"\u001b[39m:\n\u001b[0;32m-> 1051\u001b[0m     obj \u001b[38;5;241m=\u001b[39m \u001b[43mFrameParser\u001b[49m\u001b[43m(\u001b[49m\u001b[43mjson\u001b[49m\u001b[43m,\u001b[49m\u001b[43m \u001b[49m\u001b[38;5;241;43m*\u001b[39;49m\u001b[38;5;241;43m*\u001b[39;49m\u001b[43mkwargs\u001b[49m\u001b[43m)\u001b[49m\u001b[38;5;241;43m.\u001b[39;49m\u001b[43mparse\u001b[49m\u001b[43m(\u001b[49m\u001b[43m)\u001b[49m\n\u001b[1;32m   1053\u001b[0m \u001b[38;5;28;01mif\u001b[39;00m typ \u001b[38;5;241m==\u001b[39m \u001b[38;5;124m\"\u001b[39m\u001b[38;5;124mseries\u001b[39m\u001b[38;5;124m\"\u001b[39m \u001b[38;5;129;01mor\u001b[39;00m obj \u001b[38;5;129;01mis\u001b[39;00m \u001b[38;5;28;01mNone\u001b[39;00m:\n\u001b[1;32m   1054\u001b[0m     \u001b[38;5;28;01mif\u001b[39;00m \u001b[38;5;129;01mnot\u001b[39;00m \u001b[38;5;28misinstance\u001b[39m(dtype, \u001b[38;5;28mbool\u001b[39m):\n",
      "File \u001b[0;32m~/miniconda3/envs/frame-align/lib/python3.12/site-packages/pandas/io/json/_json.py:1187\u001b[0m, in \u001b[0;36mParser.parse\u001b[0;34m(self)\u001b[0m\n\u001b[1;32m   1185\u001b[0m \u001b[38;5;129m@final\u001b[39m\n\u001b[1;32m   1186\u001b[0m \u001b[38;5;28;01mdef\u001b[39;00m \u001b[38;5;21mparse\u001b[39m(\u001b[38;5;28mself\u001b[39m):\n\u001b[0;32m-> 1187\u001b[0m     \u001b[38;5;28;43mself\u001b[39;49m\u001b[38;5;241;43m.\u001b[39;49m\u001b[43m_parse\u001b[49m\u001b[43m(\u001b[49m\u001b[43m)\u001b[49m\n\u001b[1;32m   1189\u001b[0m     \u001b[38;5;28;01mif\u001b[39;00m \u001b[38;5;28mself\u001b[39m\u001b[38;5;241m.\u001b[39mobj \u001b[38;5;129;01mis\u001b[39;00m \u001b[38;5;28;01mNone\u001b[39;00m:\n\u001b[1;32m   1190\u001b[0m         \u001b[38;5;28;01mreturn\u001b[39;00m \u001b[38;5;28;01mNone\u001b[39;00m\n",
      "File \u001b[0;32m~/miniconda3/envs/frame-align/lib/python3.12/site-packages/pandas/io/json/_json.py:1400\u001b[0m, in \u001b[0;36mFrameParser._parse\u001b[0;34m(self)\u001b[0m\n\u001b[1;32m   1396\u001b[0m orient \u001b[38;5;241m=\u001b[39m \u001b[38;5;28mself\u001b[39m\u001b[38;5;241m.\u001b[39morient\n\u001b[1;32m   1398\u001b[0m \u001b[38;5;28;01mif\u001b[39;00m orient \u001b[38;5;241m==\u001b[39m \u001b[38;5;124m\"\u001b[39m\u001b[38;5;124mcolumns\u001b[39m\u001b[38;5;124m\"\u001b[39m:\n\u001b[1;32m   1399\u001b[0m     \u001b[38;5;28mself\u001b[39m\u001b[38;5;241m.\u001b[39mobj \u001b[38;5;241m=\u001b[39m DataFrame(\n\u001b[0;32m-> 1400\u001b[0m         \u001b[43mujson_loads\u001b[49m\u001b[43m(\u001b[49m\u001b[43mjson\u001b[49m\u001b[43m,\u001b[49m\u001b[43m \u001b[49m\u001b[43mprecise_float\u001b[49m\u001b[38;5;241;43m=\u001b[39;49m\u001b[38;5;28;43mself\u001b[39;49m\u001b[38;5;241;43m.\u001b[39;49m\u001b[43mprecise_float\u001b[49m\u001b[43m)\u001b[49m, dtype\u001b[38;5;241m=\u001b[39m\u001b[38;5;28;01mNone\u001b[39;00m\n\u001b[1;32m   1401\u001b[0m     )\n\u001b[1;32m   1402\u001b[0m \u001b[38;5;28;01melif\u001b[39;00m orient \u001b[38;5;241m==\u001b[39m \u001b[38;5;124m\"\u001b[39m\u001b[38;5;124msplit\u001b[39m\u001b[38;5;124m\"\u001b[39m:\n\u001b[1;32m   1403\u001b[0m     decoded \u001b[38;5;241m=\u001b[39m {\n\u001b[1;32m   1404\u001b[0m         \u001b[38;5;28mstr\u001b[39m(k): v\n\u001b[1;32m   1405\u001b[0m         \u001b[38;5;28;01mfor\u001b[39;00m k, v \u001b[38;5;129;01min\u001b[39;00m ujson_loads(json, precise_float\u001b[38;5;241m=\u001b[39m\u001b[38;5;28mself\u001b[39m\u001b[38;5;241m.\u001b[39mprecise_float)\u001b[38;5;241m.\u001b[39mitems()\n\u001b[1;32m   1406\u001b[0m     }\n",
      "\u001b[0;31mValueError\u001b[0m: Key name of object must be 'string' when decoding 'object'"
     ]
    }
   ],
   "source": [
    "failed_df = pd.read_json(\"../data/raw/failed_vision.jsonl\", lines=True)\n",
    "failed_df"
   ]
  },
  {
   "cell_type": "code",
   "execution_count": 7,
   "metadata": {},
   "outputs": [
    {
     "data": {
      "text/plain": [
       "100"
      ]
     },
     "execution_count": 7,
     "metadata": {},
     "output_type": "execute_result"
    }
   ],
   "source": [
    "failed"
   ]
  },
  {
   "cell_type": "code",
   "execution_count": 4,
   "metadata": {},
   "outputs": [],
   "source": [
    "# Vision annotations save to analysis folder\n",
    "save = False\n",
    "if save:\n",
    "    for file in vision_path.iterdir():\n",
    "        if file.suffix == \".jsonl\":\n",
    "            try:\n",
    "                df = pd.read_json(file, lines=True)\n",
    "            except:\n",
    "                contents = []\n",
    "                for line in open(file).readlines():\n",
    "                    try:\n",
    "                        contents.append(json.loads(line))\n",
    "                    except:\n",
    "                        pass\n",
    "                df = pd.DataFrame(contents)\n",
    "            # Save annotations so far to analysis folder\n",
    "            df.to_json(analysis_path/\"vision\"/f\"analysis_{file.name}\", orient=\"records\", lines=True)"
   ]
  },
  {
   "cell_type": "code",
   "execution_count": 5,
   "metadata": {},
   "outputs": [
    {
     "name": "stdout",
     "output_type": "stream",
     "text": [
      "set_2 10000 10000\n",
      "set_24 5296 5296\n",
      "set_37 5534 5534\n",
      "set_36 10000 10000\n",
      "set_18 10000 10000\n",
      "set_19 10000 10000\n",
      "set_48 10000 10000\n",
      "set_55 4274 4274\n",
      "set_16 4561 4561\n",
      "set_32 10000 10000\n",
      "set_47 10000 10000\n",
      "set_27 10000 10000\n",
      "set_39 10000 10000\n",
      "set_0 10000 10000\n",
      "set_49 10000 10000\n",
      "set_40 10000 10000\n",
      "set_41 6269 6269\n",
      "set_6 5567 5567\n",
      "set_38 10000 10000\n",
      "set_46 10000 10000\n",
      "set_42 10000 10000\n",
      "set_34 10000 10000\n",
      "set_54 10000 10000\n",
      "set_14 10000 10000\n",
      "set_53 1805 1805\n",
      "set_17 10000 10000\n",
      "set_15 10000 10000\n",
      "set_50 10000 10000\n",
      "set_33 10000 10000\n",
      "set_21 10000 10000\n",
      "set_7 10000 10000\n",
      "set_13 10000 10000\n",
      "set_43 10000 10000\n",
      "set_35 10000 10000\n",
      "set_22 10000 10000\n",
      "set_9 5811 5811\n",
      "set_5 10000 10000\n",
      "set_8 10000 10000\n",
      "set_11 10000 10000\n",
      "set_30 10000 10000\n",
      "set_23 10000 10000\n",
      "set_25 10000 10000\n",
      "set_28 10000 10000\n",
      "set_52 10000 10000\n",
      "set_12 8781 8781\n",
      "set_51 10000 10000\n",
      "set_1 10000 10000\n",
      "set_20 10000 10000\n",
      "set_10 9315 9315\n",
      "set_44 10000 10000\n",
      "set_29 1016 1016\n",
      "set_31 10000 10000\n",
      "set_26 10000 10000\n",
      "set_4 10000 10000\n",
      "set_3 6498 6498\n",
      "set_45 9317 9317\n",
      "Total text annotations: 504044\n",
      "Percentage done: 100.8088 %\n"
     ]
    }
   ],
   "source": [
    "# Text annotations\n",
    "total_text = 0\n",
    "for file in text_path.iterdir():\n",
    "    if file.suffix == \".jsonl\":\n",
    "        df = pd.read_json(file, lines=True)\n",
    "        print(\"_\".join(file.stem.split(\"_\")[1:3]), len(df), df['id'].nunique())\n",
    "        total_text += len(df)\n",
    "        # df.to_json(analysis_path/\"text\"/f\"analysis_{file.name}\", orient=\"records\", lines=True)\n",
    "print(\"Total text annotations:\", total_text)\n",
    "print(\"Percentage done:\", total_text*100/ 500000, \"%\")"
   ]
  },
  {
   "cell_type": "code",
   "execution_count": 6,
   "metadata": {},
   "outputs": [],
   "source": [
    "# Text annotations save to analysis folder\n",
    "save = False\n",
    "if save:\n",
    "    total_text = 0\n",
    "    for file in text_path.iterdir():\n",
    "        if file.suffix == \".jsonl\":\n",
    "            df = pd.read_json(file, lines=True)\n",
    "            df.to_json(analysis_path/\"text\"/f\"analysis_{file.name}\", orient=\"records\", lines=True)"
   ]
  },
  {
   "cell_type": "code",
   "execution_count": null,
   "metadata": {},
   "outputs": [],
   "source": []
  }
 ],
 "metadata": {
  "kernelspec": {
   "display_name": "frame-align",
   "language": "python",
   "name": "python3"
  },
  "language_info": {
   "codemirror_mode": {
    "name": "ipython",
    "version": 3
   },
   "file_extension": ".py",
   "mimetype": "text/x-python",
   "name": "python",
   "nbconvert_exporter": "python",
   "pygments_lexer": "ipython3",
   "version": "3.12.1"
  }
 },
 "nbformat": 4,
 "nbformat_minor": 2
}

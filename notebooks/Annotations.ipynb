{
 "cells": [
  {
   "cell_type": "markdown",
   "metadata": {},
   "source": [
    "## Notebook for Frame Annotation for Image and Text for 200 Sampled data"
   ]
  },
  {
   "cell_type": "markdown",
   "metadata": {},
   "source": [
    "#### Load libraries\n",
    "`pip install pigeonXT-jupyter`"
   ]
  },
  {
   "cell_type": "code",
   "execution_count": 1,
   "metadata": {},
   "outputs": [],
   "source": [
    "import pigeonXT as pixt"
   ]
  },
  {
   "cell_type": "code",
   "execution_count": 2,
   "metadata": {},
   "outputs": [],
   "source": [
    "import pandas as pd\n",
    "import re\n",
    "from pathlib import Path\n",
    "from IPython.display import display, Image"
   ]
  },
  {
   "cell_type": "markdown",
   "metadata": {},
   "source": [
    "## Create sample of 200 text-image which are filtered"
   ]
  },
  {
   "cell_type": "code",
   "execution_count": 3,
   "metadata": {},
   "outputs": [
    {
     "name": "stdout",
     "output_type": "stream",
     "text": [
      "Loaded 200 annotated samples\n"
     ]
    }
   ],
   "source": [
    "analysis_path = Path('/projects/frame_align/data/annotated/analysis')\n",
    "\n",
    "annotated_sample_path = Path('../human_annotation/sampled_annotated_articles_200.csv')\n",
    "sample_200 = pd.read_csv(annotated_sample_path)\n",
    "print(f\"Loaded {len(sample_200)} annotated samples\")"
   ]
  },
  {
   "cell_type": "code",
   "execution_count": 4,
   "metadata": {},
   "outputs": [],
   "source": [
    "# uncomment this if you diont have the data\n",
    "\n",
    "# sample_200 = pd.read_csv(analysis_path.parent.parent / \"sample\"/'sampled_annotated_articles.csv')\n",
    "\n",
    "# sampled_200_csv_file = analysis_path.parent.parent / \"srishti-analysis\"/\"sampled_annotated_articles_200.csv\"\n",
    "\n",
    "# # delete the file if it exists\n",
    "# if sampled_200_csv_file.exists():\n",
    "#     sampled_200_csv_file.unlink()\n",
    "#     print(f\"Existed!Deleted {sampled_200_csv_file}\")\n",
    "\n",
    "# # sample 200 from the annotated articles\n",
    "# sample_200 = sample_200.sample(200, random_state=42)\n",
    "# sample_200.to_csv(analysis_path.parent.parent / \"srishti-analysis\"/\"sampled_annotated_articles_200.csv\", index=False)\n",
    "# print(f\"Saved {sampled_200_csv_file}\")"
   ]
  },
  {
   "cell_type": "markdown",
   "metadata": {},
   "source": [
    "#### Create list of frame names"
   ]
  },
  {
   "cell_type": "code",
   "execution_count": 5,
   "metadata": {},
   "outputs": [
    {
     "name": "stdout",
     "output_type": "stream",
     "text": [
      "Frame length: 15\n"
     ]
    }
   ],
   "source": [
    "# Get Frame names\n",
    "frames = sample_200['text_frame_name'].unique()\n",
    "frames_list = frames.tolist()\n",
    "print(f\"Frame length: {len(frames_list)}\")"
   ]
  },
  {
   "cell_type": "markdown",
   "metadata": {},
   "source": [
    "## Save all 200 sampled images for human annotation\n"
   ]
  },
  {
   "cell_type": "markdown",
   "metadata": {},
   "source": [
    "#### Create path of image directories\n",
    "Go to next block if you lready have images downloaded"
   ]
  },
  {
   "cell_type": "code",
   "execution_count": 6,
   "metadata": {},
   "outputs": [],
   "source": [
    "# all_months = [\"2023-05-01_2023-05-31\", \"2023-06-01_2023-06-30\", \"2023-07-01_2023-07-31\", \"2023-08-01_2023-08-31\", \"2023-09-01_2023-09-30\",\n",
    "#     \"2023-10-01_2023-10-31\", \"2023-11-01_2023-11-30\", \"2023-12-01_2023-12-31\", \"2024-01-01_2024-01-31\", \"2024-02-01_2024-02-29\",\n",
    "#     \"2024-03-01_2024-03-31\", \"2024-04-01_2024-04-30\"]\n",
    "\n",
    "\n",
    "# base_img_dir_1 = Path(\"/projects/frame_align/data/news_img_data/\")\n",
    "# base_img_dir_2 = Path(\"/projects/frame_align/data/img_data/\")\n",
    "\n",
    "# month_dir_paths = [base_img_dir_1 / month for month in all_months] + [base_img_dir_2 / month / 'correct_downloaded_imgs' for month in all_months]\n",
    "# sorted_month_dir_paths = sorted(month_dir_paths)"
   ]
  },
  {
   "cell_type": "markdown",
   "metadata": {},
   "source": [
    "#### Save month and uuids for images"
   ]
  },
  {
   "cell_type": "code",
   "execution_count": 7,
   "metadata": {},
   "outputs": [],
   "source": [
    "# vision_month_uuids = sample_200[['month', 'vision_uuid']]\n",
    "# vision_month_uuids"
   ]
  },
  {
   "cell_type": "markdown",
   "metadata": {},
   "source": [
    "#### Create a list of image paths we sampled"
   ]
  },
  {
   "cell_type": "code",
   "execution_count": 8,
   "metadata": {},
   "outputs": [],
   "source": [
    "# from tqdm import tqdm\n",
    "\n",
    "# existing_files = []\n",
    "\n",
    "# for index, row in tqdm(vision_month_uuids.iterrows(), total=vision_month_uuids.shape[0]):\n",
    "#     month = row['month']\n",
    "#     uuid = row['vision_uuid']\n",
    "#     for dir_path in sorted_month_dir_paths:\n",
    "#         if month in str(dir_path):\n",
    "#             file_path = dir_path / f\"{uuid}.jpg\"\n",
    "#             if file_path.exists():\n",
    "#                 existing_files.append(file_path)"
   ]
  },
  {
   "cell_type": "markdown",
   "metadata": {},
   "source": [
    "#### Copy the images to a new directory which we will use for annotation\n",
    "new image directory= \"../human_annotation/images\""
   ]
  },
  {
   "cell_type": "code",
   "execution_count": 9,
   "metadata": {},
   "outputs": [],
   "source": [
    "# import shutil\n",
    "# from tqdm import tqdm\n",
    "\n",
    "destination_dir = Path(\"../human_annotation/images\")\n",
    "destination_dir.mkdir(parents=True, exist_ok=True)\n",
    "\n",
    "# for file_path in tqdm(existing_files, desc=\"Copying files\"):\n",
    "#     destination = destination_dir / file_path.name\n",
    "#     shutil.copy(file_path, destination)"
   ]
  },
  {
   "cell_type": "code",
   "execution_count": 10,
   "metadata": {},
   "outputs": [
    {
     "name": "stdout",
     "output_type": "stream",
     "text": [
      "Total number of image files: 200\n"
     ]
    }
   ],
   "source": [
    "import glob\n",
    "\n",
    "all_image_paths = glob.glob(str(destination_dir / \"*.jpg\"))\n",
    "print(f\"Total number of image files: {len(all_image_paths)}\")"
   ]
  },
  {
   "cell_type": "markdown",
   "metadata": {},
   "source": [
    "## Image Frame Annotation"
   ]
  },
  {
   "cell_type": "markdown",
   "metadata": {},
   "source": [
    "Using pigeonXT\n",
    "Source: https://github.com/dennisbakhuis/pigeonXT "
   ]
  },
  {
   "cell_type": "code",
   "execution_count": null,
   "metadata": {},
   "outputs": [
    {
     "data": {
      "application/vnd.jupyter.widget-view+json": {
       "model_id": "b358d3bad1a344d6948d487eb5f62fae",
       "version_major": 2,
       "version_minor": 0
      },
      "text/plain": [
       "HTML(value='0 of 200 Examples annotated, Current Position: 0 ')"
      ]
     },
     "metadata": {},
     "output_type": "display_data"
    },
    {
     "data": {
      "application/vnd.jupyter.widget-view+json": {
       "model_id": "91e752c6b82b409e8e28b1e97fecb0d2",
       "version_major": 2,
       "version_minor": 0
      },
      "text/plain": [
       "VBox(children=(HBox(children=(ToggleButton(value=False, description='quality of life'), ToggleButton(value=Fal…"
      ]
     },
     "metadata": {},
     "output_type": "display_data"
    },
    {
     "data": {
      "application/vnd.jupyter.widget-view+json": {
       "model_id": "dad9df839b08400092ea1385c6fc4c26",
       "version_major": 2,
       "version_minor": 0
      },
      "text/plain": [
       "Output()"
      ]
     },
     "metadata": {},
     "output_type": "display_data"
    }
   ],
   "source": [
    "def custom_display(html_content):\n",
    "    html_string = str(html_content)\n",
    "\n",
    "    match = re.search(r'<div>(.*?)</div>', html_string)\n",
    "    if match:\n",
    "        image_path = match.group(1)\n",
    "        # resize the image to 800x800\n",
    "        resized_img = Image(filename=image_path, width=448, height=448)\n",
    "        display(resized_img)\n",
    "        # display(Image(filename=image_path))\n",
    "    else:\n",
    "        print(\"No image path found in HTML content\")\n",
    "\n",
    "\n",
    "image_annotations = pixt.annotate(\n",
    "    all_image_paths,\n",
    "    display_fn=custom_display,\n",
    "    task_type='multilabel-classification',\n",
    "    options=frames_list, # to do: how to display full options. it gets cut off for long options\n",
    ")"
   ]
  },
  {
   "cell_type": "code",
   "execution_count": 32,
   "metadata": {},
   "outputs": [],
   "source": [
    "FRAMES = \"\"\"\n",
    "    1: Economic - costs, benefits, or other financial implications,\n",
    "    2: Capacity and resources - availability of physical, human, or financial resources, and capacity of current systems, \n",
    "    3: Morality - religious or ethical implications,\n",
    "    4: Fairness and equality - balance or distribution of rights, responsibilities, and resources,\n",
    "    5: Legality, constitutionality and jurisprudence - rights, freedoms, and authority of individuals, corporations, and government,\n",
    "    6: Policy prescription and evaluation - discussion of specific policies aimed at addressing problems\n",
    "    7: Crime and punishment - effectiveness and implications of laws and their enforcement,\n",
    "    8: Security and defense - threats to welfare of the individual, community, or nation,\n",
    "    9: Health and safety - health care, sanitation, public safety,\n",
    "    10: Quality of life - threats and opportunities for the individual's wealth, happiness, and well-being,\n",
    "    11: Cultural identity - traditions, customs, or values of a social group in relation to a policy issue,\n",
    "    12: Public opinion - attitudes and opinions of the general public, including polling and demographics,\n",
    "    13: Political - considerations related to politics and politicians, including lobbying, elections, and attempts to sway voters,\n",
    "    14: External regulation and reputation - international reputation or foreign policy of the U.S,\n",
    "    15: Other - any coherent group of frames not covered by the above categories.\"\"\""
   ]
  },
  {
   "cell_type": "markdown",
   "metadata": {},
   "source": [
    "#### Image_annotation saved to a csv file"
   ]
  },
  {
   "cell_type": "code",
   "execution_count": null,
   "metadata": {},
   "outputs": [
    {
     "name": "stdout",
     "output_type": "stream",
     "text": [
      "Existed!Deleted ../human_annotation/image_annotations_srishti.csv\n",
      "Saved ../human_annotation/image_annotations_srishti.csv\n"
     ]
    }
   ],
   "source": [
    "image_annotations_file = '../human_annotation/image_annotations_maria.csv'\n",
    "#delete the file if it exists\n",
    "if Path(image_annotations_file).exists():\n",
    "    Path(image_annotations_file).unlink()\n",
    "    print(f\"Existed!Deleted {image_annotations_file}\")\n",
    "    \n",
    "image_annotations.to_csv(image_annotations_file, index=False)\n",
    "print(f\"Saved {image_annotations_file}\")"
   ]
  },
  {
   "cell_type": "markdown",
   "metadata": {},
   "source": [
    "### Accuracy"
   ]
  },
  {
   "cell_type": "code",
   "execution_count": 35,
   "metadata": {},
   "outputs": [],
   "source": [
    "# from pathlib import Path\n",
    "import pandas as pd\n",
    "\n",
    "\n",
    "filename = Path('../human_annotation/image_annotations_srishti.csv')\n",
    "filename_df = pd.read_csv(filename)\n",
    "filename_df = filename_df.iloc[0:100]"
   ]
  },
  {
   "cell_type": "markdown",
   "metadata": {},
   "source": [
    "Get frames per uuid for annotation"
   ]
  },
  {
   "cell_type": "code",
   "execution_count": 36,
   "metadata": {},
   "outputs": [
    {
     "data": {
      "text/html": [
       "<div>\n",
       "<style scoped>\n",
       "    .dataframe tbody tr th:only-of-type {\n",
       "        vertical-align: middle;\n",
       "    }\n",
       "\n",
       "    .dataframe tbody tr th {\n",
       "        vertical-align: top;\n",
       "    }\n",
       "\n",
       "    .dataframe thead th {\n",
       "        text-align: right;\n",
       "    }\n",
       "</style>\n",
       "<table border=\"1\" class=\"dataframe\">\n",
       "  <thead>\n",
       "    <tr style=\"text-align: right;\">\n",
       "      <th></th>\n",
       "      <th>example</th>\n",
       "      <th>changed</th>\n",
       "      <th>quality of life</th>\n",
       "      <th>capacity and resources</th>\n",
       "      <th>political</th>\n",
       "      <th>security and defense</th>\n",
       "      <th>policy prescription and evaluation</th>\n",
       "      <th>fairness and equality</th>\n",
       "      <th>other</th>\n",
       "      <th>health and safety</th>\n",
       "      <th>legality, constitutionality and jurisprudence</th>\n",
       "      <th>morality</th>\n",
       "      <th>economic</th>\n",
       "      <th>public opinion</th>\n",
       "      <th>cultural identity</th>\n",
       "      <th>external regulation and reputation</th>\n",
       "      <th>crime and punishment</th>\n",
       "      <th>labels</th>\n",
       "      <th>uuid</th>\n",
       "    </tr>\n",
       "  </thead>\n",
       "  <tbody>\n",
       "    <tr>\n",
       "      <th>0</th>\n",
       "      <td>../human_annotation/images/17e639d0-f9c1-4ce8-...</td>\n",
       "      <td>True</td>\n",
       "      <td>True</td>\n",
       "      <td>False</td>\n",
       "      <td>False</td>\n",
       "      <td>False</td>\n",
       "      <td>False</td>\n",
       "      <td>False</td>\n",
       "      <td>False</td>\n",
       "      <td>False</td>\n",
       "      <td>False</td>\n",
       "      <td>False</td>\n",
       "      <td>False</td>\n",
       "      <td>False</td>\n",
       "      <td>False</td>\n",
       "      <td>False</td>\n",
       "      <td>False</td>\n",
       "      <td>[quality of life]</td>\n",
       "      <td>17e639d0-f9c1-4ce8-ad56-c74cd4cd1165</td>\n",
       "    </tr>\n",
       "    <tr>\n",
       "      <th>1</th>\n",
       "      <td>../human_annotation/images/cdc09317-a5f2-4af7-...</td>\n",
       "      <td>True</td>\n",
       "      <td>False</td>\n",
       "      <td>False</td>\n",
       "      <td>True</td>\n",
       "      <td>True</td>\n",
       "      <td>True</td>\n",
       "      <td>False</td>\n",
       "      <td>False</td>\n",
       "      <td>False</td>\n",
       "      <td>False</td>\n",
       "      <td>False</td>\n",
       "      <td>False</td>\n",
       "      <td>False</td>\n",
       "      <td>False</td>\n",
       "      <td>False</td>\n",
       "      <td>False</td>\n",
       "      <td>[political, security and defense, policy presc...</td>\n",
       "      <td>cdc09317-a5f2-4af7-9fc3-a4f3cae0c1d0</td>\n",
       "    </tr>\n",
       "    <tr>\n",
       "      <th>2</th>\n",
       "      <td>../human_annotation/images/c69cfe52-e928-4dc3-...</td>\n",
       "      <td>True</td>\n",
       "      <td>True</td>\n",
       "      <td>False</td>\n",
       "      <td>False</td>\n",
       "      <td>False</td>\n",
       "      <td>False</td>\n",
       "      <td>False</td>\n",
       "      <td>False</td>\n",
       "      <td>False</td>\n",
       "      <td>False</td>\n",
       "      <td>False</td>\n",
       "      <td>False</td>\n",
       "      <td>False</td>\n",
       "      <td>False</td>\n",
       "      <td>False</td>\n",
       "      <td>False</td>\n",
       "      <td>[quality of life]</td>\n",
       "      <td>c69cfe52-e928-4dc3-b36b-cf2c9e081e0f</td>\n",
       "    </tr>\n",
       "    <tr>\n",
       "      <th>3</th>\n",
       "      <td>../human_annotation/images/1980de34-e867-4b9b-...</td>\n",
       "      <td>True</td>\n",
       "      <td>False</td>\n",
       "      <td>False</td>\n",
       "      <td>True</td>\n",
       "      <td>False</td>\n",
       "      <td>False</td>\n",
       "      <td>False</td>\n",
       "      <td>False</td>\n",
       "      <td>False</td>\n",
       "      <td>False</td>\n",
       "      <td>False</td>\n",
       "      <td>False</td>\n",
       "      <td>False</td>\n",
       "      <td>False</td>\n",
       "      <td>False</td>\n",
       "      <td>False</td>\n",
       "      <td>[political]</td>\n",
       "      <td>1980de34-e867-4b9b-9eed-113a831f0266</td>\n",
       "    </tr>\n",
       "    <tr>\n",
       "      <th>4</th>\n",
       "      <td>../human_annotation/images/0416eb08-005f-44ba-...</td>\n",
       "      <td>True</td>\n",
       "      <td>False</td>\n",
       "      <td>False</td>\n",
       "      <td>False</td>\n",
       "      <td>False</td>\n",
       "      <td>False</td>\n",
       "      <td>False</td>\n",
       "      <td>False</td>\n",
       "      <td>False</td>\n",
       "      <td>False</td>\n",
       "      <td>False</td>\n",
       "      <td>False</td>\n",
       "      <td>False</td>\n",
       "      <td>True</td>\n",
       "      <td>False</td>\n",
       "      <td>False</td>\n",
       "      <td>[cultural identity]</td>\n",
       "      <td>0416eb08-005f-44ba-aec8-ca0ee5e3faaa</td>\n",
       "    </tr>\n",
       "  </tbody>\n",
       "</table>\n",
       "</div>"
      ],
      "text/plain": [
       "                                             example  changed  \\\n",
       "0  ../human_annotation/images/17e639d0-f9c1-4ce8-...     True   \n",
       "1  ../human_annotation/images/cdc09317-a5f2-4af7-...     True   \n",
       "2  ../human_annotation/images/c69cfe52-e928-4dc3-...     True   \n",
       "3  ../human_annotation/images/1980de34-e867-4b9b-...     True   \n",
       "4  ../human_annotation/images/0416eb08-005f-44ba-...     True   \n",
       "\n",
       "   quality of life  capacity and resources  political  security and defense  \\\n",
       "0             True                   False      False                 False   \n",
       "1            False                   False       True                  True   \n",
       "2             True                   False      False                 False   \n",
       "3            False                   False       True                 False   \n",
       "4            False                   False      False                 False   \n",
       "\n",
       "   policy prescription and evaluation  fairness and equality  other  \\\n",
       "0                               False                  False  False   \n",
       "1                                True                  False  False   \n",
       "2                               False                  False  False   \n",
       "3                               False                  False  False   \n",
       "4                               False                  False  False   \n",
       "\n",
       "   health and safety  legality, constitutionality and jurisprudence  morality  \\\n",
       "0              False                                          False     False   \n",
       "1              False                                          False     False   \n",
       "2              False                                          False     False   \n",
       "3              False                                          False     False   \n",
       "4              False                                          False     False   \n",
       "\n",
       "   economic  public opinion  cultural identity  \\\n",
       "0     False           False              False   \n",
       "1     False           False              False   \n",
       "2     False           False              False   \n",
       "3     False           False              False   \n",
       "4     False           False               True   \n",
       "\n",
       "   external regulation and reputation  crime and punishment  \\\n",
       "0                               False                 False   \n",
       "1                               False                 False   \n",
       "2                               False                 False   \n",
       "3                               False                 False   \n",
       "4                               False                 False   \n",
       "\n",
       "                                              labels  \\\n",
       "0                                  [quality of life]   \n",
       "1  [political, security and defense, policy presc...   \n",
       "2                                  [quality of life]   \n",
       "3                                        [political]   \n",
       "4                                [cultural identity]   \n",
       "\n",
       "                                   uuid  \n",
       "0  17e639d0-f9c1-4ce8-ad56-c74cd4cd1165  \n",
       "1  cdc09317-a5f2-4af7-9fc3-a4f3cae0c1d0  \n",
       "2  c69cfe52-e928-4dc3-b36b-cf2c9e081e0f  \n",
       "3  1980de34-e867-4b9b-9eed-113a831f0266  \n",
       "4  0416eb08-005f-44ba-aec8-ca0ee5e3faaa  "
      ]
     },
     "execution_count": 36,
     "metadata": {},
     "output_type": "execute_result"
    }
   ],
   "source": [
    "# filename_df = filename_df.drop(columns=['changed'])\n",
    "filename_df['labels'] = filename_df.apply(lambda row: [col for col in filename_df.columns[2:] if row[col] == True], axis=1)\n",
    "filename_df['uuid'] = filename_df['example'].apply(lambda x: x.split('/')[-1].split('.')[0])\n",
    "filename_df.head()"
   ]
  },
  {
   "cell_type": "code",
   "execution_count": null,
   "metadata": {},
   "outputs": [
    {
     "data": {
      "text/html": [
       "<div>\n",
       "<style scoped>\n",
       "    .dataframe tbody tr th:only-of-type {\n",
       "        vertical-align: middle;\n",
       "    }\n",
       "\n",
       "    .dataframe tbody tr th {\n",
       "        vertical-align: top;\n",
       "    }\n",
       "\n",
       "    .dataframe thead th {\n",
       "        text-align: right;\n",
       "    }\n",
       "</style>\n",
       "<table border=\"1\" class=\"dataframe\">\n",
       "  <thead>\n",
       "    <tr style=\"text-align: right;\">\n",
       "      <th></th>\n",
       "      <th>vision_uuid</th>\n",
       "      <th>vision_frame-name</th>\n",
       "      <th>uuid</th>\n",
       "      <th>labels</th>\n",
       "    </tr>\n",
       "  </thead>\n",
       "  <tbody>\n",
       "    <tr>\n",
       "      <th>0</th>\n",
       "      <td>0416eb08-005f-44ba-aec8-ca0ee5e3faaa</td>\n",
       "      <td>health and safety</td>\n",
       "      <td>0416eb08-005f-44ba-aec8-ca0ee5e3faaa</td>\n",
       "      <td>[cultural identity]</td>\n",
       "    </tr>\n",
       "    <tr>\n",
       "      <th>1</th>\n",
       "      <td>ea16e806-d15f-41ba-9146-064f2c8f7ece</td>\n",
       "      <td>morality</td>\n",
       "      <td>ea16e806-d15f-41ba-9146-064f2c8f7ece</td>\n",
       "      <td>[quality of life]</td>\n",
       "    </tr>\n",
       "    <tr>\n",
       "      <th>2</th>\n",
       "      <td>89e378c2-efce-4100-8ce0-736f326280e8</td>\n",
       "      <td>economic</td>\n",
       "      <td>89e378c2-efce-4100-8ce0-736f326280e8</td>\n",
       "      <td>[political]</td>\n",
       "    </tr>\n",
       "    <tr>\n",
       "      <th>3</th>\n",
       "      <td>9ebdbfbc-cd8f-4c8b-b85f-4cf27e2b1196</td>\n",
       "      <td>political</td>\n",
       "      <td>9ebdbfbc-cd8f-4c8b-b85f-4cf27e2b1196</td>\n",
       "      <td>[fairness and equality, public opinion]</td>\n",
       "    </tr>\n",
       "    <tr>\n",
       "      <th>4</th>\n",
       "      <td>34313b5b-991b-4566-9b91-e0064d6aa1c4</td>\n",
       "      <td>economic</td>\n",
       "      <td>34313b5b-991b-4566-9b91-e0064d6aa1c4</td>\n",
       "      <td>[fairness and equality, legality, constitution...</td>\n",
       "    </tr>\n",
       "    <tr>\n",
       "      <th>5</th>\n",
       "      <td>cb5f118c-0231-4383-9832-aa9ffedced8d</td>\n",
       "      <td>economic</td>\n",
       "      <td>cb5f118c-0231-4383-9832-aa9ffedced8d</td>\n",
       "      <td>[cultural identity]</td>\n",
       "    </tr>\n",
       "    <tr>\n",
       "      <th>6</th>\n",
       "      <td>b17e6119-f679-4c01-b615-4b18b29e8525</td>\n",
       "      <td>economic</td>\n",
       "      <td>b17e6119-f679-4c01-b615-4b18b29e8525</td>\n",
       "      <td>[quality of life]</td>\n",
       "    </tr>\n",
       "    <tr>\n",
       "      <th>7</th>\n",
       "      <td>cf474ef5-65bb-43e0-af43-dc9fafe352ed</td>\n",
       "      <td>cultural identity</td>\n",
       "      <td>cf474ef5-65bb-43e0-af43-dc9fafe352ed</td>\n",
       "      <td>[quality of life]</td>\n",
       "    </tr>\n",
       "    <tr>\n",
       "      <th>8</th>\n",
       "      <td>078141aa-ed63-4c85-a8a9-417b004e4381</td>\n",
       "      <td>cultural identity</td>\n",
       "      <td>078141aa-ed63-4c85-a8a9-417b004e4381</td>\n",
       "      <td>[other]</td>\n",
       "    </tr>\n",
       "    <tr>\n",
       "      <th>9</th>\n",
       "      <td>43bf4fb8-0f60-4e16-9c6f-aff3af243d69</td>\n",
       "      <td>legality, constitutionality and jurisprudence</td>\n",
       "      <td>43bf4fb8-0f60-4e16-9c6f-aff3af243d69</td>\n",
       "      <td>[other]</td>\n",
       "    </tr>\n",
       "    <tr>\n",
       "      <th>10</th>\n",
       "      <td>5822cce1-70ab-48c7-93f9-ab1ad0e98870</td>\n",
       "      <td>crime and punishment</td>\n",
       "      <td>5822cce1-70ab-48c7-93f9-ab1ad0e98870</td>\n",
       "      <td>[health and safety, crime and punishment]</td>\n",
       "    </tr>\n",
       "    <tr>\n",
       "      <th>11</th>\n",
       "      <td>5d7a3e3e-71ed-4c85-91ae-044eb019bd91</td>\n",
       "      <td>legality, constitutionality and jurisprudence</td>\n",
       "      <td>5d7a3e3e-71ed-4c85-91ae-044eb019bd91</td>\n",
       "      <td>[health and safety]</td>\n",
       "    </tr>\n",
       "    <tr>\n",
       "      <th>12</th>\n",
       "      <td>cdc09317-a5f2-4af7-9fc3-a4f3cae0c1d0</td>\n",
       "      <td>legality, constitutionality and jurisprudence</td>\n",
       "      <td>cdc09317-a5f2-4af7-9fc3-a4f3cae0c1d0</td>\n",
       "      <td>[political, security and defense, policy presc...</td>\n",
       "    </tr>\n",
       "    <tr>\n",
       "      <th>13</th>\n",
       "      <td>b35356ec-9f13-4b97-abbd-a12eb4abd691</td>\n",
       "      <td>political</td>\n",
       "      <td>b35356ec-9f13-4b97-abbd-a12eb4abd691</td>\n",
       "      <td>[other]</td>\n",
       "    </tr>\n",
       "    <tr>\n",
       "      <th>14</th>\n",
       "      <td>a3fc5eab-14ec-4918-8738-b4395f2d22a6</td>\n",
       "      <td>political</td>\n",
       "      <td>a3fc5eab-14ec-4918-8738-b4395f2d22a6</td>\n",
       "      <td>[quality of life, economic]</td>\n",
       "    </tr>\n",
       "    <tr>\n",
       "      <th>15</th>\n",
       "      <td>5938ffba-ec74-47af-8ea3-8d062ff245a1</td>\n",
       "      <td>political</td>\n",
       "      <td>5938ffba-ec74-47af-8ea3-8d062ff245a1</td>\n",
       "      <td>[quality of life]</td>\n",
       "    </tr>\n",
       "    <tr>\n",
       "      <th>16</th>\n",
       "      <td>a622baef-b026-464e-8dfd-1213511ec554</td>\n",
       "      <td>political</td>\n",
       "      <td>a622baef-b026-464e-8dfd-1213511ec554</td>\n",
       "      <td>[other]</td>\n",
       "    </tr>\n",
       "    <tr>\n",
       "      <th>17</th>\n",
       "      <td>e5ca8747-e755-4bd6-a56e-faa452d62026</td>\n",
       "      <td>legality, constitutionality and jurisprudence</td>\n",
       "      <td>e5ca8747-e755-4bd6-a56e-faa452d62026</td>\n",
       "      <td>[crime and punishment]</td>\n",
       "    </tr>\n",
       "    <tr>\n",
       "      <th>18</th>\n",
       "      <td>e4de58d6-9f84-4b16-8b62-10ccc74b02ad</td>\n",
       "      <td>crime and punishment</td>\n",
       "      <td>e4de58d6-9f84-4b16-8b62-10ccc74b02ad</td>\n",
       "      <td>[cultural identity]</td>\n",
       "    </tr>\n",
       "    <tr>\n",
       "      <th>19</th>\n",
       "      <td>daf17368-4e23-4558-82c4-ac0e1877123a</td>\n",
       "      <td>external regulation and reputation</td>\n",
       "      <td>daf17368-4e23-4558-82c4-ac0e1877123a</td>\n",
       "      <td>[quality of life]</td>\n",
       "    </tr>\n",
       "  </tbody>\n",
       "</table>\n",
       "</div>"
      ],
      "text/plain": [
       "                             vision_uuid  \\\n",
       "0   0416eb08-005f-44ba-aec8-ca0ee5e3faaa   \n",
       "1   ea16e806-d15f-41ba-9146-064f2c8f7ece   \n",
       "2   89e378c2-efce-4100-8ce0-736f326280e8   \n",
       "3   9ebdbfbc-cd8f-4c8b-b85f-4cf27e2b1196   \n",
       "4   34313b5b-991b-4566-9b91-e0064d6aa1c4   \n",
       "5   cb5f118c-0231-4383-9832-aa9ffedced8d   \n",
       "6   b17e6119-f679-4c01-b615-4b18b29e8525   \n",
       "7   cf474ef5-65bb-43e0-af43-dc9fafe352ed   \n",
       "8   078141aa-ed63-4c85-a8a9-417b004e4381   \n",
       "9   43bf4fb8-0f60-4e16-9c6f-aff3af243d69   \n",
       "10  5822cce1-70ab-48c7-93f9-ab1ad0e98870   \n",
       "11  5d7a3e3e-71ed-4c85-91ae-044eb019bd91   \n",
       "12  cdc09317-a5f2-4af7-9fc3-a4f3cae0c1d0   \n",
       "13  b35356ec-9f13-4b97-abbd-a12eb4abd691   \n",
       "14  a3fc5eab-14ec-4918-8738-b4395f2d22a6   \n",
       "15  5938ffba-ec74-47af-8ea3-8d062ff245a1   \n",
       "16  a622baef-b026-464e-8dfd-1213511ec554   \n",
       "17  e5ca8747-e755-4bd6-a56e-faa452d62026   \n",
       "18  e4de58d6-9f84-4b16-8b62-10ccc74b02ad   \n",
       "19  daf17368-4e23-4558-82c4-ac0e1877123a   \n",
       "\n",
       "                                vision_frame-name  \\\n",
       "0                               health and safety   \n",
       "1                                        morality   \n",
       "2                                        economic   \n",
       "3                                       political   \n",
       "4                                        economic   \n",
       "5                                        economic   \n",
       "6                                        economic   \n",
       "7                               cultural identity   \n",
       "8                               cultural identity   \n",
       "9   legality, constitutionality and jurisprudence   \n",
       "10                           crime and punishment   \n",
       "11  legality, constitutionality and jurisprudence   \n",
       "12  legality, constitutionality and jurisprudence   \n",
       "13                                      political   \n",
       "14                                      political   \n",
       "15                                      political   \n",
       "16                                      political   \n",
       "17  legality, constitutionality and jurisprudence   \n",
       "18                           crime and punishment   \n",
       "19             external regulation and reputation   \n",
       "\n",
       "                                    uuid  \\\n",
       "0   0416eb08-005f-44ba-aec8-ca0ee5e3faaa   \n",
       "1   ea16e806-d15f-41ba-9146-064f2c8f7ece   \n",
       "2   89e378c2-efce-4100-8ce0-736f326280e8   \n",
       "3   9ebdbfbc-cd8f-4c8b-b85f-4cf27e2b1196   \n",
       "4   34313b5b-991b-4566-9b91-e0064d6aa1c4   \n",
       "5   cb5f118c-0231-4383-9832-aa9ffedced8d   \n",
       "6   b17e6119-f679-4c01-b615-4b18b29e8525   \n",
       "7   cf474ef5-65bb-43e0-af43-dc9fafe352ed   \n",
       "8   078141aa-ed63-4c85-a8a9-417b004e4381   \n",
       "9   43bf4fb8-0f60-4e16-9c6f-aff3af243d69   \n",
       "10  5822cce1-70ab-48c7-93f9-ab1ad0e98870   \n",
       "11  5d7a3e3e-71ed-4c85-91ae-044eb019bd91   \n",
       "12  cdc09317-a5f2-4af7-9fc3-a4f3cae0c1d0   \n",
       "13  b35356ec-9f13-4b97-abbd-a12eb4abd691   \n",
       "14  a3fc5eab-14ec-4918-8738-b4395f2d22a6   \n",
       "15  5938ffba-ec74-47af-8ea3-8d062ff245a1   \n",
       "16  a622baef-b026-464e-8dfd-1213511ec554   \n",
       "17  e5ca8747-e755-4bd6-a56e-faa452d62026   \n",
       "18  e4de58d6-9f84-4b16-8b62-10ccc74b02ad   \n",
       "19  daf17368-4e23-4558-82c4-ac0e1877123a   \n",
       "\n",
       "                                               labels  \n",
       "0                                 [cultural identity]  \n",
       "1                                   [quality of life]  \n",
       "2                                         [political]  \n",
       "3             [fairness and equality, public opinion]  \n",
       "4   [fairness and equality, legality, constitution...  \n",
       "5                                 [cultural identity]  \n",
       "6                                   [quality of life]  \n",
       "7                                   [quality of life]  \n",
       "8                                             [other]  \n",
       "9                                             [other]  \n",
       "10          [health and safety, crime and punishment]  \n",
       "11                                [health and safety]  \n",
       "12  [political, security and defense, policy presc...  \n",
       "13                                            [other]  \n",
       "14                        [quality of life, economic]  \n",
       "15                                  [quality of life]  \n",
       "16                                            [other]  \n",
       "17                             [crime and punishment]  \n",
       "18                                [cultural identity]  \n",
       "19                                  [quality of life]  "
      ]
     },
     "execution_count": 38,
     "metadata": {},
     "output_type": "execute_result"
    }
   ],
   "source": [
    "merged_df = sample_200.iloc[:100][['vision_uuid', 'vision_frame-name']].merge(filename_df[['uuid', 'labels']], left_on='vision_uuid', right_on='uuid')\n",
    "merged_df.head(20)"
   ]
  },
  {
   "cell_type": "markdown",
   "metadata": {},
   "source": [
    "Accuracy"
   ]
  },
  {
   "cell_type": "code",
   "execution_count": 39,
   "metadata": {},
   "outputs": [
    {
     "name": "stdout",
     "output_type": "stream",
     "text": [
      "Accuracy: 0.14583333333333334\n"
     ]
    }
   ],
   "source": [
    "accuracy = 0\n",
    "for idx, row in merged_df.iterrows():\n",
    "    if row['vision_frame-name'] in row['labels']:\n",
    "        accuracy += 1\n",
    "    \n",
    "print(f\"Accuracy: {accuracy/len(merged_df)}\")"
   ]
  },
  {
   "cell_type": "markdown",
   "metadata": {},
   "source": [
    "-----------------------------------------"
   ]
  },
  {
   "cell_type": "markdown",
   "metadata": {},
   "source": [
    "## Text Frame Annotations"
   ]
  },
  {
   "cell_type": "markdown",
   "metadata": {},
   "source": [
    "#### Make list of headlines from the sampled data"
   ]
  },
  {
   "cell_type": "code",
   "execution_count": null,
   "metadata": {},
   "outputs": [],
   "source": [
    "samples_txt = pd.read_csv(\"../human_annotation/sampled_annotated_articles_200.csv\") # add your file path here\n",
    "sample_headlines = samples_txt['title'].tolist()"
   ]
  },
  {
   "cell_type": "markdown",
   "metadata": {},
   "source": [
    "#### Text frame annotation"
   ]
  },
  {
   "cell_type": "code",
   "execution_count": null,
   "metadata": {},
   "outputs": [],
   "source": [
    "text_annotations = pixt.annotate(\n",
    "    sample_headlines,\n",
    "    options=frames_list,\n",
    "    reset_buttons_after_click=True\n",
    ")"
   ]
  },
  {
   "cell_type": "markdown",
   "metadata": {},
   "source": [
    "#### Save text annotations to a csv file"
   ]
  },
  {
   "cell_type": "code",
   "execution_count": null,
   "metadata": {},
   "outputs": [],
   "source": [
    "text_annotations_file = \"../human_annotation/text_annotations.csv\"\n",
    "#delete the file if it exists\n",
    "if Path(text_annotations_file).exists():\n",
    "    Path(text_annotations_file).unlink()\n",
    "    print(f\"Existed!Deleted {text_annotations_file}\")\n",
    "    \n",
    "text_annotations.to_csv(text_annotations_file, index=False)\n",
    "print(f\"Saved {text_annotations_file}\")\n"
   ]
  }
 ],
 "metadata": {
  "kernelspec": {
   "display_name": "frame-cluster-env",
   "language": "python",
   "name": "python3"
  },
  "language_info": {
   "codemirror_mode": {
    "name": "ipython",
    "version": 3
   },
   "file_extension": ".py",
   "mimetype": "text/x-python",
   "name": "python",
   "nbconvert_exporter": "python",
   "pygments_lexer": "ipython3",
   "version": "3.9.9"
  }
 },
 "nbformat": 4,
 "nbformat_minor": 2
}

{
 "cells": [
  {
   "cell_type": "code",
   "execution_count": 1,
   "metadata": {},
   "outputs": [],
   "source": [
    "import pigeonXT as pixt"
   ]
  },
  {
   "cell_type": "code",
   "execution_count": 3,
   "metadata": {},
   "outputs": [],
   "source": [
    "import pandas as pd\n",
    "import re\n",
    "from pathlib import Path\n",
    "from IPython.display import display, Image\n"
   ]
  },
  {
   "cell_type": "code",
   "execution_count": 6,
   "metadata": {},
   "outputs": [],
   "source": [
    "analysis_path = Path('/projects/frame_align/data/annotated/analysis')\n",
    "sample_200 = pd.read_csv(analysis_path.parent.parent / \"sample\"/'sampled_annotated_articles.csv')\n",
    "\n",
    "\n",
    "# sample 200 from the annotated articles. seed 42\n",
    "sample_200 = sample_200.sample(200, random_state=42)\n",
    "sample_200.to_csv(analysis_path.parent.parent / \"srishti-analysis\"/\"sampled_annotated_articles_200.csv\", index=False)"
   ]
  },
  {
   "cell_type": "markdown",
   "metadata": {},
   "source": [
    "Using pigeonXT\n",
    "Source: https://github.com/dennisbakhuis/pigeonXT "
   ]
  },
  {
   "cell_type": "code",
   "execution_count": 8,
   "metadata": {},
   "outputs": [],
   "source": [
    "# def custom_display(html_content):\n",
    "#     # Convert HTML object to string\n",
    "#     html_string = str(html_content)\n",
    "\n",
    "#     # Use regular expression to extract the text inside <div> tags\n",
    "#     match = re.search(r'<div>(.*?)</div>', html_string)\n",
    "#     if match:\n",
    "#         image_path = match.group(1)\n",
    "#         # resize the image to 512x512\n",
    "#         resized_img = Image(filename=image_path, width=224, height=224)\n",
    "#         display(resized_img)\n",
    "#         # display(Image(filename=image_path))\n",
    "#     else:\n",
    "#         print(\"No image path found in HTML content\")\n",
    "\n",
    "\n",
    "# image_annotations = pixt.annotate(\n",
    "#     ['1.png', '2.png'],\n",
    "#     display_fn=custom_display,\n",
    "#     task_type='multilabel-classification',\n",
    "#     options=['good', 'bad', 'ugly'],\n",
    "# )\n",
    "\n"
   ]
  },
  {
   "cell_type": "code",
   "execution_count": 9,
   "metadata": {},
   "outputs": [],
   "source": [
    "# image_annotations\n",
    "# # canbe saved to a csv file\n",
    "# # image_annotations.to_csv('annotations.csv', index=False)"
   ]
  },
  {
   "cell_type": "code",
   "execution_count": 10,
   "metadata": {},
   "outputs": [],
   "source": [
    "# type(image_annotations)"
   ]
  },
  {
   "cell_type": "code",
   "execution_count": null,
   "metadata": {},
   "outputs": [],
   "source": [
    "samples_txt = pd.read_csv(\"../human_annotation/sampled_annotated_articles_200.csv\") # add your file path here\n",
    "sample_headlines = samples_txt['title'].tolist()"
   ]
  },
  {
   "cell_type": "code",
   "execution_count": 21,
   "metadata": {},
   "outputs": [
    {
     "data": {
      "text/plain": [
       "Index(['text_id', 'text_topic', 'text_topic_justification', 'text_summary',\n",
       "       'text_entity_name', 'text_justification_entity_sentiment',\n",
       "       'text_entity_sentiment', 'text_frame_justification', 'text_frame_id',\n",
       "       'text_frame_name', 'text_tone', 'text_justification_tone',\n",
       "       'text_issue_frame', 'text_issue_frame_justification', 'vision_caption',\n",
       "       'vision_main-actor', 'vision_sentiment',\n",
       "       'vision_sentiment-justification', 'vision_facial-expression',\n",
       "       'vision_facial-expression-justification', 'vision_perceivable-gender',\n",
       "       'vision_perceivable-gender-justification', 'vision_symbolic-object',\n",
       "       'vision_symbolic-meaning', 'vision_symbolic-meaning-explanation',\n",
       "       'vision_frame-id', 'vision_frame-name', 'vision_frame-justification',\n",
       "       'vision_image_url', 'vision_title', 'vision_uuid', 'topic',\n",
       "       'auto_topic_label', 'id', 'authors', 'date_download', 'date_modify',\n",
       "       'date_publish', 'description', 'filename', 'image_url', 'language',\n",
       "       'localpath', 'maintext', 'source_domain', 'title', 'title_page',\n",
       "       'title_rss', 'url', 'month', 'topic_label', 'text_length'],\n",
       "      dtype='object')"
      ]
     },
     "execution_count": 21,
     "metadata": {},
     "output_type": "execute_result"
    }
   ],
   "source": [
    "samples_txt.columns "
   ]
  },
  {
   "cell_type": "code",
   "execution_count": 27,
   "metadata": {},
   "outputs": [],
   "source": [
    "text_frames = samples_txt['text_frame_name'].unique()\n",
    "text_frames_list = text_frames.tolist()"
   ]
  },
  {
   "cell_type": "code",
   "execution_count": 28,
   "metadata": {},
   "outputs": [
    {
     "data": {
      "text/plain": [
       "['quality of life',\n",
       " 'capacity and resources',\n",
       " 'political',\n",
       " 'security and defense',\n",
       " 'policy prescription and evaluation',\n",
       " 'fairness and equality',\n",
       " 'other',\n",
       " 'health and safety',\n",
       " 'legality, constitutionality and jurisprudence',\n",
       " 'morality',\n",
       " 'economic',\n",
       " 'public opinion',\n",
       " 'cultural identity',\n",
       " 'external regulation and reputation',\n",
       " 'crime and punishment']"
      ]
     },
     "execution_count": 28,
     "metadata": {},
     "output_type": "execute_result"
    }
   ],
   "source": [
    "text_frames_list"
   ]
  },
  {
   "cell_type": "code",
   "execution_count": 29,
   "metadata": {},
   "outputs": [
    {
     "data": {
      "application/vnd.jupyter.widget-view+json": {
       "model_id": "30462013599646f2a097df2a34414feb",
       "version_major": 2,
       "version_minor": 0
      },
      "text/plain": [
       "HTML(value='0 of 200 Examples annotated, Current Position: 0 ')"
      ]
     },
     "metadata": {},
     "output_type": "display_data"
    },
    {
     "data": {
      "application/vnd.jupyter.widget-view+json": {
       "model_id": "6bc5fffbe98649edbe1f554879bb49c1",
       "version_major": 2,
       "version_minor": 0
      },
      "text/plain": [
       "VBox(children=(HBox(children=(Button(description='quality of life', style=ButtonStyle()), Button(description='…"
      ]
     },
     "metadata": {},
     "output_type": "display_data"
    },
    {
     "data": {
      "application/vnd.jupyter.widget-view+json": {
       "model_id": "c84ee99fe7cc4328bad82b698a6c1873",
       "version_major": 2,
       "version_minor": 0
      },
      "text/plain": [
       "Output()"
      ]
     },
     "metadata": {},
     "output_type": "display_data"
    }
   ],
   "source": [
    "text_annotations = pixt.annotate(\n",
    "    sample_headlines,\n",
    "    options=text_frames_list,\n",
    "    reset_buttons_after_click=True\n",
    ")"
   ]
  },
  {
   "cell_type": "code",
   "execution_count": null,
   "metadata": {},
   "outputs": [
    {
     "data": {
      "text/html": [
       "<div>\n",
       "<style scoped>\n",
       "    .dataframe tbody tr th:only-of-type {\n",
       "        vertical-align: middle;\n",
       "    }\n",
       "\n",
       "    .dataframe tbody tr th {\n",
       "        vertical-align: top;\n",
       "    }\n",
       "\n",
       "    .dataframe thead th {\n",
       "        text-align: right;\n",
       "    }\n",
       "</style>\n",
       "<table border=\"1\" class=\"dataframe\">\n",
       "  <thead>\n",
       "    <tr style=\"text-align: right;\">\n",
       "      <th></th>\n",
       "      <th>example</th>\n",
       "      <th>changed</th>\n",
       "      <th>label</th>\n",
       "    </tr>\n",
       "  </thead>\n",
       "  <tbody>\n",
       "    <tr>\n",
       "      <th>0</th>\n",
       "      <td>Color of sun?</td>\n",
       "      <td>True</td>\n",
       "      <td>green</td>\n",
       "    </tr>\n",
       "    <tr>\n",
       "      <th>1</th>\n",
       "      <td>Color of sky?</td>\n",
       "      <td>True</td>\n",
       "      <td>blue</td>\n",
       "    </tr>\n",
       "    <tr>\n",
       "      <th>2</th>\n",
       "      <td>Color of grass?</td>\n",
       "      <td>True</td>\n",
       "      <td>green</td>\n",
       "    </tr>\n",
       "  </tbody>\n",
       "</table>\n",
       "</div>"
      ],
      "text/plain": [
       "           example  changed  label\n",
       "0    Color of sun?     True  green\n",
       "1    Color of sky?     True   blue\n",
       "2  Color of grass?     True  green"
      ]
     },
     "execution_count": 5,
     "metadata": {},
     "output_type": "execute_result"
    }
   ],
   "source": [
    "text_annotations\n"
   ]
  },
  {
   "cell_type": "code",
   "execution_count": null,
   "metadata": {},
   "outputs": [],
   "source": []
  }
 ],
 "metadata": {
  "kernelspec": {
   "display_name": "frame-cluster-env",
   "language": "python",
   "name": "python3"
  },
  "language_info": {
   "codemirror_mode": {
    "name": "ipython",
    "version": 3
   },
   "file_extension": ".py",
   "mimetype": "text/x-python",
   "name": "python",
   "nbconvert_exporter": "python",
   "pygments_lexer": "ipython3",
   "version": "3.9.9"
  }
 },
 "nbformat": 4,
 "nbformat_minor": 2
}

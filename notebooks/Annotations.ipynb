{
 "cells": [
  {
   "cell_type": "code",
   "execution_count": 18,
   "metadata": {},
   "outputs": [],
   "source": [
    "# import json\n",
    "# import ipyannotations.images\n",
    "\n",
    "# from pathlib import Path"
   ]
  },
  {
   "cell_type": "code",
   "execution_count": 19,
   "metadata": {},
   "outputs": [],
   "source": [
    "# def save_label(uuid, x, file):\n",
    "#     print(\"Saving label\")\n",
    "#     file.parent.mkdir(parents=True, exist_ok=True)\n",
    "#     annotation = {}\n",
    "#     annotation[\"uuid\"] = uuid\n",
    "#     annotation[\"x\"] = x\n",
    "#     with file.open(\"a\") as f:\n",
    "#         f.write(json.dumps(annotation))"
   ]
  },
  {
   "cell_type": "code",
   "execution_count": 20,
   "metadata": {},
   "outputs": [],
   "source": [
    "# import ipywidgets as widgets\n",
    "# from IPython.display import display\n",
    "# from ipyannotations.images import ClassLabeller\n",
    "# from pdb import set_trace\n",
    " \n",
    "# # List of image paths\n",
    "# image_list = ['1.jpg','2.jpg']\n",
    " \n",
    "# # Initialize the ClassLabeller\n",
    "# widget = ClassLabeller(\n",
    "#     options=['good', 'bad', 'ugly'],  # Extend options as necessary\n",
    "#     max_buttons=12,\n",
    "#     allow_freetext=True,\n",
    "# )\n",
    "\n",
    "# write_file = Path(f\"labels/annotations.jsonl\")\n",
    " \n",
    "# # Track current image index\n",
    "# current_index = 0\n",
    " \n",
    "# # Display the first image\n",
    "# widget.display(image_list[current_index])\n",
    " \n",
    "# # Function to handle submission and move to the next image\n",
    "# def onSubmit(sender):\n",
    "#     global current_index\n",
    "#     # Submit the current annotation (if needed; this might vary depending on implementation)\n",
    "#     # widget.submit(sender=sender, x=widget.data)\n",
    "#     save_label(uuids[current_index], widget.data, write_file)\n",
    "#     # Move to the next image if it exists\n",
    "#     current_index += 1\n",
    "#     if current_index < len(image_list):\n",
    "#         widget.display(image_list[current_index])\n",
    "#     else:\n",
    "#         print(\"All images processed.\")\n",
    "#         widget.clear()\n",
    "        \n",
    "#         submit_button.disabled = True\n",
    " \n",
    "# # Create a submit button\n",
    "# submit_button = widgets.Button(description=\"Submit and Next\")\n",
    " \n",
    "# # Link the button to the onSubmit function\n",
    "# submit_button.on_click(onSubmit)\n",
    " \n",
    "# # Display the widget and the button\n",
    "# display(widget, submit_button)"
   ]
  },
  {
   "cell_type": "markdown",
   "metadata": {},
   "source": [
    "Using pigeonXT\n",
    "Source: https://github.com/dennisbakhuis/pigeonXT "
   ]
  },
  {
   "cell_type": "code",
   "execution_count": 21,
   "metadata": {},
   "outputs": [
    {
     "data": {
      "application/vnd.jupyter.widget-view+json": {
       "model_id": "225fe642a65142f9a32c36c1238f46fc",
       "version_major": 2,
       "version_minor": 0
      },
      "text/plain": [
       "HTML(value='0 of 2 Examples annotated, Current Position: 0 ')"
      ]
     },
     "metadata": {},
     "output_type": "display_data"
    },
    {
     "data": {
      "application/vnd.jupyter.widget-view+json": {
       "model_id": "9eb8920673ca4d968aee05c608e49d8c",
       "version_major": 2,
       "version_minor": 0
      },
      "text/plain": [
       "VBox(children=(HBox(children=(Button(description='good', style=ButtonStyle()), Button(description='bad', style…"
      ]
     },
     "metadata": {},
     "output_type": "display_data"
    },
    {
     "data": {
      "application/vnd.jupyter.widget-view+json": {
       "model_id": "304c24ae14af492e8802610a05508164",
       "version_major": 2,
       "version_minor": 0
      },
      "text/plain": [
       "Output()"
      ]
     },
     "metadata": {},
     "output_type": "display_data"
    },
    {
     "name": "stdout",
     "output_type": "stream",
     "text": [
      "Annotation done.\n"
     ]
    }
   ],
   "source": [
    "import pandas as pd\n",
    "import pigeonXT as pixt\n",
    "import re\n",
    "\n",
    "from IPython.display import display, Image\n",
    "\n",
    "def custom_display(html_content):\n",
    "    # Convert HTML object to string\n",
    "    html_string = str(html_content)\n",
    "\n",
    "    # Use regular expression to extract the text inside <div> tags\n",
    "    match = re.search(r'<div>(.*?)</div>', html_string)\n",
    "    if match:\n",
    "        image_path = match.group(1)\n",
    "        # resize the image to 512x512\n",
    "        resized_img = Image(filename=image_path, width=224, height=224)\n",
    "        display(resized_img)\n",
    "        # display(Image(filename=image_path))\n",
    "    else:\n",
    "        print(\"No image path found in HTML content\")\n",
    "\n",
    "\n",
    "image_annotations = pixt.annotate(\n",
    "    ['1.png', '2.png'],\n",
    "    display_fn=custom_display,\n",
    "    options=['good', 'bad', 'ugly'],\n",
    ")\n",
    "\n"
   ]
  },
  {
   "cell_type": "code",
   "execution_count": 22,
   "metadata": {},
   "outputs": [
    {
     "data": {
      "text/html": [
       "<div>\n",
       "<style scoped>\n",
       "    .dataframe tbody tr th:only-of-type {\n",
       "        vertical-align: middle;\n",
       "    }\n",
       "\n",
       "    .dataframe tbody tr th {\n",
       "        vertical-align: top;\n",
       "    }\n",
       "\n",
       "    .dataframe thead th {\n",
       "        text-align: right;\n",
       "    }\n",
       "</style>\n",
       "<table border=\"1\" class=\"dataframe\">\n",
       "  <thead>\n",
       "    <tr style=\"text-align: right;\">\n",
       "      <th></th>\n",
       "      <th>example</th>\n",
       "      <th>changed</th>\n",
       "      <th>label</th>\n",
       "    </tr>\n",
       "  </thead>\n",
       "  <tbody>\n",
       "    <tr>\n",
       "      <th>0</th>\n",
       "      <td>1.png</td>\n",
       "      <td>True</td>\n",
       "      <td>bad</td>\n",
       "    </tr>\n",
       "    <tr>\n",
       "      <th>1</th>\n",
       "      <td>2.png</td>\n",
       "      <td>True</td>\n",
       "      <td>ugly</td>\n",
       "    </tr>\n",
       "  </tbody>\n",
       "</table>\n",
       "</div>"
      ],
      "text/plain": [
       "  example  changed label\n",
       "0   1.png     True   bad\n",
       "1   2.png     True  ugly"
      ]
     },
     "execution_count": 22,
     "metadata": {},
     "output_type": "execute_result"
    }
   ],
   "source": [
    "image_annotations\n",
    "# canbe saved to a csv file\n",
    "# image_annotations.to_csv('annotations.csv', index=False)"
   ]
  },
  {
   "cell_type": "code",
   "execution_count": 27,
   "metadata": {},
   "outputs": [
    {
     "data": {
      "application/vnd.jupyter.widget-view+json": {
       "model_id": "dc26ccffcc034f8ab745514e4766ac72",
       "version_major": 2,
       "version_minor": 0
      },
      "text/plain": [
       "HTML(value='0 of 3 Examples annotated, Current Position: 0 ')"
      ]
     },
     "metadata": {},
     "output_type": "display_data"
    },
    {
     "data": {
      "application/vnd.jupyter.widget-view+json": {
       "model_id": "c5bc6ad55b5944c7a9a9a46785f23a14",
       "version_major": 2,
       "version_minor": 0
      },
      "text/plain": [
       "VBox(children=(HBox(children=(Button(description='red', style=ButtonStyle()), Button(description='green', styl…"
      ]
     },
     "metadata": {},
     "output_type": "display_data"
    },
    {
     "data": {
      "application/vnd.jupyter.widget-view+json": {
       "model_id": "fcdd1aae5dcc4787b0637c4a6b8a945c",
       "version_major": 2,
       "version_minor": 0
      },
      "text/plain": [
       "Output()"
      ]
     },
     "metadata": {},
     "output_type": "display_data"
    },
    {
     "name": "stdout",
     "output_type": "stream",
     "text": [
      "Annotation done.\n"
     ]
    }
   ],
   "source": [
    "\n",
    "text_annotations = pixt.annotate(\n",
    "    ['Color of sun?', 'Color of sky?', 'Color of grass?'],\n",
    "    options=['red', 'green', 'blue'],\n",
    "    reset_buttons_after_click=True\n",
    ")"
   ]
  },
  {
   "cell_type": "code",
   "execution_count": 28,
   "metadata": {},
   "outputs": [
    {
     "data": {
      "text/html": [
       "<div>\n",
       "<style scoped>\n",
       "    .dataframe tbody tr th:only-of-type {\n",
       "        vertical-align: middle;\n",
       "    }\n",
       "\n",
       "    .dataframe tbody tr th {\n",
       "        vertical-align: top;\n",
       "    }\n",
       "\n",
       "    .dataframe thead th {\n",
       "        text-align: right;\n",
       "    }\n",
       "</style>\n",
       "<table border=\"1\" class=\"dataframe\">\n",
       "  <thead>\n",
       "    <tr style=\"text-align: right;\">\n",
       "      <th></th>\n",
       "      <th>example</th>\n",
       "      <th>changed</th>\n",
       "      <th>label</th>\n",
       "    </tr>\n",
       "  </thead>\n",
       "  <tbody>\n",
       "    <tr>\n",
       "      <th>0</th>\n",
       "      <td>Color of sun?</td>\n",
       "      <td>True</td>\n",
       "      <td>red</td>\n",
       "    </tr>\n",
       "    <tr>\n",
       "      <th>1</th>\n",
       "      <td>Color of sky?</td>\n",
       "      <td>True</td>\n",
       "      <td>blue</td>\n",
       "    </tr>\n",
       "    <tr>\n",
       "      <th>2</th>\n",
       "      <td>Color of grass?</td>\n",
       "      <td>True</td>\n",
       "      <td>green</td>\n",
       "    </tr>\n",
       "  </tbody>\n",
       "</table>\n",
       "</div>"
      ],
      "text/plain": [
       "           example  changed  label\n",
       "0    Color of sun?     True    red\n",
       "1    Color of sky?     True   blue\n",
       "2  Color of grass?     True  green"
      ]
     },
     "execution_count": 28,
     "metadata": {},
     "output_type": "execute_result"
    }
   ],
   "source": [
    "text_annotations\n",
    "# can be saved to a csv file\n",
    "# text_annotations.to_csv('text_annotations.csv', index=False)"
   ]
  },
  {
   "cell_type": "code",
   "execution_count": null,
   "metadata": {},
   "outputs": [],
   "source": []
  }
 ],
 "metadata": {
  "kernelspec": {
   "display_name": "Python 3",
   "language": "python",
   "name": "python3"
  },
  "language_info": {
   "codemirror_mode": {
    "name": "ipython",
    "version": 3
   },
   "file_extension": ".py",
   "mimetype": "text/x-python",
   "name": "python",
   "nbconvert_exporter": "python",
   "pygments_lexer": "ipython3",
   "version": "3.9.9"
  }
 },
 "nbformat": 4,
 "nbformat_minor": 2
}

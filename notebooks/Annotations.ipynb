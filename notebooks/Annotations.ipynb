{
 "cells": [
  {
   "cell_type": "code",
   "execution_count": 1,
   "metadata": {},
   "outputs": [],
   "source": [
    "import json\n",
    "import ipyannotations.images\n",
    "\n",
    "from pathlib import Path"
   ]
  },
  {
   "cell_type": "code",
   "execution_count": 2,
   "metadata": {},
   "outputs": [],
   "source": [
    "def save_label(uuid, x, file):\n",
    "    print(\"Saving label\")\n",
    "    file.parent.mkdir(parents=True, exist_ok=True)\n",
    "    annotation = {}\n",
    "    annotation[\"uuid\"] = uuid\n",
    "    annotation[\"x\"] = x\n",
    "    with file.open(\"a\") as f:\n",
    "        f.write(json.dumps(annotation))"
   ]
  },
  {
   "cell_type": "code",
   "execution_count": 3,
   "metadata": {},
   "outputs": [],
   "source": [
    "uuids = [\"1\", \"2\"]"
   ]
  },
  {
   "cell_type": "code",
   "execution_count": 18,
   "metadata": {},
   "outputs": [
    {
     "data": {
      "application/vnd.jupyter.widget-view+json": {
       "model_id": "d41e7814f3a441388e0edc8aea6bd29a",
       "version_major": 2,
       "version_minor": 0
      },
      "text/plain": [
       "ClassLabeller(children=(Box(children=(Output(layout=Layout(margin='auto', min_height='50px')),), layout=Layout…"
      ]
     },
     "metadata": {},
     "output_type": "display_data"
    },
    {
     "data": {
      "application/vnd.jupyter.widget-view+json": {
       "model_id": "70082e0020f24675bd50858bddde8152",
       "version_major": 2,
       "version_minor": 0
      },
      "text/plain": [
       "Button(description='Submit and Next', style=ButtonStyle())"
      ]
     },
     "metadata": {},
     "output_type": "display_data"
    },
    {
     "name": "stdout",
     "output_type": "stream",
     "text": [
      "Saving label\n"
     ]
    },
    {
     "name": "stdout",
     "output_type": "stream",
     "text": [
      "Saving label\n",
      "All images processed.\n"
     ]
    }
   ],
   "source": [
    "import ipywidgets as widgets\n",
    "from IPython.display import display\n",
    "from ipyannotations.images import ClassLabeller\n",
    "from pdb import set_trace\n",
    " \n",
    "# List of image paths\n",
    "image_list = ['1.jpg','2.jpg']\n",
    " \n",
    "# Initialize the ClassLabeller\n",
    "widget = ClassLabeller(\n",
    "    options=['good', 'bad', 'ugly'],  # Extend options as necessary\n",
    "    max_buttons=12,\n",
    "    allow_freetext=True,\n",
    ")\n",
    "\n",
    "write_file = Path(f\"labels/annotations.jsonl\")\n",
    " \n",
    "# Track current image index\n",
    "current_index = 0\n",
    " \n",
    "# Display the first image\n",
    "widget.display(image_list[current_index])\n",
    " \n",
    "# Function to handle submission and move to the next image\n",
    "def onSubmit(sender):\n",
    "    global current_index\n",
    "    # Submit the current annotation (if needed; this might vary depending on implementation)\n",
    "    # widget.submit(sender=sender, x=widget.data)\n",
    "    save_label(uuids[current_index], widget.data, write_file)\n",
    "    # Move to the next image if it exists\n",
    "    current_index += 1\n",
    "    if current_index < len(image_list):\n",
    "        widget.display(image_list[current_index])\n",
    "    else:\n",
    "        print(\"All images processed.\")\n",
    "        widget.clear()\n",
    "        \n",
    "        submit_button.disabled = True\n",
    " \n",
    "# Create a submit button\n",
    "submit_button = widgets.Button(description=\"Submit and Next\")\n",
    " \n",
    "# Link the button to the onSubmit function\n",
    "submit_button.on_click(onSubmit)\n",
    " \n",
    "# Display the widget and the button\n",
    "display(widget, submit_button)"
   ]
  },
  {
   "cell_type": "code",
   "execution_count": null,
   "metadata": {},
   "outputs": [],
   "source": []
  }
 ],
 "metadata": {
  "kernelspec": {
   "display_name": "Python 3",
   "language": "python",
   "name": "python3"
  },
  "language_info": {
   "codemirror_mode": {
    "name": "ipython",
    "version": 3
   },
   "file_extension": ".py",
   "mimetype": "text/x-python",
   "name": "python",
   "nbconvert_exporter": "python",
   "pygments_lexer": "ipython3",
   "version": "3.9.7"
  }
 },
 "nbformat": 4,
 "nbformat_minor": 2
}

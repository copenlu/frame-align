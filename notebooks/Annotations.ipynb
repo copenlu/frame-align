{
 "cells": [
  {
   "cell_type": "code",
   "execution_count": 2,
   "metadata": {},
   "outputs": [],
   "source": [
    "import pigeonXT as pixt"
   ]
  },
  {
   "cell_type": "code",
   "execution_count": 3,
   "metadata": {},
   "outputs": [],
   "source": [
    "import pandas as pd\n",
    "import re\n",
    "from pathlib import Path\n",
    "from IPython.display import display, Image\n"
   ]
  },
  {
   "cell_type": "markdown",
   "metadata": {},
   "source": [
    "## Create sample of 200 text-image which are filtered"
   ]
  },
  {
   "cell_type": "code",
   "execution_count": null,
   "metadata": {},
   "outputs": [],
   "source": [
    "analysis_path = Path('/projects/frame_align/data/annotated/analysis')\n",
    "sample_200 = pd.read_csv(analysis_path.parent.parent / \"sample\"/'sampled_annotated_articles.csv')\n",
    "\n",
    "\n",
    "# sample 200 from the annotated articles\n",
    "sample_200 = sample_200.sample(200, random_state=42)\n",
    "sample_200.to_csv(analysis_path.parent.parent / \"srishti-analysis\"/\"sampled_annotated_articles_200.csv\", index=False)"
   ]
  },
  {
   "cell_type": "markdown",
   "metadata": {},
   "source": [
    "#### Create list of frame names"
   ]
  },
  {
   "cell_type": "code",
   "execution_count": 16,
   "metadata": {},
   "outputs": [],
   "source": [
    "# Get Frame names\n",
    "frames = sample_200['text_frame_name'].unique()\n",
    "frames_list = frames.tolist()"
   ]
  },
  {
   "cell_type": "markdown",
   "metadata": {},
   "source": [
    "## Save all 200 sampled images for human annotation\n"
   ]
  },
  {
   "cell_type": "markdown",
   "metadata": {},
   "source": [
    "#### Create path of image directories"
   ]
  },
  {
   "cell_type": "code",
   "execution_count": 6,
   "metadata": {},
   "outputs": [],
   "source": [
    "all_months = [\"2023-05-01_2023-05-31\", \"2023-06-01_2023-06-30\", \"2023-07-01_2023-07-31\", \"2023-08-01_2023-08-31\", \"2023-09-01_2023-09-30\",\n",
    "    \"2023-10-01_2023-10-31\", \"2023-11-01_2023-11-30\", \"2023-12-01_2023-12-31\", \"2024-01-01_2024-01-31\", \"2024-02-01_2024-02-29\",\n",
    "    \"2024-03-01_2024-03-31\", \"2024-04-01_2024-04-30\"]\n",
    "\n",
    "\n",
    "base_img_dir_1 = Path(\"/projects/frame_align/data/news_img_data/\")\n",
    "base_img_dir_2 = Path(\"/projects/frame_align/data/img_data/\")\n",
    "\n",
    "month_dir_paths = [base_img_dir_1 / month for month in all_months] + [base_img_dir_2 / month / 'correct_downloaded_imgs' for month in all_months]\n",
    "sorted_month_dir_paths = sorted(month_dir_paths)"
   ]
  },
  {
   "cell_type": "markdown",
   "metadata": {},
   "source": [
    "#### Save month and uuids for images"
   ]
  },
  {
   "cell_type": "code",
   "execution_count": 8,
   "metadata": {},
   "outputs": [
    {
     "data": {
      "text/html": [
       "<div>\n",
       "<style scoped>\n",
       "    .dataframe tbody tr th:only-of-type {\n",
       "        vertical-align: middle;\n",
       "    }\n",
       "\n",
       "    .dataframe tbody tr th {\n",
       "        vertical-align: top;\n",
       "    }\n",
       "\n",
       "    .dataframe thead th {\n",
       "        text-align: right;\n",
       "    }\n",
       "</style>\n",
       "<table border=\"1\" class=\"dataframe\">\n",
       "  <thead>\n",
       "    <tr style=\"text-align: right;\">\n",
       "      <th></th>\n",
       "      <th>month</th>\n",
       "      <th>vision_uuid</th>\n",
       "    </tr>\n",
       "  </thead>\n",
       "  <tbody>\n",
       "    <tr>\n",
       "      <th>2754</th>\n",
       "      <td>2023-10-01_2023-10-31</td>\n",
       "      <td>0416eb08-005f-44ba-aec8-ca0ee5e3faaa</td>\n",
       "    </tr>\n",
       "    <tr>\n",
       "      <th>2624</th>\n",
       "      <td>2023-10-01_2023-10-31</td>\n",
       "      <td>f55eea4a-8826-4c81-a927-3335b7bdfd64</td>\n",
       "    </tr>\n",
       "    <tr>\n",
       "      <th>178</th>\n",
       "      <td>2024-02-01_2024-02-29</td>\n",
       "      <td>ea16e806-d15f-41ba-9146-064f2c8f7ece</td>\n",
       "    </tr>\n",
       "    <tr>\n",
       "      <th>1502</th>\n",
       "      <td>2023-07-01_2023-07-31</td>\n",
       "      <td>89e378c2-efce-4100-8ce0-736f326280e8</td>\n",
       "    </tr>\n",
       "    <tr>\n",
       "      <th>2728</th>\n",
       "      <td>2023-10-01_2023-10-31</td>\n",
       "      <td>4254cc3e-ff7e-4810-b3dd-b3cacb4aff56</td>\n",
       "    </tr>\n",
       "    <tr>\n",
       "      <th>...</th>\n",
       "      <td>...</td>\n",
       "      <td>...</td>\n",
       "    </tr>\n",
       "    <tr>\n",
       "      <th>184</th>\n",
       "      <td>2024-02-01_2024-02-29</td>\n",
       "      <td>c69cfe52-e928-4dc3-b36b-cf2c9e081e0f</td>\n",
       "    </tr>\n",
       "    <tr>\n",
       "      <th>478</th>\n",
       "      <td>2023-12-01_2023-12-31</td>\n",
       "      <td>688c040c-187b-45c7-8f29-34c94b2e0633</td>\n",
       "    </tr>\n",
       "    <tr>\n",
       "      <th>1475</th>\n",
       "      <td>2023-07-01_2023-07-31</td>\n",
       "      <td>72e8990b-2611-4558-ad7f-602058384aab</td>\n",
       "    </tr>\n",
       "    <tr>\n",
       "      <th>3083</th>\n",
       "      <td>2023-08-01_2023-08-31</td>\n",
       "      <td>e6dc5ef2-40da-48e7-a517-63a347c2e53c</td>\n",
       "    </tr>\n",
       "    <tr>\n",
       "      <th>2576</th>\n",
       "      <td>2024-03-01_2024-03-31</td>\n",
       "      <td>6e0b7be0-cd41-4de1-a56d-1850acbc5c19</td>\n",
       "    </tr>\n",
       "  </tbody>\n",
       "</table>\n",
       "<p>200 rows × 2 columns</p>\n",
       "</div>"
      ],
      "text/plain": [
       "                      month                           vision_uuid\n",
       "2754  2023-10-01_2023-10-31  0416eb08-005f-44ba-aec8-ca0ee5e3faaa\n",
       "2624  2023-10-01_2023-10-31  f55eea4a-8826-4c81-a927-3335b7bdfd64\n",
       "178   2024-02-01_2024-02-29  ea16e806-d15f-41ba-9146-064f2c8f7ece\n",
       "1502  2023-07-01_2023-07-31  89e378c2-efce-4100-8ce0-736f326280e8\n",
       "2728  2023-10-01_2023-10-31  4254cc3e-ff7e-4810-b3dd-b3cacb4aff56\n",
       "...                     ...                                   ...\n",
       "184   2024-02-01_2024-02-29  c69cfe52-e928-4dc3-b36b-cf2c9e081e0f\n",
       "478   2023-12-01_2023-12-31  688c040c-187b-45c7-8f29-34c94b2e0633\n",
       "1475  2023-07-01_2023-07-31  72e8990b-2611-4558-ad7f-602058384aab\n",
       "3083  2023-08-01_2023-08-31  e6dc5ef2-40da-48e7-a517-63a347c2e53c\n",
       "2576  2024-03-01_2024-03-31  6e0b7be0-cd41-4de1-a56d-1850acbc5c19\n",
       "\n",
       "[200 rows x 2 columns]"
      ]
     },
     "execution_count": 8,
     "metadata": {},
     "output_type": "execute_result"
    }
   ],
   "source": [
    "vision_month_uuids = sample_200[['month', 'vision_uuid']]\n",
    "vision_month_uuids"
   ]
  },
  {
   "cell_type": "markdown",
   "metadata": {},
   "source": [
    "#### Create a list of image paths we sampled"
   ]
  },
  {
   "cell_type": "code",
   "execution_count": 9,
   "metadata": {},
   "outputs": [
    {
     "name": "stderr",
     "output_type": "stream",
     "text": [
      "100%|██████████| 200/200 [00:00<00:00, 315.08it/s]\n"
     ]
    }
   ],
   "source": [
    "from tqdm import tqdm\n",
    "\n",
    "existing_files = []\n",
    "\n",
    "for index, row in tqdm(vision_month_uuids.iterrows(), total=vision_month_uuids.shape[0]):\n",
    "    month = row['month']\n",
    "    uuid = row['vision_uuid']\n",
    "    for dir_path in sorted_month_dir_paths:\n",
    "        if month in str(dir_path):\n",
    "            file_path = dir_path / f\"{uuid}.jpg\"\n",
    "            if file_path.exists():\n",
    "                existing_files.append(file_path)"
   ]
  },
  {
   "cell_type": "markdown",
   "metadata": {},
   "source": [
    "#### Copy the images to a new directory which we will use for annotation\n",
    "new image directory= \"../human_annotation/images\""
   ]
  },
  {
   "cell_type": "code",
   "execution_count": 11,
   "metadata": {},
   "outputs": [
    {
     "name": "stderr",
     "output_type": "stream",
     "text": [
      "Copying files: 100%|██████████| 200/200 [00:05<00:00, 34.20it/s]\n"
     ]
    }
   ],
   "source": [
    "import shutil\n",
    "from tqdm import tqdm\n",
    "\n",
    "existing_files\n",
    "destination_dir = Path(\"../human_annotation/images\")\n",
    "destination_dir.mkdir(parents=True, exist_ok=True)\n",
    "\n",
    "for file_path in tqdm(existing_files, desc=\"Copying files\"):\n",
    "    destination = destination_dir / file_path.name\n",
    "    shutil.copy(file_path, destination)"
   ]
  },
  {
   "cell_type": "code",
   "execution_count": null,
   "metadata": {},
   "outputs": [
    {
     "name": "stdout",
     "output_type": "stream",
     "text": [
      "Total number of image files: 200\n"
     ]
    },
    {
     "data": {
      "text/plain": [
       "['../human_annotation/images/17e639d0-f9c1-4ce8-ad56-c74cd4cd1165.jpg',\n",
       " '../human_annotation/images/cdc09317-a5f2-4af7-9fc3-a4f3cae0c1d0.jpg',\n",
       " '../human_annotation/images/c69cfe52-e928-4dc3-b36b-cf2c9e081e0f.jpg',\n",
       " '../human_annotation/images/1980de34-e867-4b9b-9eed-113a831f0266.jpg',\n",
       " '../human_annotation/images/0416eb08-005f-44ba-aec8-ca0ee5e3faaa.jpg',\n",
       " '../human_annotation/images/cb5f118c-0231-4383-9832-aa9ffedced8d.jpg',\n",
       " '../human_annotation/images/137b0747-029b-4924-8cef-e05e233da5a9.jpg',\n",
       " '../human_annotation/images/a58d328f-1dfd-4bf0-8637-31ddf3319c5e.jpg',\n",
       " '../human_annotation/images/b761f39d-fbb0-4749-80d0-7c0e5b3857c3.jpg',\n",
       " '../human_annotation/images/96033e64-e6e4-4649-9145-39bde0ddcf59.jpg',\n",
       " '../human_annotation/images/031178ac-3b7a-49b3-9279-45ece395bc72.jpg',\n",
       " '../human_annotation/images/5d7a3e3e-71ed-4c85-91ae-044eb019bd91.jpg',\n",
       " '../human_annotation/images/43bf4fb8-0f60-4e16-9c6f-aff3af243d69.jpg',\n",
       " '../human_annotation/images/f13e1e63-d9b4-4127-b04d-6bdc034a1aee.jpg',\n",
       " '../human_annotation/images/94082f4f-e7fe-40ff-acec-3a1459cd8ee0.jpg',\n",
       " '../human_annotation/images/c5e429ea-49aa-481d-8172-0430f57ae926.jpg',\n",
       " '../human_annotation/images/a156076d-d2eb-4ff6-8a61-08264b49f11d.jpg',\n",
       " '../human_annotation/images/ad58c5d1-debe-454b-8f29-ed10e39a843e.jpg',\n",
       " '../human_annotation/images/3f9b4145-0ac7-42e9-9526-06ca89791c06.jpg',\n",
       " '../human_annotation/images/2f20ed55-bf28-46b7-873b-8cbed555cb0f.jpg',\n",
       " '../human_annotation/images/9ebdbfbc-cd8f-4c8b-b85f-4cf27e2b1196.jpg',\n",
       " '../human_annotation/images/40dc3037-685e-4980-9cc7-6c9b779ae28b.jpg',\n",
       " '../human_annotation/images/a4ac1a06-64c1-4bb7-81b3-881ddd42f3d4.jpg',\n",
       " '../human_annotation/images/8a79da34-23f6-4d88-9ff9-6ba9f8d5cc14.jpg',\n",
       " '../human_annotation/images/b448fede-40b3-47cb-abfb-eae7c7daae14.jpg',\n",
       " '../human_annotation/images/9f00a925-3bab-40fa-8eff-9615aa3a2ba1.jpg',\n",
       " '../human_annotation/images/b35356ec-9f13-4b97-abbd-a12eb4abd691.jpg',\n",
       " '../human_annotation/images/269b6054-c2fa-40a8-8757-ce38e0b1c5f2.jpg',\n",
       " '../human_annotation/images/a401918d-1367-44ff-b2ea-c0812eb1066f.jpg',\n",
       " '../human_annotation/images/e5ca8747-e755-4bd6-a56e-faa452d62026.jpg',\n",
       " '../human_annotation/images/cf474ef5-65bb-43e0-af43-dc9fafe352ed.jpg',\n",
       " '../human_annotation/images/b49f0398-90d3-47e4-a42b-32fb54214bde.jpg',\n",
       " '../human_annotation/images/cc645eda-6bae-43c4-9dc6-68943386a472.jpg',\n",
       " '../human_annotation/images/1c619a40-a9dc-4936-9f7a-3039d9b229ff.jpg',\n",
       " '../human_annotation/images/925a71ef-6702-4b82-8da1-41ced404628d.jpg',\n",
       " '../human_annotation/images/6e0b7be0-cd41-4de1-a56d-1850acbc5c19.jpg',\n",
       " '../human_annotation/images/efae6a73-071f-4055-bc66-757a959bf3e2.jpg',\n",
       " '../human_annotation/images/4d926ebc-7894-497d-a595-7bf16de2e563.jpg',\n",
       " '../human_annotation/images/cf7e739e-4d62-4047-960c-b846b3dadbd9.jpg',\n",
       " '../human_annotation/images/64440bf6-b2df-4e2d-80ec-54957e9dd59d.jpg',\n",
       " '../human_annotation/images/145e2232-b6d1-4fe6-99c2-fd127354f2f9.jpg',\n",
       " '../human_annotation/images/413079ef-15b8-43a6-bd37-eb33de583b8e.jpg',\n",
       " '../human_annotation/images/e1f7304e-b177-4d66-8e57-1c82c98124b5.jpg',\n",
       " '../human_annotation/images/ec8d8a93-69f9-4110-88c0-64fc33d93ec0.jpg',\n",
       " '../human_annotation/images/8e2e3c14-35a7-4983-934c-6bb7a22f2584.jpg',\n",
       " '../human_annotation/images/34313b5b-991b-4566-9b91-e0064d6aa1c4.jpg',\n",
       " '../human_annotation/images/241a12e7-1259-4d0b-86b5-798c8e19b487.jpg',\n",
       " '../human_annotation/images/f3a20b3e-1de0-4612-b989-37fd85f7b818.jpg',\n",
       " '../human_annotation/images/e01123d0-6437-459a-8a19-e5e06077668b.jpg',\n",
       " '../human_annotation/images/4410e31f-0e49-4f86-ae5e-8cfeda7e4de0.jpg',\n",
       " '../human_annotation/images/6125e24a-2f5a-4c97-a816-0c2f98d32d40.jpg',\n",
       " '../human_annotation/images/74b44a0a-0a1c-433b-b031-9fed5790b4be.jpg',\n",
       " '../human_annotation/images/66dea638-66ee-4a8f-80e8-26c529c28e8e.jpg',\n",
       " '../human_annotation/images/859bd060-5617-4bad-b88a-2569537159d8.jpg',\n",
       " '../human_annotation/images/856c5958-f5c2-4889-9084-ecdd959f68b3.jpg',\n",
       " '../human_annotation/images/a622baef-b026-464e-8dfd-1213511ec554.jpg',\n",
       " '../human_annotation/images/3f19ca41-6cda-4401-a003-e31681358a1b.jpg',\n",
       " '../human_annotation/images/d567764a-f43e-4278-b754-1b1b7a80ec47.jpg',\n",
       " '../human_annotation/images/89aa3bd7-c853-4c14-a460-5a1d24b60038.jpg',\n",
       " '../human_annotation/images/ea16e806-d15f-41ba-9146-064f2c8f7ece.jpg',\n",
       " '../human_annotation/images/2dbed1d4-506a-4cdc-ba2b-cb2570e295e6.jpg',\n",
       " '../human_annotation/images/634b70dd-7d8f-42a8-957c-a8d923b7488d.jpg',\n",
       " '../human_annotation/images/688c040c-187b-45c7-8f29-34c94b2e0633.jpg',\n",
       " '../human_annotation/images/daf17368-4e23-4558-82c4-ac0e1877123a.jpg',\n",
       " '../human_annotation/images/824fa06f-b863-4826-8312-c8346cc4f375.jpg',\n",
       " '../human_annotation/images/89e378c2-efce-4100-8ce0-736f326280e8.jpg',\n",
       " '../human_annotation/images/fad43a4b-3d15-4e5c-9329-4508b0c14f2c.jpg',\n",
       " '../human_annotation/images/2974942b-7f5c-47be-9c99-4c89d5b6129e.jpg',\n",
       " '../human_annotation/images/5822cce1-70ab-48c7-93f9-ab1ad0e98870.jpg',\n",
       " '../human_annotation/images/c4c6f344-563b-4432-92bd-54d1bb72e748.jpg',\n",
       " '../human_annotation/images/f6957070-3516-4142-b7ad-d4977343c6e4.jpg',\n",
       " '../human_annotation/images/35d6c0b0-823a-4148-8072-bb58bfc965a4.jpg',\n",
       " '../human_annotation/images/af041f1a-9592-4ad1-9905-05631601cbd8.jpg',\n",
       " '../human_annotation/images/e4de58d6-9f84-4b16-8b62-10ccc74b02ad.jpg',\n",
       " '../human_annotation/images/a06f3f75-721a-4384-8ec2-868866eee4a8.jpg',\n",
       " '../human_annotation/images/cd1f38ac-bf78-4d70-b2ef-57b966a0a1bc.jpg',\n",
       " '../human_annotation/images/16961a96-5e29-4245-bc49-aaca6c2e172d.jpg',\n",
       " '../human_annotation/images/0b7d3703-2bc5-476a-950e-6aceb184d905.jpg',\n",
       " '../human_annotation/images/d8e0358e-1ad6-480e-a155-6e97f5ad0549.jpg',\n",
       " '../human_annotation/images/d37bd8ee-b567-4557-8228-53aa3ae4d374.jpg',\n",
       " '../human_annotation/images/5938ffba-ec74-47af-8ea3-8d062ff245a1.jpg',\n",
       " '../human_annotation/images/be93f05c-bb49-4fda-ac31-58d99c63f025.jpg',\n",
       " '../human_annotation/images/90dd0dc1-2581-4a39-a027-4c8ec95ac505.jpg',\n",
       " '../human_annotation/images/a4791cd2-07fe-4520-90f9-cb3d91df058e.jpg',\n",
       " '../human_annotation/images/88d3b322-7b00-4aba-a8bc-f5b97e355122.jpg',\n",
       " '../human_annotation/images/e4600973-9682-45ff-a2e2-f761456f163b.jpg',\n",
       " '../human_annotation/images/b6b72563-0cdc-4bb1-a04c-6f4766dd89e5.jpg',\n",
       " '../human_annotation/images/d84ef2dc-e93b-4074-b38b-316991ac7bd1.jpg',\n",
       " '../human_annotation/images/aab9cbd9-7c14-4877-a20c-f986beadd2ab.jpg',\n",
       " '../human_annotation/images/92a49fe4-65dc-47d2-9e24-4284e07b40a0.jpg',\n",
       " '../human_annotation/images/a3fc5eab-14ec-4918-8738-b4395f2d22a6.jpg',\n",
       " '../human_annotation/images/8d79696d-47b3-4309-be62-fa52910fc17e.jpg',\n",
       " '../human_annotation/images/078141aa-ed63-4c85-a8a9-417b004e4381.jpg',\n",
       " '../human_annotation/images/b36af344-ca77-468d-8d1c-2eb6c1c9f880.jpg',\n",
       " '../human_annotation/images/b7432fca-801e-41c8-9741-24a39e469d3a.jpg',\n",
       " '../human_annotation/images/2e4acf7a-1b71-4e23-9390-f1451aa3437d.jpg',\n",
       " '../human_annotation/images/b17e6119-f679-4c01-b615-4b18b29e8525.jpg',\n",
       " '../human_annotation/images/8cf2ed86-d1d6-40ea-b5de-4c83c71bfb34.jpg',\n",
       " '../human_annotation/images/d6933bb2-3105-412d-89b6-d362af23178b.jpg',\n",
       " '../human_annotation/images/72e8990b-2611-4558-ad7f-602058384aab.jpg',\n",
       " '../human_annotation/images/6daeb461-a6e3-4951-b4a9-300e55d6df2c.jpg',\n",
       " '../human_annotation/images/cf2891c2-8181-49d7-86b5-80f4cef0b87a.jpg',\n",
       " '../human_annotation/images/f55eea4a-8826-4c81-a927-3335b7bdfd64.jpg',\n",
       " '../human_annotation/images/105a9574-eb3f-4219-a7a3-10aa432959bf.jpg',\n",
       " '../human_annotation/images/587dd7c7-d473-4a74-a5e6-902aed963b21.jpg',\n",
       " '../human_annotation/images/1d8565af-d6aa-47bc-9e73-988b639f3174.jpg',\n",
       " '../human_annotation/images/b1fd431c-9bfc-48ef-a6d5-e76f65bb5adc.jpg',\n",
       " '../human_annotation/images/75761c8b-1ca7-486b-95b3-b087489464b1.jpg',\n",
       " '../human_annotation/images/83cbacec-b92f-41d5-acd7-251faa809d97.jpg',\n",
       " '../human_annotation/images/ee85c5b7-24c0-4186-8eee-2751efcead39.jpg',\n",
       " '../human_annotation/images/858594ed-ab98-4e27-9fa7-2064439a6187.jpg',\n",
       " '../human_annotation/images/7e8ba465-4042-4bbd-9cfe-6870fbd4b838.jpg',\n",
       " '../human_annotation/images/30d071c8-b77a-4617-80c4-41c10d87cdd1.jpg',\n",
       " '../human_annotation/images/ef541ea8-cd47-47ca-9419-e299a8270b74.jpg',\n",
       " '../human_annotation/images/348301ef-b341-40e5-88e9-7b83a03d2f56.jpg',\n",
       " '../human_annotation/images/73616b51-0fe5-435d-b5f6-ec2fb7f743d4.jpg',\n",
       " '../human_annotation/images/9e8c0230-9b1d-4e54-af57-c14b589cf3d6.jpg',\n",
       " '../human_annotation/images/4254cc3e-ff7e-4810-b3dd-b3cacb4aff56.jpg',\n",
       " '../human_annotation/images/6986f012-2acd-403e-b4de-ab25c250de05.jpg',\n",
       " '../human_annotation/images/56efff84-bb6c-4df6-9b56-976d1c714019.jpg',\n",
       " '../human_annotation/images/c8ab66e8-c646-44bf-8c34-d4852b47ee63.jpg',\n",
       " '../human_annotation/images/427a3571-6b34-4fa4-8ecf-4c65e07088ba.jpg',\n",
       " '../human_annotation/images/75020258-15ea-48d2-93c8-ac2ca8cad414.jpg',\n",
       " '../human_annotation/images/a99e14ca-2f19-4fa9-a202-e44c2b67bbba.jpg',\n",
       " '../human_annotation/images/72fd69fc-f235-430c-9e23-84625a99179d.jpg',\n",
       " '../human_annotation/images/cd53a532-2617-4546-aed7-779f3cdf9a0b.jpg',\n",
       " '../human_annotation/images/914a0210-01a9-4220-8923-e9dbb611f138.jpg',\n",
       " '../human_annotation/images/9ed377af-5527-4737-8be6-e5cc5d2d1754.jpg',\n",
       " '../human_annotation/images/d5e42ef6-7571-43cd-8e74-2acb94027845.jpg',\n",
       " '../human_annotation/images/ec74b14d-b467-470f-9d20-c088a9b367f8.jpg',\n",
       " '../human_annotation/images/4a546424-bf90-401c-8a6b-d3d5a6a87d6b.jpg',\n",
       " '../human_annotation/images/c6faff8b-59e1-4fd5-bf95-47fe70d12fd2.jpg',\n",
       " '../human_annotation/images/1a587b89-c65d-48e5-b82a-27d079dd8bd9.jpg',\n",
       " '../human_annotation/images/c4eb615c-a73c-445c-be09-761b30444dec.jpg',\n",
       " '../human_annotation/images/16f49460-11d2-4793-8291-9357d174307c.jpg',\n",
       " '../human_annotation/images/d8a12d15-7c71-475a-822d-8bee51fda24d.jpg',\n",
       " '../human_annotation/images/70963beb-04d3-4f3b-8750-c6acf70e349e.jpg',\n",
       " '../human_annotation/images/f3b45ec5-5546-449b-8f93-f7ce36463f05.jpg',\n",
       " '../human_annotation/images/e6dc5ef2-40da-48e7-a517-63a347c2e53c.jpg',\n",
       " '../human_annotation/images/b913b892-e406-4e0f-84a1-14ee7cfc7796.jpg',\n",
       " '../human_annotation/images/35627758-af97-4ff3-96e8-b49e23b24f7e.jpg',\n",
       " '../human_annotation/images/c2551487-7663-4852-bf1c-83af80ff63ae.jpg',\n",
       " '../human_annotation/images/b7ad6538-74c0-4368-a6c0-4d622b79c699.jpg',\n",
       " '../human_annotation/images/c7358233-0ca6-4eed-952d-785294c22a38.jpg',\n",
       " '../human_annotation/images/9aee680b-fae4-4bd7-abd6-a2c7e3335126.jpg',\n",
       " '../human_annotation/images/b4bc569f-054a-456b-91fb-022ac18976b6.jpg',\n",
       " '../human_annotation/images/19038add-4e78-4b10-a5f5-448a466707c8.jpg',\n",
       " '../human_annotation/images/3d0df910-4a0f-47d9-b66a-e3bea098cbf0.jpg',\n",
       " '../human_annotation/images/d870750d-beca-459a-8f46-e95c53b93bfe.jpg',\n",
       " '../human_annotation/images/f9895bc6-5af7-4e22-80b5-f33b839ebd41.jpg',\n",
       " '../human_annotation/images/07ea707b-e0a7-477a-b9e6-d9d5f6d32ac4.jpg',\n",
       " '../human_annotation/images/6429ef6a-e0d2-40ed-aa5f-adb835066b02.jpg',\n",
       " '../human_annotation/images/e17bee35-b3c5-405b-bd44-e93868c62106.jpg',\n",
       " '../human_annotation/images/01437278-31e6-400a-86c3-23796a9acbf5.jpg',\n",
       " '../human_annotation/images/6e64a293-117d-4018-b23e-8c11ff4e1184.jpg',\n",
       " '../human_annotation/images/24fcef78-cb75-473d-8929-879cf84316c3.jpg',\n",
       " '../human_annotation/images/129e675f-6606-4bdf-9473-f08b6ced721e.jpg',\n",
       " '../human_annotation/images/092d3fd5-9932-4893-a79b-f88a7a3e7d54.jpg',\n",
       " '../human_annotation/images/5da00277-f3c7-4df7-9f12-7fa9ed053b98.jpg',\n",
       " '../human_annotation/images/d47eebd1-90a7-403f-b635-81203a10e427.jpg',\n",
       " '../human_annotation/images/8a44ce21-3096-45d5-80de-d15812c18e01.jpg',\n",
       " '../human_annotation/images/cab095be-87c6-4750-99f6-d1772789e62b.jpg',\n",
       " '../human_annotation/images/ed2f83f3-de30-4c8f-88b6-9b05bd95dcbc.jpg',\n",
       " '../human_annotation/images/d2fb7e41-26db-4f84-8c81-03ee35ada7fb.jpg',\n",
       " '../human_annotation/images/b8a90fff-a044-4d38-81f6-d67a38fb0cca.jpg',\n",
       " '../human_annotation/images/19f99401-c742-4d66-b03b-e4e9189c15a8.jpg',\n",
       " '../human_annotation/images/4daf124a-7efb-4766-bbf2-2ac534090ec0.jpg',\n",
       " '../human_annotation/images/08a4e45e-4a60-4a5e-b7d9-17ff031ac948.jpg',\n",
       " '../human_annotation/images/2d697fb1-9662-4486-addb-716e666e2c8e.jpg',\n",
       " '../human_annotation/images/a4bebf9a-ea1c-4caa-aa48-02cba49e43d2.jpg',\n",
       " '../human_annotation/images/a1180d80-9316-47d4-89fa-3ef9fcd92657.jpg',\n",
       " '../human_annotation/images/2d11931b-3b13-44a0-a4e4-aeeaecfdfaaa.jpg',\n",
       " '../human_annotation/images/9cb3a858-5182-450c-8dd5-d185531ffd08.jpg',\n",
       " '../human_annotation/images/f2a07e80-9322-46a8-baf7-d84bc4d89483.jpg',\n",
       " '../human_annotation/images/8b3c862e-b79e-4e37-99df-ad1dc9eceb06.jpg',\n",
       " '../human_annotation/images/7f5ff66b-c54e-4960-8c52-6e050576c646.jpg',\n",
       " '../human_annotation/images/bd54ea3c-0b0c-43c7-aaf0-1017132b7f11.jpg',\n",
       " '../human_annotation/images/a65f9c17-5939-4358-accb-d2e3b2802eb9.jpg',\n",
       " '../human_annotation/images/62e7032a-5ca9-4f30-982d-7da8090300d6.jpg',\n",
       " '../human_annotation/images/ff7a7fd0-f978-4f5c-a204-449992a2f261.jpg',\n",
       " '../human_annotation/images/2c13d929-b13d-4e19-87c5-a0a87c6d1d8d.jpg',\n",
       " '../human_annotation/images/bcf3b350-7f65-4457-a20b-8ca59b445d5a.jpg',\n",
       " '../human_annotation/images/2337d231-5ed6-4e2e-9226-19a851b2643a.jpg',\n",
       " '../human_annotation/images/7e8962c7-31de-4993-888e-0d2e8a1710ba.jpg',\n",
       " '../human_annotation/images/f7d26096-c749-42a3-aa19-d73e03d74520.jpg',\n",
       " '../human_annotation/images/cbceb223-eaac-4192-b51a-8b5c3ec5a565.jpg',\n",
       " '../human_annotation/images/7ccd7395-458a-4715-82dd-3b8af4e45a9e.jpg',\n",
       " '../human_annotation/images/2a0b7493-5028-4b54-b844-197f931fea9c.jpg',\n",
       " '../human_annotation/images/bad58e49-99aa-497b-8e24-8d31907f9023.jpg',\n",
       " '../human_annotation/images/7b218800-708a-4463-acaa-9c2e10dd7459.jpg',\n",
       " '../human_annotation/images/d67ddb00-19dc-484d-8633-e3c775c37200.jpg',\n",
       " '../human_annotation/images/0d5c6546-eeb1-4fcf-a1eb-9150d3651254.jpg',\n",
       " '../human_annotation/images/59d527ff-daa3-4735-acbd-b58c00fe1d4e.jpg',\n",
       " '../human_annotation/images/7c66f56d-258d-49f7-af88-6408995bc0bf.jpg',\n",
       " '../human_annotation/images/6769752b-c04c-4acc-a117-2881e17af705.jpg',\n",
       " '../human_annotation/images/2b95f875-90fc-41e5-aec9-06f9d777d13e.jpg',\n",
       " '../human_annotation/images/9762c4ee-8ba6-4d2a-985e-199b8856567f.jpg',\n",
       " '../human_annotation/images/58f1f798-3c2f-4cb9-9fc4-0285d5e9c18e.jpg',\n",
       " '../human_annotation/images/a81d4493-09af-4d8f-abb7-a9cc8739a7c5.jpg',\n",
       " '../human_annotation/images/53e06371-dd0c-46a4-bb89-25465eb2446a.jpg']"
      ]
     },
     "execution_count": 14,
     "metadata": {},
     "output_type": "execute_result"
    }
   ],
   "source": [
    "import glob\n",
    "\n",
    "all_image_paths = glob.glob(str(destination_dir / \"*.jpg\"))\n",
    "print(f\"Total number of image files: {len(all_image_paths)}\")"
   ]
  },
  {
   "cell_type": "markdown",
   "metadata": {},
   "source": [
    "Using pigeonXT\n",
    "Source: https://github.com/dennisbakhuis/pigeonXT "
   ]
  },
  {
   "cell_type": "code",
   "execution_count": null,
   "metadata": {},
   "outputs": [
    {
     "data": {
      "application/vnd.jupyter.widget-view+json": {
       "model_id": "679e97e7035e4172851526c08e2fb746",
       "version_major": 2,
       "version_minor": 0
      },
      "text/plain": [
       "HTML(value='0 of 200 Examples annotated, Current Position: 0 ')"
      ]
     },
     "metadata": {},
     "output_type": "display_data"
    },
    {
     "data": {
      "application/vnd.jupyter.widget-view+json": {
       "model_id": "2677bbb904bb41cd8bb76aba634bd5ad",
       "version_major": 2,
       "version_minor": 0
      },
      "text/plain": [
       "VBox(children=(HBox(children=(ToggleButton(value=False, description='good'), ToggleButton(value=False, descrip…"
      ]
     },
     "metadata": {},
     "output_type": "display_data"
    },
    {
     "data": {
      "application/vnd.jupyter.widget-view+json": {
       "model_id": "15035101d63e4728b1f1f16e119e12bd",
       "version_major": 2,
       "version_minor": 0
      },
      "text/plain": [
       "Output()"
      ]
     },
     "metadata": {},
     "output_type": "display_data"
    }
   ],
   "source": [
    "def custom_display(html_content):\n",
    "    # Convert HTML object to string\n",
    "    html_string = str(html_content)\n",
    "\n",
    "    # Use regular expression to extract the text inside <div> tags\n",
    "    match = re.search(r'<div>(.*?)</div>', html_string)\n",
    "    if match:\n",
    "        image_path = match.group(1)\n",
    "        # resize the image to 512x512\n",
    "        resized_img = Image(filename=image_path, width=224, height=224)\n",
    "        display(resized_img)\n",
    "        # display(Image(filename=image_path))\n",
    "    else:\n",
    "        print(\"No image path found in HTML content\")\n",
    "\n",
    "\n",
    "image_annotations = pixt.annotate(\n",
    "    all_image_paths,\n",
    "    display_fn=custom_display,\n",
    "    task_type='multilabel-classification',\n",
    "    options=frames_list,\n",
    ")"
   ]
  },
  {
   "cell_type": "code",
   "execution_count": 9,
   "metadata": {},
   "outputs": [],
   "source": [
    "# image_annotations\n",
    "# # canbe saved to a csv file\n",
    "# # image_annotations.to_csv('annotations.csv', index=False)"
   ]
  },
  {
   "cell_type": "markdown",
   "metadata": {},
   "source": [
    "### Text Annotations"
   ]
  },
  {
   "cell_type": "code",
   "execution_count": 10,
   "metadata": {},
   "outputs": [],
   "source": [
    "# type(image_annotations)"
   ]
  },
  {
   "cell_type": "markdown",
   "metadata": {},
   "source": [
    "#### Make list of headlines from the sampled data"
   ]
  },
  {
   "cell_type": "code",
   "execution_count": null,
   "metadata": {},
   "outputs": [],
   "source": [
    "samples_txt = pd.read_csv(\"../human_annotation/sampled_annotated_articles_200.csv\") # add your file path here\n",
    "sample_headlines = samples_txt['title'].tolist()\n",
    "\n"
   ]
  },
  {
   "cell_type": "code",
   "execution_count": null,
   "metadata": {},
   "outputs": [],
   "source": []
  },
  {
   "cell_type": "code",
   "execution_count": 29,
   "metadata": {},
   "outputs": [
    {
     "data": {
      "application/vnd.jupyter.widget-view+json": {
       "model_id": "30462013599646f2a097df2a34414feb",
       "version_major": 2,
       "version_minor": 0
      },
      "text/plain": [
       "HTML(value='0 of 200 Examples annotated, Current Position: 0 ')"
      ]
     },
     "metadata": {},
     "output_type": "display_data"
    },
    {
     "data": {
      "application/vnd.jupyter.widget-view+json": {
       "model_id": "6bc5fffbe98649edbe1f554879bb49c1",
       "version_major": 2,
       "version_minor": 0
      },
      "text/plain": [
       "VBox(children=(HBox(children=(Button(description='quality of life', style=ButtonStyle()), Button(description='…"
      ]
     },
     "metadata": {},
     "output_type": "display_data"
    },
    {
     "data": {
      "application/vnd.jupyter.widget-view+json": {
       "model_id": "c84ee99fe7cc4328bad82b698a6c1873",
       "version_major": 2,
       "version_minor": 0
      },
      "text/plain": [
       "Output()"
      ]
     },
     "metadata": {},
     "output_type": "display_data"
    }
   ],
   "source": [
    "text_annotations = pixt.annotate(\n",
    "    sample_headlines,\n",
    "    options=text_frames_list,\n",
    "    reset_buttons_after_click=True\n",
    ")"
   ]
  },
  {
   "cell_type": "code",
   "execution_count": null,
   "metadata": {},
   "outputs": [
    {
     "data": {
      "text/html": [
       "<div>\n",
       "<style scoped>\n",
       "    .dataframe tbody tr th:only-of-type {\n",
       "        vertical-align: middle;\n",
       "    }\n",
       "\n",
       "    .dataframe tbody tr th {\n",
       "        vertical-align: top;\n",
       "    }\n",
       "\n",
       "    .dataframe thead th {\n",
       "        text-align: right;\n",
       "    }\n",
       "</style>\n",
       "<table border=\"1\" class=\"dataframe\">\n",
       "  <thead>\n",
       "    <tr style=\"text-align: right;\">\n",
       "      <th></th>\n",
       "      <th>example</th>\n",
       "      <th>changed</th>\n",
       "      <th>label</th>\n",
       "    </tr>\n",
       "  </thead>\n",
       "  <tbody>\n",
       "    <tr>\n",
       "      <th>0</th>\n",
       "      <td>Color of sun?</td>\n",
       "      <td>True</td>\n",
       "      <td>green</td>\n",
       "    </tr>\n",
       "    <tr>\n",
       "      <th>1</th>\n",
       "      <td>Color of sky?</td>\n",
       "      <td>True</td>\n",
       "      <td>blue</td>\n",
       "    </tr>\n",
       "    <tr>\n",
       "      <th>2</th>\n",
       "      <td>Color of grass?</td>\n",
       "      <td>True</td>\n",
       "      <td>green</td>\n",
       "    </tr>\n",
       "  </tbody>\n",
       "</table>\n",
       "</div>"
      ],
      "text/plain": [
       "           example  changed  label\n",
       "0    Color of sun?     True  green\n",
       "1    Color of sky?     True   blue\n",
       "2  Color of grass?     True  green"
      ]
     },
     "execution_count": 5,
     "metadata": {},
     "output_type": "execute_result"
    }
   ],
   "source": [
    "text_annotations\n"
   ]
  },
  {
   "cell_type": "code",
   "execution_count": null,
   "metadata": {},
   "outputs": [],
   "source": []
  }
 ],
 "metadata": {
  "kernelspec": {
   "display_name": "frame-cluster-env",
   "language": "python",
   "name": "python3"
  },
  "language_info": {
   "codemirror_mode": {
    "name": "ipython",
    "version": 3
   },
   "file_extension": ".py",
   "mimetype": "text/x-python",
   "name": "python",
   "nbconvert_exporter": "python",
   "pygments_lexer": "ipython3",
   "version": "3.9.9"
  }
 },
 "nbformat": 4,
 "nbformat_minor": 2
}

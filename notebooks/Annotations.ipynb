{
 "cells": [
  {
   "cell_type": "markdown",
   "metadata": {},
   "source": [
    "## Notebook for Frame Annotation for Image and Text for 200 Sampled data"
   ]
  },
  {
   "cell_type": "markdown",
   "metadata": {},
   "source": [
    "#### Load libraries\n",
    "`pip install pigeonXT-jupyter`"
   ]
  },
  {
   "cell_type": "code",
   "execution_count": 18,
   "metadata": {},
   "outputs": [],
   "source": [
    "import pigeonXT as pixt"
   ]
  },
  {
   "cell_type": "code",
   "execution_count": 19,
   "metadata": {},
   "outputs": [],
   "source": [
    "import pandas as pd\n",
    "import re\n",
    "from pathlib import Path\n",
    "from IPython.display import display, Image"
   ]
  },
  {
   "cell_type": "markdown",
   "metadata": {},
   "source": [
    "## Create sample of 200 text-image which are filtered"
   ]
  },
  {
   "cell_type": "code",
   "execution_count": 22,
   "metadata": {},
   "outputs": [
    {
     "name": "stdout",
     "output_type": "stream",
     "text": [
      "Existed!Deleted /projects/frame_align/data/srishti-analysis/sampled_annotated_articles_200.csv\n",
      "Saved /projects/frame_align/data/srishti-analysis/sampled_annotated_articles_200.csv\n"
     ]
    }
   ],
   "source": [
    "analysis_path = Path('/projects/frame_align/data/annotated/analysis')\n",
    "sample_200 = pd.read_csv(analysis_path.parent.parent / \"sample\"/'sampled_annotated_articles.csv')\n",
    "\n",
    "sampled_200_csv_file = analysis_path.parent.parent / \"srishti-analysis\"/\"sampled_annotated_articles_200.csv\"\n",
    "# delete the file if it exists\n",
    "if sampled_200_csv_file.exists():\n",
    "    sampled_200_csv_file.unlink()\n",
    "    print(f\"Existed!Deleted {sampled_200_csv_file}\")\n",
    "\n",
    "# sample 200 from the annotated articles\n",
    "sample_200 = sample_200.sample(200, random_state=42)\n",
    "sample_200.to_csv(analysis_path.parent.parent / \"srishti-analysis\"/\"sampled_annotated_articles_200.csv\", index=False)\n",
    "print(f\"Saved {sampled_200_csv_file}\")"
   ]
  },
  {
   "cell_type": "markdown",
   "metadata": {},
   "source": [
    "#### Create list of frame names"
   ]
  },
  {
   "cell_type": "code",
   "execution_count": 23,
   "metadata": {},
   "outputs": [
    {
     "name": "stdout",
     "output_type": "stream",
     "text": [
      "Frame length: 15\n"
     ]
    }
   ],
   "source": [
    "# Get Frame names\n",
    "frames = sample_200['text_frame_name'].unique()\n",
    "frames_list = frames.tolist()\n",
    "print(f\"Frame length: {len(frames_list)}\")"
   ]
  },
  {
   "cell_type": "markdown",
   "metadata": {},
   "source": [
    "## Save all 200 sampled images for human annotation\n"
   ]
  },
  {
   "cell_type": "markdown",
   "metadata": {},
   "source": [
    "#### Create path of image directories"
   ]
  },
  {
   "cell_type": "code",
   "execution_count": 24,
   "metadata": {},
   "outputs": [],
   "source": [
    "all_months = [\"2023-05-01_2023-05-31\", \"2023-06-01_2023-06-30\", \"2023-07-01_2023-07-31\", \"2023-08-01_2023-08-31\", \"2023-09-01_2023-09-30\",\n",
    "    \"2023-10-01_2023-10-31\", \"2023-11-01_2023-11-30\", \"2023-12-01_2023-12-31\", \"2024-01-01_2024-01-31\", \"2024-02-01_2024-02-29\",\n",
    "    \"2024-03-01_2024-03-31\", \"2024-04-01_2024-04-30\"]\n",
    "\n",
    "\n",
    "base_img_dir_1 = Path(\"/projects/frame_align/data/news_img_data/\")\n",
    "base_img_dir_2 = Path(\"/projects/frame_align/data/img_data/\")\n",
    "\n",
    "month_dir_paths = [base_img_dir_1 / month for month in all_months] + [base_img_dir_2 / month / 'correct_downloaded_imgs' for month in all_months]\n",
    "sorted_month_dir_paths = sorted(month_dir_paths)"
   ]
  },
  {
   "cell_type": "markdown",
   "metadata": {},
   "source": [
    "#### Save month and uuids for images"
   ]
  },
  {
   "cell_type": "code",
   "execution_count": 25,
   "metadata": {},
   "outputs": [
    {
     "data": {
      "text/html": [
       "<div>\n",
       "<style scoped>\n",
       "    .dataframe tbody tr th:only-of-type {\n",
       "        vertical-align: middle;\n",
       "    }\n",
       "\n",
       "    .dataframe tbody tr th {\n",
       "        vertical-align: top;\n",
       "    }\n",
       "\n",
       "    .dataframe thead th {\n",
       "        text-align: right;\n",
       "    }\n",
       "</style>\n",
       "<table border=\"1\" class=\"dataframe\">\n",
       "  <thead>\n",
       "    <tr style=\"text-align: right;\">\n",
       "      <th></th>\n",
       "      <th>month</th>\n",
       "      <th>vision_uuid</th>\n",
       "    </tr>\n",
       "  </thead>\n",
       "  <tbody>\n",
       "    <tr>\n",
       "      <th>2754</th>\n",
       "      <td>2023-10-01_2023-10-31</td>\n",
       "      <td>0416eb08-005f-44ba-aec8-ca0ee5e3faaa</td>\n",
       "    </tr>\n",
       "    <tr>\n",
       "      <th>2624</th>\n",
       "      <td>2023-10-01_2023-10-31</td>\n",
       "      <td>f55eea4a-8826-4c81-a927-3335b7bdfd64</td>\n",
       "    </tr>\n",
       "    <tr>\n",
       "      <th>178</th>\n",
       "      <td>2024-02-01_2024-02-29</td>\n",
       "      <td>ea16e806-d15f-41ba-9146-064f2c8f7ece</td>\n",
       "    </tr>\n",
       "    <tr>\n",
       "      <th>1502</th>\n",
       "      <td>2023-07-01_2023-07-31</td>\n",
       "      <td>89e378c2-efce-4100-8ce0-736f326280e8</td>\n",
       "    </tr>\n",
       "    <tr>\n",
       "      <th>2728</th>\n",
       "      <td>2023-10-01_2023-10-31</td>\n",
       "      <td>4254cc3e-ff7e-4810-b3dd-b3cacb4aff56</td>\n",
       "    </tr>\n",
       "    <tr>\n",
       "      <th>...</th>\n",
       "      <td>...</td>\n",
       "      <td>...</td>\n",
       "    </tr>\n",
       "    <tr>\n",
       "      <th>184</th>\n",
       "      <td>2024-02-01_2024-02-29</td>\n",
       "      <td>c69cfe52-e928-4dc3-b36b-cf2c9e081e0f</td>\n",
       "    </tr>\n",
       "    <tr>\n",
       "      <th>478</th>\n",
       "      <td>2023-12-01_2023-12-31</td>\n",
       "      <td>688c040c-187b-45c7-8f29-34c94b2e0633</td>\n",
       "    </tr>\n",
       "    <tr>\n",
       "      <th>1475</th>\n",
       "      <td>2023-07-01_2023-07-31</td>\n",
       "      <td>72e8990b-2611-4558-ad7f-602058384aab</td>\n",
       "    </tr>\n",
       "    <tr>\n",
       "      <th>3083</th>\n",
       "      <td>2023-08-01_2023-08-31</td>\n",
       "      <td>e6dc5ef2-40da-48e7-a517-63a347c2e53c</td>\n",
       "    </tr>\n",
       "    <tr>\n",
       "      <th>2576</th>\n",
       "      <td>2024-03-01_2024-03-31</td>\n",
       "      <td>6e0b7be0-cd41-4de1-a56d-1850acbc5c19</td>\n",
       "    </tr>\n",
       "  </tbody>\n",
       "</table>\n",
       "<p>200 rows × 2 columns</p>\n",
       "</div>"
      ],
      "text/plain": [
       "                      month                           vision_uuid\n",
       "2754  2023-10-01_2023-10-31  0416eb08-005f-44ba-aec8-ca0ee5e3faaa\n",
       "2624  2023-10-01_2023-10-31  f55eea4a-8826-4c81-a927-3335b7bdfd64\n",
       "178   2024-02-01_2024-02-29  ea16e806-d15f-41ba-9146-064f2c8f7ece\n",
       "1502  2023-07-01_2023-07-31  89e378c2-efce-4100-8ce0-736f326280e8\n",
       "2728  2023-10-01_2023-10-31  4254cc3e-ff7e-4810-b3dd-b3cacb4aff56\n",
       "...                     ...                                   ...\n",
       "184   2024-02-01_2024-02-29  c69cfe52-e928-4dc3-b36b-cf2c9e081e0f\n",
       "478   2023-12-01_2023-12-31  688c040c-187b-45c7-8f29-34c94b2e0633\n",
       "1475  2023-07-01_2023-07-31  72e8990b-2611-4558-ad7f-602058384aab\n",
       "3083  2023-08-01_2023-08-31  e6dc5ef2-40da-48e7-a517-63a347c2e53c\n",
       "2576  2024-03-01_2024-03-31  6e0b7be0-cd41-4de1-a56d-1850acbc5c19\n",
       "\n",
       "[200 rows x 2 columns]"
      ]
     },
     "execution_count": 25,
     "metadata": {},
     "output_type": "execute_result"
    }
   ],
   "source": [
    "vision_month_uuids = sample_200[['month', 'vision_uuid']]\n",
    "vision_month_uuids"
   ]
  },
  {
   "cell_type": "markdown",
   "metadata": {},
   "source": [
    "#### Create a list of image paths we sampled"
   ]
  },
  {
   "cell_type": "code",
   "execution_count": 26,
   "metadata": {},
   "outputs": [
    {
     "name": "stderr",
     "output_type": "stream",
     "text": [
      "100%|██████████| 200/200 [00:00<00:00, 581.33it/s]\n"
     ]
    }
   ],
   "source": [
    "from tqdm import tqdm\n",
    "\n",
    "existing_files = []\n",
    "\n",
    "for index, row in tqdm(vision_month_uuids.iterrows(), total=vision_month_uuids.shape[0]):\n",
    "    month = row['month']\n",
    "    uuid = row['vision_uuid']\n",
    "    for dir_path in sorted_month_dir_paths:\n",
    "        if month in str(dir_path):\n",
    "            file_path = dir_path / f\"{uuid}.jpg\"\n",
    "            if file_path.exists():\n",
    "                existing_files.append(file_path)"
   ]
  },
  {
   "cell_type": "markdown",
   "metadata": {},
   "source": [
    "#### Copy the images to a new directory which we will use for annotation\n",
    "new image directory= \"../human_annotation/images\""
   ]
  },
  {
   "cell_type": "code",
   "execution_count": 27,
   "metadata": {},
   "outputs": [
    {
     "name": "stderr",
     "output_type": "stream",
     "text": [
      "Copying files: 100%|██████████| 200/200 [00:01<00:00, 135.10it/s]\n"
     ]
    }
   ],
   "source": [
    "import shutil\n",
    "from tqdm import tqdm\n",
    "\n",
    "existing_files\n",
    "destination_dir = Path(\"../human_annotation/images\")\n",
    "destination_dir.mkdir(parents=True, exist_ok=True)\n",
    "\n",
    "for file_path in tqdm(existing_files, desc=\"Copying files\"):\n",
    "    destination = destination_dir / file_path.name\n",
    "    shutil.copy(file_path, destination)"
   ]
  },
  {
   "cell_type": "code",
   "execution_count": 28,
   "metadata": {},
   "outputs": [
    {
     "name": "stdout",
     "output_type": "stream",
     "text": [
      "Total number of image files: 200\n"
     ]
    }
   ],
   "source": [
    "import glob\n",
    "\n",
    "all_image_paths = glob.glob(str(destination_dir / \"*.jpg\"))\n",
    "print(f\"Total number of image files: {len(all_image_paths)}\")"
   ]
  },
  {
   "cell_type": "markdown",
   "metadata": {},
   "source": [
    "## Image Frame Annotation"
   ]
  },
  {
   "cell_type": "markdown",
   "metadata": {},
   "source": [
    "Using pigeonXT\n",
    "Source: https://github.com/dennisbakhuis/pigeonXT "
   ]
  },
  {
   "cell_type": "code",
   "execution_count": null,
   "metadata": {},
   "outputs": [
    {
     "data": {
      "application/vnd.jupyter.widget-view+json": {
       "model_id": "a4aca5feb9074de982a78483b972064b",
       "version_major": 2,
       "version_minor": 0
      },
      "text/plain": [
       "HTML(value='0 of 200 Examples annotated, Current Position: 0 ')"
      ]
     },
     "metadata": {},
     "output_type": "display_data"
    },
    {
     "data": {
      "application/vnd.jupyter.widget-view+json": {
       "model_id": "1c93fe574e39412d9df1e3d94d1f6d9a",
       "version_major": 2,
       "version_minor": 0
      },
      "text/plain": [
       "VBox(children=(HBox(children=(ToggleButton(value=False, description='quality of life'), ToggleButton(value=Fal…"
      ]
     },
     "metadata": {},
     "output_type": "display_data"
    },
    {
     "data": {
      "application/vnd.jupyter.widget-view+json": {
       "model_id": "b3863084a8164dfb985ae0c7e87036c3",
       "version_major": 2,
       "version_minor": 0
      },
      "text/plain": [
       "Output()"
      ]
     },
     "metadata": {},
     "output_type": "display_data"
    }
   ],
   "source": [
    "def custom_display(html_content):\n",
    "    html_string = str(html_content)\n",
    "\n",
    "    match = re.search(r'<div>(.*?)</div>', html_string)\n",
    "    if match:\n",
    "        image_path = match.group(1)\n",
    "        # resize the image to 512x512\n",
    "        resized_img = Image(filename=image_path, width=224, height=224)\n",
    "        display(resized_img)\n",
    "        # display(Image(filename=image_path))\n",
    "    else:\n",
    "        print(\"No image path found in HTML content\")\n",
    "\n",
    "\n",
    "image_annotations = pixt.annotate(\n",
    "    all_image_paths,\n",
    "    display_fn=custom_display,\n",
    "    task_type='multilabel-classification',\n",
    "    options=frames_list, # to do: how to display full options. it gets cut off for long options\n",
    ")"
   ]
  },
  {
   "cell_type": "markdown",
   "metadata": {},
   "source": [
    "#### Image_annotation saved to a csv file"
   ]
  },
  {
   "cell_type": "code",
   "execution_count": null,
   "metadata": {},
   "outputs": [],
   "source": [
    "image_annotations_file = '../human_annotation/image_annotations.csv'\n",
    "#delete the file if it exists\n",
    "if Path(image_annotations_file).exists():\n",
    "    Path(image_annotations_file).unlink()\n",
    "    print(f\"Existed!Deleted {image_annotations_file}\")\n",
    "    \n",
    "image_annotations.to_csv(image_annotations_file, index=False)\n",
    "print(f\"Saved {image_annotations_file}\")"
   ]
  },
  {
   "cell_type": "markdown",
   "metadata": {},
   "source": [
    "## Text Frame Annotations"
   ]
  },
  {
   "cell_type": "markdown",
   "metadata": {},
   "source": [
    "#### Make list of headlines from the sampled data"
   ]
  },
  {
   "cell_type": "code",
   "execution_count": null,
   "metadata": {},
   "outputs": [],
   "source": [
    "samples_txt = pd.read_csv(\"../human_annotation/sampled_annotated_articles_200.csv\") # add your file path here\n",
    "sample_headlines = samples_txt['title'].tolist()"
   ]
  },
  {
   "cell_type": "markdown",
   "metadata": {},
   "source": [
    "#### Text frame annotation"
   ]
  },
  {
   "cell_type": "code",
   "execution_count": null,
   "metadata": {},
   "outputs": [],
   "source": [
    "text_annotations = pixt.annotate(\n",
    "    sample_headlines,\n",
    "    options=frames_list,\n",
    "    reset_buttons_after_click=True\n",
    ")"
   ]
  },
  {
   "cell_type": "markdown",
   "metadata": {},
   "source": [
    "#### Save text annotations to a csv file"
   ]
  },
  {
   "cell_type": "code",
   "execution_count": null,
   "metadata": {},
   "outputs": [],
   "source": [
    "text_annotations_file = \"../human_annotation/text_annotations.csv\"\n",
    "#delete the file if it exists\n",
    "if Path(text_annotations_file).exists():\n",
    "    Path(text_annotations_file).unlink()\n",
    "    print(f\"Existed!Deleted {text_annotations_file}\")\n",
    "    \n",
    "text_annotations.to_csv(text_annotations_file, index=False)\n",
    "print(f\"Saved {text_annotations_file}\")\n"
   ]
  }
 ],
 "metadata": {
  "kernelspec": {
   "display_name": "frame-cluster-env",
   "language": "python",
   "name": "python3"
  },
  "language_info": {
   "codemirror_mode": {
    "name": "ipython",
    "version": 3
   },
   "file_extension": ".py",
   "mimetype": "text/x-python",
   "name": "python",
   "nbconvert_exporter": "python",
   "pygments_lexer": "ipython3",
   "version": "3.9.9"
  }
 },
 "nbformat": 4,
 "nbformat_minor": 2
}

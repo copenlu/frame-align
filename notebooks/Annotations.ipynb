{
 "cells": [
  {
   "cell_type": "markdown",
   "metadata": {},
   "source": [
    "## Notebook for Frame Annotation for Image and Text for 200 Sampled data"
   ]
  },
  {
   "cell_type": "markdown",
   "metadata": {},
   "source": [
    "#### Load libraries\n",
    "`pip install pigeonXT-jupyter`"
   ]
  },
  {
   "cell_type": "code",
   "execution_count": 4,
   "metadata": {},
   "outputs": [],
   "source": [
    "import pigeonXT as pixt"
   ]
  },
  {
   "cell_type": "code",
   "execution_count": 5,
   "metadata": {},
   "outputs": [],
   "source": [
    "import pandas as pd\n",
    "import re\n",
    "from pathlib import Path\n",
    "from IPython.display import display, Image"
   ]
  },
  {
   "cell_type": "markdown",
   "metadata": {},
   "source": [
    "## Create sample of 200 text-image which are filtered"
   ]
  },
  {
   "cell_type": "code",
   "execution_count": 6,
   "metadata": {},
   "outputs": [
    {
     "name": "stdout",
     "output_type": "stream",
     "text": [
      "Loaded 200 annotated samples\n"
     ]
    }
   ],
   "source": [
    "analysis_path = Path('/projects/frame_align/data/annotated/analysis')\n",
    "\n",
    "annotated_sample_path = Path('../human_annotation/sampled_annotated_articles_200.csv')\n",
    "sample_200 = pd.read_csv(annotated_sample_path)\n",
    "print(f\"Loaded {len(sample_200)} annotated samples\")"
   ]
  },
  {
   "cell_type": "code",
   "execution_count": 7,
   "metadata": {},
   "outputs": [],
   "source": [
    "# uncomment this if you diont have the data\n",
    "\n",
    "# sample_200 = pd.read_csv(analysis_path.parent.parent / \"sample\"/'sampled_annotated_articles.csv')\n",
    "\n",
    "# sampled_200_csv_file = analysis_path.parent.parent / \"srishti-analysis\"/\"sampled_annotated_articles_200.csv\"\n",
    "\n",
    "# # delete the file if it exists\n",
    "# if sampled_200_csv_file.exists():\n",
    "#     sampled_200_csv_file.unlink()\n",
    "#     print(f\"Existed!Deleted {sampled_200_csv_file}\")\n",
    "\n",
    "# # sample 200 from the annotated articles\n",
    "# sample_200 = sample_200.sample(200, random_state=42)\n",
    "# sample_200.to_csv(analysis_path.parent.parent / \"srishti-analysis\"/\"sampled_annotated_articles_200.csv\", index=False)\n",
    "# print(f\"Saved {sampled_200_csv_file}\")"
   ]
  },
  {
   "cell_type": "markdown",
   "metadata": {},
   "source": [
    "#### Create list of frame names"
   ]
  },
  {
   "cell_type": "code",
   "execution_count": 8,
   "metadata": {},
   "outputs": [
    {
     "name": "stdout",
     "output_type": "stream",
     "text": [
      "Frame length: 15\n"
     ]
    }
   ],
   "source": [
    "# Get Frame names\n",
    "frames = sample_200['text_frame_name'].unique()\n",
    "frames_list = frames.tolist()\n",
    "print(f\"Frame length: {len(frames_list)}\")"
   ]
  },
  {
   "cell_type": "markdown",
   "metadata": {},
   "source": [
    "## Save all 200 sampled images for human annotation\n"
   ]
  },
  {
   "cell_type": "markdown",
   "metadata": {},
   "source": [
    "#### Create path of image directories\n",
    "Go to next block if you lready have images downloaded"
   ]
  },
  {
   "cell_type": "code",
   "execution_count": 9,
   "metadata": {},
   "outputs": [],
   "source": [
    "# all_months = [\"2023-05-01_2023-05-31\", \"2023-06-01_2023-06-30\", \"2023-07-01_2023-07-31\", \"2023-08-01_2023-08-31\", \"2023-09-01_2023-09-30\",\n",
    "#     \"2023-10-01_2023-10-31\", \"2023-11-01_2023-11-30\", \"2023-12-01_2023-12-31\", \"2024-01-01_2024-01-31\", \"2024-02-01_2024-02-29\",\n",
    "#     \"2024-03-01_2024-03-31\", \"2024-04-01_2024-04-30\"]\n",
    "\n",
    "\n",
    "# base_img_dir_1 = Path(\"/projects/frame_align/data/news_img_data/\")\n",
    "# base_img_dir_2 = Path(\"/projects/frame_align/data/img_data/\")\n",
    "\n",
    "# month_dir_paths = [base_img_dir_1 / month for month in all_months] + [base_img_dir_2 / month / 'correct_downloaded_imgs' for month in all_months]\n",
    "# sorted_month_dir_paths = sorted(month_dir_paths)"
   ]
  },
  {
   "cell_type": "markdown",
   "metadata": {},
   "source": [
    "#### Save month and uuids for images"
   ]
  },
  {
   "cell_type": "code",
   "execution_count": 10,
   "metadata": {},
   "outputs": [],
   "source": [
    "# vision_month_uuids = sample_200[['month', 'vision_uuid']]\n",
    "# vision_month_uuids"
   ]
  },
  {
   "cell_type": "markdown",
   "metadata": {},
   "source": [
    "#### Create a list of image paths we sampled"
   ]
  },
  {
   "cell_type": "code",
   "execution_count": 11,
   "metadata": {},
   "outputs": [],
   "source": [
    "# from tqdm import tqdm\n",
    "\n",
    "# existing_files = []\n",
    "\n",
    "# for index, row in tqdm(vision_month_uuids.iterrows(), total=vision_month_uuids.shape[0]):\n",
    "#     month = row['month']\n",
    "#     uuid = row['vision_uuid']\n",
    "#     for dir_path in sorted_month_dir_paths:\n",
    "#         if month in str(dir_path):\n",
    "#             file_path = dir_path / f\"{uuid}.jpg\"\n",
    "#             if file_path.exists():\n",
    "#                 existing_files.append(file_path)"
   ]
  },
  {
   "cell_type": "markdown",
   "metadata": {},
   "source": [
    "#### Copy the images to a new directory which we will use for annotation\n",
    "new image directory= \"../human_annotation/images\""
   ]
  },
  {
   "cell_type": "code",
   "execution_count": 12,
   "metadata": {},
   "outputs": [],
   "source": [
    "# import shutil\n",
    "# from tqdm import tqdm\n",
    "\n",
    "destination_dir = Path(\"../human_annotation/images\")\n",
    "destination_dir.mkdir(parents=True, exist_ok=True)\n",
    "\n",
    "# for file_path in tqdm(existing_files, desc=\"Copying files\"):\n",
    "#     destination = destination_dir / file_path.name\n",
    "#     shutil.copy(file_path, destination)"
   ]
  },
  {
   "cell_type": "code",
   "execution_count": 13,
   "metadata": {},
   "outputs": [
    {
     "name": "stdout",
     "output_type": "stream",
     "text": [
      "Total number of image files: 200\n"
     ]
    }
   ],
   "source": [
    "import glob\n",
    "\n",
    "all_image_paths = glob.glob(str(destination_dir / \"*.jpg\"))\n",
    "print(f\"Total number of image files: {len(all_image_paths)}\")"
   ]
  },
  {
   "cell_type": "markdown",
   "metadata": {},
   "source": [
    "## Image Frame Annotation"
   ]
  },
  {
   "cell_type": "markdown",
   "metadata": {},
   "source": [
    "Using pigeonXT\n",
    "Source: https://github.com/dennisbakhuis/pigeonXT "
   ]
  },
  {
   "cell_type": "code",
   "execution_count": null,
   "metadata": {},
   "outputs": [
    {
     "data": {
      "application/vnd.jupyter.widget-view+json": {
       "model_id": "b358d3bad1a344d6948d487eb5f62fae",
       "version_major": 2,
       "version_minor": 0
      },
      "text/plain": [
       "HTML(value='0 of 200 Examples annotated, Current Position: 0 ')"
      ]
     },
     "metadata": {},
     "output_type": "display_data"
    },
    {
     "data": {
      "application/vnd.jupyter.widget-view+json": {
       "model_id": "91e752c6b82b409e8e28b1e97fecb0d2",
       "version_major": 2,
       "version_minor": 0
      },
      "text/plain": [
       "VBox(children=(HBox(children=(ToggleButton(value=False, description='quality of life'), ToggleButton(value=Fal…"
      ]
     },
     "metadata": {},
     "output_type": "display_data"
    },
    {
     "data": {
      "application/vnd.jupyter.widget-view+json": {
       "model_id": "dad9df839b08400092ea1385c6fc4c26",
       "version_major": 2,
       "version_minor": 0
      },
      "text/plain": [
       "Output()"
      ]
     },
     "metadata": {},
     "output_type": "display_data"
    }
   ],
   "source": [
    "def custom_display(html_content):\n",
    "    html_string = str(html_content)\n",
    "\n",
    "    match = re.search(r'<div>(.*?)</div>', html_string)\n",
    "    if match:\n",
    "        image_path = match.group(1)\n",
    "        # resize the image to 800x800\n",
    "        resized_img = Image(filename=image_path, width=448, height=448)\n",
    "        display(resized_img)\n",
    "        # display(Image(filename=image_path))\n",
    "    else:\n",
    "        print(\"No image path found in HTML content\")\n",
    "\n",
    "\n",
    "image_annotations = pixt.annotate(\n",
    "    all_image_paths,\n",
    "    display_fn=custom_display,\n",
    "    task_type='multilabel-classification',\n",
    "    options=frames_list, # to do: how to display full options. it gets cut off for long options\n",
    ")"
   ]
  },
  {
   "cell_type": "code",
   "execution_count": 32,
   "metadata": {},
   "outputs": [],
   "source": [
    "FRAMES = \"\"\"\n",
    "    1: Economic - costs, benefits, or other financial implications,\n",
    "    2: Capacity and resources - availability of physical, human, or financial resources, and capacity of current systems, \n",
    "    3: Morality - religious or ethical implications,\n",
    "    4: Fairness and equality - balance or distribution of rights, responsibilities, and resources,\n",
    "    5: Legality, constitutionality and jurisprudence - rights, freedoms, and authority of individuals, corporations, and government,\n",
    "    6: Policy prescription and evaluation - discussion of specific policies aimed at addressing problems\n",
    "    7: Crime and punishment - effectiveness and implications of laws and their enforcement,\n",
    "    8: Security and defense - threats to welfare of the individual, community, or nation,\n",
    "    9: Health and safety - health care, sanitation, public safety,\n",
    "    10: Quality of life - threats and opportunities for the individual's wealth, happiness, and well-being,\n",
    "    11: Cultural identity - traditions, customs, or values of a social group in relation to a policy issue,\n",
    "    12: Public opinion - attitudes and opinions of the general public, including polling and demographics,\n",
    "    13: Political - considerations related to politics and politicians, including lobbying, elections, and attempts to sway voters,\n",
    "    14: External regulation and reputation - international reputation or foreign policy of the U.S,\n",
    "    15: Other - any coherent group of frames not covered by the above categories.\"\"\""
   ]
  },
  {
   "cell_type": "markdown",
   "metadata": {},
   "source": [
    "#### Image_annotation saved to a csv file"
   ]
  },
  {
   "cell_type": "code",
   "execution_count": null,
   "metadata": {},
   "outputs": [
    {
     "name": "stdout",
     "output_type": "stream",
     "text": [
      "Existed!Deleted ../human_annotation/image_annotations_srishti.csv\n",
      "Saved ../human_annotation/image_annotations_srishti.csv\n"
     ]
    }
   ],
   "source": [
    "image_annotations_file = '../human_annotation/image_annotations_maria.csv'\n",
    "#delete the file if it exists\n",
    "if Path(image_annotations_file).exists():\n",
    "    Path(image_annotations_file).unlink()\n",
    "    print(f\"Existed!Deleted {image_annotations_file}\")\n",
    "    \n",
    "image_annotations.to_csv(image_annotations_file, index=False)\n",
    "print(f\"Saved {image_annotations_file}\")"
   ]
  },
  {
   "cell_type": "markdown",
   "metadata": {},
   "source": [
    "### Accuracy"
   ]
  },
  {
   "cell_type": "code",
   "execution_count": null,
   "metadata": {},
   "outputs": [
    {
     "data": {
      "text/html": [
       "<div>\n",
       "<style scoped>\n",
       "    .dataframe tbody tr th:only-of-type {\n",
       "        vertical-align: middle;\n",
       "    }\n",
       "\n",
       "    .dataframe tbody tr th {\n",
       "        vertical-align: top;\n",
       "    }\n",
       "\n",
       "    .dataframe thead th {\n",
       "        text-align: right;\n",
       "    }\n",
       "</style>\n",
       "<table border=\"1\" class=\"dataframe\">\n",
       "  <thead>\n",
       "    <tr style=\"text-align: right;\">\n",
       "      <th></th>\n",
       "      <th>example</th>\n",
       "      <th>changed</th>\n",
       "      <th>quality of life</th>\n",
       "      <th>capacity and resources</th>\n",
       "      <th>political</th>\n",
       "      <th>security and defense</th>\n",
       "      <th>policy prescription and evaluation</th>\n",
       "      <th>fairness and equality</th>\n",
       "      <th>other</th>\n",
       "      <th>health and safety</th>\n",
       "      <th>legality, constitutionality and jurisprudence</th>\n",
       "      <th>morality</th>\n",
       "      <th>economic</th>\n",
       "      <th>public opinion</th>\n",
       "      <th>cultural identity</th>\n",
       "      <th>external regulation and reputation</th>\n",
       "      <th>crime and punishment</th>\n",
       "    </tr>\n",
       "  </thead>\n",
       "  <tbody>\n",
       "    <tr>\n",
       "      <th>0</th>\n",
       "      <td>../human_annotation/images/17e639d0-f9c1-4ce8-...</td>\n",
       "      <td>True</td>\n",
       "      <td>True</td>\n",
       "      <td>False</td>\n",
       "      <td>False</td>\n",
       "      <td>False</td>\n",
       "      <td>False</td>\n",
       "      <td>False</td>\n",
       "      <td>False</td>\n",
       "      <td>False</td>\n",
       "      <td>False</td>\n",
       "      <td>False</td>\n",
       "      <td>False</td>\n",
       "      <td>False</td>\n",
       "      <td>False</td>\n",
       "      <td>False</td>\n",
       "      <td>False</td>\n",
       "    </tr>\n",
       "    <tr>\n",
       "      <th>1</th>\n",
       "      <td>../human_annotation/images/cdc09317-a5f2-4af7-...</td>\n",
       "      <td>True</td>\n",
       "      <td>False</td>\n",
       "      <td>False</td>\n",
       "      <td>True</td>\n",
       "      <td>True</td>\n",
       "      <td>True</td>\n",
       "      <td>False</td>\n",
       "      <td>False</td>\n",
       "      <td>False</td>\n",
       "      <td>False</td>\n",
       "      <td>False</td>\n",
       "      <td>False</td>\n",
       "      <td>False</td>\n",
       "      <td>False</td>\n",
       "      <td>False</td>\n",
       "      <td>False</td>\n",
       "    </tr>\n",
       "    <tr>\n",
       "      <th>2</th>\n",
       "      <td>../human_annotation/images/c69cfe52-e928-4dc3-...</td>\n",
       "      <td>True</td>\n",
       "      <td>True</td>\n",
       "      <td>False</td>\n",
       "      <td>False</td>\n",
       "      <td>False</td>\n",
       "      <td>False</td>\n",
       "      <td>False</td>\n",
       "      <td>False</td>\n",
       "      <td>False</td>\n",
       "      <td>False</td>\n",
       "      <td>False</td>\n",
       "      <td>False</td>\n",
       "      <td>False</td>\n",
       "      <td>False</td>\n",
       "      <td>False</td>\n",
       "      <td>False</td>\n",
       "    </tr>\n",
       "    <tr>\n",
       "      <th>3</th>\n",
       "      <td>../human_annotation/images/1980de34-e867-4b9b-...</td>\n",
       "      <td>True</td>\n",
       "      <td>False</td>\n",
       "      <td>False</td>\n",
       "      <td>True</td>\n",
       "      <td>False</td>\n",
       "      <td>False</td>\n",
       "      <td>False</td>\n",
       "      <td>False</td>\n",
       "      <td>False</td>\n",
       "      <td>False</td>\n",
       "      <td>False</td>\n",
       "      <td>False</td>\n",
       "      <td>False</td>\n",
       "      <td>False</td>\n",
       "      <td>False</td>\n",
       "      <td>False</td>\n",
       "    </tr>\n",
       "    <tr>\n",
       "      <th>4</th>\n",
       "      <td>../human_annotation/images/0416eb08-005f-44ba-...</td>\n",
       "      <td>True</td>\n",
       "      <td>False</td>\n",
       "      <td>False</td>\n",
       "      <td>False</td>\n",
       "      <td>False</td>\n",
       "      <td>False</td>\n",
       "      <td>False</td>\n",
       "      <td>False</td>\n",
       "      <td>False</td>\n",
       "      <td>False</td>\n",
       "      <td>False</td>\n",
       "      <td>False</td>\n",
       "      <td>False</td>\n",
       "      <td>True</td>\n",
       "      <td>False</td>\n",
       "      <td>False</td>\n",
       "    </tr>\n",
       "  </tbody>\n",
       "</table>\n",
       "</div>"
      ],
      "text/plain": [
       "                                             example  changed  \\\n",
       "0  ../human_annotation/images/17e639d0-f9c1-4ce8-...     True   \n",
       "1  ../human_annotation/images/cdc09317-a5f2-4af7-...     True   \n",
       "2  ../human_annotation/images/c69cfe52-e928-4dc3-...     True   \n",
       "3  ../human_annotation/images/1980de34-e867-4b9b-...     True   \n",
       "4  ../human_annotation/images/0416eb08-005f-44ba-...     True   \n",
       "\n",
       "   quality of life  capacity and resources  political  security and defense  \\\n",
       "0             True                   False      False                 False   \n",
       "1            False                   False       True                  True   \n",
       "2             True                   False      False                 False   \n",
       "3            False                   False       True                 False   \n",
       "4            False                   False      False                 False   \n",
       "\n",
       "   policy prescription and evaluation  fairness and equality  other  \\\n",
       "0                               False                  False  False   \n",
       "1                                True                  False  False   \n",
       "2                               False                  False  False   \n",
       "3                               False                  False  False   \n",
       "4                               False                  False  False   \n",
       "\n",
       "   health and safety  legality, constitutionality and jurisprudence  morality  \\\n",
       "0              False                                          False     False   \n",
       "1              False                                          False     False   \n",
       "2              False                                          False     False   \n",
       "3              False                                          False     False   \n",
       "4              False                                          False     False   \n",
       "\n",
       "   economic  public opinion  cultural identity  \\\n",
       "0     False           False              False   \n",
       "1     False           False              False   \n",
       "2     False           False              False   \n",
       "3     False           False              False   \n",
       "4     False           False               True   \n",
       "\n",
       "   external regulation and reputation  crime and punishment  \n",
       "0                               False                 False  \n",
       "1                               False                 False  \n",
       "2                               False                 False  \n",
       "3                               False                 False  \n",
       "4                               False                 False  "
      ]
     },
     "execution_count": 3,
     "metadata": {},
     "output_type": "execute_result"
    }
   ],
   "source": [
    "# from pathlib import Path\n",
    "# import pandas as pd\n",
    "\n",
    "\n",
    "# filename = Path('../human_annotation/image_annotations_srishti.csv')\n",
    "# filename_df = pd.read_csv(filename)\n",
    "# filename_df.head()"
   ]
  },
  {
   "cell_type": "code",
   "execution_count": null,
   "metadata": {},
   "outputs": [],
   "source": [
    "annoated_uuid "
   ]
  },
  {
   "cell_type": "markdown",
   "metadata": {},
   "source": [
    "-----------------------------------------"
   ]
  },
  {
   "cell_type": "markdown",
   "metadata": {},
   "source": [
    "## Text Frame Annotations"
   ]
  },
  {
   "cell_type": "markdown",
   "metadata": {},
   "source": [
    "#### Make list of headlines from the sampled data"
   ]
  },
  {
   "cell_type": "code",
   "execution_count": null,
   "metadata": {},
   "outputs": [],
   "source": [
    "samples_txt = pd.read_csv(\"../human_annotation/sampled_annotated_articles_200.csv\") # add your file path here\n",
    "sample_headlines = samples_txt['title'].tolist()"
   ]
  },
  {
   "cell_type": "markdown",
   "metadata": {},
   "source": [
    "#### Text frame annotation"
   ]
  },
  {
   "cell_type": "code",
   "execution_count": null,
   "metadata": {},
   "outputs": [],
   "source": [
    "text_annotations = pixt.annotate(\n",
    "    sample_headlines,\n",
    "    options=frames_list,\n",
    "    reset_buttons_after_click=True\n",
    ")"
   ]
  },
  {
   "cell_type": "markdown",
   "metadata": {},
   "source": [
    "#### Save text annotations to a csv file"
   ]
  },
  {
   "cell_type": "code",
   "execution_count": null,
   "metadata": {},
   "outputs": [],
   "source": [
    "text_annotations_file = \"../human_annotation/text_annotations.csv\"\n",
    "#delete the file if it exists\n",
    "if Path(text_annotations_file).exists():\n",
    "    Path(text_annotations_file).unlink()\n",
    "    print(f\"Existed!Deleted {text_annotations_file}\")\n",
    "    \n",
    "text_annotations.to_csv(text_annotations_file, index=False)\n",
    "print(f\"Saved {text_annotations_file}\")\n"
   ]
  }
 ],
 "metadata": {
  "kernelspec": {
   "display_name": "frame-cluster-env",
   "language": "python",
   "name": "python3"
  },
  "language_info": {
   "codemirror_mode": {
    "name": "ipython",
    "version": 3
   },
   "file_extension": ".py",
   "mimetype": "text/x-python",
   "name": "python",
   "nbconvert_exporter": "python",
   "pygments_lexer": "ipython3",
   "version": "3.9.9"
  }
 },
 "nbformat": 4,
 "nbformat_minor": 2
}

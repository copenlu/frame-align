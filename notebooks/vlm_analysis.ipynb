{
 "cells": [
  {
   "cell_type": "code",
   "execution_count": 1,
   "metadata": {},
   "outputs": [],
   "source": [
    "# Import libraries\n",
    "\n",
    "import logging\n",
    "import os\n",
    "from pathlib import Path\n",
    "import pandas as pd\n",
    "\n",
    "# Configure logging\n",
    "logging.basicConfig(level=logging.INFO, format='%(asctime)s - %(levelname)s - %(message)s')\n",
    "logger = logging.getLogger(__name__)"
   ]
  },
  {
   "cell_type": "code",
   "execution_count": 3,
   "metadata": {},
   "outputs": [
    {
     "name": "stderr",
     "output_type": "stream",
     "text": [
      "2024-09-15 13:54:33,311 - INFO - Script directory: /home/vsl333/frame-align\n",
      "2024-09-15 13:54:33,312 - INFO - Data jsonl path: /home/vsl333/frame-align/data/processed/topic_sampled_jul23_vision_llava.jsonl\n"
     ]
    },
    {
     "data": {
      "text/html": [
       "<div>\n",
       "<style scoped>\n",
       "    .dataframe tbody tr th:only-of-type {\n",
       "        vertical-align: middle;\n",
       "    }\n",
       "\n",
       "    .dataframe tbody tr th {\n",
       "        vertical-align: top;\n",
       "    }\n",
       "\n",
       "    .dataframe thead th {\n",
       "        text-align: right;\n",
       "    }\n",
       "</style>\n",
       "<table border=\"1\" class=\"dataframe\">\n",
       "  <thead>\n",
       "    <tr style=\"text-align: right;\">\n",
       "      <th></th>\n",
       "      <th>uuid</th>\n",
       "      <th>image_file</th>\n",
       "      <th>headline</th>\n",
       "      <th>caption</th>\n",
       "      <th>actors</th>\n",
       "      <th>symbols</th>\n",
       "      <th>expressions</th>\n",
       "      <th>gender</th>\n",
       "      <th>frame</th>\n",
       "    </tr>\n",
       "  </thead>\n",
       "  <tbody>\n",
       "    <tr>\n",
       "      <th>0</th>\n",
       "      <td>a856fbc0-8ab5-44ad-a3c5-83147b3f5dd9</td>\n",
       "      <td>https://assets1.cbsnewsstatic.com/hub/i/r/2023...</td>\n",
       "      <td>Nearly a dozen hurt when crane arm catches fir...</td>\n",
       "      <td>{\\n\"caption\": \"A fire is burning in a crane, w...</td>\n",
       "      <td>{\\n\"main\\_actor\": \"New York City\",\\n\"sentiment...</td>\n",
       "      <td>{\\n\"symbolic thing\": \"fire\",\\n\"symbolic meanin...</td>\n",
       "      <td>{\\n\"main subject\": \"Fireman\",\\n\"facial express...</td>\n",
       "      <td>{\\n\"description of the person 1\": \"A person we...</td>\n",
       "      <td>{\\n\"frame\\_id\": 14,\\n\"frame\\_name\": \"External ...</td>\n",
       "    </tr>\n",
       "    <tr>\n",
       "      <th>1</th>\n",
       "      <td>7bd3ad37-3b31-4335-9847-07853389beb5</td>\n",
       "      <td>https://assets2.cbsnewsstatic.com/hub/i/r/2023...</td>\n",
       "      <td>Pilot remains hospitalized after passenger for...</td>\n",
       "      <td>{\\n\"caption\": \"A small white airplane is on th...</td>\n",
       "      <td>{\\n\"main\\_actor\": \"Pilot\",\\n\"sentiment\": \"Neut...</td>\n",
       "      <td>{\\n\"symbolic thing\": \"airplane crash\",\\n\"symbo...</td>\n",
       "      <td>{\\n\"main subject\": \"Man\",\\n\"facial expression\"...</td>\n",
       "      <td>{\\n\"description of the person 1\": \"A man in a ...</td>\n",
       "      <td>{\\n\"frame\\_id\": 14,\\n\"frame\\_name\": \"Crime and...</td>\n",
       "    </tr>\n",
       "    <tr>\n",
       "      <th>2</th>\n",
       "      <td>7f53e5a8-1c6d-4d3f-b0d6-6548da408043</td>\n",
       "      <td>https://nypost.com/wp-content/uploads/sites/2/...</td>\n",
       "      <td>OceanGate CEO used college interns to work on ...</td>\n",
       "      <td>{\\n\"caption\": [\\n{\\n\"description\": \"Two men in...</td>\n",
       "      <td>{\\n\"main\\_actor\": \"Man\",\\n\"sentiment\": \"Neutra...</td>\n",
       "      <td>{\\n\"symbolic thing\": \"submarine\",\\n\"symbolic m...</td>\n",
       "      <td>{\\n\"main subject\": \"Man\",\\n\"facial expression\"...</td>\n",
       "      <td>{\\n\"description of the person 1\": \"A man weari...</td>\n",
       "      <td>{\\n\"frame\\_id\": 14,\\n\"frame\\_name\": \"Political...</td>\n",
       "    </tr>\n",
       "  </tbody>\n",
       "</table>\n",
       "</div>"
      ],
      "text/plain": [
       "                                   uuid  \\\n",
       "0  a856fbc0-8ab5-44ad-a3c5-83147b3f5dd9   \n",
       "1  7bd3ad37-3b31-4335-9847-07853389beb5   \n",
       "2  7f53e5a8-1c6d-4d3f-b0d6-6548da408043   \n",
       "\n",
       "                                          image_file  \\\n",
       "0  https://assets1.cbsnewsstatic.com/hub/i/r/2023...   \n",
       "1  https://assets2.cbsnewsstatic.com/hub/i/r/2023...   \n",
       "2  https://nypost.com/wp-content/uploads/sites/2/...   \n",
       "\n",
       "                                            headline  \\\n",
       "0  Nearly a dozen hurt when crane arm catches fir...   \n",
       "1  Pilot remains hospitalized after passenger for...   \n",
       "2  OceanGate CEO used college interns to work on ...   \n",
       "\n",
       "                                             caption  \\\n",
       "0  {\\n\"caption\": \"A fire is burning in a crane, w...   \n",
       "1  {\\n\"caption\": \"A small white airplane is on th...   \n",
       "2  {\\n\"caption\": [\\n{\\n\"description\": \"Two men in...   \n",
       "\n",
       "                                              actors  \\\n",
       "0  {\\n\"main\\_actor\": \"New York City\",\\n\"sentiment...   \n",
       "1  {\\n\"main\\_actor\": \"Pilot\",\\n\"sentiment\": \"Neut...   \n",
       "2  {\\n\"main\\_actor\": \"Man\",\\n\"sentiment\": \"Neutra...   \n",
       "\n",
       "                                             symbols  \\\n",
       "0  {\\n\"symbolic thing\": \"fire\",\\n\"symbolic meanin...   \n",
       "1  {\\n\"symbolic thing\": \"airplane crash\",\\n\"symbo...   \n",
       "2  {\\n\"symbolic thing\": \"submarine\",\\n\"symbolic m...   \n",
       "\n",
       "                                         expressions  \\\n",
       "0  {\\n\"main subject\": \"Fireman\",\\n\"facial express...   \n",
       "1  {\\n\"main subject\": \"Man\",\\n\"facial expression\"...   \n",
       "2  {\\n\"main subject\": \"Man\",\\n\"facial expression\"...   \n",
       "\n",
       "                                              gender  \\\n",
       "0  {\\n\"description of the person 1\": \"A person we...   \n",
       "1  {\\n\"description of the person 1\": \"A man in a ...   \n",
       "2  {\\n\"description of the person 1\": \"A man weari...   \n",
       "\n",
       "                                               frame  \n",
       "0  {\\n\"frame\\_id\": 14,\\n\"frame\\_name\": \"External ...  \n",
       "1  {\\n\"frame\\_id\": 14,\\n\"frame\\_name\": \"Crime and...  \n",
       "2  {\\n\"frame\\_id\": 14,\\n\"frame\\_name\": \"Political...  "
      ]
     },
     "execution_count": 3,
     "metadata": {},
     "output_type": "execute_result"
    }
   ],
   "source": [
    "\n",
    "script_dir = Path().resolve().parent\n",
    "logger.info(f\"Script directory: {script_dir}\")\n",
    "data_json = script_dir / \"data/processed/topic_sampled_jul23_vision_llava.jsonl\"\n",
    "logger.info(f\"Data jsonl path: {data_json}\")\n",
    "\n",
    "# convert jsonl to csv\n",
    "df = pd.read_json(data_json, lines=True)\n",
    "df.head(15)"
   ]
  },
  {
   "cell_type": "code",
   "execution_count": 6,
   "metadata": {},
   "outputs": [
    {
     "name": "stdout",
     "output_type": "stream",
     "text": [
      "uuid                        a856fbc0-8ab5-44ad-a3c5-83147b3f5dd9\n",
      "image_file     https://assets1.cbsnewsstatic.com/hub/i/r/2023...\n",
      "headline       Nearly a dozen hurt when crane arm catches fir...\n",
      "caption        {\\n\"caption\": \"A fire is burning in a crane, w...\n",
      "actors         {\\n\"main\\_actor\": \"New York City\",\\n\"sentiment...\n",
      "symbols        {\\n\"symbolic thing\": \"fire\",\\n\"symbolic meanin...\n",
      "expressions    {\\n\"main subject\": \"Fireman\",\\n\"facial express...\n",
      "gender         {\\n\"description of the person 1\": \"A person we...\n",
      "frame          {\\n\"frame\\_id\": 14,\\n\"frame\\_name\": \"External ...\n",
      "Name: 0, dtype: object\n"
     ]
    }
   ],
   "source": [
    "# Get the first row of the dataframe\n",
    "first_row = df.iloc[0]\n",
    "print(first_row)"
   ]
  },
  {
   "cell_type": "code",
   "execution_count": 8,
   "metadata": {},
   "outputs": [
    {
     "name": "stdout",
     "output_type": "stream",
     "text": [
      "Main Actor: New York City\n",
      "Sentiment: Negative\n",
      "Justification: The image shows a fire in a building in New York City, which is a negative event for the city and its residents. The fire could cause damage to property, disrupt daily life, and pose a risk to public safety. The presence of the fire also indicates that emergency services are likely responding to the incident, which can be a stressful and chaotic situation for those involved.\n"
     ]
    }
   ],
   "source": [
    "import json\n",
    "\n",
    "first_row['actors']\n",
    "\n",
    "# Extract the JSON string from the 'actors' field\n",
    "actors_json_str = first_row['actors']\n",
    "\n",
    "# Parse the JSON string\n",
    "actors_data = json.loads(actors_json_str.replace('\\\\n', '').replace('\\\\_', '_'))\n",
    "\n",
    "# Extract the desired keys and values\n",
    "main_actor = actors_data.get('main_actor')\n",
    "sentiment = actors_data.get('sentiment')\n",
    "justification = actors_data.get('justification')\n",
    "\n",
    "print(f\"Main Actor: {main_actor}\")\n",
    "print(f\"Sentiment: {sentiment}\")\n",
    "print(f\"Justification: {justification}\")"
   ]
  },
  {
   "cell_type": "code",
   "execution_count": 10,
   "metadata": {},
   "outputs": [
    {
     "name": "stdout",
     "output_type": "stream",
     "text": [
      "Symbolic Thing: fire\n",
      "Symbolic Meaning: destruction\n",
      "Explanation: The fire in the image symbolizes destruction and chaos, possibly indicating a catastrophic event or a dangerous situation that needs immediate attention.\n"
     ]
    }
   ],
   "source": [
    "import json\n",
    "\n",
    "first_row['symbols']\n",
    "\n",
    "# Extract the JSON string from the 'symbols' field\n",
    "symbols_json_str = first_row['symbols']\n",
    "\n",
    "# Parse the JSON string\n",
    "symbols_data = json.loads(symbols_json_str.replace('\\\\n', '').replace('\\\\_', '_'))\n",
    "\n",
    "# Extract the desired keys and values\n",
    "symbolic_thing = symbols_data.get('symbolic thing')\n",
    "symbolic_meaning = symbols_data.get('symbolic meaning')\n",
    "symbolic_explanation = symbols_data.get('explanation')\n",
    "\n",
    "print(f\"Symbolic Thing: {symbolic_thing}\")\n",
    "print(f\"Symbolic Meaning: {symbolic_meaning}\")\n",
    "print(f\"Explanation: {explanation}\")"
   ]
  },
  {
   "cell_type": "code",
   "execution_count": 14,
   "metadata": {},
   "outputs": [
    {
     "name": "stdout",
     "output_type": "stream",
     "text": [
      "Main Subject: Fireman\n",
      "Facial Expression: None\n",
      "Explanation: The fireman is not visible in the image.\n"
     ]
    }
   ],
   "source": [
    "first_row['expressions']\n",
    "\n",
    "# Extract the JSON string from the 'expressions' field\n",
    "expressions_json_str = first_row['expressions']\n",
    "\n",
    "# Parse the JSON string\n",
    "expressions_data = json.loads(expressions_json_str.replace('\\\\n', '').replace('\\\\_', '_'))\n",
    "\n",
    "# Extract the desired keys and values\n",
    "main_subject = expressions_data.get('main subject')\n",
    "main_subject_expression = expressions_data.get('facial expression')\n",
    "subject_expression_explanation = expressions_data.get('explanation')\n",
    "\n",
    "print(f\"Main Subject: {main_subject}\")\n",
    "print(f\"Facial Expression: {main_subject_expression}\")\n",
    "print(f\"Explanation: {subject_expression_explanation}\")"
   ]
  },
  {
   "cell_type": "code",
   "execution_count": 17,
   "metadata": {},
   "outputs": [
    {
     "name": "stdout",
     "output_type": "stream",
     "text": [
      "Frame ID: 14\n",
      "Frame Name: External regulation and reputation\n",
      "Frame Justification: The image shows a fire in a building, which could be related to external regulation and reputation. This frame is used when an event or incident has an impact on a country's international reputation or foreign policy. The presence of the fire in the building suggests that it could be a significant event that affects the country's standing in the global community.\n"
     ]
    }
   ],
   "source": [
    "import json\n",
    "\n",
    "first_row['frame']\n",
    "\n",
    "# Extract the JSON string from the 'frame' field\n",
    "frame_json_str = first_row['frame']\n",
    "\n",
    "# Parse the JSON string\n",
    "frame_data = json.loads(frame_json_str.replace('\\\\n', '').replace('\\\\_', '_'))\n",
    "\n",
    "# Extract the desired keys and values\n",
    "frame_id = frame_data.get('frame_id')\n",
    "frame_name = frame_data.get('frame_name')\n",
    "frame_justification = frame_data.get('frame_justification')\n",
    "\n",
    "print(f\"Frame ID: {frame_id}\")\n",
    "print(f\"Frame Name: {frame_name}\")\n",
    "print(f\"Frame Justification: {frame_justification}\")"
   ]
  },
  {
   "cell_type": "code",
   "execution_count": 24,
   "metadata": {},
   "outputs": [
    {
     "name": "stdout",
     "output_type": "stream",
     "text": [
      "Shape of df_extracted: (357, 8)\n"
     ]
    },
    {
     "data": {
      "text/html": [
       "<div>\n",
       "<style scoped>\n",
       "    .dataframe tbody tr th:only-of-type {\n",
       "        vertical-align: middle;\n",
       "    }\n",
       "\n",
       "    .dataframe tbody tr th {\n",
       "        vertical-align: top;\n",
       "    }\n",
       "\n",
       "    .dataframe thead th {\n",
       "        text-align: right;\n",
       "    }\n",
       "</style>\n",
       "<table border=\"1\" class=\"dataframe\">\n",
       "  <thead>\n",
       "    <tr style=\"text-align: right;\">\n",
       "      <th></th>\n",
       "      <th>uuid</th>\n",
       "      <th>image_file</th>\n",
       "      <th>headline</th>\n",
       "      <th>caption</th>\n",
       "      <th>symbols</th>\n",
       "      <th>gender</th>\n",
       "      <th>frame</th>\n",
       "      <th>frame_name</th>\n",
       "    </tr>\n",
       "  </thead>\n",
       "  <tbody>\n",
       "    <tr>\n",
       "      <th>352</th>\n",
       "      <td>fc15d4ab-9cba-49d4-9132-b71bfa94229b</td>\n",
       "      <td>https://dims.apnews.com/dims4/default/aa74392/...</td>\n",
       "      <td>Investigators say poor track conditions caused...</td>\n",
       "      <td>{\\n\"caption\": \"A train wreck has occurred on t...</td>\n",
       "      <td>{\\n\"symbolic thing in image\": \"Overturned trai...</td>\n",
       "      <td>{\\n\"description of the person 1\": \"A person st...</td>\n",
       "      <td>{\\n\"frame\\_id\": 14,\\n\"frame\\_name\": \"Political...</td>\n",
       "      <td>Political</td>\n",
       "    </tr>\n",
       "    <tr>\n",
       "      <th>353</th>\n",
       "      <td>e771896d-1baa-4fd2-bf30-903cb3cef4e0</td>\n",
       "      <td>https://assets1.cbsnewsstatic.com/hub/i/r/2023...</td>\n",
       "      <td>Severe turbulence injures 4 on Allegiant Fligh...</td>\n",
       "      <td>{\\n\"caption\": \"A large blue and red Allegiant ...</td>\n",
       "      <td>{\\n\"symbolic thing in image\": \"Airplanes\",\\n\"s...</td>\n",
       "      <td>{\\n\"description of the person 1\": \"A blue and ...</td>\n",
       "      <td>{\\n\"frame\\_id\": 14,\\n\"frame\\_name\": \"Political...</td>\n",
       "      <td>Political</td>\n",
       "    </tr>\n",
       "    <tr>\n",
       "      <th>354</th>\n",
       "      <td>62ae7fa1-5e44-4b11-b010-8d0e1d160682</td>\n",
       "      <td>https://assets1.cbsnewsstatic.com/hub/i/r/2023...</td>\n",
       "      <td>DeSantis uninjured in car accident in Tennesse...</td>\n",
       "      <td>\\nIn the image, a man wearing a suit and tie i...</td>\n",
       "      <td>{\\n\"symbolic thing in image\": \"Man wearing a s...</td>\n",
       "      <td>{\\n\"description of the person 1\": \"A man with ...</td>\n",
       "      <td>{\\n\"frame\\_id\": 14,\\n\"frame\\_name\": \"Political...</td>\n",
       "      <td>Political</td>\n",
       "    </tr>\n",
       "    <tr>\n",
       "      <th>355</th>\n",
       "      <td>9c20bf9e-9819-4011-ac0c-78f71ebcfe52</td>\n",
       "      <td>https://i.insider.com/64b6bfc376558a00189d2326...</td>\n",
       "      <td>People Have Always Defaced the Colosseum, Arch...</td>\n",
       "      <td>{\\n\"caption\": \"A large group of people are gat...</td>\n",
       "      <td>{\\n\"symbolic thing in image\": \"Roman Colosseum...</td>\n",
       "      <td>{\\n\"description of the person 1\": \"A person st...</td>\n",
       "      <td>{\\n\"frame\\_id\": 14,\\n\"frame\\_name\": \"Legality,...</td>\n",
       "      <td>Legality, constitutionality and jurisprudence</td>\n",
       "    </tr>\n",
       "    <tr>\n",
       "      <th>356</th>\n",
       "      <td>137ffa80-8161-4dde-826c-c80164c19f0d</td>\n",
       "      <td>https://assets3.cbsnewsstatic.com/hub/i/r/2023...</td>\n",
       "      <td>U.S. passport demand continues to overwhelm St...</td>\n",
       "      <td>{\\n\"caption\": \"A person is holding a passport ...</td>\n",
       "      <td>{\\n\"symbolic thing in image\": \"Passport\",\\n\"sy...</td>\n",
       "      <td>{\\n\"description of the person 1\": \"A person ho...</td>\n",
       "      <td>{\\n\"frame\\_id\": 1,\\n\"frame\\_name\": \"Economic\",...</td>\n",
       "      <td>Economic</td>\n",
       "    </tr>\n",
       "  </tbody>\n",
       "</table>\n",
       "</div>"
      ],
      "text/plain": [
       "                                     uuid  \\\n",
       "352  fc15d4ab-9cba-49d4-9132-b71bfa94229b   \n",
       "353  e771896d-1baa-4fd2-bf30-903cb3cef4e0   \n",
       "354  62ae7fa1-5e44-4b11-b010-8d0e1d160682   \n",
       "355  9c20bf9e-9819-4011-ac0c-78f71ebcfe52   \n",
       "356  137ffa80-8161-4dde-826c-c80164c19f0d   \n",
       "\n",
       "                                            image_file  \\\n",
       "352  https://dims.apnews.com/dims4/default/aa74392/...   \n",
       "353  https://assets1.cbsnewsstatic.com/hub/i/r/2023...   \n",
       "354  https://assets1.cbsnewsstatic.com/hub/i/r/2023...   \n",
       "355  https://i.insider.com/64b6bfc376558a00189d2326...   \n",
       "356  https://assets3.cbsnewsstatic.com/hub/i/r/2023...   \n",
       "\n",
       "                                              headline  \\\n",
       "352  Investigators say poor track conditions caused...   \n",
       "353  Severe turbulence injures 4 on Allegiant Fligh...   \n",
       "354  DeSantis uninjured in car accident in Tennesse...   \n",
       "355  People Have Always Defaced the Colosseum, Arch...   \n",
       "356  U.S. passport demand continues to overwhelm St...   \n",
       "\n",
       "                                               caption  \\\n",
       "352  {\\n\"caption\": \"A train wreck has occurred on t...   \n",
       "353  {\\n\"caption\": \"A large blue and red Allegiant ...   \n",
       "354  \\nIn the image, a man wearing a suit and tie i...   \n",
       "355  {\\n\"caption\": \"A large group of people are gat...   \n",
       "356  {\\n\"caption\": \"A person is holding a passport ...   \n",
       "\n",
       "                                               symbols  \\\n",
       "352  {\\n\"symbolic thing in image\": \"Overturned trai...   \n",
       "353  {\\n\"symbolic thing in image\": \"Airplanes\",\\n\"s...   \n",
       "354  {\\n\"symbolic thing in image\": \"Man wearing a s...   \n",
       "355  {\\n\"symbolic thing in image\": \"Roman Colosseum...   \n",
       "356  {\\n\"symbolic thing in image\": \"Passport\",\\n\"sy...   \n",
       "\n",
       "                                                gender  \\\n",
       "352  {\\n\"description of the person 1\": \"A person st...   \n",
       "353  {\\n\"description of the person 1\": \"A blue and ...   \n",
       "354  {\\n\"description of the person 1\": \"A man with ...   \n",
       "355  {\\n\"description of the person 1\": \"A person st...   \n",
       "356  {\\n\"description of the person 1\": \"A person ho...   \n",
       "\n",
       "                                                 frame  \\\n",
       "352  {\\n\"frame\\_id\": 14,\\n\"frame\\_name\": \"Political...   \n",
       "353  {\\n\"frame\\_id\": 14,\\n\"frame\\_name\": \"Political...   \n",
       "354  {\\n\"frame\\_id\": 14,\\n\"frame\\_name\": \"Political...   \n",
       "355  {\\n\"frame\\_id\": 14,\\n\"frame\\_name\": \"Legality,...   \n",
       "356  {\\n\"frame\\_id\": 1,\\n\"frame\\_name\": \"Economic\",...   \n",
       "\n",
       "                                        frame_name  \n",
       "352                                      Political  \n",
       "353                                      Political  \n",
       "354                                      Political  \n",
       "355  Legality, constitutionality and jurisprudence  \n",
       "356                                       Economic  "
      ]
     },
     "execution_count": 24,
     "metadata": {},
     "output_type": "execute_result"
    }
   ],
   "source": [
    "import json\n",
    "\n",
    "# Initialize an empty list to store the extracted frame_name values\n",
    "extracted_frame_names = []\n",
    "# Initialize an empty list to store rows with errors\n",
    "error_rows = []\n",
    "\n",
    "# Iterate over each row in the dataframe\n",
    "for index, row in df.iterrows():\n",
    "    try:\n",
    "        # Load the JSON data from the 'frame' column\n",
    "        frame_data = json.loads(row['frame'].replace('\\\\n', '').replace('\\\\_', '_'))\n",
    "        # Extract the 'frame_name' value\n",
    "        frame_name_value = frame_data.get('frame_name', None)\n",
    "    except json.JSONDecodeError as e:\n",
    "        logger.error(f\"JSON decode error at row {index}: {e}\")\n",
    "        frame_name_value = None\n",
    "        error_rows.append(row)\n",
    "    except Exception as e:\n",
    "        logger.error(f\"Unexpected error at row {index}: {e}\")\n",
    "        frame_name_value = None\n",
    "        error_rows.append(row)\n",
    "    \n",
    "    # Append the extracted value to the list\n",
    "    extracted_frame_names.append(frame_name_value)\n",
    "\n",
    "# Create a new dataframe with the extracted frame_name values\n",
    "df_extracted = df.copy()\n",
    "df_extracted['frame_name'] = extracted_frame_names\n",
    "\n",
    "# Create a new dataframe with the rows that had errors\n",
    "df_errors = pd.DataFrame(error_rows)\n",
    "\n",
    "# Display the new dataframe\n",
    "print(f\"Shape of df_extracted: {df_extracted.shape}\")\n",
    "df_extracted.tail()\n",
    "\n",
    "# df_errors.head()"
   ]
  },
  {
   "cell_type": "code",
   "execution_count": 29,
   "metadata": {},
   "outputs": [
    {
     "name": "stdout",
     "output_type": "stream",
     "text": [
      "(357, 8)\n",
      "357\n"
     ]
    },
    {
     "data": {
      "text/plain": [
       "Economic                                         122\n",
       "Political                                        112\n",
       "External regulation and reputation                46\n",
       "Legality, constitutionality and jurisprudence     17\n",
       "None                                              13\n",
       "Morality                                          13\n",
       "Cultural identity                                 10\n",
       "Legality, Constitutionality and Jurisprudence     10\n",
       "Crime and punishment                               7\n",
       "Health and safety                                  3\n",
       "Wordle                                             1\n",
       "Memorial Field                                     1\n",
       "Morning Mix                                        1\n",
       "Twitter                                            1\n",
       "Name: frame_name, dtype: int64"
      ]
     },
     "execution_count": 29,
     "metadata": {},
     "output_type": "execute_result"
    }
   ],
   "source": [
    "print(df_extracted.shape)\n",
    "print(df_extracted.value_counts('frame_name').sum())\n",
    "\n",
    "df_extracted['frame_name'].value_counts()"
   ]
  },
  {
   "cell_type": "code",
   "execution_count": 30,
   "metadata": {
    "vscode": {
     "languageId": "ruby"
    }
   },
   "outputs": [
    {
     "name": "stdout",
     "output_type": "stream",
     "text": [
      "shape: (357, 9)\n"
     ]
    },
    {
     "data": {
      "text/html": [
       "<div>\n",
       "<style scoped>\n",
       "    .dataframe tbody tr th:only-of-type {\n",
       "        vertical-align: middle;\n",
       "    }\n",
       "\n",
       "    .dataframe tbody tr th {\n",
       "        vertical-align: top;\n",
       "    }\n",
       "\n",
       "    .dataframe thead th {\n",
       "        text-align: right;\n",
       "    }\n",
       "</style>\n",
       "<table border=\"1\" class=\"dataframe\">\n",
       "  <thead>\n",
       "    <tr style=\"text-align: right;\">\n",
       "      <th></th>\n",
       "      <th>uuid</th>\n",
       "      <th>image_file</th>\n",
       "      <th>headline</th>\n",
       "      <th>caption</th>\n",
       "      <th>symbols</th>\n",
       "      <th>gender</th>\n",
       "      <th>frame</th>\n",
       "      <th>frame_name</th>\n",
       "      <th>perceived_genders</th>\n",
       "    </tr>\n",
       "  </thead>\n",
       "  <tbody>\n",
       "    <tr>\n",
       "      <th>0</th>\n",
       "      <td>17d09f84-15be-48ba-b619-e924fca17577</td>\n",
       "      <td>https://assets1.cbsnewsstatic.com/hub/i/r/2023...</td>\n",
       "      <td>Dad who survived 9/11 dies after jumping into ...</td>\n",
       "      <td>\\nIn the image, a group of people is gathered ...</td>\n",
       "      <td>{\\n\"symbolic thing in image\": \"Police officers...</td>\n",
       "      <td>{\\n\"description of the person 1\": \"A man weari...</td>\n",
       "      <td>{\\n\"frame\\_id\": 14,\\n\"frame\\_name\": \"Political...</td>\n",
       "      <td>Political</td>\n",
       "      <td>[Male, Male, Male, Male, Male]</td>\n",
       "    </tr>\n",
       "    <tr>\n",
       "      <th>1</th>\n",
       "      <td>a856fbc0-8ab5-44ad-a3c5-83147b3f5dd9</td>\n",
       "      <td>https://assets1.cbsnewsstatic.com/hub/i/r/2023...</td>\n",
       "      <td>Nearly a dozen hurt when crane arm catches fir...</td>\n",
       "      <td>{\\n\"caption\": \"A fire is burning in a crane, l...</td>\n",
       "      <td>{\\n\"symbolic thing in image\": \"Fire in the cra...</td>\n",
       "      <td>{\\n\"description of the person 1\": \"A person is...</td>\n",
       "      <td>{\\n\"frame\\_id\": 14,\\n\"frame\\_name\": \"External ...</td>\n",
       "      <td>External regulation and reputation</td>\n",
       "      <td>[Male]</td>\n",
       "    </tr>\n",
       "    <tr>\n",
       "      <th>2</th>\n",
       "      <td>7bd3ad37-3b31-4335-9847-07853389beb5</td>\n",
       "      <td>https://assets2.cbsnewsstatic.com/hub/i/r/2023...</td>\n",
       "      <td>Pilot remains hospitalized after passenger for...</td>\n",
       "      <td>\\nIn the image, there is a small white airplan...</td>\n",
       "      <td>{\\n\"symbolic thing in image\": \"Airplane crash\"...</td>\n",
       "      <td>{\\n\"description of the person 1\": \"A man in a ...</td>\n",
       "      <td>{\\n\"frame\\_id\": 14,\\n\"frame\\_name\": \"Crime and...</td>\n",
       "      <td>Crime and punishment</td>\n",
       "      <td>[Male, Male]</td>\n",
       "    </tr>\n",
       "    <tr>\n",
       "      <th>3</th>\n",
       "      <td>7f53e5a8-1c6d-4d3f-b0d6-6548da408043</td>\n",
       "      <td>https://nypost.com/wp-content/uploads/sites/2/...</td>\n",
       "      <td>OceanGate CEO used college interns to work on ...</td>\n",
       "      <td>\\n1. The image features a group of people in a...</td>\n",
       "      <td>{\\n\"symbolic thing in image\": \"Man sitting on ...</td>\n",
       "      <td>\\n{\\n\"description of the person 1\": \"A man wea...</td>\n",
       "      <td>{\\n\"frame\\_id\": 14,\\n\"frame\\_name\": \"Political...</td>\n",
       "      <td>Political</td>\n",
       "      <td>[Male, Male]</td>\n",
       "    </tr>\n",
       "    <tr>\n",
       "      <th>4</th>\n",
       "      <td>17d09f84-15be-48ba-b619-e924fca17577</td>\n",
       "      <td>https://assets1.cbsnewsstatic.com/hub/i/r/2023...</td>\n",
       "      <td>Dad who survived 9/11 dies after jumping into ...</td>\n",
       "      <td>\\nIn the image, a group of people is gathered ...</td>\n",
       "      <td>{\\n\"symbolic thing in image\": \"Police officers...</td>\n",
       "      <td>{\\n\"description of the person 1\": \"A man weari...</td>\n",
       "      <td>{\\n\"frame\\_id\": 14,\\n\"frame\\_name\": \"Political...</td>\n",
       "      <td>Political</td>\n",
       "      <td>[Male, Male, Male, Male, Male]</td>\n",
       "    </tr>\n",
       "  </tbody>\n",
       "</table>\n",
       "</div>"
      ],
      "text/plain": [
       "                                   uuid  \\\n",
       "0  17d09f84-15be-48ba-b619-e924fca17577   \n",
       "1  a856fbc0-8ab5-44ad-a3c5-83147b3f5dd9   \n",
       "2  7bd3ad37-3b31-4335-9847-07853389beb5   \n",
       "3  7f53e5a8-1c6d-4d3f-b0d6-6548da408043   \n",
       "4  17d09f84-15be-48ba-b619-e924fca17577   \n",
       "\n",
       "                                          image_file  \\\n",
       "0  https://assets1.cbsnewsstatic.com/hub/i/r/2023...   \n",
       "1  https://assets1.cbsnewsstatic.com/hub/i/r/2023...   \n",
       "2  https://assets2.cbsnewsstatic.com/hub/i/r/2023...   \n",
       "3  https://nypost.com/wp-content/uploads/sites/2/...   \n",
       "4  https://assets1.cbsnewsstatic.com/hub/i/r/2023...   \n",
       "\n",
       "                                            headline  \\\n",
       "0  Dad who survived 9/11 dies after jumping into ...   \n",
       "1  Nearly a dozen hurt when crane arm catches fir...   \n",
       "2  Pilot remains hospitalized after passenger for...   \n",
       "3  OceanGate CEO used college interns to work on ...   \n",
       "4  Dad who survived 9/11 dies after jumping into ...   \n",
       "\n",
       "                                             caption  \\\n",
       "0  \\nIn the image, a group of people is gathered ...   \n",
       "1  {\\n\"caption\": \"A fire is burning in a crane, l...   \n",
       "2  \\nIn the image, there is a small white airplan...   \n",
       "3  \\n1. The image features a group of people in a...   \n",
       "4  \\nIn the image, a group of people is gathered ...   \n",
       "\n",
       "                                             symbols  \\\n",
       "0  {\\n\"symbolic thing in image\": \"Police officers...   \n",
       "1  {\\n\"symbolic thing in image\": \"Fire in the cra...   \n",
       "2  {\\n\"symbolic thing in image\": \"Airplane crash\"...   \n",
       "3  {\\n\"symbolic thing in image\": \"Man sitting on ...   \n",
       "4  {\\n\"symbolic thing in image\": \"Police officers...   \n",
       "\n",
       "                                              gender  \\\n",
       "0  {\\n\"description of the person 1\": \"A man weari...   \n",
       "1  {\\n\"description of the person 1\": \"A person is...   \n",
       "2  {\\n\"description of the person 1\": \"A man in a ...   \n",
       "3  \\n{\\n\"description of the person 1\": \"A man wea...   \n",
       "4  {\\n\"description of the person 1\": \"A man weari...   \n",
       "\n",
       "                                               frame  \\\n",
       "0  {\\n\"frame\\_id\": 14,\\n\"frame\\_name\": \"Political...   \n",
       "1  {\\n\"frame\\_id\": 14,\\n\"frame\\_name\": \"External ...   \n",
       "2  {\\n\"frame\\_id\": 14,\\n\"frame\\_name\": \"Crime and...   \n",
       "3  {\\n\"frame\\_id\": 14,\\n\"frame\\_name\": \"Political...   \n",
       "4  {\\n\"frame\\_id\": 14,\\n\"frame\\_name\": \"Political...   \n",
       "\n",
       "                           frame_name               perceived_genders  \n",
       "0                           Political  [Male, Male, Male, Male, Male]  \n",
       "1  External regulation and reputation                          [Male]  \n",
       "2                Crime and punishment                    [Male, Male]  \n",
       "3                           Political                    [Male, Male]  \n",
       "4                           Political  [Male, Male, Male, Male, Male]  "
      ]
     },
     "execution_count": 30,
     "metadata": {},
     "output_type": "execute_result"
    }
   ],
   "source": [
    "import re\n",
    "\n",
    "# Initialize an empty list to store the extracted perceived genders for each row\n",
    "all_perceived_genders = []\n",
    "# Initialize an empty list to store rows with errors\n",
    "gender_error_rows = []\n",
    "\n",
    "# Iterate over each row in the dataframe\n",
    "for index, row in df_extracted.iterrows():\n",
    "    gender_value = row['gender']\n",
    "    try:\n",
    "        # Extract all \"perceived gender\" values from the gender data\n",
    "        perceived_genders = re.findall(r'\"perceived gender \\d+\": \"([^\"]+)\"', gender_value)\n",
    "    except Exception as e:\n",
    "        logger.error(f\"Error extracting gender at row {index}: {e}\")\n",
    "        perceived_genders = None\n",
    "        gender_error_rows.append(row)\n",
    "    \n",
    "    all_perceived_genders.append(perceived_genders)\n",
    "\n",
    "# Add the extracted perceived genders to the dataframe\n",
    "df_extracted['perceived_genders'] = all_perceived_genders\n",
    "\n",
    "# Create a new dataframe with the rows that had errors in gender extraction\n",
    "df_gender_errors = pd.DataFrame(gender_error_rows)\n",
    "\n",
    "# Display the updated dataframe\n",
    "print(f\"shape: {df_extracted.shape}\")\n",
    "df_extracted.head()\n",
    "\n",
    "# Display the dataframe with gender extraction errors\n",
    "# df_gender_errors.head()"
   ]
  },
  {
   "cell_type": "code",
   "execution_count": 5,
   "metadata": {
    "vscode": {
     "languageId": "ruby"
    }
   },
   "outputs": [
    {
     "data": {
      "text/plain": [
       "Index(['uuid', 'image_file', 'headline', 'caption', 'symbols', 'gender',\n",
       "       'frame', 'frame_name', 'perceived_genders'],\n",
       "      dtype='object')"
      ]
     },
     "execution_count": 5,
     "metadata": {},
     "output_type": "execute_result"
    }
   ],
   "source": [
    "df_extracted.columns"
   ]
  },
  {
   "cell_type": "markdown",
   "metadata": {},
   "source": [
    "### Gender Ratio of Unique One"
   ]
  },
  {
   "cell_type": "code",
   "execution_count": 31,
   "metadata": {},
   "outputs": [
    {
     "data": {
      "text/plain": [
       "{'Political': {'male': 85, 'female': 39},\n",
       " 'External regulation and reputation': {'male': 33, 'female': 10},\n",
       " 'Crime and punishment': {'male': 6, 'female': 2},\n",
       " 'Economic': {'male': 104, 'female': 55},\n",
       " 'None': {'male': 11, 'female': 3},\n",
       " 'Morality': {'male': 5, 'female': 7},\n",
       " 'Legality, Constitutionality and Jurisprudence': {'male': 5, 'female': 4},\n",
       " 'Health and safety': {'male': 2, 'female': 1},\n",
       " 'Cultural identity': {'male': 7, 'female': 5},\n",
       " 'Legality, constitutionality and jurisprudence': {'male': 14, 'female': 6},\n",
       " 'Morning Mix': {'male': 0, 'female': 1},\n",
       " 'Memorial Field': {'male': 0, 'female': 1},\n",
       " 'Wordle': {'male': 1, 'female': 0},\n",
       " 'Twitter': {'male': 1, 'female': 0}}"
      ]
     },
     "execution_count": 31,
     "metadata": {},
     "output_type": "execute_result"
    }
   ],
   "source": [
    "# Initialize a dictionary to store the count of \"male\" and \"female\" mentions for each frame_name\n",
    "gender_count_per_frame = {}\n",
    "\n",
    "# Iterate over each row in the filtered dataframe\n",
    "for index, row in df_extracted.iterrows():\n",
    "    frame_name = row['frame_name']\n",
    "    perceived_genders = set(row['perceived_genders'])  # Convert to set to ensure unique counts\n",
    "    \n",
    "    # Count the number of times \"male\" and \"female\" are mentioned in the perceived_genders set\n",
    "    male_count = 1 if 'Male' in perceived_genders else 0\n",
    "    female_count = 1 if 'Female' in perceived_genders else 0\n",
    "    \n",
    "    # Update the count in the dictionary\n",
    "    if frame_name in gender_count_per_frame:\n",
    "        gender_count_per_frame[frame_name]['male'] += male_count\n",
    "        gender_count_per_frame[frame_name]['female'] += female_count\n",
    "    else:\n",
    "        gender_count_per_frame[frame_name] = {'male': male_count, 'female': female_count}\n",
    "\n",
    "# Display the count of \"male\" and \"female\" mentions for each frame_name\n",
    "gender_count_per_frame"
   ]
  },
  {
   "cell_type": "markdown",
   "metadata": {},
   "source": [
    "### Gender Ratio for total count"
   ]
  },
  {
   "cell_type": "code",
   "execution_count": 15,
   "metadata": {},
   "outputs": [
    {
     "name": "stderr",
     "output_type": "stream",
     "text": [
      "<ipython-input-15-d2025e82c2be>:29: UserWarning: FixedFormatter should only be used together with FixedLocator\n",
      "  ax.set_xticklabels(gender_ratios.keys(), rotation=90)\n"
     ]
    },
    {
     "data": {
      "image/png": "[encoded data removed]",
      "text/plain": [
       "<Figure size 864x576 with 1 Axes>"
      ]
     },
     "metadata": {
      "needs_background": "light"
     },
     "output_type": "display_data"
    }
   ],
   "source": [
    "import matplotlib.pyplot as plt\n",
    "\n",
    "# Calculate the ratio of male to female for each frame\n",
    "gender_ratios = {frame: counts['male'] / counts['female'] if counts['female'] != 0 else float('inf') \n",
    "                 for frame, counts in gender_count_per_frame.items()}\n",
    "\n",
    "# Create a bar plot with color segments representing the ratio of male to female counts\n",
    "fig, ax = plt.subplots(figsize=(12, 8))\n",
    "\n",
    "for frame, counts in gender_count_per_frame.items():\n",
    "    male_count = counts['male']\n",
    "    female_count = counts['female']\n",
    "    total_count = male_count + female_count\n",
    "    \n",
    "    # Calculate the width of each segment\n",
    "    male_width = male_count / total_count\n",
    "    female_width = female_count / total_count\n",
    "    \n",
    "    # Plot the male segment\n",
    "    ax.bar(frame, male_width, color='blue', label='Male' if frame == list(gender_count_per_frame.keys())[0] else \"\")\n",
    "    \n",
    "    # Plot the female segment\n",
    "    ax.bar(frame, female_width, bottom=male_width, color='pink', label='Female' if frame == list(gender_count_per_frame.keys())[0] else \"\")\n",
    "\n",
    "# Add labels and title\n",
    "ax.set_xlabel('Frame Name')\n",
    "ax.set_ylabel('Gender Ratio')\n",
    "ax.set_title('Gender Count Ratio (Male to Female) for Each Frame')\n",
    "ax.set_xticklabels(gender_ratios.keys(), rotation=90)\n",
    "\n",
    "# Set y-axis limit\n",
    "ax.set_ylim(0, 1.1)\n",
    "\n",
    "# Add legend\n",
    "ax.legend()\n",
    "\n",
    "# Display the plot\n",
    "plt.show()"
   ]
  },
  {
   "cell_type": "code",
   "execution_count": 16,
   "metadata": {},
   "outputs": [
    {
     "name": "stdout",
     "output_type": "stream",
     "text": [
      "{'Political': {'male': 110, 'female': 47}, 'External regulation and reputation': {'male': 37, 'female': 13}, 'Crime and punishment': {'male': 7, 'female': 5}, 'Economic': {'male': 121, 'female': 61}, 'None': {'male': 14, 'female': 6}, 'Morality': {'male': 6, 'female': 11}, 'Legality, Constitutionality and Jurisprudence': {'male': 5, 'female': 7}, 'Health and safety': {'male': 2, 'female': 1}, 'Cultural identity': {'male': 8, 'female': 5}, 'Legality, constitutionality and jurisprudence': {'male': 17, 'female': 5}, 'Morning Mix': {'male': 0, 'female': 2}, 'Memorial Field': {'male': 0, 'female': 1}, 'Wordle': {'male': 1, 'female': 0}}\n"
     ]
    },
    {
     "name": "stderr",
     "output_type": "stream",
     "text": [
      "<ipython-input-16-a7281e7f2f0b>:49: UserWarning: FixedFormatter should only be used together with FixedLocator\n",
      "  ax.set_xticklabels(gender_ratios.keys(), rotation=90)\n"
     ]
    },
    {
     "data": {
      "image/png": "[encoded data removed]",
      "text/plain": [
       "<Figure size 864x576 with 1 Axes>"
      ]
     },
     "metadata": {
      "needs_background": "light"
     },
     "output_type": "display_data"
    }
   ],
   "source": [
    "# Initialize a dictionary to store the count of \"male\" and \"female\" mentions for each frame_name\n",
    "gender_count_per_frame = {}\n",
    "\n",
    "# Iterate over each row in the filtered dataframe\n",
    "for index, row in df_extracted.iterrows():\n",
    "    frame_name = row['frame_name']\n",
    "    perceived_genders = row['perceived_genders']  # Use the list directly\n",
    "    \n",
    "    # Count the number of times \"male\" and \"female\" are mentioned in the perceived_genders list\n",
    "    male_count = perceived_genders.count('Male')\n",
    "    female_count = perceived_genders.count('Female')\n",
    "    \n",
    "    # Update the count in the dictionary\n",
    "    if frame_name in gender_count_per_frame:\n",
    "        gender_count_per_frame[frame_name]['male'] += male_count\n",
    "        gender_count_per_frame[frame_name]['female'] += female_count\n",
    "    else:\n",
    "        gender_count_per_frame[frame_name] = {'male': male_count, 'female': female_count}\n",
    "\n",
    "# Display the count of \"male\" and \"female\" mentions for each frame_name\n",
    "print(gender_count_per_frame)\n",
    "\n",
    "# Calculate the ratio of male to female for each frame\n",
    "gender_ratios = {frame: counts['male'] / counts['female'] if counts['female'] != 0 else float('inf') \n",
    "                 for frame, counts in gender_count_per_frame.items()}\n",
    "\n",
    "# Create a bar plot with color segments representing the ratio of male to female counts\n",
    "fig, ax = plt.subplots(figsize=(12, 8))\n",
    "\n",
    "for frame, counts in gender_count_per_frame.items():\n",
    "    male_count = counts['male']\n",
    "    female_count = counts['female']\n",
    "    total_count = male_count + female_count\n",
    "    \n",
    "    # Calculate the width of each segment\n",
    "    male_width = male_count / total_count\n",
    "    female_width = female_count / total_count\n",
    "    \n",
    "    # Plot the male segment\n",
    "    ax.bar(frame, male_width, color='blue', label='Male' if frame == list(gender_count_per_frame.keys())[0] else \"\")\n",
    "    \n",
    "    # Plot the female segment\n",
    "    ax.bar(frame, female_width, bottom=male_width, color='pink', label='Female' if frame == list(gender_count_per_frame.keys())[0] else \"\")\n",
    "\n",
    "# Add labels and title\n",
    "ax.set_xlabel('Frame Name')\n",
    "ax.set_ylabel('Gender Ratio')\n",
    "ax.set_title('Gender Count Ratio (Male to Female) for Each Frame')\n",
    "ax.set_xticklabels(gender_ratios.keys(), rotation=90)\n",
    "\n",
    "# Set y-axis limit\n",
    "ax.set_ylim(0, 1.1)\n",
    "\n",
    "# Add legend\n",
    "ax.legend()\n",
    "\n",
    "# Display the plot\n",
    "plt.show()"
   ]
  },
  {
   "cell_type": "code",
   "execution_count": null,
   "metadata": {},
   "outputs": [],
   "source": []
  }
 ],
 "metadata": {
  "kernelspec": {
   "display_name": "Python 3 (ipykernel)",
   "language": "python",
   "name": "python3"
  },
  "language_info": {
   "codemirror_mode": {
    "name": "ipython",
    "version": 3
   },
   "file_extension": ".py",
   "mimetype": "text/x-python",
   "name": "python",
   "nbconvert_exporter": "python",
   "pygments_lexer": "ipython3",
   "version": "3.8.8"
  }
 },
 "nbformat": 4,
 "nbformat_minor": 2
}

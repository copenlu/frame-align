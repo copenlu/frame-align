{
 "cells": [
  {
   "cell_type": "code",
   "execution_count": 1,
   "metadata": {},
   "outputs": [],
   "source": [
    "import json\n",
    "import torch\n",
    "import random\n",
    "import numpy as np\n",
    "import pandas as pd\n",
    "\n",
    "from transformers import AutoModelForCausalLM, AutoTokenizer, BitsAndBytesConfig\n",
    "\n",
    "random.seed(42)\n",
    "\n",
    "bnb_config = BitsAndBytesConfig(\n",
    "    load_in_4bit=True,\n",
    "    bnb_4bit_quant_type=\"nf4\",\n",
    "    bnb_4bit_use_double_quant=True,\n",
    ")\n",
    "\n",
    "device = torch.device(\"cuda\" if torch.cuda.is_available() else \"cpu\")"
   ]
  },
  {
   "cell_type": "code",
   "execution_count": 4,
   "metadata": {},
   "outputs": [],
   "source": [
    "models = ['mistralai/Mistral-7B-Instruct-v0.2', 'CohereForAI/c4ai-command-r-v01-4bit','meta-llama/Llama-2-7b-chat-hf', 'databricks/dbrx-instruct']"
   ]
  },
  {
   "cell_type": "code",
   "execution_count": 5,
   "metadata": {},
   "outputs": [],
   "source": [
    "frames = \"{1:Economic - costs, benefits, or other financial implications,\\\n",
    "    2:Capacity and resources - availability of physical, human, or financial resources, and capacity of current systems, \\\n",
    "    3:Morality - religious or ethical implications,\\\n",
    "    4:Fairness and equality - balance or distribution of rights, responsibilities, and resources,\\\n",
    "    5:Legality, constitutionality and jurisprudence - rights, freedoms, and authority of individuals, corporations, and government,\\\n",
    "    6:Policy prescription and evaluation - discussion of specific policies aimed at addressing problems,\\\n",
    "    7:Crime and punishment - effectiveness and implications of laws and their enforcement,\\\n",
    "    8:Security and defense - threats to welfare of the individual, community, or nation,\\\n",
    "    9:Health and safety - health care, sanitation, public safety,\\\n",
    "    10:Quality of life - threats and opportunities for the individual’s wealth, happiness, and well-being,\\\n",
    "    11:Cultural identity - traditions, customs, or values of a social group in relation to a policy issue,\\\n",
    "    12:Public opinion - attitudes and opinions of the general public, including polling and demographics,\\\n",
    "    13:Political - considerations related to politics and politicians, including lobbying, elections, and attempts to sway voters,\\\n",
    "    14:External regulation and reputation - international reputation or foreign policy of the U.S,\\\n",
    "    15:Other - any coherent group of frames not covered by the above categories}\""
   ]
  },
  {
   "cell_type": "code",
   "execution_count": 6,
   "metadata": {},
   "outputs": [],
   "source": [
    "sys_prompt = f\"You are a journalism scholar doing framing analysis of news articles.\\\n",
    "    Framing is defined as selecting and highlighting some facets of events or issues, and making connections among them so as to promote a particular interpretation, evaluation, and/or solution.\\\n",
    "    A dictionary of generic frames with a frame_id, frame_name and its description is: {frames}.\\\n",
    "    Your task is to code articles for one of the listed frames and provide reasoning for it. Format your output in a json format with fields 'frame_id', 'frame_name', and 'reasoning'. \"\n",
    "    \n",
    "user_prompt = \"Output the generic frame and the reasoning for the article below.\\n\"\n",
    "\n",
    "messages = [\n",
    "    {\"role\": \"system\", \"content\": sys_prompt},\n",
    "    {\"role\": \"user\", \"content\": user_prompt}\n",
    " ]"
   ]
  },
  {
   "cell_type": "code",
   "execution_count": null,
   "metadata": {},
   "outputs": [],
   "source": [
    "for model_name in models:\n",
    "\n",
    "    tokenizer = AutoTokenizer.from_pretrained(model_name, cache_dir=\"/projects/copenlu/data/models/\")\n",
    "    \n",
    "    print(\"----------------------\")\n",
    "    print(model_name)\n",
    "\n",
    "    model = AutoModelForCausalLM.from_pretrained(model_name,\n",
    "            load_in_4bit=True,\n",
    "            quantization_config=bnb_config,\n",
    "            torch_dtype=torch.bfloat16,\n",
    "            device_map=\"auto\",\n",
    "            trust_remote_code=True,\n",
    "            cache_dir=\"/projects/copenlu/data/models/\")\n",
    "        \n",
    "    tokenizer.pad_token = tokenizer.eos_token\n",
    "\n",
    "    data_df = pd.read_csv(\"../data/processed/mfc_consolidated.csv\")\n",
    "\n",
    "    article_json = {}\n",
    "\n",
    "    for index, row in data_df.iterrows():\n",
    "        text = row['clean_text']\n",
    "        messages[1]['content'] = text\n",
    "\n",
    "        if 'mistral' in model_name:\n",
    "            inputs = tokenizer.apply_chat_template([{\"role\":\"user\",\"content\":sys_prompt + user_prompt + text}], tokenize=True, add_generation_prompt=True,return_tensors=\"pt\")\n",
    "        else:\n",
    "            inputs = tokenizer.apply_chat_template(messages, tokenize=True, add_generation_prompt=True,return_tensors=\"pt\")\n",
    "        # inputs = tokenizer.encode(prompt + text + format_prompt, return_tensors=\"pt\", padding=True).to(device)\n",
    "\n",
    "        try:\n",
    "            # outputs = model.generate(inputs, do_sample=True, temperature=0.7, top_k=50, top_p=0.95, max_new_tokens=5000, pad_token_id=tokenizer.pad_token_id)\n",
    "            outputs = model.generate(inputs, max_new_tokens=5000, pad_token_id=tokenizer.pad_token_id)\n",
    "            generated_text = tokenizer.decode(outputs[0], skip_special_tokens=True)\n",
    "            print(generated_text)\n",
    "            break\n",
    "            # Extract the json from the generated string\n",
    "            generated_text = generated_text.split(format_prompt)[1]\n",
    "            article_json = json.loads(generated_text)\n",
    "            article_json[\"text\"] = text\n",
    "            article_json[\"label\"] = row['label']\n",
    "            article_json[\"topic\"] = row['topic']\n",
    "            article_json[\"id\"] = index\n",
    "\n",
    "            with open(f\"./data/annotated/mfc_annotated.json\", \"a\") as f:\n",
    "                json.dump(article_json, f)\n",
    "                f.write(\"\\n\")\n",
    "\n",
    "        except Exception as e:\n",
    "            print(\"Skipped- \", e)\n",
    "            continue"
   ]
  }
 ],
 "metadata": {
  "kernelspec": {
   "display_name": "expanse",
   "language": "python",
   "name": "python3"
  },
  "language_info": {
   "codemirror_mode": {
    "name": "ipython",
    "version": 3
   },
   "file_extension": ".py",
   "mimetype": "text/x-python",
   "name": "python",
   "nbconvert_exporter": "python",
   "pygments_lexer": "ipython3",
   "version": "3.9.16"
  }
 },
 "nbformat": 4,
 "nbformat_minor": 2
}

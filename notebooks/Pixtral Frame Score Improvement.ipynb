{
 "cells": [
  {
   "cell_type": "code",
   "execution_count": 1,
   "metadata": {},
   "outputs": [],
   "source": [
    "import pandas as pd\n",
    "import matplotlib.pyplot as plt\n",
    "\n",
    "from ast import literal_eval"
   ]
  },
  {
   "cell_type": "code",
   "execution_count": 2,
   "metadata": {},
   "outputs": [],
   "source": [
    "def plot_image(img_urls, labels, preds):\n",
    "    assert len(img_urls) == 4\n",
    "    fig, ax = plt.subplots(1, 4, figsize=(20,5))\n",
    "    for i, (url, label, pred) in enumerate(zip(img_urls, labels, preds)):\n",
    "        image = plt.imread(\"../\"+url)\n",
    "        ax[i].imshow(image)\n",
    "        ax[i].set_title(f\"Label: {label}\\nPred: {pred}\")\n",
    "        ax[i].axis(\"off\")\n",
    "\n",
    "def plot_image_title(img_url, explanation, title):\n",
    "    image = plt.imread(\"../\"+img_url)\n",
    "    plt.imshow(image)\n",
    "    plt.figtext(0.5, 0.01, explanation, wrap=True, horizontalalignment='center', fontsize=7)\n",
    "    plt.title(f\"Article Title: {title}\")\n",
    "    plt.axis(\"off\")"
   ]
  },
  {
   "cell_type": "markdown",
   "metadata": {},
   "source": [
    "### Frame improvements"
   ]
  },
  {
   "cell_type": "code",
   "execution_count": 3,
   "metadata": {},
   "outputs": [],
   "source": [
    "human_df = pd.read_csv(\"../data/human/val_set_full.csv\", index_col=[0])\n",
    "anno_df = pd.read_json(\"../data/annotated/vision/multipleframes_val_set_pixtral_anno.jsonl\", lines=True, orient=\"records\")\n",
    "anno_df.set_index(\"uuid\", inplace=True)"
   ]
  },
  {
   "cell_type": "code",
   "execution_count": 4,
   "metadata": {},
   "outputs": [
    {
     "data": {
      "text/plain": [
       "(300, 300)"
      ]
     },
     "execution_count": 4,
     "metadata": {},
     "output_type": "execute_result"
    }
   ],
   "source": [
    "len(anno_df), len(human_df)"
   ]
  },
  {
   "cell_type": "code",
   "execution_count": 5,
   "metadata": {},
   "outputs": [],
   "source": [
    "label_cols = ['mini_multiple_frames_frames-list']#, 'normal_multiple_frames_frame-list']\n",
    "for col in label_cols:\n",
    "    for i, row in anno_df[col].items():\n",
    "        if isinstance(row, list):\n",
    "            anno_df.at[i, col] = set([i.lower() for i in row])"
   ]
  },
  {
   "cell_type": "code",
   "execution_count": 6,
   "metadata": {},
   "outputs": [],
   "source": [
    "human_df['merged_labels'] = human_df['merged_labels'].apply(lambda x: literal_eval(x))"
   ]
  },
  {
   "cell_type": "code",
   "execution_count": 7,
   "metadata": {},
   "outputs": [],
   "source": [
    "merged_df = human_df.join(anno_df[label_cols+['image_url']], how=\"inner\")"
   ]
  },
  {
   "cell_type": "code",
   "execution_count": 8,
   "metadata": {},
   "outputs": [],
   "source": [
    "for col in label_cols:\n",
    "    merged_df[col] = merged_df[col].str.lower()"
   ]
  },
  {
   "cell_type": "code",
   "execution_count": 9,
   "metadata": {},
   "outputs": [],
   "source": [
    "# results = {}\n",
    "# for col in label_cols:\n",
    "#         correct = 0\n",
    "#         for i, row in merged_df.iterrows():\n",
    "#                 if row[col] in row['merged_labels']:\n",
    "#                         correct += 1\n",
    "#         accuracy = correct / len(merged_df)\n",
    "#         results[col] = accuracy\n",
    "#         print(col, accuracy)"
   ]
  },
  {
   "cell_type": "code",
   "execution_count": 10,
   "metadata": {},
   "outputs": [],
   "source": [
    "# pd.DataFrame(results, index=[\"accuracy\"]).T.plot(kind=\"barh\", figsize=(10, 5))"
   ]
  },
  {
   "cell_type": "code",
   "execution_count": 11,
   "metadata": {},
   "outputs": [],
   "source": [
    "pred_df = anno_df[[\"mini_multiple_frames_frames-list\",\"mini_multiple_frames_reason\", 'image_url']]\n",
    "pred_df.columns = ['pred_labels', 'pred_reason', 'image_url']"
   ]
  },
  {
   "cell_type": "code",
   "execution_count": 12,
   "metadata": {},
   "outputs": [],
   "source": [
    "human_df.columns = ['human_annotations']"
   ]
  },
  {
   "cell_type": "code",
   "execution_count": 13,
   "metadata": {},
   "outputs": [
    {
     "name": "stdout",
     "output_type": "stream",
     "text": [
      "0.8366666666666667\n",
      "------------------\n"
     ]
    }
   ],
   "source": [
    "dropped_df = pred_df['pred_labels'].dropna()\n",
    "merged_df = pd.merge(dropped_df, human_df, left_index=True, right_index=True)\n",
    "merged_df['intersection'] = merged_df.apply(lambda x: x['pred_labels'].intersection(x['human_annotations']), axis=1)\n",
    "merged_df['intersection_len'] = merged_df['intersection'].apply(len)\n",
    "merged_df['correct'] = merged_df['intersection_len'] > 0\n",
    "print(merged_df['correct'].sum()/len(dropped_df))\n",
    "print(\"------------------\")"
   ]
  },
  {
   "cell_type": "code",
   "execution_count": 14,
   "metadata": {},
   "outputs": [],
   "source": [
    "from IPython.display import display, HTML\n",
    "from PIL import Image\n",
    "from io import BytesIO\n",
    "import base64\n",
    "\n",
    "def image_base64(im):\n",
    "    if isinstance(im, str):\n",
    "        im = Image.open(im)\n",
    "    with BytesIO() as buffer:\n",
    "        im.save(buffer, 'jpeg')\n",
    "        return base64.b64encode(buffer.getvalue()).decode()"
   ]
  },
  {
   "cell_type": "code",
   "execution_count": 15,
   "metadata": {},
   "outputs": [],
   "source": [
    "merged_df = pred_df.merge(human_df, left_index=True, right_index=True, how=\"inner\")"
   ]
  },
  {
   "cell_type": "code",
   "execution_count": 16,
   "metadata": {},
   "outputs": [],
   "source": [
    "img_paths = merged_df['image_url'].apply(lambda x: \"../\"+x).tolist()\n",
    "imgStrs = [image_base64(img_path) for img_path in img_paths]\n",
    "\n",
    "merged_df['Image'] = [f'<img width=400 src=\"data:image/png;base64,{imgStr}\">' for imgStr in imgStrs]\n",
    "merged_df.drop(columns=['image_url'], inplace=True)\n",
    "# merged_df.to_html(\"../data/annotated/vision/pixtral_anno_multi_frames_val_set.html\", escape=False)"
   ]
  },
  {
   "cell_type": "code",
   "execution_count": 17,
   "metadata": {},
   "outputs": [],
   "source": [
    "# sample_incorrect = merged_df[merged_df[\"intersection_len\"] == 0].sample(4)\n",
    "# plot_image(sample_incorrect['image_url'], sample_incorrect['merged_labels'], sample_incorrect['normal_multiple_frames_frame-list'])"
   ]
  },
  {
   "cell_type": "code",
   "execution_count": 18,
   "metadata": {},
   "outputs": [],
   "source": [
    "# plot_image(sample_incorrect['image_url'], sample_incorrect['merged_labels'], sample_incorrect['frame-name'])"
   ]
  }
 ],
 "metadata": {
  "kernelspec": {
   "display_name": "frame-align",
   "language": "python",
   "name": "python3"
  },
  "language_info": {
   "codemirror_mode": {
    "name": "ipython",
    "version": 3
   },
   "file_extension": ".py",
   "mimetype": "text/x-python",
   "name": "python",
   "nbconvert_exporter": "python",
   "pygments_lexer": "ipython3",
   "version": "3.12.1"
  }
 },
 "nbformat": 4,
 "nbformat_minor": 2
}

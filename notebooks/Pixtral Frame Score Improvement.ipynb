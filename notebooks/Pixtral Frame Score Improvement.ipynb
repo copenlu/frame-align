{
 "cells": [
  {
   "cell_type": "code",
   "execution_count": 1,
   "metadata": {},
   "outputs": [],
   "source": [
    "import pandas as pd\n",
    "import matplotlib.pyplot as plt\n",
    "\n",
    "from ast import literal_eval"
   ]
  },
  {
   "cell_type": "code",
   "execution_count": 2,
   "metadata": {},
   "outputs": [],
   "source": [
    "# human_df = pd.read_csv(\"../data_pixtral_llava/val_set_full.csv\", index_col=[0])\n",
    "# human_df.shape"
   ]
  },
  {
   "cell_type": "code",
   "execution_count": 3,
   "metadata": {},
   "outputs": [
    {
     "data": {
      "text/html": [
       "<div>\n",
       "<style scoped>\n",
       "    .dataframe tbody tr th:only-of-type {\n",
       "        vertical-align: middle;\n",
       "    }\n",
       "\n",
       "    .dataframe tbody tr th {\n",
       "        vertical-align: top;\n",
       "    }\n",
       "\n",
       "    .dataframe thead th {\n",
       "        text-align: right;\n",
       "    }\n",
       "</style>\n",
       "<table border=\"1\" class=\"dataframe\">\n",
       "  <thead>\n",
       "    <tr style=\"text-align: right;\">\n",
       "      <th></th>\n",
       "      <th>mini_multiple_frames_frames-list</th>\n",
       "      <th>mini_multiple_frames_reason</th>\n",
       "      <th>prompt_entity_entity-name</th>\n",
       "      <th>prompt_entity_entity-gender</th>\n",
       "      <th>prompt_entity_sentiment</th>\n",
       "      <th>prompt_entity_sentiment-reason</th>\n",
       "      <th>image_url</th>\n",
       "      <th>uuid</th>\n",
       "    </tr>\n",
       "  </thead>\n",
       "  <tbody>\n",
       "    <tr>\n",
       "      <th>207</th>\n",
       "      <td>[Quality of life, Cultural identity]</td>\n",
       "      <td>The image depicts a cozy café with people enjo...</td>\n",
       "      <td>Lost Boy</td>\n",
       "      <td>None</td>\n",
       "      <td>neutral</td>\n",
       "      <td>The image depicts a casual and relaxed atmosph...</td>\n",
       "      <td>data_pixtral_llava/images/d11987cf-ac42-4d72-b...</td>\n",
       "      <td>d11987cf-ac42-4d72-b805-b9f6ea39e413</td>\n",
       "    </tr>\n",
       "    <tr>\n",
       "      <th>271</th>\n",
       "      <td>[Capacity and resources, Quality of life]</td>\n",
       "      <td>The image shows a geographical area with a riv...</td>\n",
       "      <td>None</td>\n",
       "      <td>None</td>\n",
       "      <td>neutral</td>\n",
       "      <td>The image depicts a natural landscape with a r...</td>\n",
       "      <td>data_pixtral_llava/images/cbd6b761-a3c6-48a7-8...</td>\n",
       "      <td>cbd6b761-a3c6-48a7-836e-e248db08fa1d</td>\n",
       "    </tr>\n",
       "  </tbody>\n",
       "</table>\n",
       "</div>"
      ],
      "text/plain": [
       "              mini_multiple_frames_frames-list  \\\n",
       "207       [Quality of life, Cultural identity]   \n",
       "271  [Capacity and resources, Quality of life]   \n",
       "\n",
       "                           mini_multiple_frames_reason  \\\n",
       "207  The image depicts a cozy café with people enjo...   \n",
       "271  The image shows a geographical area with a riv...   \n",
       "\n",
       "    prompt_entity_entity-name prompt_entity_entity-gender  \\\n",
       "207                  Lost Boy                        None   \n",
       "271                      None                        None   \n",
       "\n",
       "    prompt_entity_sentiment  \\\n",
       "207                 neutral   \n",
       "271                 neutral   \n",
       "\n",
       "                        prompt_entity_sentiment-reason  \\\n",
       "207  The image depicts a casual and relaxed atmosph...   \n",
       "271  The image depicts a natural landscape with a r...   \n",
       "\n",
       "                                             image_url  \\\n",
       "207  data_pixtral_llava/images/d11987cf-ac42-4d72-b...   \n",
       "271  data_pixtral_llava/images/cbd6b761-a3c6-48a7-8...   \n",
       "\n",
       "                                     uuid  \n",
       "207  d11987cf-ac42-4d72-b805-b9f6ea39e413  \n",
       "271  cbd6b761-a3c6-48a7-836e-e248db08fa1d  "
      ]
     },
     "execution_count": 3,
     "metadata": {},
     "output_type": "execute_result"
    }
   ],
   "source": [
    "anno_df = pd.read_json(\"../data_pixtral_llava/output/multipleframes_val_set_full_pixtral_anno.jsonl\", lines=True, orient=\"records\")\n",
    "anno_df.sample(2)"
   ]
  },
  {
   "cell_type": "code",
   "execution_count": 4,
   "metadata": {},
   "outputs": [],
   "source": [
    "def plot_image(img_urls, labels, preds):\n",
    "    assert len(img_urls) == 4\n",
    "    fig, ax = plt.subplots(1, 4, figsize=(20,5))\n",
    "    for i, (url, label, pred) in enumerate(zip(img_urls, labels, preds)):\n",
    "        image = plt.imread(\"../\"+url)\n",
    "        ax[i].imshow(image)\n",
    "        ax[i].set_title(f\"Label: {label}\\nPred: {pred}\")\n",
    "        ax[i].axis(\"off\")\n",
    "\n",
    "def plot_image_title(img_url, explanation, title):\n",
    "    image = plt.imread(\"../\"+img_url)\n",
    "    plt.imshow(image)\n",
    "    plt.figtext(0.5, 0.01, explanation, wrap=True, horizontalalignment='center', fontsize=7)\n",
    "    plt.title(f\"Article Title: {title}\")\n",
    "    plt.axis(\"off\")"
   ]
  },
  {
   "cell_type": "markdown",
   "metadata": {},
   "source": [
    "### Frame improvements"
   ]
  },
  {
   "cell_type": "code",
   "execution_count": 5,
   "metadata": {},
   "outputs": [],
   "source": [
    "human_df = pd.read_csv(\"../data_pixtral_llava/val_set_full.csv\", index_col=[0])\n",
    "anno_df = pd.read_json(\"../data_pixtral_llava/output/multipleframes_val_set_full_pixtral_anno.jsonl\", lines=True, orient=\"records\")\n",
    "anno_df.set_index(\"uuid\", inplace=True)"
   ]
  },
  {
   "cell_type": "code",
   "execution_count": 6,
   "metadata": {},
   "outputs": [
    {
     "data": {
      "text/plain": [
       "(300, 300)"
      ]
     },
     "execution_count": 6,
     "metadata": {},
     "output_type": "execute_result"
    }
   ],
   "source": [
    "len(anno_df), len(human_df)"
   ]
  },
  {
   "cell_type": "code",
   "execution_count": 7,
   "metadata": {},
   "outputs": [
    {
     "data": {
      "text/html": [
       "<div>\n",
       "<style scoped>\n",
       "    .dataframe tbody tr th:only-of-type {\n",
       "        vertical-align: middle;\n",
       "    }\n",
       "\n",
       "    .dataframe tbody tr th {\n",
       "        vertical-align: top;\n",
       "    }\n",
       "\n",
       "    .dataframe thead th {\n",
       "        text-align: right;\n",
       "    }\n",
       "</style>\n",
       "<table border=\"1\" class=\"dataframe\">\n",
       "  <thead>\n",
       "    <tr style=\"text-align: right;\">\n",
       "      <th></th>\n",
       "      <th>mini_multiple_frames_frames-list</th>\n",
       "      <th>mini_multiple_frames_reason</th>\n",
       "      <th>prompt_entity_entity-name</th>\n",
       "      <th>prompt_entity_entity-gender</th>\n",
       "      <th>prompt_entity_sentiment</th>\n",
       "      <th>prompt_entity_sentiment-reason</th>\n",
       "      <th>image_url</th>\n",
       "    </tr>\n",
       "    <tr>\n",
       "      <th>uuid</th>\n",
       "      <th></th>\n",
       "      <th></th>\n",
       "      <th></th>\n",
       "      <th></th>\n",
       "      <th></th>\n",
       "      <th></th>\n",
       "      <th></th>\n",
       "    </tr>\n",
       "  </thead>\n",
       "  <tbody>\n",
       "    <tr>\n",
       "      <th>89f04435-4c85-4059-be08-5024cdee34ca</th>\n",
       "      <td>[Crime and punishment]</td>\n",
       "      <td>The image shows a police officer in uniform, w...</td>\n",
       "      <td>Broward Sheriff's Office</td>\n",
       "      <td>None</td>\n",
       "      <td>positive</td>\n",
       "      <td>The image shows a person in a uniform associat...</td>\n",
       "      <td>data_pixtral_llava/images/89f04435-4c85-4059-b...</td>\n",
       "    </tr>\n",
       "    <tr>\n",
       "      <th>69249b2f-dd5e-4590-b92d-3778c18bc888</th>\n",
       "      <td>[Quality of life, None]</td>\n",
       "      <td>The image shows people resting in what appears...</td>\n",
       "      <td>Homeless individuals</td>\n",
       "      <td>Non-binary</td>\n",
       "      <td>Neutral</td>\n",
       "      <td>The image depicts homeless individuals resting...</td>\n",
       "      <td>data_pixtral_llava/images/69249b2f-dd5e-4590-b...</td>\n",
       "    </tr>\n",
       "  </tbody>\n",
       "</table>\n",
       "</div>"
      ],
      "text/plain": [
       "                                     mini_multiple_frames_frames-list  \\\n",
       "uuid                                                                    \n",
       "89f04435-4c85-4059-be08-5024cdee34ca           [Crime and punishment]   \n",
       "69249b2f-dd5e-4590-b92d-3778c18bc888          [Quality of life, None]   \n",
       "\n",
       "                                                            mini_multiple_frames_reason  \\\n",
       "uuid                                                                                      \n",
       "89f04435-4c85-4059-be08-5024cdee34ca  The image shows a police officer in uniform, w...   \n",
       "69249b2f-dd5e-4590-b92d-3778c18bc888  The image shows people resting in what appears...   \n",
       "\n",
       "                                     prompt_entity_entity-name  \\\n",
       "uuid                                                             \n",
       "89f04435-4c85-4059-be08-5024cdee34ca  Broward Sheriff's Office   \n",
       "69249b2f-dd5e-4590-b92d-3778c18bc888      Homeless individuals   \n",
       "\n",
       "                                     prompt_entity_entity-gender  \\\n",
       "uuid                                                               \n",
       "89f04435-4c85-4059-be08-5024cdee34ca                        None   \n",
       "69249b2f-dd5e-4590-b92d-3778c18bc888                  Non-binary   \n",
       "\n",
       "                                     prompt_entity_sentiment  \\\n",
       "uuid                                                           \n",
       "89f04435-4c85-4059-be08-5024cdee34ca                positive   \n",
       "69249b2f-dd5e-4590-b92d-3778c18bc888                 Neutral   \n",
       "\n",
       "                                                         prompt_entity_sentiment-reason  \\\n",
       "uuid                                                                                      \n",
       "89f04435-4c85-4059-be08-5024cdee34ca  The image shows a person in a uniform associat...   \n",
       "69249b2f-dd5e-4590-b92d-3778c18bc888  The image depicts homeless individuals resting...   \n",
       "\n",
       "                                                                              image_url  \n",
       "uuid                                                                                     \n",
       "89f04435-4c85-4059-be08-5024cdee34ca  data_pixtral_llava/images/89f04435-4c85-4059-b...  \n",
       "69249b2f-dd5e-4590-b92d-3778c18bc888  data_pixtral_llava/images/69249b2f-dd5e-4590-b...  "
      ]
     },
     "execution_count": 7,
     "metadata": {},
     "output_type": "execute_result"
    }
   ],
   "source": [
    "anno_df.sample(2)"
   ]
  },
  {
   "cell_type": "code",
   "execution_count": 8,
   "metadata": {},
   "outputs": [],
   "source": [
    "label_cols = ['mini_multiple_frames_frames-list']#, 'normal_multiple_frames_frame-list'] #normal_multiple_frames_frames-list\n",
    "for col in label_cols:\n",
    "    for i, row in anno_df[col].items():\n",
    "        if isinstance(row, list):\n",
    "            anno_df.at[i, col] = set([i.lower() for i in row])"
   ]
  },
  {
   "cell_type": "code",
   "execution_count": 9,
   "metadata": {},
   "outputs": [
    {
     "data": {
      "text/plain": [
       "(300, 1)"
      ]
     },
     "execution_count": 9,
     "metadata": {},
     "output_type": "execute_result"
    }
   ],
   "source": [
    "human_df['merged_labels'] = human_df['merged_labels'].apply(lambda x: literal_eval(x))\n",
    "human_df.shape"
   ]
  },
  {
   "cell_type": "code",
   "execution_count": 10,
   "metadata": {},
   "outputs": [
    {
     "data": {
      "text/plain": [
       "(300, 3)"
      ]
     },
     "execution_count": 10,
     "metadata": {},
     "output_type": "execute_result"
    }
   ],
   "source": [
    "merged_df = human_df.join(anno_df[label_cols+['image_url']], how=\"inner\")\n",
    "merged_df.shape"
   ]
  },
  {
   "cell_type": "code",
   "execution_count": 11,
   "metadata": {},
   "outputs": [],
   "source": [
    "for col in label_cols:\n",
    "    merged_df[col] = merged_df[col].str.lower()"
   ]
  },
  {
   "cell_type": "code",
   "execution_count": 12,
   "metadata": {},
   "outputs": [],
   "source": [
    "# results = {}\n",
    "# for col in label_cols:\n",
    "#         correct = 0\n",
    "#         for i, row in merged_df.iterrows():\n",
    "#                 if row[col] in row['merged_labels']:\n",
    "#                         correct += 1\n",
    "#         accuracy = correct / len(merged_df)\n",
    "#         results[col] = accuracy\n",
    "#         print(col, accuracy)"
   ]
  },
  {
   "cell_type": "code",
   "execution_count": 13,
   "metadata": {},
   "outputs": [],
   "source": [
    "# pd.DataFrame(results, index=[\"accuracy\"]).T.plot(kind=\"barh\", figsize=(10, 5))"
   ]
  },
  {
   "cell_type": "code",
   "execution_count": 14,
   "metadata": {},
   "outputs": [
    {
     "data": {
      "text/plain": [
       "(300, 3)"
      ]
     },
     "execution_count": 14,
     "metadata": {},
     "output_type": "execute_result"
    }
   ],
   "source": [
    "pred_df = anno_df[[\"mini_multiple_frames_frames-list\",\"mini_multiple_frames_reason\", 'image_url']]\n",
    "pred_df.columns = ['pred_labels', 'pred_reason', 'image_url']\n",
    "pred_df.shape"
   ]
  },
  {
   "cell_type": "code",
   "execution_count": 15,
   "metadata": {},
   "outputs": [],
   "source": [
    "human_df.columns = ['human_annotations']"
   ]
  },
  {
   "cell_type": "code",
   "execution_count": 16,
   "metadata": {},
   "outputs": [
    {
     "data": {
      "text/html": [
       "<div>\n",
       "<style scoped>\n",
       "    .dataframe tbody tr th:only-of-type {\n",
       "        vertical-align: middle;\n",
       "    }\n",
       "\n",
       "    .dataframe tbody tr th {\n",
       "        vertical-align: top;\n",
       "    }\n",
       "\n",
       "    .dataframe thead th {\n",
       "        text-align: right;\n",
       "    }\n",
       "</style>\n",
       "<table border=\"1\" class=\"dataframe\">\n",
       "  <thead>\n",
       "    <tr style=\"text-align: right;\">\n",
       "      <th></th>\n",
       "      <th>pred_labels</th>\n",
       "      <th>human_annotations</th>\n",
       "    </tr>\n",
       "    <tr>\n",
       "      <th>uuid</th>\n",
       "      <th></th>\n",
       "      <th></th>\n",
       "    </tr>\n",
       "  </thead>\n",
       "  <tbody>\n",
       "    <tr>\n",
       "      <th>e78308e9-8c49-4217-9bb2-ef93a4b82b90</th>\n",
       "      <td>{security and defense, crime and punishment}</td>\n",
       "      <td>{security and defense, crime and punishment, f...</td>\n",
       "    </tr>\n",
       "    <tr>\n",
       "      <th>6261799f-3a92-4805-bc56-3252dd645d89</th>\n",
       "      <td>{security and defense, crime and punishment}</td>\n",
       "      <td>{security and defense}</td>\n",
       "    </tr>\n",
       "    <tr>\n",
       "      <th>80164efd-4678-4b00-92c6-eec6162e0cf1</th>\n",
       "      <td>{none}</td>\n",
       "      <td>{none, quality of life}</td>\n",
       "    </tr>\n",
       "    <tr>\n",
       "      <th>e336c7fb-895c-4d87-a384-2b1e479cdb9c</th>\n",
       "      <td>{none}</td>\n",
       "      <td>{none, quality of life}</td>\n",
       "    </tr>\n",
       "    <tr>\n",
       "      <th>0054ad1b-896e-42cf-a3fb-c9eedea17ec4</th>\n",
       "      <td>{legality, constitutionality and jurisprudence...</td>\n",
       "      <td>{political}</td>\n",
       "    </tr>\n",
       "  </tbody>\n",
       "</table>\n",
       "</div>"
      ],
      "text/plain": [
       "                                                                            pred_labels  \\\n",
       "uuid                                                                                      \n",
       "e78308e9-8c49-4217-9bb2-ef93a4b82b90       {security and defense, crime and punishment}   \n",
       "6261799f-3a92-4805-bc56-3252dd645d89       {security and defense, crime and punishment}   \n",
       "80164efd-4678-4b00-92c6-eec6162e0cf1                                             {none}   \n",
       "e336c7fb-895c-4d87-a384-2b1e479cdb9c                                             {none}   \n",
       "0054ad1b-896e-42cf-a3fb-c9eedea17ec4  {legality, constitutionality and jurisprudence...   \n",
       "\n",
       "                                                                      human_annotations  \n",
       "uuid                                                                                     \n",
       "e78308e9-8c49-4217-9bb2-ef93a4b82b90  {security and defense, crime and punishment, f...  \n",
       "6261799f-3a92-4805-bc56-3252dd645d89                             {security and defense}  \n",
       "80164efd-4678-4b00-92c6-eec6162e0cf1                            {none, quality of life}  \n",
       "e336c7fb-895c-4d87-a384-2b1e479cdb9c                            {none, quality of life}  \n",
       "0054ad1b-896e-42cf-a3fb-c9eedea17ec4                                        {political}  "
      ]
     },
     "execution_count": 16,
     "metadata": {},
     "output_type": "execute_result"
    }
   ],
   "source": [
    "dropped_df = pred_df['pred_labels'].dropna()\n",
    "merged_df = pd.merge(dropped_df, human_df, left_index=True, right_index=True)\n",
    "merged_df.head()\n"
   ]
  },
  {
   "cell_type": "code",
   "execution_count": 17,
   "metadata": {},
   "outputs": [
    {
     "name": "stdout",
     "output_type": "stream",
     "text": [
      "0.78\n",
      "------------------\n"
     ]
    }
   ],
   "source": [
    "merged_df['intersection'] = merged_df.apply(lambda x: x['pred_labels'].intersection(x['human_annotations']), axis=1)\n",
    "merged_df['intersection_len'] = merged_df['intersection'].apply(len)\n",
    "merged_df['correct'] = merged_df['intersection_len'] > 0\n",
    "print(merged_df['correct'].sum()/len(dropped_df))\n",
    "print(\"------------------\")"
   ]
  },
  {
   "cell_type": "markdown",
   "metadata": {},
   "source": [
    "### Removing model None values"
   ]
  },
  {
   "cell_type": "code",
   "execution_count": 18,
   "metadata": {},
   "outputs": [
    {
     "name": "stdout",
     "output_type": "stream",
     "text": [
      "0.8325123152709359\n",
      "Shape of filtered_df: (203, 5)\n",
      "------------------\n"
     ]
    }
   ],
   "source": [
    "# Filter out rows where the model prediction is 'None'\n",
    "filtered_df = pred_df[pred_df['pred_labels'] != {'none'}]\n",
    "\n",
    "# Perform the same calculation on the filtered DataFrame\n",
    "dropped_df_filtered = filtered_df['pred_labels'].dropna()\n",
    "merged_df_filtered = pd.merge(dropped_df_filtered, human_df, left_index=True, right_index=True)\n",
    "merged_df_filtered['intersection'] = merged_df_filtered.apply(lambda x: x['pred_labels'].intersection(x['human_annotations']), axis=1)\n",
    "merged_df_filtered['intersection_len'] = merged_df_filtered['intersection'].apply(len)\n",
    "merged_df_filtered['correct'] = merged_df_filtered['intersection_len'] > 0\n",
    "\n",
    "# Print the accuracy\n",
    "print(merged_df_filtered['correct'].sum() / len(dropped_df_filtered))\n",
    "print(f\"Shape of filtered_df: {merged_df_filtered.shape}\")\n",
    "print(\"------------------\")"
   ]
  },
  {
   "cell_type": "markdown",
   "metadata": {},
   "source": [
    "### Remove sports\n"
   ]
  },
  {
   "cell_type": "code",
   "execution_count": 19,
   "metadata": {},
   "outputs": [],
   "source": [
    "# merged_df_filtered.sample(5)"
   ]
  },
  {
   "cell_type": "code",
   "execution_count": 20,
   "metadata": {},
   "outputs": [
    {
     "name": "stdout",
     "output_type": "stream",
     "text": [
      "(203, 2)\n",
      "(188, 2)\n",
      "0.824468085106383\n",
      "------------------\n"
     ]
    }
   ],
   "source": [
    "\n",
    "no_sports_csv = pd.read_csv('../notebooks/sample_no_sports.csv')\n",
    "no_sports_uuids = no_sports_csv['id'].tolist()\n",
    "\n",
    "# Filter out rows where the model prediction is 'None'\n",
    "filtered_df = pred_df[pred_df['pred_labels'] != {'none'}]\n",
    "\n",
    "# Perform the same calculation on the filtered DataFrame\n",
    "dropped_df_filtered = filtered_df['pred_labels'].dropna()\n",
    "merged_df_filtered = pd.merge(dropped_df_filtered, human_df, left_index=True, right_index=True)\n",
    "print(merged_df_filtered.shape)\n",
    "\n",
    "# Filter out rows where the UUID is not in no_sports_uuids\n",
    "merged_df_filtered_no_sports = merged_df_filtered[merged_df_filtered.index.isin(no_sports_uuids)].copy()\n",
    "print(merged_df_filtered_no_sports.shape)\n",
    "\n",
    "merged_df_filtered_no_sports['intersection'] = merged_df_filtered_no_sports['pred_labels'].combine(\n",
    "    merged_df_filtered_no_sports['human_annotations'], \n",
    "    lambda x, y: x.intersection(y)\n",
    ")\n",
    "merged_df_filtered_no_sports['intersection_len'] = merged_df_filtered_no_sports['intersection'].apply(len)\n",
    "merged_df_filtered_no_sports['correct'] = merged_df_filtered_no_sports['intersection_len'] > 0\n",
    "\n",
    "# Print the accuracy\n",
    "print(merged_df_filtered_no_sports['correct'].sum() / len(merged_df_filtered_no_sports))\n",
    "print(\"------------------\")\n"
   ]
  },
  {
   "cell_type": "code",
   "execution_count": 21,
   "metadata": {},
   "outputs": [],
   "source": [
    "from IPython.display import display, HTML\n",
    "from PIL import Image\n",
    "from io import BytesIO\n",
    "import base64\n",
    "\n",
    "def image_base64(im):\n",
    "    if isinstance(im, str):\n",
    "        im = Image.open(im)\n",
    "    with BytesIO() as buffer:\n",
    "        im.save(buffer, 'jpeg')\n",
    "        return base64.b64encode(buffer.getvalue()).decode()"
   ]
  },
  {
   "cell_type": "code",
   "execution_count": 22,
   "metadata": {},
   "outputs": [],
   "source": [
    "# merged_df = pred_df.merge(human_df, left_index=True, right_index=True, how=\"inner\")"
   ]
  },
  {
   "cell_type": "code",
   "execution_count": 23,
   "metadata": {},
   "outputs": [],
   "source": [
    "# merged_df['image_url'] = merged_df['image_url'].str.replace('data_pixtral_llava/images', '')\n",
    "\n",
    "# img_paths = merged_df['image_url'].apply(lambda x: \"../data_pixtral_llava/images/\" + x.split('/')[-1]).tolist()\n",
    "# # print(img_paths)\n",
    "# imgStrs = [image_base64(img_path) for img_path in img_paths]\n",
    "\n",
    "# merged_df['Image'] = [f'<img width=400 src=\"data:image/png;base64,{imgStr}\">' for imgStr in imgStrs]\n",
    "# merged_df.drop(columns=['image_url'], inplace=True)\n",
    "# merged_df.to_html(\"../data_pixtral_llava/pixtral_anno_multi_frames_val_set.html\", escape=False)"
   ]
  },
  {
   "cell_type": "code",
   "execution_count": 24,
   "metadata": {},
   "outputs": [],
   "source": [
    "# sample_incorrect = merged_df[merged_df[\"intersection_len\"] == 0].sample(4)\n",
    "# plot_image(sample_incorrect['image_url'], sample_incorrect['merged_labels'], sample_incorrect['normal_multiple_frames_frame-list'])"
   ]
  },
  {
   "cell_type": "code",
   "execution_count": 25,
   "metadata": {},
   "outputs": [],
   "source": [
    "# plot_image(sample_incorrect['image_url'], sample_incorrect['merged_labels'], sample_incorrect['frame-name'])"
   ]
  },
  {
   "cell_type": "markdown",
   "metadata": {},
   "source": [
    "### Get gender statistics"
   ]
  },
  {
   "cell_type": "code",
   "execution_count": 26,
   "metadata": {},
   "outputs": [
    {
     "data": {
      "text/html": [
       "<div>\n",
       "<style scoped>\n",
       "    .dataframe tbody tr th:only-of-type {\n",
       "        vertical-align: middle;\n",
       "    }\n",
       "\n",
       "    .dataframe tbody tr th {\n",
       "        vertical-align: top;\n",
       "    }\n",
       "\n",
       "    .dataframe thead th {\n",
       "        text-align: right;\n",
       "    }\n",
       "</style>\n",
       "<table border=\"1\" class=\"dataframe\">\n",
       "  <thead>\n",
       "    <tr style=\"text-align: right;\">\n",
       "      <th></th>\n",
       "      <th>mini_multiple_frames_frames-list</th>\n",
       "      <th>mini_multiple_frames_reason</th>\n",
       "      <th>prompt_entity_entity-name</th>\n",
       "      <th>prompt_entity_entity-gender</th>\n",
       "      <th>prompt_entity_sentiment</th>\n",
       "      <th>prompt_entity_sentiment-reason</th>\n",
       "      <th>image_url</th>\n",
       "    </tr>\n",
       "    <tr>\n",
       "      <th>uuid</th>\n",
       "      <th></th>\n",
       "      <th></th>\n",
       "      <th></th>\n",
       "      <th></th>\n",
       "      <th></th>\n",
       "      <th></th>\n",
       "      <th></th>\n",
       "    </tr>\n",
       "  </thead>\n",
       "  <tbody>\n",
       "    <tr>\n",
       "      <th>585010c9-18c5-4e3b-9218-f9759ef53c55</th>\n",
       "      <td>{none, quality of life}</td>\n",
       "      <td>The image shows a recreational boat on a lake,...</td>\n",
       "      <td>Boat</td>\n",
       "      <td>None</td>\n",
       "      <td>neutral</td>\n",
       "      <td>The image shows a boat on a lake with no visib...</td>\n",
       "      <td>data_pixtral_llava/images/585010c9-18c5-4e3b-9...</td>\n",
       "    </tr>\n",
       "    <tr>\n",
       "      <th>5cabf216-14a1-4d38-bcf9-9e65b6d96afc</th>\n",
       "      <td>{policy prescription and evaluation, none}</td>\n",
       "      <td>The image shows a man in a suit speaking at a ...</td>\n",
       "      <td>Kirby Smart</td>\n",
       "      <td>male</td>\n",
       "      <td>positive</td>\n",
       "      <td>The individual is standing confidently at a po...</td>\n",
       "      <td>data_pixtral_llava/images/5cabf216-14a1-4d38-b...</td>\n",
       "    </tr>\n",
       "  </tbody>\n",
       "</table>\n",
       "</div>"
      ],
      "text/plain": [
       "                                                mini_multiple_frames_frames-list  \\\n",
       "uuid                                                                               \n",
       "585010c9-18c5-4e3b-9218-f9759ef53c55                     {none, quality of life}   \n",
       "5cabf216-14a1-4d38-bcf9-9e65b6d96afc  {policy prescription and evaluation, none}   \n",
       "\n",
       "                                                            mini_multiple_frames_reason  \\\n",
       "uuid                                                                                      \n",
       "585010c9-18c5-4e3b-9218-f9759ef53c55  The image shows a recreational boat on a lake,...   \n",
       "5cabf216-14a1-4d38-bcf9-9e65b6d96afc  The image shows a man in a suit speaking at a ...   \n",
       "\n",
       "                                     prompt_entity_entity-name  \\\n",
       "uuid                                                             \n",
       "585010c9-18c5-4e3b-9218-f9759ef53c55                      Boat   \n",
       "5cabf216-14a1-4d38-bcf9-9e65b6d96afc               Kirby Smart   \n",
       "\n",
       "                                     prompt_entity_entity-gender  \\\n",
       "uuid                                                               \n",
       "585010c9-18c5-4e3b-9218-f9759ef53c55                        None   \n",
       "5cabf216-14a1-4d38-bcf9-9e65b6d96afc                        male   \n",
       "\n",
       "                                     prompt_entity_sentiment  \\\n",
       "uuid                                                           \n",
       "585010c9-18c5-4e3b-9218-f9759ef53c55                 neutral   \n",
       "5cabf216-14a1-4d38-bcf9-9e65b6d96afc                positive   \n",
       "\n",
       "                                                         prompt_entity_sentiment-reason  \\\n",
       "uuid                                                                                      \n",
       "585010c9-18c5-4e3b-9218-f9759ef53c55  The image shows a boat on a lake with no visib...   \n",
       "5cabf216-14a1-4d38-bcf9-9e65b6d96afc  The individual is standing confidently at a po...   \n",
       "\n",
       "                                                                              image_url  \n",
       "uuid                                                                                     \n",
       "585010c9-18c5-4e3b-9218-f9759ef53c55  data_pixtral_llava/images/585010c9-18c5-4e3b-9...  \n",
       "5cabf216-14a1-4d38-bcf9-9e65b6d96afc  data_pixtral_llava/images/5cabf216-14a1-4d38-b...  "
      ]
     },
     "execution_count": 26,
     "metadata": {},
     "output_type": "execute_result"
    }
   ],
   "source": [
    "anno_df.sample(2)"
   ]
  },
  {
   "cell_type": "code",
   "execution_count": 34,
   "metadata": {},
   "outputs": [
    {
     "data": {
      "text/plain": [
       "neutral     185\n",
       "positive     89\n",
       "negative     22\n",
       "none          2\n",
       "Name: prompt_entity_sentiment, dtype: int64"
      ]
     },
     "execution_count": 34,
     "metadata": {},
     "output_type": "execute_result"
    }
   ],
   "source": [
    "anno_df['prompt_entity_sentiment'] = anno_df['prompt_entity_sentiment'].str.lower()\n",
    "anno_df['prompt_entity_sentiment'].value_counts()"
   ]
  },
  {
   "cell_type": "code",
   "execution_count": 29,
   "metadata": {},
   "outputs": [
    {
     "data": {
      "text/plain": [
       "None            184\n",
       "male             78\n",
       "female           30\n",
       "Non-binary        3\n",
       "male, female      1\n",
       "Male              1\n",
       "Various           1\n",
       "Name: prompt_entity_entity-gender, dtype: int64"
      ]
     },
     "execution_count": 29,
     "metadata": {},
     "output_type": "execute_result"
    }
   ],
   "source": [
    "anno_df['prompt_entity_entity-gender'].value_counts()"
   ]
  },
  {
   "cell_type": "code",
   "execution_count": 31,
   "metadata": {},
   "outputs": [
    {
     "data": {
      "text/html": [
       "<div>\n",
       "<style scoped>\n",
       "    .dataframe tbody tr th:only-of-type {\n",
       "        vertical-align: middle;\n",
       "    }\n",
       "\n",
       "    .dataframe tbody tr th {\n",
       "        vertical-align: top;\n",
       "    }\n",
       "\n",
       "    .dataframe thead th {\n",
       "        text-align: right;\n",
       "    }\n",
       "</style>\n",
       "<table border=\"1\" class=\"dataframe\">\n",
       "  <thead>\n",
       "    <tr style=\"text-align: right;\">\n",
       "      <th></th>\n",
       "      <th>mini_multiple_frames_frames-list</th>\n",
       "      <th>mini_multiple_frames_reason</th>\n",
       "      <th>prompt_entity_entity-name</th>\n",
       "      <th>prompt_entity_entity-gender</th>\n",
       "      <th>prompt_entity_sentiment</th>\n",
       "      <th>prompt_entity_sentiment-reason</th>\n",
       "      <th>image_url</th>\n",
       "    </tr>\n",
       "    <tr>\n",
       "      <th>uuid</th>\n",
       "      <th></th>\n",
       "      <th></th>\n",
       "      <th></th>\n",
       "      <th></th>\n",
       "      <th></th>\n",
       "      <th></th>\n",
       "      <th></th>\n",
       "    </tr>\n",
       "  </thead>\n",
       "  <tbody>\n",
       "    <tr>\n",
       "      <th>d92024bc-81b6-4b8f-a4d1-8824b9abc276</th>\n",
       "      <td>{public opinion, quality of life}</td>\n",
       "      <td>The image shows a homeless encampment with peo...</td>\n",
       "      <td>Homeless individuals</td>\n",
       "      <td>Non-binary</td>\n",
       "      <td>Neutral</td>\n",
       "      <td>The image shows homeless individuals in an urb...</td>\n",
       "      <td>data_pixtral_llava/images/d92024bc-81b6-4b8f-a...</td>\n",
       "    </tr>\n",
       "    <tr>\n",
       "      <th>69249b2f-dd5e-4590-b92d-3778c18bc888</th>\n",
       "      <td>{none, quality of life}</td>\n",
       "      <td>The image shows people resting in what appears...</td>\n",
       "      <td>Homeless individuals</td>\n",
       "      <td>Non-binary</td>\n",
       "      <td>Neutral</td>\n",
       "      <td>The image depicts homeless individuals resting...</td>\n",
       "      <td>data_pixtral_llava/images/69249b2f-dd5e-4590-b...</td>\n",
       "    </tr>\n",
       "    <tr>\n",
       "      <th>29a18385-47ff-4083-8f24-4c99f47ea6ab</th>\n",
       "      <td>{none}</td>\n",
       "      <td>The image depicts people walking and skateboar...</td>\n",
       "      <td>Skateboarders</td>\n",
       "      <td>Non-binary</td>\n",
       "      <td>Neutral</td>\n",
       "      <td>The image shows individuals skateboarding in a...</td>\n",
       "      <td>data_pixtral_llava/images/29a18385-47ff-4083-8...</td>\n",
       "    </tr>\n",
       "  </tbody>\n",
       "</table>\n",
       "</div>"
      ],
      "text/plain": [
       "                                       mini_multiple_frames_frames-list  \\\n",
       "uuid                                                                      \n",
       "d92024bc-81b6-4b8f-a4d1-8824b9abc276  {public opinion, quality of life}   \n",
       "69249b2f-dd5e-4590-b92d-3778c18bc888            {none, quality of life}   \n",
       "29a18385-47ff-4083-8f24-4c99f47ea6ab                             {none}   \n",
       "\n",
       "                                                            mini_multiple_frames_reason  \\\n",
       "uuid                                                                                      \n",
       "d92024bc-81b6-4b8f-a4d1-8824b9abc276  The image shows a homeless encampment with peo...   \n",
       "69249b2f-dd5e-4590-b92d-3778c18bc888  The image shows people resting in what appears...   \n",
       "29a18385-47ff-4083-8f24-4c99f47ea6ab  The image depicts people walking and skateboar...   \n",
       "\n",
       "                                     prompt_entity_entity-name  \\\n",
       "uuid                                                             \n",
       "d92024bc-81b6-4b8f-a4d1-8824b9abc276      Homeless individuals   \n",
       "69249b2f-dd5e-4590-b92d-3778c18bc888      Homeless individuals   \n",
       "29a18385-47ff-4083-8f24-4c99f47ea6ab             Skateboarders   \n",
       "\n",
       "                                     prompt_entity_entity-gender  \\\n",
       "uuid                                                               \n",
       "d92024bc-81b6-4b8f-a4d1-8824b9abc276                  Non-binary   \n",
       "69249b2f-dd5e-4590-b92d-3778c18bc888                  Non-binary   \n",
       "29a18385-47ff-4083-8f24-4c99f47ea6ab                  Non-binary   \n",
       "\n",
       "                                     prompt_entity_sentiment  \\\n",
       "uuid                                                           \n",
       "d92024bc-81b6-4b8f-a4d1-8824b9abc276                 Neutral   \n",
       "69249b2f-dd5e-4590-b92d-3778c18bc888                 Neutral   \n",
       "29a18385-47ff-4083-8f24-4c99f47ea6ab                 Neutral   \n",
       "\n",
       "                                                         prompt_entity_sentiment-reason  \\\n",
       "uuid                                                                                      \n",
       "d92024bc-81b6-4b8f-a4d1-8824b9abc276  The image shows homeless individuals in an urb...   \n",
       "69249b2f-dd5e-4590-b92d-3778c18bc888  The image depicts homeless individuals resting...   \n",
       "29a18385-47ff-4083-8f24-4c99f47ea6ab  The image shows individuals skateboarding in a...   \n",
       "\n",
       "                                                                              image_url  \n",
       "uuid                                                                                     \n",
       "d92024bc-81b6-4b8f-a4d1-8824b9abc276  data_pixtral_llava/images/d92024bc-81b6-4b8f-a...  \n",
       "69249b2f-dd5e-4590-b92d-3778c18bc888  data_pixtral_llava/images/69249b2f-dd5e-4590-b...  \n",
       "29a18385-47ff-4083-8f24-4c99f47ea6ab  data_pixtral_llava/images/29a18385-47ff-4083-8...  "
      ]
     },
     "execution_count": 31,
     "metadata": {},
     "output_type": "execute_result"
    }
   ],
   "source": [
    "# show all 'anno_df['prompt_entity_entity-gender']' where value is Non-binary\n",
    "anno_df[anno_df['prompt_entity_entity-gender'] == 'Non-binary']"
   ]
  },
  {
   "cell_type": "code",
   "execution_count": 32,
   "metadata": {},
   "outputs": [],
   "source": [
    "anno_df['image_url'] = anno_df['image_url'].str.replace('data_pixtral_llava/images', '')\n",
    "\n",
    "img_paths = anno_df['image_url'].apply(lambda x: \"../data_pixtral_llava/images/\" + x.split('/')[-1]).tolist()\n",
    "# print(img_paths)\n",
    "imgStrs = [image_base64(img_path) for img_path in img_paths]\n",
    "\n",
    "anno_df['Image'] = [f'<img width=400 src=\"data:image/png;base64,{imgStr}\">' for imgStr in imgStrs]\n",
    "anno_df.drop(columns=['image_url'], inplace=True)\n",
    "anno_df.to_html(\"../data_pixtral_llava/pixtral_anno_multi_frames_val_set.html\", escape=False)"
   ]
  },
  {
   "cell_type": "code",
   "execution_count": null,
   "metadata": {},
   "outputs": [],
   "source": []
  }
 ],
 "metadata": {
  "kernelspec": {
   "display_name": "frame-cluster-env",
   "language": "python",
   "name": "python3"
  },
  "language_info": {
   "codemirror_mode": {
    "name": "ipython",
    "version": 3
   },
   "file_extension": ".py",
   "mimetype": "text/x-python",
   "name": "python",
   "nbconvert_exporter": "python",
   "pygments_lexer": "ipython3",
   "version": "3.9.9"
  }
 },
 "nbformat": 4,
 "nbformat_minor": 2
}

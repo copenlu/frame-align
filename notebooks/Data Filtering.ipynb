{
 "cells": [
  {
   "cell_type": "code",
   "execution_count": 1,
   "metadata": {},
   "outputs": [],
   "source": [
    "import pandas as pd\n",
    "\n",
    "import pickle\n",
    "from pathlib import Path"
   ]
  },
  {
   "cell_type": "markdown",
   "metadata": {},
   "source": [
    "Make path of monthly directories"
   ]
  },
  {
   "cell_type": "code",
   "execution_count": 27,
   "metadata": {},
   "outputs": [
    {
     "name": "stdout",
     "output_type": "stream",
     "text": [
      "month_dir_paths [PosixPath('/projects/frame_align/data/img_data/2023-05-01_2023-05-31'), PosixPath('/projects/frame_align/data/img_data/2023-06-01_2023-06-30'), PosixPath('/projects/frame_align/data/img_data/2023-07-01_2023-07-31'), PosixPath('/projects/frame_align/data/img_data/2023-08-01_2023-08-31'), PosixPath('/projects/frame_align/data/img_data/2023-09-01_2023-09-30'), PosixPath('/projects/frame_align/data/img_data/2023-10-01_2023-10-31'), PosixPath('/projects/frame_align/data/img_data/2023-11-01_2023-11-30'), PosixPath('/projects/frame_align/data/img_data/2023-12-01_2023-12-31'), PosixPath('/projects/frame_align/data/img_data/2024-01-01_2024-01-31'), PosixPath('/projects/frame_align/data/img_data/2024-02-01_2024-02-29'), PosixPath('/projects/frame_align/data/img_data/2024-03-01_2024-03-31'), PosixPath('/projects/frame_align/data/img_data/2024-04-01_2024-04-30')]\n"
     ]
    }
   ],
   "source": [
    "all_months = [\"2023-05-01_2023-05-31\", \"2023-06-01_2023-06-30\", \"2023-07-01_2023-07-31\", \"2023-08-01_2023-08-31\", \"2023-09-01_2023-09-30\",\n",
    "    \"2023-10-01_2023-10-31\", \"2023-11-01_2023-11-30\", \"2023-12-01_2023-12-31\", \"2024-01-01_2024-01-31\", \"2024-02-01_2024-02-29\",\n",
    "    \"2024-03-01_2024-03-31\", \"2024-04-01_2024-04-30\"]\n",
    "\n",
    "base_img_dir = Path(\"/projects/frame_align/data/img_data/\")\n",
    "month_dir_paths = [base_img_dir / month for month in all_months]\n",
    "sorted_month_dir_paths = sorted(month_dir_paths)\n",
    "\n",
    "print(\"month_dir_paths\", sorted_month_dir_paths)"
   ]
  },
  {
   "cell_type": "markdown",
   "metadata": {},
   "source": [
    "Count number of jpg files in each directory"
   ]
  },
  {
   "cell_type": "code",
   "execution_count": 29,
   "metadata": {},
   "outputs": [
    {
     "name": "stdout",
     "output_type": "stream",
     "text": [
      "2023-05-01_2023-05-31: 55647\n",
      "2023-06-01_2023-06-30: 24812\n",
      "2023-07-01_2023-07-31: 31114\n",
      "2023-08-01_2023-08-31: 40424\n",
      "2023-09-01_2023-09-30: 40203\n",
      "2023-10-01_2023-10-31: 36545\n",
      "2023-11-01_2023-11-30: 38530\n",
      "2023-12-01_2023-12-31: 34856\n",
      "2024-01-01_2024-01-31: 40821\n",
      "2024-02-01_2024-02-29: 37074\n",
      "2024-03-01_2024-03-31: 34942\n",
      "2024-04-01_2024-04-30: 34864\n"
     ]
    }
   ],
   "source": [
    "from tqdm import tqdm\n",
    "\n",
    "count_monthly_img = {}\n",
    "for idx, month_dir in enumerate(sorted_month_dir_paths):\n",
    "    dir_path = month_dir / \"correct_downloaded_imgs\"\n",
    "    # count the number of images in the month directory and its subdirectories\n",
    "    count_monthly_img[month_dir.name] = len(list(dir_path.glob('*.jpg')))\n",
    "    print(f\"{month_dir.name}: {count_monthly_img[month_dir.name]}\")\n"
   ]
  },
  {
   "cell_type": "markdown",
   "metadata": {},
   "source": [
    "Make pickle file of the count of jpg files in each directory"
   ]
  },
  {
   "cell_type": "code",
   "execution_count": null,
   "metadata": {},
   "outputs": [],
   "source": [
    "# make pickle file which is dict of month and uuids in sorted_month_dir_paths/correct_downloaded_imgs\n",
    "\n",
    "for idx, month_dir in enumerate(tqdm(sorted_month_dir_paths)):\n",
    "    dir_path = month_dir / \"correct_downloaded_imgs\"\n",
    "    uuids = [img_path.stem for img_path in dir_path.glob(\"*.jpg\")]\n",
    "    # print len of duplicated uuids\n",
    "    print(f\"len of duplicated uuids: {len(uuids) - len(set(uuids))}\")\n",
    "    month = month_dir.name\n",
    "    pickle_path = month_dir / f\"{month}_downloaded_uuids.pkl\"\n",
    "    with open(pickle_path, \"wb\") as f:\n",
    "        pickle.dump(uuids, f)\n",
    "\n",
    "    print(f\"pickle_path: {pickle_path}\")   "
   ]
  },
  {
   "cell_type": "markdown",
   "metadata": {},
   "source": [
    "[Used for Verification] Load pickle file and check the count of jpg files in each directory"
   ]
  },
  {
   "cell_type": "code",
   "execution_count": 32,
   "metadata": {},
   "outputs": [
    {
     "name": "stdout",
     "output_type": "stream",
     "text": [
      "2023-05-01_2023-05-31: 55647\n",
      "2023-06-01_2023-06-30: 24812\n",
      "2023-07-01_2023-07-31: 31114\n",
      "2023-08-01_2023-08-31: 40424\n",
      "2023-09-01_2023-09-30: 40203\n",
      "2023-10-01_2023-10-31: 36545\n",
      "2023-11-01_2023-11-30: 38530\n",
      "2023-12-01_2023-12-31: 34856\n",
      "2024-01-01_2024-01-31: 40821\n",
      "2024-02-01_2024-02-29: 37074\n",
      "2024-03-01_2024-03-31: 34942\n",
      "2024-04-01_2024-04-30: 34864\n"
     ]
    }
   ],
   "source": [
    "# load and count all pickle files\n",
    "count_monthly_img = {}\n",
    "for idx, month_dir in enumerate(sorted_month_dir_paths):\n",
    "    with open(month_dir / f\"{month_dir.name}_downloaded_uuids.pkl\", \"rb\") as f:\n",
    "        img_names = pickle.load(f)\n",
    "        count_monthly_img[month_dir.name] = len(img_names)\n",
    "        print(f\"{month_dir.name}: {count_monthly_img[month_dir.name]}\")"
   ]
  },
  {
   "cell_type": "code",
   "execution_count": null,
   "metadata": {},
   "outputs": [],
   "source": [
    "raw_month_dir = Path(\"/projects/frame_align/data/raw/2023-2024\")\n",
    "img_dir = month_raw_dir / \"img_data/\""
   ]
  },
  {
   "cell_type": "code",
   "execution_count": 3,
   "metadata": {},
   "outputs": [],
   "source": [
    "file_sizes = {}\n",
    "for img_file in img_dir.glob(\"*.jpg\"):\n",
    "    file_sizes[img_file.name.split(\".\")[0]] = img_file.stat().st_size\n",
    "file_size_df = pd.DataFrame.from_dict(file_sizes, orient='index', columns=['file_size'])"
   ]
  },
  {
   "cell_type": "code",
   "execution_count": 4,
   "metadata": {},
   "outputs": [],
   "source": [
    "file_size_df = file_size_df[file_size_df['file_size'] <= file_size_df['file_size'].quantile(0.95)]\n",
    "file_size_df = file_size_df[file_size_df['file_size'] >= 5000]\n",
    "# file_size_df.sort_values('file_size', ascending=True).hist(bins=5)"
   ]
  },
  {
   "cell_type": "code",
   "execution_count": 5,
   "metadata": {},
   "outputs": [],
   "source": [
    "img_uuids = list(file_size_df.index)"
   ]
  },
  {
   "cell_type": "code",
   "execution_count": 6,
   "metadata": {},
   "outputs": [
    {
     "data": {
      "text/plain": [
       "36601"
      ]
     },
     "execution_count": 6,
     "metadata": {},
     "output_type": "execute_result"
    }
   ],
   "source": [
    "len(img_uuids)"
   ]
  },
  {
   "cell_type": "code",
   "execution_count": 7,
   "metadata": {},
   "outputs": [],
   "source": [
    "text_df = pd.read_csv(month_dir/\"datawithtopiclabels.csv\")"
   ]
  },
  {
   "cell_type": "code",
   "execution_count": 8,
   "metadata": {},
   "outputs": [
    {
     "data": {
      "text/plain": [
       "Index(['topic', 'auto_topic_label', 'id', 'authors', 'date_download',\n",
       "       'date_modify', 'date_publish', 'description', 'filename', 'image_url',\n",
       "       'language', 'localpath', 'maintext', 'source_domain', 'title',\n",
       "       'title_page', 'title_rss', 'url', 'month', 'topic_label'],\n",
       "      dtype='object')"
      ]
     },
     "execution_count": 8,
     "metadata": {},
     "output_type": "execute_result"
    }
   ],
   "source": [
    "text_df.columns"
   ]
  },
  {
   "cell_type": "code",
   "execution_count": 9,
   "metadata": {},
   "outputs": [],
   "source": [
    "text_df.dropna(subset=['maintext'], inplace=True)\n",
    "text_df['text_length'] = text_df['maintext'].apply(lambda x: len(x))"
   ]
  },
  {
   "cell_type": "code",
   "execution_count": 10,
   "metadata": {},
   "outputs": [],
   "source": [
    "lower_quantile = text_df['text_length'].quantile(0.05)\n",
    "upper_quantile = text_df['text_length'].quantile(0.95)\n",
    "\n",
    "text_df = text_df[text_df['text_length'] >= lower_quantile]\n",
    "text_df = text_df[text_df['text_length'] <= upper_quantile]"
   ]
  },
  {
   "cell_type": "code",
   "execution_count": 17,
   "metadata": {},
   "outputs": [],
   "source": [
    "filtered_text_df = []\n",
    "for topic_label, topic_df in text_df.groupby('topic_label'):\n",
    "    if len(topic_df) > 5000:\n",
    "        topic_df = topic_df.sample(5000)\n",
    "    filtered_text_df.append(topic_df)\n",
    "filtered_text_df = pd.concat(filtered_text_df)"
   ]
  },
  {
   "cell_type": "code",
   "execution_count": 19,
   "metadata": {},
   "outputs": [
    {
     "data": {
      "text/plain": [
       "17084"
      ]
     },
     "execution_count": 19,
     "metadata": {},
     "output_type": "execute_result"
    }
   ],
   "source": [
    "len(filtered_text_df)"
   ]
  },
  {
   "cell_type": "code",
   "execution_count": 20,
   "metadata": {},
   "outputs": [],
   "source": [
    "text_uuids = list(filtered_text_df.id)"
   ]
  },
  {
   "cell_type": "code",
   "execution_count": 21,
   "metadata": {},
   "outputs": [],
   "source": [
    "common_uuids = set(text_uuids).intersection(set(img_uuids))"
   ]
  },
  {
   "cell_type": "code",
   "execution_count": 22,
   "metadata": {},
   "outputs": [
    {
     "data": {
      "text/plain": [
       "16140"
      ]
     },
     "execution_count": 22,
     "metadata": {},
     "output_type": "execute_result"
    }
   ],
   "source": [
    "len(common_uuids)"
   ]
  },
  {
   "cell_type": "code",
   "execution_count": 23,
   "metadata": {},
   "outputs": [],
   "source": [
    "pickle.dump(common_uuids, open(month_dir/\"selected_uuids.pkl\", \"wb\"))"
   ]
  }
 ],
 "metadata": {
  "kernelspec": {
   "display_name": "frame-align",
   "language": "python",
   "name": "python3"
  },
  "language_info": {
   "codemirror_mode": {
    "name": "ipython",
    "version": 3
   },
   "file_extension": ".py",
   "mimetype": "text/x-python",
   "name": "python",
   "nbconvert_exporter": "python",
   "pygments_lexer": "ipython3",
   "version": "3.12.5"
  }
 },
 "nbformat": 4,
 "nbformat_minor": 2
}

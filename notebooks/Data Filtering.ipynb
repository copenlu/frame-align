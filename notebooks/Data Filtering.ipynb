{
 "cells": [
  {
   "cell_type": "code",
   "execution_count": 55,
   "metadata": {},
   "outputs": [],
   "source": [
    "import pandas as pd\n",
    "\n",
    "import pickle\n",
    "from pathlib import Path"
   ]
  },
  {
   "cell_type": "code",
   "execution_count": 46,
   "metadata": {},
   "outputs": [],
   "source": [
    "all_months = [\"2023-05-01_2023-05-31\", \"2023-06-01_2023-06-30\", \"2023-07-01_2023-07-31\", \"2023-08-01_2023-08-31\", \"2023-09-01_2023-09-30\",\n",
    "    \"2023-10-01_2023-10-31\", \"2023-11-01_2023-11-30\", \"2023-12-01_2023-12-31\", \"2024-01-01_2024-01-31\", \"2024-02-01_2024-02-29\",\n",
    "    \"2024-03-01_2024-03-31\", \"2024-04-01_2024-04-30\"]\n",
    "\n",
    "base_img_dir = Path(\"/projects/frame_align/data/img_data/\")\n",
    "month_dir_paths = [base_img_dir / month for month in all_months]\n",
    "sorted_month_dir_paths = sorted(month_dir_paths)\n",
    "\n",
    "\n",
    "# there is *failed_urls.json and *failed_ids.json in month dir. delete them\n",
    "def clean_failed_files(month_dir):\n",
    "    failed_urls = month_dir / \"failed_urls.json\"\n",
    "    failed_ids = month_dir / \"failed_ids.json\"\n",
    "\n",
    "    if failed_urls.exists():\n",
    "        print(f\"Deleting {failed_urls}\")\n",
    "        failed_urls.unlink()\n",
    "\n",
    "    if failed_ids.exists():\n",
    "        print(f\"Deleting {failed_ids}\")\n",
    "        failed_ids.unlink()\n",
    "\n",
    "for month_dir in sorted_month_dir_paths:\n",
    "    clean_failed_files(month_dir)"
   ]
  },
  {
   "cell_type": "markdown",
   "metadata": {},
   "source": [
    "Make path of monthly directories"
   ]
  },
  {
   "cell_type": "code",
   "execution_count": 56,
   "metadata": {},
   "outputs": [
    {
     "name": "stdout",
     "output_type": "stream",
     "text": [
      "month_dir_paths [PosixPath('/projects/frame_align/data/news-img-data/2023-05-01_2023-05-31'), PosixPath('/projects/frame_align/data/news-img-data/2023-06-01_2023-06-30'), PosixPath('/projects/frame_align/data/news-img-data/2023-07-01_2023-07-31'), PosixPath('/projects/frame_align/data/news-img-data/2023-08-01_2023-08-31'), PosixPath('/projects/frame_align/data/news-img-data/2023-09-01_2023-09-30'), PosixPath('/projects/frame_align/data/news-img-data/2023-10-01_2023-10-31'), PosixPath('/projects/frame_align/data/news-img-data/2023-11-01_2023-11-30'), PosixPath('/projects/frame_align/data/news-img-data/2023-12-01_2023-12-31'), PosixPath('/projects/frame_align/data/news-img-data/2024-01-01_2024-01-31'), PosixPath('/projects/frame_align/data/news-img-data/2024-02-01_2024-02-29'), PosixPath('/projects/frame_align/data/news-img-data/2024-03-01_2024-03-31'), PosixPath('/projects/frame_align/data/news-img-data/2024-04-01_2024-04-30')]\n"
     ]
    }
   ],
   "source": [
    "all_months = [\"2023-05-01_2023-05-31\", \"2023-06-01_2023-06-30\", \"2023-07-01_2023-07-31\", \"2023-08-01_2023-08-31\", \"2023-09-01_2023-09-30\",\n",
    "    \"2023-10-01_2023-10-31\", \"2023-11-01_2023-11-30\", \"2023-12-01_2023-12-31\", \"2024-01-01_2024-01-31\", \"2024-02-01_2024-02-29\",\n",
    "    \"2024-03-01_2024-03-31\", \"2024-04-01_2024-04-30\"]\n",
    "\n",
    "base_img_dir = Path(\"/projects/frame_align/data/news-img-data/\")\n",
    "month_dir_paths = [base_img_dir / month for month in all_months]\n",
    "sorted_month_dir_paths = sorted(month_dir_paths)\n",
    "\n",
    "print(\"month_dir_paths\", sorted_month_dir_paths)"
   ]
  },
  {
   "cell_type": "code",
   "execution_count": 27,
   "metadata": {},
   "outputs": [],
   "source": [
    "# csv_path_base = Path(\"/projects/frame_align/data/raw/2023-2024\")\n",
    "\n",
    "# # look for datawithtopiclabels.csv in csv_path_base/month\n",
    "# csv_dir_paths = [csv_path_base / month / \"datawithtopiclabels.csv\" for month in all_months]\n",
    "# sorted_csv_dir_paths = sorted(csv_dir_paths)\n",
    "\n",
    "# print(\"csv_dir_paths\", sorted_csv_dir_paths)\n",
    "\n",
    "# # count length of each csv\n",
    "# csv_len = []\n",
    "# for csv_dir in sorted_csv_dir_paths:\n",
    "#     df = pd.read_csv(csv_dir)\n",
    "#     csv_len.append(len(df))\n",
    "\n",
    "# print(\"csv_len\", csv_len)\n"
   ]
  },
  {
   "cell_type": "code",
   "execution_count": 57,
   "metadata": {},
   "outputs": [
    {
     "data": {
      "text/plain": [
       "[PosixPath('/projects/frame_align/data/news-img-data/2023-05-01_2023-05-31'),\n",
       " PosixPath('/projects/frame_align/data/news-img-data/2023-06-01_2023-06-30'),\n",
       " PosixPath('/projects/frame_align/data/news-img-data/2023-07-01_2023-07-31'),\n",
       " PosixPath('/projects/frame_align/data/news-img-data/2023-08-01_2023-08-31'),\n",
       " PosixPath('/projects/frame_align/data/news-img-data/2023-09-01_2023-09-30'),\n",
       " PosixPath('/projects/frame_align/data/news-img-data/2023-10-01_2023-10-31'),\n",
       " PosixPath('/projects/frame_align/data/news-img-data/2023-11-01_2023-11-30'),\n",
       " PosixPath('/projects/frame_align/data/news-img-data/2023-12-01_2023-12-31'),\n",
       " PosixPath('/projects/frame_align/data/news-img-data/2024-01-01_2024-01-31'),\n",
       " PosixPath('/projects/frame_align/data/news-img-data/2024-02-01_2024-02-29'),\n",
       " PosixPath('/projects/frame_align/data/news-img-data/2024-03-01_2024-03-31'),\n",
       " PosixPath('/projects/frame_align/data/news-img-data/2024-04-01_2024-04-30')]"
      ]
     },
     "execution_count": 57,
     "metadata": {},
     "output_type": "execute_result"
    }
   ],
   "source": [
    "sorted_month_dir_paths"
   ]
  },
  {
   "cell_type": "markdown",
   "metadata": {},
   "source": [
    "Count number of jpg files in each directory"
   ]
  },
  {
   "cell_type": "code",
   "execution_count": 58,
   "metadata": {},
   "outputs": [
    {
     "name": "stdout",
     "output_type": "stream",
     "text": [
      "2023-05-01_2023-05-31:  Downloaded: 73717\n",
      "2023-06-01_2023-06-30:  Downloaded: 94839\n",
      "2023-07-01_2023-07-31:  Downloaded: 80096\n",
      "2023-08-01_2023-08-31:  Downloaded: 81810\n",
      "2023-09-01_2023-09-30:  Downloaded: 70022\n",
      "2023-10-01_2023-10-31:  Downloaded: 24557\n",
      "2023-11-01_2023-11-30:  Downloaded: 6\n",
      "2023-12-01_2023-12-31:  Downloaded: 14555\n",
      "2024-01-01_2024-01-31:  Downloaded: 13282\n",
      "2024-02-01_2024-02-29:  Downloaded: 14744\n",
      "2024-03-01_2024-03-31:  Downloaded: 18983\n",
      "2024-04-01_2024-04-30:  Downloaded: 16735\n"
     ]
    }
   ],
   "source": [
    "from tqdm import tqdm\n",
    "\n",
    "count_monthly_img = {}\n",
    "for idx, month_dir in enumerate(sorted_month_dir_paths):\n",
    "    # dir_path = month_dir / \"correct_downloaded_imgs\"\n",
    "    # count the number of images in the month directory and its subdirectories\n",
    "    count_monthly_img[month_dir.name] = len(list(month_dir.glob('*.jpg')))\n",
    "    print(f\"{month_dir.name}:  Downloaded: {count_monthly_img[month_dir.name]}\")"
   ]
  },
  {
   "cell_type": "markdown",
   "metadata": {},
   "source": [
    "Make pickle file of the count of jpg files in each directory"
   ]
  },
  {
   "cell_type": "code",
   "execution_count": 59,
   "metadata": {},
   "outputs": [
    {
     "data": {
      "text/plain": [
       "PosixPath('/projects/frame_align/data/news-img-data')"
      ]
     },
     "execution_count": 59,
     "metadata": {},
     "output_type": "execute_result"
    }
   ],
   "source": [
    "sorted_month_dir_paths[0]\n",
    "# give me base path of this month\n",
    "sorted_month_dir_paths[0].parent"
   ]
  },
  {
   "cell_type": "code",
   "execution_count": 60,
   "metadata": {},
   "outputs": [
    {
     "name": "stderr",
     "output_type": "stream",
     "text": [
      "  0%|          | 0/12 [00:00<?, ?it/s]"
     ]
    },
    {
     "name": "stdout",
     "output_type": "stream",
     "text": [
      "len of duplicated uuids: 0\n",
      "pickle file already exists: /projects/frame_align/data/news-img-data/2023-05-01_2023-05-31_downloaded_uuids.pkl, deleting\n"
     ]
    },
    {
     "name": "stderr",
     "output_type": "stream",
     "text": [
      "  8%|▊         | 1/12 [00:00<00:05,  1.91it/s]"
     ]
    },
    {
     "name": "stdout",
     "output_type": "stream",
     "text": [
      "saved 2023-05-01_2023-05-31 uuids to /projects/frame_align/data/news-img-data/2023-05-01_2023-05-31_downloaded_uuids.pkl\n",
      "len of duplicated uuids: 0\n",
      "pickle file already exists: /projects/frame_align/data/news-img-data/2023-06-01_2023-06-30_downloaded_uuids.pkl, deleting\n"
     ]
    },
    {
     "name": "stderr",
     "output_type": "stream",
     "text": [
      " 17%|█▋        | 2/12 [00:01<00:07,  1.36it/s]"
     ]
    },
    {
     "name": "stdout",
     "output_type": "stream",
     "text": [
      "saved 2023-06-01_2023-06-30 uuids to /projects/frame_align/data/news-img-data/2023-06-01_2023-06-30_downloaded_uuids.pkl\n",
      "len of duplicated uuids: 0\n",
      "pickle file already exists: /projects/frame_align/data/news-img-data/2023-07-01_2023-07-31_downloaded_uuids.pkl, deleting\n"
     ]
    },
    {
     "name": "stderr",
     "output_type": "stream",
     "text": [
      " 25%|██▌       | 3/12 [00:02<00:07,  1.25it/s]"
     ]
    },
    {
     "name": "stdout",
     "output_type": "stream",
     "text": [
      "saved 2023-07-01_2023-07-31 uuids to /projects/frame_align/data/news-img-data/2023-07-01_2023-07-31_downloaded_uuids.pkl\n"
     ]
    },
    {
     "name": "stderr",
     "output_type": "stream",
     "text": [
      " 33%|███▎      | 4/12 [00:02<00:04,  1.63it/s]"
     ]
    },
    {
     "name": "stdout",
     "output_type": "stream",
     "text": [
      "len of duplicated uuids: 0\n",
      "pickle file already exists: /projects/frame_align/data/news-img-data/2023-08-01_2023-08-31_downloaded_uuids.pkl, deleting\n",
      "saved 2023-08-01_2023-08-31 uuids to /projects/frame_align/data/news-img-data/2023-08-01_2023-08-31_downloaded_uuids.pkl\n"
     ]
    },
    {
     "name": "stderr",
     "output_type": "stream",
     "text": [
      " 42%|████▏     | 5/12 [00:02<00:03,  2.01it/s]"
     ]
    },
    {
     "name": "stdout",
     "output_type": "stream",
     "text": [
      "len of duplicated uuids: 0\n",
      "pickle file already exists: /projects/frame_align/data/news-img-data/2023-09-01_2023-09-30_downloaded_uuids.pkl, deleting\n",
      "saved 2023-09-01_2023-09-30 uuids to /projects/frame_align/data/news-img-data/2023-09-01_2023-09-30_downloaded_uuids.pkl\n",
      "len of duplicated uuids: 0\n",
      "pickle file already exists: /projects/frame_align/data/news-img-data/2023-10-01_2023-10-31_downloaded_uuids.pkl, deleting\n",
      "saved 2023-10-01_2023-10-31 uuids to /projects/frame_align/data/news-img-data/2023-10-01_2023-10-31_downloaded_uuids.pkl\n"
     ]
    },
    {
     "name": "stderr",
     "output_type": "stream",
     "text": [
      " 67%|██████▋   | 8/12 [00:03<00:00,  4.65it/s]"
     ]
    },
    {
     "name": "stdout",
     "output_type": "stream",
     "text": [
      "len of duplicated uuids: 0\n",
      "pickle file already exists: /projects/frame_align/data/news-img-data/2023-11-01_2023-11-30_downloaded_uuids.pkl, deleting\n",
      "saved 2023-11-01_2023-11-30 uuids to /projects/frame_align/data/news-img-data/2023-11-01_2023-11-30_downloaded_uuids.pkl\n",
      "len of duplicated uuids: 0\n",
      "pickle file already exists: /projects/frame_align/data/news-img-data/2023-12-01_2023-12-31_downloaded_uuids.pkl, deleting\n",
      "saved 2023-12-01_2023-12-31 uuids to /projects/frame_align/data/news-img-data/2023-12-01_2023-12-31_downloaded_uuids.pkl\n",
      "len of duplicated uuids: 0\n",
      "pickle file already exists: /projects/frame_align/data/news-img-data/2024-01-01_2024-01-31_downloaded_uuids.pkl, deleting\n",
      "saved 2024-01-01_2024-01-31 uuids to /projects/frame_align/data/news-img-data/2024-01-01_2024-01-31_downloaded_uuids.pkl\n"
     ]
    },
    {
     "name": "stderr",
     "output_type": "stream",
     "text": [
      " 83%|████████▎ | 10/12 [00:03<00:00,  6.40it/s]"
     ]
    },
    {
     "name": "stdout",
     "output_type": "stream",
     "text": [
      "len of duplicated uuids: 0\n",
      "pickle file already exists: /projects/frame_align/data/news-img-data/2024-02-01_2024-02-29_downloaded_uuids.pkl, deleting\n",
      "saved 2024-02-01_2024-02-29 uuids to /projects/frame_align/data/news-img-data/2024-02-01_2024-02-29_downloaded_uuids.pkl\n",
      "len of duplicated uuids: 0\n",
      "pickle file already exists: /projects/frame_align/data/news-img-data/2024-03-01_2024-03-31_downloaded_uuids.pkl, deleting\n",
      "saved 2024-03-01_2024-03-31 uuids to /projects/frame_align/data/news-img-data/2024-03-01_2024-03-31_downloaded_uuids.pkl\n",
      "len of duplicated uuids: 0\n",
      "pickle file already exists: /projects/frame_align/data/news-img-data/2024-04-01_2024-04-30_downloaded_uuids.pkl, deleting\n",
      "saved 2024-04-01_2024-04-30 uuids to /projects/frame_align/data/news-img-data/2024-04-01_2024-04-30_downloaded_uuids.pkl\n"
     ]
    },
    {
     "name": "stderr",
     "output_type": "stream",
     "text": [
      "100%|██████████| 12/12 [00:03<00:00,  3.44it/s]\n"
     ]
    }
   ],
   "source": [
    "# make pickle file which is dict of month and uuids in sorted_month_dir_paths/correct_downloaded_imgs\n",
    "\n",
    "for idx, month_dir in enumerate(tqdm(sorted_month_dir_paths)):\n",
    "    dir_path = month_dir \n",
    "    uuids = [img_path.stem for img_path in dir_path.glob(\"*.jpg\")]\n",
    "    # print len of duplicated uuids\n",
    "    print(f\"len of duplicated uuids: {len(uuids) - len(set(uuids))}\")\n",
    "    month = month_dir.name\n",
    "    pickle_path = dir_path.parent / f\"{month}_downloaded_uuids.pkl\"\n",
    "    # delete if pickle file already exists\n",
    "    if pickle_path.exists():\n",
    "        print(f\"pickle file already exists: {pickle_path}, deleting\")\n",
    "        pickle_path.unlink()\n",
    "    with open(pickle_path, \"wb\") as f:\n",
    "        pickle.dump(uuids, f)\n",
    "        print(f\"saved {month} uuids to {pickle_path}\") "
   ]
  },
  {
   "cell_type": "markdown",
   "metadata": {},
   "source": [
    "[Used for Verification] Load pickle file and check the count of jpg files in each directory"
   ]
  },
  {
   "cell_type": "code",
   "execution_count": 61,
   "metadata": {},
   "outputs": [
    {
     "name": "stdout",
     "output_type": "stream",
     "text": [
      "2023-05-01_2023-05-31: 73717\n",
      "2023-06-01_2023-06-30: 94839\n",
      "2023-07-01_2023-07-31: 80096\n",
      "2023-08-01_2023-08-31: 81810\n",
      "2023-09-01_2023-09-30: 70022\n",
      "2023-10-01_2023-10-31: 24557\n",
      "2023-11-01_2023-11-30: 6\n",
      "2023-12-01_2023-12-31: 14555\n",
      "2024-01-01_2024-01-31: 13282\n",
      "2024-02-01_2024-02-29: 14744\n",
      "2024-03-01_2024-03-31: 18983\n",
      "2024-04-01_2024-04-30: 16735\n"
     ]
    }
   ],
   "source": [
    "# load and count all pickle files\n",
    "count_monthly_img = {}\n",
    "for idx, month_dir in enumerate(sorted_month_dir_paths):\n",
    "    pickle_path = month_dir.parent / f\"{month_dir.name}_downloaded_uuids.pkl\"\n",
    "    with open(pickle_path, \"rb\") as f:\n",
    "        img_names = pickle.load(f)\n",
    "        count_monthly_img[month_dir.name] = len(img_names)\n",
    "        print(f\"{month_dir.name}: {count_monthly_img[month_dir.name]}\")\n"
   ]
  },
  {
   "cell_type": "code",
   "execution_count": 29,
   "metadata": {},
   "outputs": [],
   "source": [
    "import os, pickle\n",
    "import pandas as pd\n",
    "\n",
    "data_csv_path = f\"/projects/frame_align/data/raw/2023-2024/\"\n",
    "data=\"new_data\"\n",
    "# dir_name =\"2023-10-01_2023-10-31\"\n",
    "\n",
    "if data==\"old_data\":\n",
    "    og_img_path = f\"/projects/frame_align/data/img_data/\"\n",
    "if data==\"new_data\":\n",
    "    og_img_path = f\"/projects/frame_align/data/news-img-data/\"\n",
    "\n",
    "print(f\"Image path: {og_img_path}\")\n",
    "\n",
    "\n",
    "\n",
    "if data==\"old_data\":\n",
    "    pkl_path = os.path.join(og_img_path, dir_name, f\"{dir_name}_downloaded_uuids.pkl\")\n",
    "if data==\"new_data\":\n",
    "    pkl_path = os.path.join(og_img_path, f\"{dir_name}_downloaded_uuids.pkl\")\n",
    "with open(pkl_path, \"rb\") as f:\n",
    "    downloaded_uuids = pickle.load(f)\n",
    "\n",
    "# print(f\"Downloaded UUIDs: {len(downloaded_uuids)}\")\n",
    "\n",
    "\n",
    "data_csv = os.path.join(data_csv_path, dir_name, \"datawithtopiclabels.csv\")\n",
    "df = pd.read_csv(data_csv)"
   ]
  },
  {
   "cell_type": "code",
   "execution_count": 13,
   "metadata": {},
   "outputs": [
    {
     "data": {
      "text/html": [
       "<div>\n",
       "<style scoped>\n",
       "    .dataframe tbody tr th:only-of-type {\n",
       "        vertical-align: middle;\n",
       "    }\n",
       "\n",
       "    .dataframe tbody tr th {\n",
       "        vertical-align: top;\n",
       "    }\n",
       "\n",
       "    .dataframe thead th {\n",
       "        text-align: right;\n",
       "    }\n",
       "</style>\n",
       "<table border=\"1\" class=\"dataframe\">\n",
       "  <thead>\n",
       "    <tr style=\"text-align: right;\">\n",
       "      <th></th>\n",
       "      <th>id</th>\n",
       "      <th>image_url</th>\n",
       "    </tr>\n",
       "  </thead>\n",
       "  <tbody>\n",
       "    <tr>\n",
       "      <th>62684</th>\n",
       "      <td>d1f9816a-74ac-429b-8b47-cd8c3084ae12</td>\n",
       "      <td>https://img.huffingtonpost.com/asset/6523f63f230000190038c5f1.jpg?cache=ITIXh4onJD&amp;ops=1200_630</td>\n",
       "    </tr>\n",
       "    <tr>\n",
       "      <th>62685</th>\n",
       "      <td>75a6dc6d-e1d0-45d8-80b8-e808a8a174f9</td>\n",
       "      <td>https://static.foxnews.com/foxnews.com/content/uploads/2021/11/Rashida-Tlaib-2.jpg</td>\n",
       "    </tr>\n",
       "    <tr>\n",
       "      <th>62686</th>\n",
       "      <td>72d69c7d-4c19-4cd7-9d50-24db87767701</td>\n",
       "      <td>https://static.foxnews.com/foxnews.com/content/uploads/2023/10/New-York-Times-Israel-covers.png</td>\n",
       "    </tr>\n",
       "    <tr>\n",
       "      <th>62687</th>\n",
       "      <td>e7f2f8b9-7f7a-40ab-b4a6-4c0c86649346</td>\n",
       "      <td>https://a57.foxnews.com/static.foxbusiness.com/foxbusiness.com/content/uploads/2022/04/0/0/Stuart-Varney-4-13-22.jpg?ve=1&amp;tl=1</td>\n",
       "    </tr>\n",
       "    <tr>\n",
       "      <th>62688</th>\n",
       "      <td>ba597498-42ac-497b-b7b8-31c4cb30e5ac</td>\n",
       "      <td>https://www.newsmax.com/CMSPages/GetFile.aspx?guid=dfcaf8f7-60da-4105-8fb6-db7e4b8d107f&amp;SiteName=Newsmax</td>\n",
       "    </tr>\n",
       "  </tbody>\n",
       "</table>\n",
       "</div>"
      ],
      "text/plain": [
       "                                         id  \\\n",
       "62684  d1f9816a-74ac-429b-8b47-cd8c3084ae12   \n",
       "62685  75a6dc6d-e1d0-45d8-80b8-e808a8a174f9   \n",
       "62686  72d69c7d-4c19-4cd7-9d50-24db87767701   \n",
       "62687  e7f2f8b9-7f7a-40ab-b4a6-4c0c86649346   \n",
       "62688  ba597498-42ac-497b-b7b8-31c4cb30e5ac   \n",
       "\n",
       "                                                                                                                            image_url  \n",
       "62684                                 https://img.huffingtonpost.com/asset/6523f63f230000190038c5f1.jpg?cache=ITIXh4onJD&ops=1200_630  \n",
       "62685                                              https://static.foxnews.com/foxnews.com/content/uploads/2021/11/Rashida-Tlaib-2.jpg  \n",
       "62686                                 https://static.foxnews.com/foxnews.com/content/uploads/2023/10/New-York-Times-Israel-covers.png  \n",
       "62687  https://a57.foxnews.com/static.foxbusiness.com/foxbusiness.com/content/uploads/2022/04/0/0/Stuart-Varney-4-13-22.jpg?ve=1&tl=1  \n",
       "62688                        https://www.newsmax.com/CMSPages/GetFile.aspx?guid=dfcaf8f7-60da-4105-8fb6-db7e4b8d107f&SiteName=Newsmax  "
      ]
     },
     "execution_count": 13,
     "metadata": {},
     "output_type": "execute_result"
    }
   ],
   "source": [
    "# expand columns\n",
    "pd.set_option('display.max_colwidth', None)\n",
    "newdf = data_df[[\"id\", \"image_url\"]]\n",
    "newdf.tail()"
   ]
  },
  {
   "cell_type": "code",
   "execution_count": null,
   "metadata": {},
   "outputs": [],
   "source": [
    "# delete directory:news-img-data\n",
    "import shutil\n",
    "shutil.rmtree(\"/projects/frame_align/data/news-img-data\")\n"
   ]
  },
  {
   "cell_type": "code",
   "execution_count": null,
   "metadata": {},
   "outputs": [],
   "source": [
    "raw_month_dir = Path(\"/projects/frame_align/data/raw/2023-2024\")\n",
    "img_dir = month_raw_dir / \"img_data/\""
   ]
  },
  {
   "cell_type": "code",
   "execution_count": 3,
   "metadata": {},
   "outputs": [],
   "source": [
    "file_sizes = {}\n",
    "for img_file in img_dir.glob(\"*.jpg\"):\n",
    "    file_sizes[img_file.name.split(\".\")[0]] = img_file.stat().st_size\n",
    "file_size_df = pd.DataFrame.from_dict(file_sizes, orient='index', columns=['file_size'])"
   ]
  },
  {
   "cell_type": "code",
   "execution_count": 4,
   "metadata": {},
   "outputs": [],
   "source": [
    "file_size_df = file_size_df[file_size_df['file_size'] <= file_size_df['file_size'].quantile(0.95)]\n",
    "file_size_df = file_size_df[file_size_df['file_size'] >= 5000]\n",
    "# file_size_df.sort_values('file_size', ascending=True).hist(bins=5)"
   ]
  },
  {
   "cell_type": "code",
   "execution_count": 5,
   "metadata": {},
   "outputs": [],
   "source": [
    "img_uuids = list(file_size_df.index)"
   ]
  },
  {
   "cell_type": "code",
   "execution_count": 6,
   "metadata": {},
   "outputs": [
    {
     "data": {
      "text/plain": [
       "36601"
      ]
     },
     "execution_count": 6,
     "metadata": {},
     "output_type": "execute_result"
    }
   ],
   "source": [
    "len(img_uuids)"
   ]
  },
  {
   "cell_type": "code",
   "execution_count": 7,
   "metadata": {},
   "outputs": [],
   "source": [
    "text_df = pd.read_csv(month_dir/\"datawithtopiclabels.csv\")"
   ]
  },
  {
   "cell_type": "code",
   "execution_count": 8,
   "metadata": {},
   "outputs": [
    {
     "data": {
      "text/plain": [
       "Index(['topic', 'auto_topic_label', 'id', 'authors', 'date_download',\n",
       "       'date_modify', 'date_publish', 'description', 'filename', 'image_url',\n",
       "       'language', 'localpath', 'maintext', 'source_domain', 'title',\n",
       "       'title_page', 'title_rss', 'url', 'month', 'topic_label'],\n",
       "      dtype='object')"
      ]
     },
     "execution_count": 8,
     "metadata": {},
     "output_type": "execute_result"
    }
   ],
   "source": [
    "text_df.columns"
   ]
  },
  {
   "cell_type": "code",
   "execution_count": 9,
   "metadata": {},
   "outputs": [],
   "source": [
    "text_df.dropna(subset=['maintext'], inplace=True)\n",
    "text_df['text_length'] = text_df['maintext'].apply(lambda x: len(x))"
   ]
  },
  {
   "cell_type": "code",
   "execution_count": 10,
   "metadata": {},
   "outputs": [],
   "source": [
    "lower_quantile = text_df['text_length'].quantile(0.05)\n",
    "upper_quantile = text_df['text_length'].quantile(0.95)\n",
    "\n",
    "text_df = text_df[text_df['text_length'] >= lower_quantile]\n",
    "text_df = text_df[text_df['text_length'] <= upper_quantile]"
   ]
  },
  {
   "cell_type": "code",
   "execution_count": 17,
   "metadata": {},
   "outputs": [],
   "source": [
    "filtered_text_df = []\n",
    "for topic_label, topic_df in text_df.groupby('topic_label'):\n",
    "    if len(topic_df) > 5000:\n",
    "        topic_df = topic_df.sample(5000)\n",
    "    filtered_text_df.append(topic_df)\n",
    "filtered_text_df = pd.concat(filtered_text_df)"
   ]
  },
  {
   "cell_type": "code",
   "execution_count": 19,
   "metadata": {},
   "outputs": [
    {
     "data": {
      "text/plain": [
       "17084"
      ]
     },
     "execution_count": 19,
     "metadata": {},
     "output_type": "execute_result"
    }
   ],
   "source": [
    "len(filtered_text_df)"
   ]
  },
  {
   "cell_type": "code",
   "execution_count": 20,
   "metadata": {},
   "outputs": [],
   "source": [
    "text_uuids = list(filtered_text_df.id)"
   ]
  },
  {
   "cell_type": "code",
   "execution_count": 21,
   "metadata": {},
   "outputs": [],
   "source": [
    "common_uuids = set(text_uuids).intersection(set(img_uuids))"
   ]
  },
  {
   "cell_type": "code",
   "execution_count": 22,
   "metadata": {},
   "outputs": [
    {
     "data": {
      "text/plain": [
       "16140"
      ]
     },
     "execution_count": 22,
     "metadata": {},
     "output_type": "execute_result"
    }
   ],
   "source": [
    "len(common_uuids)"
   ]
  },
  {
   "cell_type": "code",
   "execution_count": 23,
   "metadata": {},
   "outputs": [],
   "source": [
    "pickle.dump(common_uuids, open(month_dir/\"selected_uuids.pkl\", \"wb\"))"
   ]
  }
 ],
 "metadata": {
  "kernelspec": {
   "display_name": "frame-align",
   "language": "python",
   "name": "python3"
  },
  "language_info": {
   "codemirror_mode": {
    "name": "ipython",
    "version": 3
   },
   "file_extension": ".py",
   "mimetype": "text/x-python",
   "name": "python",
   "nbconvert_exporter": "python",
   "pygments_lexer": "ipython3",
   "version": "3.12.5"
  }
 },
 "nbformat": 4,
 "nbformat_minor": 2
}

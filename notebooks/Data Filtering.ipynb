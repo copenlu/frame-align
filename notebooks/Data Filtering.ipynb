{
 "cells": [
  {
   "cell_type": "code",
   "execution_count": 47,
   "metadata": {},
   "outputs": [],
   "source": [
    "import pandas as pd\n",
    "\n",
    "import pickle\n",
    "from pathlib import Path"
   ]
  },
  {
   "cell_type": "code",
   "execution_count": 40,
   "metadata": {},
   "outputs": [],
   "source": [
    "month_dir = Path(\"/projects/frame_align/data/raw/2023-11-01_2023-11-30/\")\n",
    "img_dir = month_dir / \"img_data/\""
   ]
  },
  {
   "cell_type": "code",
   "execution_count": 41,
   "metadata": {},
   "outputs": [],
   "source": [
    "file_sizes = {}\n",
    "for img_file in img_dir.glob(\"*.jpg\"):\n",
    "    file_sizes[img_file.name.split(\".\")[0]] = img_file.stat().st_size\n",
    "file_size_df = pd.DataFrame.from_dict(file_sizes, orient='index', columns=['file_size'])"
   ]
  },
  {
   "cell_type": "code",
   "execution_count": 42,
   "metadata": {},
   "outputs": [],
   "source": [
    "file_size_df = file_size_df[file_size_df['file_size'] <= file_size_df['file_size'].quantile(0.95)]\n",
    "file_size_df = file_size_df[file_size_df['file_size'] >= 5000]\n",
    "# file_size_df.sort_values('file_size', ascending=True).hist(bins=5)"
   ]
  },
  {
   "cell_type": "code",
   "execution_count": 43,
   "metadata": {},
   "outputs": [],
   "source": [
    "img_uuids = list(file_size_df.index)"
   ]
  },
  {
   "cell_type": "code",
   "execution_count": 44,
   "metadata": {},
   "outputs": [
    {
     "data": {
      "text/plain": [
       "36601"
      ]
     },
     "execution_count": 44,
     "metadata": {},
     "output_type": "execute_result"
    }
   ],
   "source": [
    "len(img_uuids)"
   ]
  },
  {
   "cell_type": "code",
   "execution_count": 19,
   "metadata": {},
   "outputs": [],
   "source": [
    "text_df = pd.read_csv(month_dir/\"datawithtopiclabels.csv\")"
   ]
  },
  {
   "cell_type": "code",
   "execution_count": 22,
   "metadata": {},
   "outputs": [
    {
     "data": {
      "text/plain": [
       "Index(['topic', 'auto_topic_label', 'id', 'authors', 'date_download',\n",
       "       'date_modify', 'date_publish', 'description', 'filename', 'image_url',\n",
       "       'language', 'localpath', 'maintext', 'source_domain', 'title',\n",
       "       'title_page', 'title_rss', 'url', 'month', 'topic_label'],\n",
       "      dtype='object')"
      ]
     },
     "execution_count": 22,
     "metadata": {},
     "output_type": "execute_result"
    }
   ],
   "source": [
    "text_df.columns"
   ]
  },
  {
   "cell_type": "code",
   "execution_count": 23,
   "metadata": {},
   "outputs": [],
   "source": [
    "text_df.dropna(subset=['maintext'], inplace=True)\n",
    "text_df['text_length'] = text_df['maintext'].apply(lambda x: len(x))"
   ]
  },
  {
   "cell_type": "code",
   "execution_count": 26,
   "metadata": {},
   "outputs": [
    {
     "data": {
      "text/plain": [
       "18480       67\n",
       "16735       67\n",
       "35120       67\n",
       "32386       67\n",
       "4245        67\n",
       "         ...  \n",
       "37007    53585\n",
       "6989     55268\n",
       "15361    57167\n",
       "15502    58177\n",
       "15147    59737\n",
       "Name: text_length, Length: 38775, dtype: int64"
      ]
     },
     "execution_count": 26,
     "metadata": {},
     "output_type": "execute_result"
    }
   ],
   "source": [
    "text_df['text_length'].sort_values(ascending=True)"
   ]
  },
  {
   "cell_type": "code",
   "execution_count": 31,
   "metadata": {},
   "outputs": [
    {
     "data": {
      "text/plain": [
       "155.0"
      ]
     },
     "execution_count": 31,
     "metadata": {},
     "output_type": "execute_result"
    }
   ],
   "source": [
    "text_df.text_length.quantile(0.05)"
   ]
  },
  {
   "cell_type": "code",
   "execution_count": 32,
   "metadata": {},
   "outputs": [],
   "source": [
    "lower_quantile = text_df['text_length'].quantile(0.05)\n",
    "upper_quantile = text_df['text_length'].quantile(0.95)\n",
    "\n",
    "text_df = text_df[text_df['text_length'] >= lower_quantile]\n",
    "text_df = text_df[text_df['text_length'] <= upper_quantile]"
   ]
  },
  {
   "cell_type": "code",
   "execution_count": 36,
   "metadata": {},
   "outputs": [],
   "source": [
    "text_uuids = list(text_df.id)"
   ]
  },
  {
   "cell_type": "code",
   "execution_count": 45,
   "metadata": {},
   "outputs": [],
   "source": [
    "common_uuids = set(text_uuids).intersection(set(img_uuids))"
   ]
  },
  {
   "cell_type": "code",
   "execution_count": 46,
   "metadata": {},
   "outputs": [
    {
     "data": {
      "text/plain": [
       "32964"
      ]
     },
     "execution_count": 46,
     "metadata": {},
     "output_type": "execute_result"
    }
   ],
   "source": [
    "len(common_uuids)"
   ]
  },
  {
   "cell_type": "code",
   "execution_count": 49,
   "metadata": {},
   "outputs": [],
   "source": [
    "pickle.dump(common_uuids, open(month_dir/\"selected_uuids.pkl\", \"wb\"))"
   ]
  },
  {
   "cell_type": "code",
   "execution_count": null,
   "metadata": {},
   "outputs": [],
   "source": []
  }
 ],
 "metadata": {
  "kernelspec": {
   "display_name": "frame-align",
   "language": "python",
   "name": "python3"
  },
  "language_info": {
   "codemirror_mode": {
    "name": "ipython",
    "version": 3
   },
   "file_extension": ".py",
   "mimetype": "text/x-python",
   "name": "python",
   "nbconvert_exporter": "python",
   "pygments_lexer": "ipython3",
   "version": "3.12.1"
  }
 },
 "nbformat": 4,
 "nbformat_minor": 2
}

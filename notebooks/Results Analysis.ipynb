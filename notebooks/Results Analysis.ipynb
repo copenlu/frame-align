{
 "cells": [
  {
   "cell_type": "code",
   "execution_count": 3,
   "metadata": {},
   "outputs": [],
   "source": [
    "import re\n",
    "import json\n",
    "import numpy as np\n",
    "import pandas as pd\n",
    "import matplotlib.pyplot as plt"
   ]
  },
  {
   "cell_type": "code",
   "execution_count": null,
   "metadata": {},
   "outputs": [],
   "source": [
    "from sklearn.metrics import accuracy_score, f1_score, confusion_matrix, ConfusionMatrixDisplay"
   ]
  },
  {
   "cell_type": "code",
   "execution_count": null,
   "metadata": {},
   "outputs": [],
   "source": [
    "pd.set_option('display.max_columns', None)\n",
    "pd.set_option('display.expand_frame_repr', False)\n",
    "pd.set_option('max_colwidth', None)"
   ]
  },
  {
   "cell_type": "code",
   "execution_count": null,
   "metadata": {},
   "outputs": [],
   "source": [
    "out_df = pd.read_json(f\"../data/annotated/mfc_annotated_Mistral.json\", lines=True)\n",
    "len(out_df)\n",
    "frame_map = json.load(open(\"../data/raw/mfc_v4.0/codes.json\",'r'))"
   ]
  },
  {
   "cell_type": "code",
   "execution_count": null,
   "metadata": {},
   "outputs": [],
   "source": [
    "clean_preds = []\n",
    "for ind, pred in enumerate(out_df['predictions']):\n",
    "    pred = pred.replace(\"\\n\",\"\")\n",
    "    reasoning_begins = [m.start()-1 for m in re.finditer('\"reasoning\"', pred)]\n",
    "    reasoning_ends = [pred[loc:].find(\"}\") for loc in reasoning_begins]\n",
    "    frame_annos = []\n",
    "    prev = 0\n",
    "    try:\n",
    "        for i, (b,e) in enumerate(zip(reasoning_begins, reasoning_ends)):\n",
    "            if i == 0:\n",
    "                try:\n",
    "                    frame_json = json.loads(pred[1:b-1]+\"}\")\n",
    "                    frame_json['reasoning'] = pred[b+15:b+e-1]\n",
    "                    frame_annos.append(frame_json)\n",
    "                except:\n",
    "                    continue\n",
    "            else:\n",
    "                try:\n",
    "                    frame_json = json.loads(\"{\" + pred[prev+1:b-1] + \"}\")\n",
    "                    frame_json['reasoning'] = pred[b+15:b+e-1]\n",
    "                    frame_annos.append(frame_json)\n",
    "                except:\n",
    "                    continue\n",
    "            if i < len(reasoning_begins)-1:\n",
    "                gap = pred[b+e:].index(\"{\")\n",
    "                prev = b+e+gap\n",
    "    except:\n",
    "        pass\n",
    "    clean_preds.append(frame_annos)"
   ]
  },
  {
   "cell_type": "code",
   "execution_count": null,
   "metadata": {},
   "outputs": [],
   "source": [
    "out_df['clean_preds'] = clean_preds\n",
    "out_df['pred_frames'] = out_df['clean_preds'].apply(lambda x: [frame_map[str(frame_json['frame_id'])+'.0'] if str(frame_json['frame_id'])+'.0' in frame_map.keys() else None for frame_json in x ])\n",
    "good, bad = 0, 0\n",
    "rank = []\n",
    "correct = []\n",
    "for ind, row in out_df[['pred_frames','label']].iterrows():\n",
    "    if row['label'].strip() in row['pred_frames']:\n",
    "        good += 1\n",
    "        rank.append(row['pred_frames'].index(row['label'].strip()))\n",
    "        correct.append(True)\n",
    "    else:\n",
    "        bad += 1\n",
    "        correct.append(False)"
   ]
  },
  {
   "cell_type": "code",
   "execution_count": null,
   "metadata": {},
   "outputs": [],
   "source": [
    "out_df['correct'] = correct\n",
    "out_df[out_df['correct'] == 0].sample(100)[['text', 'label', 'pred_frames']]"
   ]
  },
  {
   "cell_type": "code",
   "execution_count": null,
   "metadata": {},
   "outputs": [],
   "source": [
    "np.array(rank).mean()"
   ]
  },
  {
   "cell_type": "code",
   "execution_count": null,
   "metadata": {},
   "outputs": [],
   "source": [
    "print(accuracy_score(labels, frame_names), f1_score(labels, frame_names, average='macro'))\n",
    "cm = confusion_matrix(labels, frame_names)\n",
    "cmd = ConfusionMatrixDisplay(cm, display_labels=list(out_df.label.unique()))\n",
    "cmd.plot()\n",
    "plt.show()"
   ]
  }
 ],
 "metadata": {
  "kernelspec": {
   "display_name": "frame-align",
   "language": "python",
   "name": "python3"
  },
  "language_info": {
   "codemirror_mode": {
    "name": "ipython",
    "version": 3
   },
   "file_extension": ".py",
   "mimetype": "text/x-python",
   "name": "python",
   "nbconvert_exporter": "python",
   "pygments_lexer": "ipython3",
   "version": "3.12.1"
  }
 },
 "nbformat": 4,
 "nbformat_minor": 2
}

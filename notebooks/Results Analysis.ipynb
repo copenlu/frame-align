{
 "cells": [
  {
   "cell_type": "code",
   "execution_count": 58,
   "metadata": {},
   "outputs": [],
   "source": [
    "import re\n",
    "import ast\n",
    "import json\n",
    "import numpy as np\n",
    "import pandas as pd\n",
    "import matplotlib.pyplot as plt"
   ]
  },
  {
   "cell_type": "code",
   "execution_count": 30,
   "metadata": {},
   "outputs": [],
   "source": [
    "from sklearn.metrics import accuracy_score, f1_score, confusion_matrix, ConfusionMatrixDisplay"
   ]
  },
  {
   "cell_type": "code",
   "execution_count": 31,
   "metadata": {},
   "outputs": [],
   "source": [
    "pd.set_option('display.max_columns', None)\n",
    "pd.set_option('display.expand_frame_repr', False)\n",
    "pd.set_option('max_colwidth', None)"
   ]
  },
  {
   "cell_type": "code",
   "execution_count": 32,
   "metadata": {},
   "outputs": [],
   "source": [
    "out_df = pd.read_json(f\"../data/annotated/mfc_annotated_Mistral.json\", lines=True)\n",
    "len(out_df)\n",
    "frame_map = json.load(open(\"../data/raw/mfc_v4.0/codes.json\",'r'))"
   ]
  },
  {
   "cell_type": "code",
   "execution_count": 41,
   "metadata": {},
   "outputs": [],
   "source": [
    "multiple_labels_df = pd.read_csv(\"../data/processed/mfc_multi_label.csv\")\n",
    "multiple_labels_df = multiple_labels_df.dropna()"
   ]
  },
  {
   "cell_type": "code",
   "execution_count": 34,
   "metadata": {},
   "outputs": [],
   "source": [
    "clean_preds = []\n",
    "for ind, pred in enumerate(out_df['predictions']):\n",
    "    pred = pred.replace(\"\\n\",\"\")\n",
    "    reasoning_begins = [m.start()-1 for m in re.finditer('\"reasoning\"', pred)]\n",
    "    reasoning_ends = [pred[loc:].find(\"}\") for loc in reasoning_begins]\n",
    "    frame_annos = []\n",
    "    prev = 0\n",
    "    try:\n",
    "        for i, (b,e) in enumerate(zip(reasoning_begins, reasoning_ends)):\n",
    "            if i == 0:\n",
    "                try:\n",
    "                    frame_json = json.loads(pred[1:b-1]+\"}\")\n",
    "                    frame_json['reasoning'] = pred[b+15:b+e-1]\n",
    "                    frame_annos.append(frame_json)\n",
    "                except:\n",
    "                    continue\n",
    "            else:\n",
    "                try:\n",
    "                    frame_json = json.loads(\"{\" + pred[prev+1:b-1] + \"}\")\n",
    "                    frame_json['reasoning'] = pred[b+15:b+e-1]\n",
    "                    frame_annos.append(frame_json)\n",
    "                except:\n",
    "                    continue\n",
    "            if i < len(reasoning_begins)-1:\n",
    "                gap = pred[b+e:].index(\"{\")\n",
    "                prev = b+e+gap\n",
    "    except:\n",
    "        pass\n",
    "    clean_preds.append(frame_annos)"
   ]
  },
  {
   "cell_type": "code",
   "execution_count": 35,
   "metadata": {},
   "outputs": [],
   "source": [
    "out_df['clean_preds'] = clean_preds\n",
    "out_df['pred_frames'] = out_df['clean_preds'].apply(lambda x: [frame_map[str(frame_json['frame_id'])+'.0'] if str(frame_json['frame_id'])+'.0' in frame_map.keys() else None for frame_json in x ])"
   ]
  },
  {
   "cell_type": "code",
   "execution_count": 40,
   "metadata": {},
   "outputs": [
    {
     "name": "stdout",
     "output_type": "stream",
     "text": [
      "31210 31210\n"
     ]
    }
   ],
   "source": [
    "print(len(multiple_labels_df.dropna()), len(out_df))"
   ]
  },
  {
   "cell_type": "code",
   "execution_count": 59,
   "metadata": {},
   "outputs": [],
   "source": [
    "out_df['multiple_labels'] = [ast.literal_eval(x) for x in multiple_labels_df['multiple_labels_names'].values]"
   ]
  },
  {
   "cell_type": "code",
   "execution_count": 56,
   "metadata": {},
   "outputs": [],
   "source": [
    "from pdb import set_trace"
   ]
  },
  {
   "cell_type": "code",
   "execution_count": 61,
   "metadata": {},
   "outputs": [],
   "source": [
    "correct = []\n",
    "for ind, row in out_df[['pred_frames','multiple_labels']].iterrows():\n",
    "    flag = 0\n",
    "    for label in row['pred_frames']:\n",
    "        if label in row['multiple_labels']:\n",
    "            flag = 1\n",
    "    if flag:\n",
    "        correct.append(True)\n",
    "    else:\n",
    "        correct.append(False)"
   ]
  },
  {
   "cell_type": "code",
   "execution_count": 63,
   "metadata": {},
   "outputs": [
    {
     "data": {
      "text/plain": [
       "(array([False,  True]), array([ 7045, 24165]))"
      ]
     },
     "execution_count": 63,
     "metadata": {},
     "output_type": "execute_result"
    }
   ],
   "source": [
    "correct = np.array(correct)\n",
    "np.unique(correct, return_counts=True)"
   ]
  },
  {
   "cell_type": "code",
   "execution_count": 64,
   "metadata": {},
   "outputs": [
    {
     "data": {
      "text/plain": [
       "0.7742710669657161"
      ]
     },
     "execution_count": 64,
     "metadata": {},
     "output_type": "execute_result"
    }
   ],
   "source": [
    "# Multiple prediction, multi-label accuracy\n",
    "sum(correct == True)/len(out_df)"
   ]
  },
  {
   "cell_type": "code",
   "execution_count": null,
   "metadata": {},
   "outputs": [],
   "source": [
    "out_df['correct'] = correct\n",
    "out_df[out_df['correct'] == 0].sample(100)[['text', 'label', 'pred_frames']]"
   ]
  }
 ],
 "metadata": {
  "kernelspec": {
   "display_name": "frame-align",
   "language": "python",
   "name": "python3"
  },
  "language_info": {
   "codemirror_mode": {
    "name": "ipython",
    "version": 3
   },
   "file_extension": ".py",
   "mimetype": "text/x-python",
   "name": "python",
   "nbconvert_exporter": "python",
   "pygments_lexer": "ipython3",
   "version": "3.12.1"
  }
 },
 "nbformat": 4,
 "nbformat_minor": 2
}

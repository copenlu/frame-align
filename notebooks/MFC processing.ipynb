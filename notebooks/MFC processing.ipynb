{
 "cells": [
  {
   "cell_type": "code",
   "execution_count": 1,
   "metadata": {},
   "outputs": [],
   "source": [
    "import os\n",
    "import json\n",
    "import glob\n",
    "import random\n",
    "\n",
    "import pandas as pd\n",
    "\n",
    "from collections import Counter"
   ]
  },
  {
   "cell_type": "code",
   "execution_count": 2,
   "metadata": {},
   "outputs": [],
   "source": [
    "random.seed(42)"
   ]
  },
  {
   "cell_type": "code",
   "execution_count": 3,
   "metadata": {},
   "outputs": [],
   "source": [
    "frame_map = json.load(open(\"../data/raw/mfc_v4.0/codes.json\", \"r\"))"
   ]
  },
  {
   "cell_type": "code",
   "execution_count": 68,
   "metadata": {},
   "outputs": [],
   "source": [
    "topics = ['climate','deathpenalty','guncontrol','immigration','tobacco','samesex']"
   ]
  },
  {
   "cell_type": "code",
   "execution_count": 69,
   "metadata": {},
   "outputs": [],
   "source": [
    "all_topics = []\n",
    "for topic in topics:\n",
    "    df = pd.read_json(f\"../data/raw/mfc_v4.0/{topic}/{topic}_labeled.json\").T\n",
    "    df['topic'] = [topic]*len(df)\n",
    "    all_topics.append(df)\n",
    "all_topics_df = pd.concat(all_topics, axis=0)"
   ]
  },
  {
   "cell_type": "code",
   "execution_count": 70,
   "metadata": {},
   "outputs": [
    {
     "data": {
      "text/plain": [
       "44550"
      ]
     },
     "execution_count": 70,
     "metadata": {},
     "output_type": "execute_result"
    }
   ],
   "source": [
    "len(all_topics_df)"
   ]
  },
  {
   "cell_type": "code",
   "execution_count": 71,
   "metadata": {},
   "outputs": [],
   "source": [
    "all_topics_df['id'] = [i.split(\"-\")[-1] for i in all_topics_df.index.values]"
   ]
  },
  {
   "cell_type": "code",
   "execution_count": 72,
   "metadata": {},
   "outputs": [],
   "source": [
    "labels = []\n",
    "for index, row in all_topics_df.iterrows():\n",
    "    frame_annos = []\n",
    "    for annotations in row['annotations']['framing'].values():\n",
    "        frame_annos.extend([str(anno['code']-(anno['code']%1)) for anno in annotations])\n",
    "    freq_counter = Counter(frame_annos)\n",
    "    post_labels = [i for i,v in freq_counter.most_common(3)]\n",
    "    labels.append(post_labels)"
   ]
  },
  {
   "cell_type": "code",
   "execution_count": 73,
   "metadata": {},
   "outputs": [],
   "source": [
    "all_topics_df['multiple_labels'] = labels"
   ]
  },
  {
   "cell_type": "code",
   "execution_count": 74,
   "metadata": {},
   "outputs": [
    {
     "data": {
      "text/plain": [
       "<Axes: ylabel='Frequency'>"
      ]
     },
     "execution_count": 74,
     "metadata": {},
     "output_type": "execute_result"
    },
    {
     "data": {
      "image/png": "[encoded data removed]",
      "text/plain": [
       "<Figure size 640x480 with 1 Axes>"
      ]
     },
     "metadata": {},
     "output_type": "display_data"
    }
   ],
   "source": [
    "all_topics_df['multiple_labels'].apply(len).plot(kind='hist')"
   ]
  },
  {
   "cell_type": "code",
   "execution_count": 75,
   "metadata": {},
   "outputs": [],
   "source": [
    "all_topics_df['primary_frame_resolved'] = [str(i)[:-2]+\".0\" if i is not None else None for i in all_topics_df['primary_frame'].values]"
   ]
  },
  {
   "cell_type": "code",
   "execution_count": 76,
   "metadata": {},
   "outputs": [],
   "source": [
    "coverage = []\n",
    "for i, row in all_topics_df.iterrows():\n",
    "    if row['primary_frame_resolved']:\n",
    "        if row['primary_frame_resolved'] in row['multiple_labels']:\n",
    "            # Primary frame in multiple labels\n",
    "            coverage.append(1)\n",
    "        else:\n",
    "            # Primary frame not in multiple labels\n",
    "            coverage.append(0)\n",
    "    else:\n",
    "        # No primary frame\n",
    "        coverage.append(-1)"
   ]
  },
  {
   "cell_type": "code",
   "execution_count": 77,
   "metadata": {},
   "outputs": [
    {
     "data": {
      "text/plain": [
       "144"
      ]
     },
     "execution_count": 77,
     "metadata": {},
     "output_type": "execute_result"
    }
   ],
   "source": [
    "# Num examples with primary frame not in majority labels\n",
    "sum([i == 0 for i in coverage])"
   ]
  },
  {
   "cell_type": "code",
   "execution_count": 78,
   "metadata": {},
   "outputs": [],
   "source": [
    "all_topics_df['clean_text'] = all_topics_df['text'].apply(lambda x: ' '.join(x.split(\"\\n\")[3:]))"
   ]
  },
  {
   "cell_type": "code",
   "execution_count": 79,
   "metadata": {},
   "outputs": [],
   "source": [
    "all_topics_df['multiple_labels_names'] = all_topics_df['multiple_labels'].apply(lambda x: [frame_map[frame_code] for frame_code in x])"
   ]
  },
  {
   "cell_type": "code",
   "execution_count": 80,
   "metadata": {},
   "outputs": [
    {
     "data": {
      "text/plain": [
       "44550"
      ]
     },
     "execution_count": 80,
     "metadata": {},
     "output_type": "execute_result"
    }
   ],
   "source": [
    "len(all_topics_df)"
   ]
  },
  {
   "cell_type": "code",
   "execution_count": 81,
   "metadata": {},
   "outputs": [],
   "source": [
    "all_topics_df_short = all_topics_df.dropna(subset=['primary_frame'])"
   ]
  },
  {
   "cell_type": "code",
   "execution_count": 82,
   "metadata": {},
   "outputs": [
    {
     "data": {
      "text/plain": [
       "31210"
      ]
     },
     "execution_count": 82,
     "metadata": {},
     "output_type": "execute_result"
    }
   ],
   "source": [
    "len(all_topics_df_short)"
   ]
  },
  {
   "cell_type": "code",
   "execution_count": 83,
   "metadata": {},
   "outputs": [],
   "source": [
    "all_topics_df[['topic','clean_text','primary_frame_resolved','multiple_labels_names']].to_csv(\"../data/processed/mfc_multi_label.csv\")"
   ]
  },
  {
   "cell_type": "markdown",
   "metadata": {},
   "source": [
    "Misc comparison"
   ]
  },
  {
   "cell_type": "code",
   "execution_count": 84,
   "metadata": {},
   "outputs": [],
   "source": [
    "temp_df = pd.read_csv(\"../data/processed/mfc_consolidated.csv\")"
   ]
  },
  {
   "cell_type": "code",
   "execution_count": 85,
   "metadata": {},
   "outputs": [
    {
     "name": "stdout",
     "output_type": "stream",
     "text": [
      "31210 44550 31210\n"
     ]
    }
   ],
   "source": [
    "print(len(temp_df), len(all_topics_df), len(all_topics_df_short))"
   ]
  },
  {
   "cell_type": "code",
   "execution_count": 86,
   "metadata": {},
   "outputs": [],
   "source": [
    "all_topics_df = all_topics_df.set_index('clean_text')"
   ]
  },
  {
   "cell_type": "code",
   "execution_count": 87,
   "metadata": {},
   "outputs": [],
   "source": [
    "mult_labels = []\n",
    "for i in temp_df.clean_text:\n",
    "    try:\n",
    "        mult_labels.append(all_topics_df.loc[i]['multiple_labels'])\n",
    "    except:\n",
    "        mult_labels.append(None)"
   ]
  },
  {
   "cell_type": "code",
   "execution_count": 88,
   "metadata": {},
   "outputs": [],
   "source": [
    "temp_df['multiple_labels'] = mult_labels"
   ]
  },
  {
   "cell_type": "code",
   "execution_count": 89,
   "metadata": {},
   "outputs": [
    {
     "data": {
      "text/html": [
       "<div>\n",
       "<style scoped>\n",
       "    .dataframe tbody tr th:only-of-type {\n",
       "        vertical-align: middle;\n",
       "    }\n",
       "\n",
       "    .dataframe tbody tr th {\n",
       "        vertical-align: top;\n",
       "    }\n",
       "\n",
       "    .dataframe thead th {\n",
       "        text-align: right;\n",
       "    }\n",
       "</style>\n",
       "<table border=\"1\" class=\"dataframe\">\n",
       "  <thead>\n",
       "    <tr style=\"text-align: right;\">\n",
       "      <th></th>\n",
       "      <th>clean_text</th>\n",
       "      <th>topic</th>\n",
       "      <th>multiple_labels</th>\n",
       "    </tr>\n",
       "  </thead>\n",
       "  <tbody>\n",
       "    <tr>\n",
       "      <th>climate_change1.0-1</th>\n",
       "      <td>Too much hot air  The White House moved boldl...</td>\n",
       "      <td>climate</td>\n",
       "      <td>[6.0, 13.0, 1.0]</td>\n",
       "    </tr>\n",
       "    <tr>\n",
       "      <th>climate_change1.0-1000</th>\n",
       "      <td>Education Digest  PATTONVILLE SCHOOLS &gt; Textb...</td>\n",
       "      <td>climate</td>\n",
       "      <td>[1.0, 13.0, 2.0]</td>\n",
       "    </tr>\n",
       "    <tr>\n",
       "      <th>climate_change1.0-10005</th>\n",
       "      <td>The Standoff Between Big Oil and Big Corn  A ...</td>\n",
       "      <td>climate</td>\n",
       "      <td>[1.0, 6.0, 13.0]</td>\n",
       "    </tr>\n",
       "    <tr>\n",
       "      <th>climate_change1.0-10007</th>\n",
       "      <td>New Study: Burn it All (Fossil Fuel), Lose it...</td>\n",
       "      <td>climate</td>\n",
       "      <td>[2.0, 14.0]</td>\n",
       "    </tr>\n",
       "    <tr>\n",
       "      <th>climate_change1.0-1001</th>\n",
       "      <td>EPA carbon proposals draw bipartisan Midweste...</td>\n",
       "      <td>climate</td>\n",
       "      <td>[13.0, 6.0, 2.0]</td>\n",
       "    </tr>\n",
       "    <tr>\n",
       "      <th>...</th>\n",
       "      <td>...</td>\n",
       "      <td>...</td>\n",
       "      <td>...</td>\n",
       "    </tr>\n",
       "    <tr>\n",
       "      <th>same-sex_marriage1.0-9987</th>\n",
       "      <td>CLINTON SIGNS SAME-SEX MEASURE&lt; THE BILL BARS...</td>\n",
       "      <td>samesex</td>\n",
       "      <td>[13.0, 6.0, 4.0]</td>\n",
       "    </tr>\n",
       "    <tr>\n",
       "      <th>same-sex_marriage1.0-9989</th>\n",
       "      <td>President Quietly Signs Law Aimed at Gay Marr...</td>\n",
       "      <td>samesex</td>\n",
       "      <td>[13.0, 6.0, 12.0]</td>\n",
       "    </tr>\n",
       "    <tr>\n",
       "      <th>same-sex_marriage1.0-9990</th>\n",
       "      <td>CLINTON TO SIGN SAME-SEX MARRIAGE BILL  Presi...</td>\n",
       "      <td>samesex</td>\n",
       "      <td>[13.0, 5.0, 6.0]</td>\n",
       "    </tr>\n",
       "    <tr>\n",
       "      <th>same-sex_marriage1.0-9992</th>\n",
       "      <td>Protest Planned for U-Md. Event; Domestic Par...</td>\n",
       "      <td>samesex</td>\n",
       "      <td>[12.0, 4.0, 10.0]</td>\n",
       "    </tr>\n",
       "    <tr>\n",
       "      <th>same-sex_marriage1.0-9995</th>\n",
       "      <td>SAME-SEX PAIRS DEALT A SETBACK ON REGISTRY LA...</td>\n",
       "      <td>samesex</td>\n",
       "      <td>[12.0, 6.0, 5.0]</td>\n",
       "    </tr>\n",
       "  </tbody>\n",
       "</table>\n",
       "<p>31210 rows × 3 columns</p>\n",
       "</div>"
      ],
      "text/plain": [
       "                                                                  clean_text  \\\n",
       "climate_change1.0-1         Too much hot air  The White House moved boldl...   \n",
       "climate_change1.0-1000      Education Digest  PATTONVILLE SCHOOLS > Textb...   \n",
       "climate_change1.0-10005     The Standoff Between Big Oil and Big Corn  A ...   \n",
       "climate_change1.0-10007     New Study: Burn it All (Fossil Fuel), Lose it...   \n",
       "climate_change1.0-1001      EPA carbon proposals draw bipartisan Midweste...   \n",
       "...                                                                      ...   \n",
       "same-sex_marriage1.0-9987   CLINTON SIGNS SAME-SEX MEASURE< THE BILL BARS...   \n",
       "same-sex_marriage1.0-9989   President Quietly Signs Law Aimed at Gay Marr...   \n",
       "same-sex_marriage1.0-9990   CLINTON TO SIGN SAME-SEX MARRIAGE BILL  Presi...   \n",
       "same-sex_marriage1.0-9992   Protest Planned for U-Md. Event; Domestic Par...   \n",
       "same-sex_marriage1.0-9995   SAME-SEX PAIRS DEALT A SETBACK ON REGISTRY LA...   \n",
       "\n",
       "                             topic    multiple_labels  \n",
       "climate_change1.0-1        climate   [6.0, 13.0, 1.0]  \n",
       "climate_change1.0-1000     climate   [1.0, 13.0, 2.0]  \n",
       "climate_change1.0-10005    climate   [1.0, 6.0, 13.0]  \n",
       "climate_change1.0-10007    climate        [2.0, 14.0]  \n",
       "climate_change1.0-1001     climate   [13.0, 6.0, 2.0]  \n",
       "...                            ...                ...  \n",
       "same-sex_marriage1.0-9987  samesex   [13.0, 6.0, 4.0]  \n",
       "same-sex_marriage1.0-9989  samesex  [13.0, 6.0, 12.0]  \n",
       "same-sex_marriage1.0-9990  samesex   [13.0, 5.0, 6.0]  \n",
       "same-sex_marriage1.0-9992  samesex  [12.0, 4.0, 10.0]  \n",
       "same-sex_marriage1.0-9995  samesex   [12.0, 6.0, 5.0]  \n",
       "\n",
       "[31210 rows x 3 columns]"
      ]
     },
     "execution_count": 89,
     "metadata": {},
     "output_type": "execute_result"
    }
   ],
   "source": [
    "all_topics_df_short[['clean_text','topic','multiple_labels']]"
   ]
  },
  {
   "cell_type": "code",
   "execution_count": 90,
   "metadata": {},
   "outputs": [
    {
     "data": {
      "text/html": [
       "<div>\n",
       "<style scoped>\n",
       "    .dataframe tbody tr th:only-of-type {\n",
       "        vertical-align: middle;\n",
       "    }\n",
       "\n",
       "    .dataframe tbody tr th {\n",
       "        vertical-align: top;\n",
       "    }\n",
       "\n",
       "    .dataframe thead th {\n",
       "        text-align: right;\n",
       "    }\n",
       "</style>\n",
       "<table border=\"1\" class=\"dataframe\">\n",
       "  <thead>\n",
       "    <tr style=\"text-align: right;\">\n",
       "      <th></th>\n",
       "      <th>clean_text</th>\n",
       "      <th>label</th>\n",
       "      <th>topic</th>\n",
       "      <th>multiple_labels</th>\n",
       "    </tr>\n",
       "  </thead>\n",
       "  <tbody>\n",
       "    <tr>\n",
       "      <th>0</th>\n",
       "      <td>Too much hot air  The White House moved boldl...</td>\n",
       "      <td>Policy Presecription and Evaluation</td>\n",
       "      <td>climate</td>\n",
       "      <td>[6.0, 13.0, 1.0]</td>\n",
       "    </tr>\n",
       "    <tr>\n",
       "      <th>1</th>\n",
       "      <td>Education Digest  PATTONVILLE SCHOOLS &gt; Textb...</td>\n",
       "      <td>Economic</td>\n",
       "      <td>climate</td>\n",
       "      <td>[1.0, 13.0, 2.0]</td>\n",
       "    </tr>\n",
       "    <tr>\n",
       "      <th>2</th>\n",
       "      <td>The Standoff Between Big Oil and Big Corn  A ...</td>\n",
       "      <td>Economic</td>\n",
       "      <td>climate</td>\n",
       "      <td>[1.0, 6.0, 13.0]</td>\n",
       "    </tr>\n",
       "    <tr>\n",
       "      <th>3</th>\n",
       "      <td>New Study: Burn it All (Fossil Fuel), Lose it...</td>\n",
       "      <td>Capacity and Resources primany</td>\n",
       "      <td>climate</td>\n",
       "      <td>[2.0, 14.0]</td>\n",
       "    </tr>\n",
       "    <tr>\n",
       "      <th>4</th>\n",
       "      <td>EPA carbon proposals draw bipartisan Midweste...</td>\n",
       "      <td>Political</td>\n",
       "      <td>climate</td>\n",
       "      <td>[13.0, 6.0, 2.0]</td>\n",
       "    </tr>\n",
       "    <tr>\n",
       "      <th>...</th>\n",
       "      <td>...</td>\n",
       "      <td>...</td>\n",
       "      <td>...</td>\n",
       "      <td>...</td>\n",
       "    </tr>\n",
       "    <tr>\n",
       "      <th>31205</th>\n",
       "      <td>CLINTON SIGNS SAME-SEX MEASURE&lt; THE BILL BARS...</td>\n",
       "      <td>Political</td>\n",
       "      <td>samesex</td>\n",
       "      <td>[13.0, 6.0, 4.0]</td>\n",
       "    </tr>\n",
       "    <tr>\n",
       "      <th>31206</th>\n",
       "      <td>President Quietly Signs Law Aimed at Gay Marr...</td>\n",
       "      <td>Political</td>\n",
       "      <td>samesex</td>\n",
       "      <td>[13.0, 6.0, 12.0]</td>\n",
       "    </tr>\n",
       "    <tr>\n",
       "      <th>31207</th>\n",
       "      <td>CLINTON TO SIGN SAME-SEX MARRIAGE BILL  Presi...</td>\n",
       "      <td>Political</td>\n",
       "      <td>samesex</td>\n",
       "      <td>[13.0, 5.0, 6.0]</td>\n",
       "    </tr>\n",
       "    <tr>\n",
       "      <th>31208</th>\n",
       "      <td>Protest Planned for U-Md. Event; Domestic Par...</td>\n",
       "      <td>Public Sentiment</td>\n",
       "      <td>samesex</td>\n",
       "      <td>[12.0, 4.0, 10.0]</td>\n",
       "    </tr>\n",
       "    <tr>\n",
       "      <th>31209</th>\n",
       "      <td>SAME-SEX PAIRS DEALT A SETBACK ON REGISTRY LA...</td>\n",
       "      <td>Public Sentiment</td>\n",
       "      <td>samesex</td>\n",
       "      <td>[12.0, 6.0, 5.0]</td>\n",
       "    </tr>\n",
       "  </tbody>\n",
       "</table>\n",
       "<p>31210 rows × 4 columns</p>\n",
       "</div>"
      ],
      "text/plain": [
       "                                              clean_text  \\\n",
       "0       Too much hot air  The White House moved boldl...   \n",
       "1       Education Digest  PATTONVILLE SCHOOLS > Textb...   \n",
       "2       The Standoff Between Big Oil and Big Corn  A ...   \n",
       "3       New Study: Burn it All (Fossil Fuel), Lose it...   \n",
       "4       EPA carbon proposals draw bipartisan Midweste...   \n",
       "...                                                  ...   \n",
       "31205   CLINTON SIGNS SAME-SEX MEASURE< THE BILL BARS...   \n",
       "31206   President Quietly Signs Law Aimed at Gay Marr...   \n",
       "31207   CLINTON TO SIGN SAME-SEX MARRIAGE BILL  Presi...   \n",
       "31208   Protest Planned for U-Md. Event; Domestic Par...   \n",
       "31209   SAME-SEX PAIRS DEALT A SETBACK ON REGISTRY LA...   \n",
       "\n",
       "                                      label    topic    multiple_labels  \n",
       "0      Policy Presecription and Evaluation   climate   [6.0, 13.0, 1.0]  \n",
       "1                                 Economic   climate   [1.0, 13.0, 2.0]  \n",
       "2                                 Economic   climate   [1.0, 6.0, 13.0]  \n",
       "3            Capacity and Resources primany  climate        [2.0, 14.0]  \n",
       "4                                Political   climate   [13.0, 6.0, 2.0]  \n",
       "...                                     ...      ...                ...  \n",
       "31205                            Political   samesex   [13.0, 6.0, 4.0]  \n",
       "31206                            Political   samesex  [13.0, 6.0, 12.0]  \n",
       "31207                            Political   samesex   [13.0, 5.0, 6.0]  \n",
       "31208                     Public Sentiment   samesex  [12.0, 4.0, 10.0]  \n",
       "31209                     Public Sentiment   samesex   [12.0, 6.0, 5.0]  \n",
       "\n",
       "[31210 rows x 4 columns]"
      ]
     },
     "execution_count": 90,
     "metadata": {},
     "output_type": "execute_result"
    }
   ],
   "source": [
    "temp_df"
   ]
  },
  {
   "cell_type": "code",
   "execution_count": null,
   "metadata": {},
   "outputs": [],
   "source": []
  }
 ],
 "metadata": {
  "kernelspec": {
   "display_name": "frame-align",
   "language": "python",
   "name": "python3"
  },
  "language_info": {
   "codemirror_mode": {
    "name": "ipython",
    "version": 3
   },
   "file_extension": ".py",
   "mimetype": "text/x-python",
   "name": "python",
   "nbconvert_exporter": "python",
   "pygments_lexer": "ipython3",
   "version": "3.12.1"
  }
 },
 "nbformat": 4,
 "nbformat_minor": 2
}
